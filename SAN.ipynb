{
  "nbformat": 4,
  "nbformat_minor": 0,
  "metadata": {
    "colab": {
      "provenance": []
    },
    "kernelspec": {
      "name": "python3",
      "display_name": "Python 3"
    },
    "language_info": {
      "name": "python"
    }
  },
  "cells": [
    {
      "cell_type": "markdown",
      "source": [
        "# Step 1: Scrape Books Using Open Library API\n",
        "- get by 'Subject' name ->> can be anything, e.g. \"fantasy\" etc.\n",
        "\n"
      ],
      "metadata": {
        "id": "V6SXWqgrdAI-"
      }
    },
    {
      "cell_type": "code",
      "execution_count": 17,
      "metadata": {
        "id": "3cfBooOJcRHn"
      },
      "outputs": [],
      "source": [
        "import requests\n",
        "import matplotlib.pyplot as plt\n",
        "import seaborn as sns\n",
        "import json\n",
        "import pandas as pd\n",
        "import numpy as np\n",
        "import concurrent.futures\n",
        "import csv\n",
        "from tqdm import tqdm"
      ]
    },
    {
      "cell_type": "code",
      "source": [
        "def get_books_by_subject(subject, limit=100, details=True, ebooks=False, published_in=None, offset=0):\n",
        "    '''\n",
        "    Args:\n",
        "    details: if True, includes related subjects, prolific authors, and publishers.\n",
        "    ebooks: if True,  filters for books with e-books.\n",
        "    published_in: filters by publication year.\n",
        "                  For example:\n",
        "                  http://openlibrary.org/subjects/love.json?published_in=1500-1600\n",
        "    limit: num of works to include in the response, controls pagination.\n",
        "    offset: starting offset in the total works, controls pagination.\n",
        "    '''\n",
        "    # Creates the API endpoint URL using the subject provided.\n",
        "    base_url = (f'https://openlibrary.org/subjects/{subject}.json?limit=1')\n",
        "\n",
        "\n",
        "    # Sends an HTTP GET request to Open Library's API with the query parameters\n",
        "    # stored in params.\n",
        "    # The response is stored in response, which contains JSON data.\n",
        "    response = requests.get(base_url)#, params=params)\n",
        "\n",
        "    if response.status_code != 200:\n",
        "        print(f\"Error fetching books for {subject}\")\n",
        "        return []\n",
        "\n",
        "    data = response.json()\n",
        "    books = data.get(\"works\", [])\n",
        "\n",
        "    if not books:\n",
        "        print(f\"No books found for {subject}\")\n",
        "        return []\n",
        "\n",
        "    book_list = []\n",
        "    for book in books:\n",
        "        title = book.get(\"title\", \"Unknown Title\")\n",
        "        author = book[\"authors\"][0][\"name\"] if book.get(\"authors\") else \"Unknown Author\"\n",
        "        published_year = book.get(\"first_publish_year\", \"Unknown Year\")\n",
        "\n",
        "        # Other details we may need for\n",
        "        subjects = \", \".join(book.get(\"subject\", [\"No subjects available\"]))\n",
        "        description = book.get(\"description\", \"No description available\")\n",
        "        ebook_available = book.get(\"ebook_count_i\", 0) > 0\n",
        "        publishers = \", \".join(book.get(\"publishers\", [\"Unknown Publisher\"]))\n",
        "\n",
        "        book_list.append({\n",
        "            \"title\": title,\n",
        "            \"author\": author,\n",
        "            \"published_year\": published_year,\n",
        "            \"subjects\": subjects,\n",
        "            \"description\": description,\n",
        "            \"ebook_available\": ebook_available,\n",
        "            \"publishers\": publishers\n",
        "        })\n",
        "\n",
        "    return book_list  # Return the list of books\n"
      ],
      "metadata": {
        "id": "1TLeu2GJc-RB"
      },
      "execution_count": 2,
      "outputs": []
    },
    {
      "cell_type": "markdown",
      "source": [
        "# Step 2: Combine into one genre\n",
        "For instance, \"sci-fi\" subject and \"science-fiction\" subject returns different results. So, our next objective is to combine all of them into one genre \"Science Fiction\". The same goes for other genres like \"Romance\" or \"Fantasy\".\n"
      ],
      "metadata": {
        "id": "KZVUatKlOoMH"
      }
    },
    {
      "cell_type": "markdown",
      "source": [
        "### Function to combine sub-genres into a big genre:"
      ],
      "metadata": {
        "id": "AZei4rWfPJGk"
      }
    },
    {
      "cell_type": "code",
      "source": [
        "def combine_genre(subject):\n",
        "    \"\"\"\n",
        "    Args:\n",
        "    subject: book subject\n",
        "\n",
        "    This function collects book lists under sub-genres and combines them into\n",
        "    one main genre.\n",
        "\n",
        "    Returns:\n",
        "    List of all books under a specific genre.\n",
        "    \"\"\"\n",
        "\n",
        "    if subject is None:\n",
        "        raise ValueError(\"Please pass a subject name.\")\n",
        "\n",
        "    # Dictionary of genres and their corresponding lists with adjusted formatting\n",
        "    genre_dict = {\n",
        "        \"romance\": [\n",
        "            \"fiction_romance_general\", \"fiction_romance_historical_general\",\n",
        "            \"romance\", \"man_woman_relationships\", \"fiction_romance_suspense\",\n",
        "            \"fiction_romance_contemporary\",\n",
        "            \"fiction_romance_erotica\", \"fiction_romance_erotic\",\n",
        "            \"marriage_fiction\", \"fiction_erotica_general\", \"romance\",\n",
        "            \"fiction_christian_romance_general\", \"fiction_romance_historical\"\n",
        "        ],\n",
        "        \"fantasy\": [\n",
        "            \"fiction\", \"fantasy_fiction\", \"magic\", \"fiction_fantasy_general\",\n",
        "            \"adventure_and_adventurers_fiction\",\n",
        "            \"adventure_and_adventurers\", \"good_and_evil\", \"fairies\", \"dragons\",\n",
        "            \"cartoons_and_comics\", \"witchcraft\", \"history\", \"wizards\", \"fairies_fiction\"\n",
        "        ],\n",
        "        \"historical_fiction\": [\n",
        "            \"fiction\", \"historical_fiction\", \"history\", \"fiction_historical_general\",\n",
        "            \"fiction_romance_historical_general\", \"fiction_historical\", \"fiction_general\",\n",
        "            \"fiction_romance_historical\", \"world_war_1939_1945\", \"great_britain_fiction\"\n",
        "        ],\n",
        "        \"horror\": [\n",
        "            \"fiction\", \"horror\", \"horror_stories\", \"horror_tales\", \"american_horror_tales\",\n",
        "            \"horror_fiction\", \"detective_and_mystery_stories\", \"crime\", \"catalepsy\", \"murder\",\n",
        "            \"burial_vaults\"\n",
        "        ],\n",
        "        \"humor\": [\n",
        "            \"anecdotes\", \"humor_general\", \"american_wit_and_humor\",\n",
        "            \"wit_and_humor\", \"humour\", \"humor\", \"funny\"\n",
        "        ],\n",
        "        \"literature\": [\n",
        "            \"philosophy\", \"in_literature\", \"theory\", \"criticism\", \"criticism_and_interpretation\",\n",
        "            \"english_literature\", \"modern_literature\", \"american_literature\",\n",
        "            \"literature\", \"litterature\"\n",
        "        ],\n",
        "        \"mystery_thriller\": [\n",
        "            \"detective_and_mystery_stories\", \"mystery_fiction\", \"murder\", \"mystery\",\n",
        "            \"thriller\", \"detective\", \"fiction_thrillers_general\",\n",
        "            \"suspense\", \"fiction_thrillers_suspense\", \"fiction_suspense\",\n",
        "            \"mystery\", \"thriller\", \"murder\",\n",
        "            \"fiction_thrillers_espionage\", \"police\",\n",
        "            \"suspense_fiction\", \"fiction_general\", \"detective_and_mystery_stories\",\n",
        "            \"crimes_against\", \"fiction_psychological\", \"investigation\"\n",
        "        ],\n",
        "        \"science_fiction\": [\n",
        "            \"science_fiction\", \"fiction_science_fiction_general\", \"american_science_fiction\",\n",
        "            \"extraterrestrial_beings\", \"life_on_other_planets\", \"extraterrestrial_beings_fiction\",\n",
        "            \"time_travel\", \"sci_fi\", \"sci-fi\", \"science-fiction\"\n",
        "        ]\n",
        "    }\n",
        "\n",
        "    if subject not in genre_dict:\n",
        "        raise ValueError(\"Invalid genre. Please choose from the predefined genres: \\\n",
        "        romance, fantasy, historical_fiction, horror, humor, literature, \\\n",
        "        mystery_thriller, science_fiction.\")\n",
        "\n",
        "    books_under_genre = []\n",
        "    seen_books = set()  # To store unique books\n",
        "    i = 1\n",
        "    print(f\"\\nBooks under the genre '{subject}':\\n\")\n",
        "\n",
        "    for sub_genre in genre_dict[subject]:\n",
        "        books = get_books_by_subject(sub_genre)  # Get books for the sub-genre\n",
        "\n",
        "        if books:\n",
        "            for book in books:\n",
        "                # Extract the book title and author for uniqueness check)\n",
        "                title_author = book['author']\n",
        "                if title_author is None:\n",
        "                  print(\"no author\")\n",
        "\n",
        "                # Ensure no dupicates\n",
        "                if title_author not in seen_books:\n",
        "                    print(f\"{i}. {book['title']} by {book['author']}\")\n",
        "                    books_under_genre.append(book)\n",
        "                    seen_books.add(title_author)\n",
        "                    i += 1\n",
        "\n",
        "        else:\n",
        "            print(f\"No books found for sub-genre '{sub_genre}'\")\n",
        "\n",
        "    return books_under_genre\n"
      ],
      "metadata": {
        "id": "UfwwK6xYQvEJ"
      },
      "execution_count": 3,
      "outputs": []
    },
    {
      "cell_type": "markdown",
      "source": [
        "### Romance books:"
      ],
      "metadata": {
        "id": "Mf3lNHW1eo3B"
      }
    },
    {
      "cell_type": "code",
      "source": [
        "romance_books = combine_genre(\"romance\")"
      ],
      "metadata": {
        "id": "dPvBaC3jrM7r",
        "outputId": "76f7fa58-81f1-4b3c-9144-bae676a93c17",
        "colab": {
          "base_uri": "https://localhost:8080/"
        }
      },
      "execution_count": 4,
      "outputs": [
        {
          "output_type": "stream",
          "name": "stdout",
          "text": [
            "\n",
            "Books under the genre 'romance':\n",
            "\n",
            "1. Pride and Prejudice by Jane Austen\n",
            "2. Wuthering Heights by Emily Brontë\n",
            "3. Is he lying to you? by Dan Crum\n",
            "4. Rebecca by Daphne du Maurier\n",
            "5. Loving by Danielle Steel\n",
            "6. Fifty Shades Freed by E. L. James\n",
            "7. Memoirs of Fanny Hill by John Cleland\n",
            "8. Decamerone by Giovanni Boccaccio\n",
            "9. Far From the Madding Crowd by Thomas Hardy\n"
          ]
        }
      ]
    },
    {
      "cell_type": "markdown",
      "source": [
        "### Fantasy books:"
      ],
      "metadata": {
        "id": "_xL8yNmgexYq"
      }
    },
    {
      "cell_type": "code",
      "source": [
        "fantasy_books = combine_genre(\"fantasy\")"
      ],
      "metadata": {
        "id": "nHtVwvO_eyiK",
        "outputId": "53422183-1178-457b-874c-0b7ff15088e6",
        "colab": {
          "base_uri": "https://localhost:8080/"
        }
      },
      "execution_count": 5,
      "outputs": [
        {
          "output_type": "stream",
          "name": "stdout",
          "text": [
            "\n",
            "Books under the genre 'fantasy':\n",
            "\n",
            "1. Pride and Prejudice by Jane Austen\n",
            "2. Alice's Adventures in Wonderland by Lewis Carroll\n",
            "3. The Marvelous Land of Oz by L. Frank Baum\n",
            "4. Five Children and It by Edith Nesbit\n",
            "5. A Christmas Carol by Charles Dickens\n",
            "6. Harry Potter and the Chamber of Secrets by J. K. Rowling\n"
          ]
        }
      ]
    },
    {
      "cell_type": "markdown",
      "source": [
        "### Historical Fiction books:"
      ],
      "metadata": {
        "id": "nYkhIBUue6fG"
      }
    },
    {
      "cell_type": "code",
      "source": [
        "combine_genre(\"historical_fiction\")"
      ],
      "metadata": {
        "id": "erWMCGZyfMsn",
        "outputId": "6ca90c61-f030-42ed-e432-d6e7f8323cc0",
        "colab": {
          "base_uri": "https://localhost:8080/"
        }
      },
      "execution_count": 6,
      "outputs": [
        {
          "output_type": "stream",
          "name": "stdout",
          "text": [
            "\n",
            "Books under the genre 'historical_fiction':\n",
            "\n",
            "1. Pride and Prejudice by Jane Austen\n",
            "2. A Christmas Carol by Charles Dickens\n",
            "3. Alice's Adventures in Wonderland by Lewis Carroll\n",
            "4. The 12th SS by Meyer, Hubert\n"
          ]
        },
        {
          "output_type": "execute_result",
          "data": {
            "text/plain": [
              "[{'title': 'Pride and Prejudice',\n",
              "  'author': 'Jane Austen',\n",
              "  'published_year': 1813,\n",
              "  'subjects': 'Fiction, Romance, Historical, Regency, British and irish fiction (fictional works by one author), Brothers and sisters, Courtship, Drama, English fiction, English literature, Families, Family, Family life, Family relations, Fiction Classics, History, Interpersonal relations, Juvenile fiction, Literary Fiction, love stories, manners, Manners and customs, marriage, Sisters, Social classes, Social life and customs, Upper class, wealth, Women in England, young ladies, Young women, entail, Young women, fiction, Sisters, fiction, Fiction, family life, general, England, fiction, Man-woman relationships, fiction, Roman anglais, Classes sociales, Romans, nouvelles, Sœurs, Amours, Jeunes femmes, Familles, Mœurs et coutumes\", Clases sociales, Novela, Jóvenes (Mujeres), Cortejo amoroso, Hermanas, Cuentos de amor, Fiction, coming of age, Fiction, romance, general, Great britain, social life and customs, fiction, Readers, Prejudices, Romance fiction, Historical fiction, Classical literature, Domestic fiction, English language, textbooks for foreign speakers, Women, fiction, Adaptations, Gentry, Mate selection, Fiction, romance, historical, general, English literature (collections), Coloring books, Fiction, family life, Language and languages, study and teaching, Emoticons, Drama (dramatic works by one author), Feelings, Class, Englisch, Roman, Sociala klasser i litteraturen, Prophecies, Great britain, Reading level-grade 7, Reading level-grade 9, Reading level-grade 8, Reading level-grade 11, Reading level-grade 10, Reading level-grade 12, Large type books, Fiction, romance, historical, Austen, jane, 1775-1817, Literature and fiction (general), English literature, history and criticism, England, Художественная литература -- Великобритания -- Английская литература -- 1-ая пол. 19 в. -- Романы, Novel, Fiction',\n",
              "  'description': 'No description available',\n",
              "  'ebook_available': False,\n",
              "  'publishers': 'Unknown Publisher'},\n",
              " {'title': 'A Christmas Carol',\n",
              "  'author': 'Charles Dickens',\n",
              "  'published_year': 1843,\n",
              "  'subjects': \"Ghost stories, Readers, Ebenzer Scrooge (Fictitious character), open_syllabus_project, Cartoons and comics, Promptbooks, Christmas stories, French language books, Poor families, Navidad, Esperanto, Sick children, French language, Repentance, Criticism and interpretation, Facsimiles, Christmas, English Manuscripts, English Christmas stories, Fiction,, Poor, Empathy, Animals, Adaptations, Recluses, French language edition, Translations into Portuguese, Comic books, strips, Recitations, Generosity, Literary collections, Cuentos de fantasmas, London(England), Children's stories, Ficción, Manners and customs, Fiction, Misers, History, Ebenezer Scrooge (Fictitious character), Social life and customs, Trials (Breach of promise), England, Vida social y costumbres, Juvenile fiction, Fantasmas, Bible stories, Texts, Cuentos de Navidad, Scrooge, Ebenezer (Personaje literario), Social conditions, Ghosts, Juvenile literature, Scrooge, Ebenezer (Fictitious character), High interest-low vocabulary books, Pictorial works, Short stories, Christmas, fiction, Children's fiction, Scrooge, ebenezer (fictitious character), fiction, England, fiction, Ghosts, fiction, British and irish fiction (fictional works by one author), Drama (dramatic works by one author), London (england), fiction, Coloring books, Child and youth fiction, Fiction, historical, Child and youth non-fiction, Carols, Children's songs, Holidays, fiction, Fiction, ghost, English literature, Parody, General, Zombies, Literature and fiction, juvenile, Literature and fiction, historical fiction, Fantasy fiction, Songs, Christmas, juvenile literature, Conduct of life, Toy and movable books, Specimens, English Ghost stories, Illustrations, Classics, Christmas carol (Dickens, Charles), Fiction, historical, general, Great britain, fiction, Fiction, humorous, general, Fiction, general, Fiction, action & adventure, Fiction, suspense, Weihnachten, Nächstenliebe, Englisch, Gespenstergeschichte, Avarice, Novela juvenil, Fiction, christian, general, Greece, fiction, Literature and fiction, horror and ghost stories, Noël, Contes, Spanish language materials, Familles pauvres, Romans, nouvelles, Avares, Spanish language, Reading materials, Histoires de Noël, Fiction, religious, Christmas, poetry, Color, juvenile literature, English language, Study and teaching, Romans, Littérature, Enseignement des langues, Autoformation, Comic books, strips, etc., Fiction, fantasy, general, Family, Publishers and publishing, Christmas trees, Redemption, Habsucht, Egoismus, Bekehrung, Nineteenth century,, Romans, nouvelles, etc. pour la jeunesse, Mœurs et coutumes, Readers for new literates, Animals, fiction, British and irish drama (dramatic works by one author), Art, Nowele angielskie, Tłumaczenia polskie, Boże Narodzenie, Nowele, Fiction, thrillers, suspense, Fiction, short stories (single author), Literature, collections, Classic Literature, Drama, Fiction, holidays, Fiction, classics, Reading, remedial teaching, Elementary education of adults, Family, fiction, Sick, fiction, Christmas music\",\n",
              "  'description': 'No description available',\n",
              "  'ebook_available': False,\n",
              "  'publishers': 'Unknown Publisher'},\n",
              " {'title': \"Alice's Adventures in Wonderland\",\n",
              "  'author': 'Lewis Carroll',\n",
              "  'published_year': 1865,\n",
              "  'subjects': \"Alice (fictitious character : carroll), fiction, British and irish fiction (fictional works by one author), Fiction, fantasy, general, JUVENILE FICTION, classics, Fantasy & Magic, Imagination & Play, adventure and adventurers, adventure and adventurers, fiction, adventure stories, adventure travel, animals, anthropomorphism, artists' illustrated books, books and reading, child and youth fiction, children, children's fiction, children's literature, children's literature, english, children's stories, children's stories, english, classic literature, coloring books, croquet, cuentos infantiles ingleses, curiosidad, curiosidad en los niños, curiosity, curiosity in children, english, english adventure stories, english fantastic fiction, english fantasy fiction, english fantasy literature, english language, english literature, english nonsense verses, fairy tales, fantasy, fantasy fiction, fantasy in fiction, fantasy  magic, fantasía, ficción juvenil, fiction, friendship, girls, girls, fiction, hookahs, humor, humorous stories, illustrations, imaginary places, juvenile literature, legends, literary nonsense, logic, lugares imaginarios, mythical animals, niñas, nonsense verses, novela, novela fantástica, novela juvenil, open library staff picks, picture books, playing cards, rabbits, readers, reading materials, short novel, tea, texts, Alice (Fictitious character : Carroll), English language, textbooks for foreign speakers, Fantastique, Enfants, Affirmation de soi, Spanish language materials, Alicia (Personaje literario : Carroll), Spanish language, nyt:chapter-books=2010-02-21, New York Times bestseller, Literatura infanto-juvenil, Literatura inglesa, Carroll, lewis, 1832-1898, Children's literature, history and criticism, Children, books and reading, Crocheting, Fiction, general, Fantasy fiction, history and criticism, Toy and movable books, Imagination, Textbooks for foreign speakers, Readers for new literates, High interest-low vocabulary books, Science fiction, CUENTO INFANTIL INGLES, History and criticism, Translations into Irish, Irish literature, Swahili language, Ficc ʹa o (ge nero), Shi jie wen xue, Xiao shuo, Fantasi a, Tong hua, Suo xie, Shao er du wu, Pin yin du wu, Children's stories, Chinese, Chinese language, Translations into Polish, Ying yu, Yu yan du wu, Decision making, Juvenile Wit and humor, Conduct of life, Illusion (Philosophy), Innocence (Psychology), Dreams, Courts and courtiers, Theft, Courts, Curiosité, Romans, nouvelles, etc. pour la jeunesse, Prise de décision, Humour pour la jeunesse, Morale pratique, Lieux imaginaires, Illusion (Philosophie), Rêves, Cartes à jouer, Cours et courtisans, Croquet (Jeu), Vol (Droit), Tribunaux, Histoires pour enfants anglaises, Literature, collections, Fiction, short stories (single author), Contes de fées, English fiction, Translations into Ladino, Nonsense literature, Fantasmes, Dinosaurier, Utdöda djur, Urtidsdjur, Forntiden, Geologi, Evolution, Jorden, Fantastiske fortællinger, Translations into Yiddish, Criticism and interpretation, History, Alice's adventures in Wonderland (Carroll, Lewis), Alice in Wonderland;, North, Rural-urban migration, Russian language\",\n",
              "  'description': 'No description available',\n",
              "  'ebook_available': False,\n",
              "  'publishers': 'Unknown Publisher'},\n",
              " {'title': 'The 12th SS',\n",
              "  'author': 'Meyer, Hubert',\n",
              "  'published_year': 2005,\n",
              "  'subjects': 'Waffen-SS, Tank warfare, Campaigns, Waffen-SS. SS-Panzerdivision \"Hitlerjugend,\" 12, World War, 1939-1945, World War, 1939 1945, Regimental histories, Military history',\n",
              "  'description': 'No description available',\n",
              "  'ebook_available': False,\n",
              "  'publishers': 'Unknown Publisher'}]"
            ]
          },
          "metadata": {},
          "execution_count": 6
        }
      ]
    },
    {
      "cell_type": "markdown",
      "source": [
        "### Horror Books"
      ],
      "metadata": {
        "id": "23U6zbzCiknR"
      }
    },
    {
      "cell_type": "code",
      "source": [
        "combine_genre(\"horror\")"
      ],
      "metadata": {
        "colab": {
          "base_uri": "https://localhost:8080/"
        },
        "id": "OelIMn9AieMo",
        "outputId": "36ac6b4d-2bfe-4672-c5f3-5672a740c19d"
      },
      "execution_count": 7,
      "outputs": [
        {
          "output_type": "stream",
          "name": "stdout",
          "text": [
            "\n",
            "Books under the genre 'horror':\n",
            "\n",
            "1. Pride and Prejudice by Jane Austen\n",
            "2. The Picture of Dorian Gray by Oscar Wilde\n",
            "3. Frankenstein or The Modern Prometheus by Mary Shelley\n",
            "4. Carrie by Stephen King\n",
            "5. A Study in Scarlet by Arthur Conan Doyle\n",
            "6. The Works of Edgar Allan Poe in Five Volumes by Edgar Allan Poe\n"
          ]
        },
        {
          "output_type": "execute_result",
          "data": {
            "text/plain": [
              "[{'title': 'Pride and Prejudice',\n",
              "  'author': 'Jane Austen',\n",
              "  'published_year': 1813,\n",
              "  'subjects': 'Fiction, Romance, Historical, Regency, British and irish fiction (fictional works by one author), Brothers and sisters, Courtship, Drama, English fiction, English literature, Families, Family, Family life, Family relations, Fiction Classics, History, Interpersonal relations, Juvenile fiction, Literary Fiction, love stories, manners, Manners and customs, marriage, Sisters, Social classes, Social life and customs, Upper class, wealth, Women in England, young ladies, Young women, entail, Young women, fiction, Sisters, fiction, Fiction, family life, general, England, fiction, Man-woman relationships, fiction, Roman anglais, Classes sociales, Romans, nouvelles, Sœurs, Amours, Jeunes femmes, Familles, Mœurs et coutumes\", Clases sociales, Novela, Jóvenes (Mujeres), Cortejo amoroso, Hermanas, Cuentos de amor, Fiction, coming of age, Fiction, romance, general, Great britain, social life and customs, fiction, Readers, Prejudices, Romance fiction, Historical fiction, Classical literature, Domestic fiction, English language, textbooks for foreign speakers, Women, fiction, Adaptations, Gentry, Mate selection, Fiction, romance, historical, general, English literature (collections), Coloring books, Fiction, family life, Language and languages, study and teaching, Emoticons, Drama (dramatic works by one author), Feelings, Class, Englisch, Roman, Sociala klasser i litteraturen, Prophecies, Great britain, Reading level-grade 7, Reading level-grade 9, Reading level-grade 8, Reading level-grade 11, Reading level-grade 10, Reading level-grade 12, Large type books, Fiction, romance, historical, Austen, jane, 1775-1817, Literature and fiction (general), English literature, history and criticism, England, Художественная литература -- Великобритания -- Английская литература -- 1-ая пол. 19 в. -- Романы, Novel, Fiction',\n",
              "  'description': 'No description available',\n",
              "  'ebook_available': False,\n",
              "  'publishers': 'Unknown Publisher'},\n",
              " {'title': 'The Picture of Dorian Gray',\n",
              "  'author': 'Oscar Wilde',\n",
              "  'published_year': 1890,\n",
              "  'subjects': \"British and irish fiction (fictional works by one author), Conduct of life, fiction, Fantasy fiction, Children's fiction, Appearance (Philosophy), Fiction, Conduct of life, Youthfulness, Portraits, Apparence (Philosophie), Romans, nouvelles, Morale pratique, Juvénilité, General, Horror, Education, English literature, England, fiction, Fiction, general, Comics & graphic novels, fantasy, Future life, Soul, Paranormal fiction, Fiction, psychological, Didactic fiction, Drama (dramatic works by one author), Fiction, historical, Fiction, fantasy, paranormal, Great britain, fiction, LGBTQ novels, Stonewall Book Awards, LGBTQ novels before Stonewall, Fiction, historical, general, Classics, European, English, Irish, Scottish, Welsh, Drama, history and criticism, Hedonism, Classic fiction, Men, Man-woman relationships, Influence (Psychology), Novela didáctica, Novela psicología, Fiction, horror, Painting, fiction, Large type books, Readers, Picture of Dorian Gray (Wilde, Oscar), English literature, history and criticism, 19th century, Immortality, Aging, Gothic fiction, Irish Occult fiction, English fiction, Fiction, thrillers, suspense, Issues of Presses, Le livre., Supernatural, History, Appearance (philosophy)--fiction, Conduct of life--fiction, Portraits--fiction, Pr5819 .a1 1998b, 823/.8, British and irish drama (dramatic works by one author), Fiction, lgbtq+, gay\",\n",
              "  'description': 'No description available',\n",
              "  'ebook_available': False,\n",
              "  'publishers': 'Unknown Publisher'},\n",
              " {'title': 'Frankenstein or The Modern Prometheus',\n",
              "  'author': 'Mary Shelley',\n",
              "  'published_year': 1818,\n",
              "  'subjects': 'Frankenstein (Fictitious character), Frankenstein\\'s monster (Fictitious character), Fiction, Victor Frankenstein (Fictitious character), Scientists, Monsters, Fiction, horror, Frankenstein (fictitious character), fiction, Physicians, fiction, British fiction (fictional works by one author), Scientists, fiction, Geneva (Switzerland), fiction, Children\\'s fiction, Horror stories, Fiction, science fiction, general, Fiction, general, Horror tales, Frankenstein (Shelley, Mary Wollstonecraft), Large type books, English fiction, Study guides, Examinations, Criticism and interpretation, Fiction, gothic, English language, textbooks for foreign speakers, Reading comprehension, Monsters, fiction, English literature, Comics & graphic novels, science fiction, Comics & graphic novels, horror, Comic books, strips, etc., Comics & graphic novels, literary, Shelley, Mary Wollstonecraft, 1797-1851, English fiction (collections), 19th century, Literature and fiction, horror and ghost stories, Readers, Science fiction, history and criticism, Horror tales, history and criticism, Children\\'s stories, Monstrous, Novela, History and criticism, Horror fiction, British and irish fiction (fictional works by one author), Fiction, historical, general, literary criticism, English Science fiction, English Horror tales, Scientists in literature, Monsters in literature, Science, experiments, fiction, Authors, Travel, Reincarnation, Self-actualization (Psychology), Vida espiritual, Arte de vivir, Conducta (Ética), Self-realization, Reading materials, Fiction, science fiction, hard science fiction, Switzerland, fiction, Literature and fiction, women authors, Literature, history and criticism, Science fiction, Cartoons and comics, Monstres, Romans, nouvelles, Comic books, strips, Classic science fiction, Horror and supernatural fiction, Classic fiction, Science in literature, Illustration, Gothic fiction, English language, juvenile literature, Shelley, Mary Wollstonecraft, 1797-1851. Frankenstein, Frankenstein, Victor (Fictitious character) -- Fiction, Frankenstein\\'s monster (Fictitious character) -- Fiction, Scientists -- Fiction, Monsters -- Fiction, Frankenstein’s monster (Fictitious character), Frankenstein’s monster, Monsters--fiction, Frankenstein, victor (fictitious character), Frankenstein, victor (fictitious character)--fiction, Pr5397 .f7 1992, 823.7 f, Frankenstein, victor, Frankenstein\\'s monster, Scientists--fiction, Frankenstein, victor (fictional character), Frankenstein, victor (fictional character)--fiction, Frankenstein (fictional character), Frankenstein (fictional character)--fiction, Pr5397 .f7 2003c, 823/.7, Fic004000, Pr5397 .f7 1969, Pr5397 .f7 2008f, 823.7, Science & technology in literature, Literary styles & movements - fiction, Books at the movies, Occupations - fiction, English fiction & prose literature - general & miscellaneous - literary criticism, Horror literature - literary criticism, English, Scot, Pr5397 .f7 2007, Shelley, mary wollstonecraft , 1797-1851, Pr5397 .f7 2012, Classics, Horror, Gothic, English & college success -> english -> fiction, Mary shelley, Mary wollstonecraft shelley, Women authors, Rhetoric, Ya, Young adult, Juvenile, History, Historical, Classic, Literature, Books, Novels, Hardcovers, Paperback, Ebook, Audio-book, Stories, Tales, Madness, Mad, Science, Life conduct, Ethics, Translations into russian, Ficción, Frankenstein (personaje literario), Monstruos, Epistolary fiction, Conducta (etica), ghost\", Frankenstein films, Juvenile fiction, African american women, Man-woman relationships, Pr5397 .f7 2012d, Pr5397 .f7 2008d, 823, Drama (dramatic works by one author)',\n",
              "  'description': 'No description available',\n",
              "  'ebook_available': False,\n",
              "  'publishers': 'Unknown Publisher'},\n",
              " {'title': 'Carrie',\n",
              "  'author': 'Stephen King',\n",
              "  'published_year': 1974,\n",
              "  'subjects': 'occult & supernatural fiction, horror fiction, psychological thrillers, Fiction, Horror, American Horror tales, thriller, Epistolary novel, telekinesis, Menarche, proms, menstruation, telepathy, banned book, Estudiantes de escuelas secundarias, Psicocinética, Psychokinesis, Teenage girls, Social isolation, High school students, Madres e hijas, Mothers and daughters, Ficción, Aislamiento social, Child abuse, Bullying, Supernatural, Horror stories, Fiction, horror, Belonging, FICTION / Horror, FICTION / Occult & Supernatural, FICTION / Thrillers / Psychological, Elèves du secondaire, Romans, Horreur, Psychokinésie, Violence envers les enfants, Good and evil, Revenge, Bullies, English fiction, Translations into Spanish, Escuelas secundarias, Novela, Estudiantes, Abuso de niños, Novela inglés, Traducciones en español, Cuentos populares de terror, Spanish language materials, Estudiantes de escuela secundaria, Psicokinesis, Novela inglesa, Traducciones al español, American literature, Arabic language, White, carrie (fictitious character), fiction, Chamberlain (me. : imaginary place), fiction, Maine, fiction, Large type books, Science Fiction - General, King, Stephen - Prose & Criticism, Fiction - Horror, Classics, Horror - General, Horror & ghost stories',\n",
              "  'description': 'No description available',\n",
              "  'ebook_available': False,\n",
              "  'publishers': 'Unknown Publisher'},\n",
              " {'title': 'A Study in Scarlet',\n",
              "  'author': 'Arthur Conan Doyle',\n",
              "  'published_year': 1887,\n",
              "  'subjects': \"Action & Adventure Fiction, aortic aneurysm, Battle of Maiwand, Blessing and cursing, British and irish fiction (fictional works by one author), Children's fiction, Classics, crime scenes, Detective and mystery stories, Detective Fiction, Detectives, Detectives privados, Detektive, Détectives, English Detective and mystery stories, English literature, Ficción, Fiction, hemoglobin, Investigadores privados, Krimi, Literature and fiction, mystery and suspense, Murder, Mystery and detective stories, Mystery fiction, Novela, Novela de misterio, pioneers, Private investigators, Scottish Terriers, Second Anglo-Afghan War, The Church of Jesus Christ and Latter-day Saints, Trichinopoly cigars, Sherlock Holmes, IIIT\",\n",
              "  'description': 'No description available',\n",
              "  'ebook_available': False,\n",
              "  'publishers': 'Unknown Publisher'},\n",
              " {'title': 'The Works of Edgar Allan Poe in Five Volumes',\n",
              "  'author': 'Edgar Allan Poe',\n",
              "  'published_year': 1903,\n",
              "  'subjects': \"short stories, aristocracy, satire, American Horror tales, American literature, Children's fiction, Classic Literature, Crime, Crime fiction, Detective and mystery stories, Fiction, first-person narrative, Gothic fiction, Homicide, Horror, Horror fiction, Horror stories, Horror tales, Hyperesthesia, Juvenile fiction, Murder, silence, premature burial, catalepsy, Taphophobia, crypts, phobias, unconsciousness, berths, American fiction, American Short stories, fear, pendulums, Spanish Inquisition, mesmerism, abbeys, daggers, Hematidrosis, Juvenile audience, masquerade balls, nobility, plagues, shrouds, self-destructive behavior, metaphors, coroners, hanging, burial vaults, dragons, hermitages, heroic romances, hysteria, knights, maces, psychogenic death, tarns, suspense, hoaxes, narration, pseudoscience, Hypnagogia, animal magnetism, hypnotism, tuberculosis, embedded narrative, mountaineering, whirlpools, vortex, Ratiocination, Revenge, cats, short story, unreliable narrators, self-hatred, gallows, obsessive-compulsive disorder, monomania, fixation, Mystery and detective stories, monograms, Horror & Supernatural Fiction, fantasy fiction, 19th century American fiction, Literary collections\",\n",
              "  'description': 'No description available',\n",
              "  'ebook_available': False,\n",
              "  'publishers': 'Unknown Publisher'}]"
            ]
          },
          "metadata": {},
          "execution_count": 7
        }
      ]
    },
    {
      "cell_type": "markdown",
      "source": [
        "### Humor Books"
      ],
      "metadata": {
        "id": "RNbSJfnwrvnv"
      }
    },
    {
      "cell_type": "code",
      "source": [
        "combine_genre(\"humor\")"
      ],
      "metadata": {
        "id": "anU2Zx_Sr9QN",
        "outputId": "16d1b94b-82bf-43ac-d64a-6b6576d8ac02",
        "colab": {
          "base_uri": "https://localhost:8080/"
        }
      },
      "execution_count": 8,
      "outputs": [
        {
          "output_type": "stream",
          "name": "stdout",
          "text": [
            "\n",
            "Books under the genre 'humor':\n",
            "\n",
            "1. The Second Jungle Book by Rudyard Kipling\n",
            "2. Candide by Voltaire\n",
            "3. Three Men in a Boat (to say nothing of the dog) by Jerome Klapka Jerome\n",
            "4. Adventures of Huckleberry Finn by Mark Twain\n",
            "5. Alice's Adventures in Wonderland by Lewis Carroll\n",
            "6. The BFG by Roald Dahl\n"
          ]
        },
        {
          "output_type": "execute_result",
          "data": {
            "text/plain": [
              "[{'title': 'The Second Jungle Book',\n",
              "  'author': 'Rudyard Kipling',\n",
              "  'published_year': 1887,\n",
              "  'subjects': \"Romans, Enfants sauvages, Jungles, Faune de la jungle, Fiction, Jungle animals, Mowgli (Fictitious character), Animals, Legends and stories of Animals, Juvenile fiction, Folklore, Anecdotes, Legends, Short stories, Childrens stories, Juvenile literature, English Adventure stories, Boys, Feral children, British and irish fiction (fictional works by one author), English literature, English fiction, Jungle, English Short stories, Children's stories, English, Classic Literature, Fiction, action & adventure, Fables, Children: Grades 4-6, Children's fiction, Jungle animals, fiction, Jungles, fiction, Mowgli (fictitious character), fiction, India, fiction, Animals, fiction, Fiction, general, Fiction, short stories (single author), Biography, Animaux, Romans, nouvelles, etc. pour la jeunesse, Romans, nouvelles\",\n",
              "  'description': 'No description available',\n",
              "  'ebook_available': False,\n",
              "  'publishers': 'Unknown Publisher'},\n",
              " {'title': 'Candide',\n",
              "  'author': 'Voltaire',\n",
              "  'published_year': 1746,\n",
              "  'subjects': \"Conduct of life, Readers, Literatura francesa, Satire, Fiction, Civilization, Moral conditions, Enlightenment, Politics and government, Life, French language, Philosophy, French fiction, Ethics, Classic Literature, Imaginary letters, Personal conduct, Open Library Staff Picks, Translations into Chinese, open_syllabus_project, Lifestyles, Modern Philosophy, Translations into English, Candide, French literature, Early works to 1800, French Satire, French language materials, Optimism, Histoire, History, Continental european fiction (fictional works by one author), Fiction, general, Large type books, Adventure stories, Dictionaries, English language, Chinese, German, Korean, Inquisition, Romance literature, Fiction, satire, Nonfiction, Spanish, Philosophy, Modern -- 18th century, Critique et interprétation, Criticism and interpretation, Candide (Voltaire), Fiction, humorous, Bildungsromans, Littérature française, Romans, nouvelles, Roman français, Humor, Voltaire, 1694-1778, French language, readers, Fiction, humorous, general, Great britain, fiction, Fiction, historical, general, Wit and humor, Literature, Teachers, Library, Personal copy, Picaresque literature, French literature, history and criticism, Fiction, historical, German Picaresque literature, Civilisation, Roman picaresque allemand, Siècle des Lumières, History and criticism, Histoire et critique, Vida, Novela, Optimismo, Classics, Literary, Humor, topic, politics, Happiness, Illustraties, Frans, Bright's disease, Edema, Study guides, Examinations, Humor, general, Social life and customs, Pen drawing, Facsimiles, Swiss Drawing, Photoengraving, Specimens, Mœurs et coutumes, Humour, Dessin à la plume, Fac-similés, Dessin suisse, Photogravure, Spécimens, Manners and customs\",\n",
              "  'description': 'No description available',\n",
              "  'ebook_available': False,\n",
              "  'publishers': 'Unknown Publisher'},\n",
              " {'title': 'Three Men in a Boat (to say nothing of the dog)',\n",
              "  'author': 'Jerome Klapka Jerome',\n",
              "  'published_year': 1889,\n",
              "  'subjects': \"Humorous stories, Male friendship, Description and travel, Humor (Fiction), Boats and boating, Fiction, Classic Literature, English Humorous stories, History, General, Fiction, humorous, England, fiction, Germany, fiction, British and irish fiction (fictional works by one author), Friendship, fiction, Children's fiction, Boats and boating, fiction, Dogs, fiction, Travel, Dogs, Young men, Large type books, Humorous, Classics, Friendship, Humorous fiction, Freundeskreis, Wasserwandern, Fiction, humorous, general, Male friendship in fiction, Boats and boating in fiction, Boats and boating x Fiction, Wit and humor, Fiction, historical, general, English language, textbooks for foreign speakers, Comics & graphic novels, general, English literature, Fiction, general, Drama, Adventure stories, American wit and humor, Readers (Adult), English language, Textbooks for foreign speakers, Reading comprehension, Problems, exercises, British, English fiction, Jeunes hommes, Romans, nouvelles\",\n",
              "  'description': 'No description available',\n",
              "  'ebook_available': False,\n",
              "  'publishers': 'Unknown Publisher'},\n",
              " {'title': 'Adventures of Huckleberry Finn',\n",
              "  'author': 'Mark Twain',\n",
              "  'published_year': 1876,\n",
              "  'subjects': \"adventure and adventurers, Adventure stories, American fiction (fictional works by one author), American literature, Boys, Child and youth fiction, Children's fiction, child witnesses, Courtship, English language, friendship, Fugitive slaves, history, humor, Humorous stories, Juvenile fiction, juvenile literature, literature, Loyalty, Male friendship, Manners and customs, orphans, Personnages, Race relations, rafting, Rafting (Sports), Revenge, Runaway children, Runaways, runaway teenagers, satire, Sisters, slavery, Slaves, Social classes, social history-United States-1800s, Social life and customs, Travel, Voyage, voyages and travels, young men, Young women, American literature, history and criticism, 19th century, American literature, outlines, syllabi, etc., American manuscripts, amitie masculine, Anglais (langue), boys in literature, Dictionaries, Dummies (Bookselling), enfants fugueurs, English as a second language, esclaves fugitifs, Examinations, Facsimiles, Foreign speakers, garcons, Garçons, Literary Criticism, Long Now Manual for Civilization, Manuscripts, open_syllabus_project, Readers, Readers for new literates, relations raciales, Romans, Rôle selon le sexe dans la littérature, Specimens, Study and teaching, Study guides, Fiction, Huckleberry Finn (Fictitious character), Romans, nouvelles, etc. pour la jeunesse, Voyages, Amitié, Histoire, Fiction, general, Mississippi river, fiction, Missouri, fiction, Adventure and adventurers, fiction, Slavery, fiction, Finn, huckleberry (fictitious character), fiction, Runaways (Fictitious characters), Romans, nouvelles, Friendship, fiction, Boys, fiction, Voyages and travels -- Fiction, Friendship -- Fiction, Slavery -- Fiction, Mississippi River -- Fiction, Missouri -- History -- 19th century -- Fiction, Children's literature, American fiction, Roman américain, Amitié masculine, Livres en gros caractères, Classes sociales, Jeunes femmes, Amours, Sœurs, Large print books, Fictional Works Publication Type, Adventures of Huckleberry Finn (Twain, Mark), Criticism and interpretation, Race relations in literature, Coming of age, Huckleberry Finn (Fictional character), Humorous, Action & Adventure, Mississippi, fiction, Enslaved persons, fiction, Fiction, coming of age, Fiction, humorous, general, Southern states, fiction, Finn, huckleberry, Finn, huckleberry (fictitious character), Finn, huckleberry (fictitious character)--fiction, Runaway children--fiction, Male friendship--fiction, Fugitive slaves--fiction, Race relations--fiction, Boys--fiction, Ps1305 .a1 2003, 813/.4, Twain, mark , 1835-1910, Boys--travel, Boys--travel--mississippi river--fiction, Sex role in literature, Boys--missouri--fiction, Ps1305.a2 g73 1995, Ps1305 .t93 1999, Boys & men, In literature, Spanish, French, The adventures of huckleberry finn (twain), Relations raciales dans la littérature, Huckleberry finn, Finn, huckleberry (personnage fictif), Fiction, action & adventure, Slaves, fiction, Fiction, humorous, United states, history, Twain, mark, 1835-1910, Sawyer, tom (fictitious character), fiction, Literature and fiction, juvenile, Fiction, historical, Tom sawyer (fictitious character), Aventuras-, Novelas-, Libros infantiles, Abenturak-, Eleberriak-, Haur eta gazteentzako liburuak, Wit and humor, History and criticism, Library, Personal copy\",\n",
              "  'description': 'No description available',\n",
              "  'ebook_available': False,\n",
              "  'publishers': 'Unknown Publisher'},\n",
              " {'title': \"Alice's Adventures in Wonderland\",\n",
              "  'author': 'Lewis Carroll',\n",
              "  'published_year': 1865,\n",
              "  'subjects': \"Alice (fictitious character : carroll), fiction, British and irish fiction (fictional works by one author), Fiction, fantasy, general, JUVENILE FICTION, classics, Fantasy & Magic, Imagination & Play, adventure and adventurers, adventure and adventurers, fiction, adventure stories, adventure travel, animals, anthropomorphism, artists' illustrated books, books and reading, child and youth fiction, children, children's fiction, children's literature, children's literature, english, children's stories, children's stories, english, classic literature, coloring books, croquet, cuentos infantiles ingleses, curiosidad, curiosidad en los niños, curiosity, curiosity in children, english, english adventure stories, english fantastic fiction, english fantasy fiction, english fantasy literature, english language, english literature, english nonsense verses, fairy tales, fantasy, fantasy fiction, fantasy in fiction, fantasy  magic, fantasía, ficción juvenil, fiction, friendship, girls, girls, fiction, hookahs, humor, humorous stories, illustrations, imaginary places, juvenile literature, legends, literary nonsense, logic, lugares imaginarios, mythical animals, niñas, nonsense verses, novela, novela fantástica, novela juvenil, open library staff picks, picture books, playing cards, rabbits, readers, reading materials, short novel, tea, texts, Alice (Fictitious character : Carroll), English language, textbooks for foreign speakers, Fantastique, Enfants, Affirmation de soi, Spanish language materials, Alicia (Personaje literario : Carroll), Spanish language, nyt:chapter-books=2010-02-21, New York Times bestseller, Literatura infanto-juvenil, Literatura inglesa, Carroll, lewis, 1832-1898, Children's literature, history and criticism, Children, books and reading, Crocheting, Fiction, general, Fantasy fiction, history and criticism, Toy and movable books, Imagination, Textbooks for foreign speakers, Readers for new literates, High interest-low vocabulary books, Science fiction, CUENTO INFANTIL INGLES, History and criticism, Translations into Irish, Irish literature, Swahili language, Ficc ʹa o (ge nero), Shi jie wen xue, Xiao shuo, Fantasi a, Tong hua, Suo xie, Shao er du wu, Pin yin du wu, Children's stories, Chinese, Chinese language, Translations into Polish, Ying yu, Yu yan du wu, Decision making, Juvenile Wit and humor, Conduct of life, Illusion (Philosophy), Innocence (Psychology), Dreams, Courts and courtiers, Theft, Courts, Curiosité, Romans, nouvelles, etc. pour la jeunesse, Prise de décision, Humour pour la jeunesse, Morale pratique, Lieux imaginaires, Illusion (Philosophie), Rêves, Cartes à jouer, Cours et courtisans, Croquet (Jeu), Vol (Droit), Tribunaux, Histoires pour enfants anglaises, Literature, collections, Fiction, short stories (single author), Contes de fées, English fiction, Translations into Ladino, Nonsense literature, Fantasmes, Dinosaurier, Utdöda djur, Urtidsdjur, Forntiden, Geologi, Evolution, Jorden, Fantastiske fortællinger, Translations into Yiddish, Criticism and interpretation, History, Alice's adventures in Wonderland (Carroll, Lewis), Alice in Wonderland;, North, Rural-urban migration, Russian language\",\n",
              "  'description': 'No description available',\n",
              "  'ebook_available': False,\n",
              "  'publishers': 'Unknown Publisher'},\n",
              " {'title': 'The BFG',\n",
              "  'author': 'Roald Dahl',\n",
              "  'published_year': 1980,\n",
              "  'subjects': \"Open Library Staff Picks, Roald Dahl, Tweens, Teens, Teenagers, YA, Young adult, Juvenile, Fiction, Fantasy, Make-believe, Literature, Chapters, Chapter Book, Books, Story, Stories, Humor, Funny, Adventure, Friendly, Giants, Orphans, Kidnapping, Dreamcatcher, Children's fiction, Giants, fiction, Orphans, fiction, Humorous stories, Juvenile works, Children's stories, Juvenile fiction, Magie, Humour, Friendship, Rescues, Translations into Chinese, Tong hua, Tales, Literature and fiction, juvenile, Reuzen, Jeugdboeken ; verhalen, Children's stories, English, nyt:childrens-middle-grade-paperback=2016-06-26, New York Times bestseller, Gigante, Novela juvenil, Huéfanos, Bien y mal, Fantasy & Magic, Spanish language materials, Child and youth fiction, Juvenile drama, Children's plays, English\",\n",
              "  'description': 'No description available',\n",
              "  'ebook_available': False,\n",
              "  'publishers': 'Unknown Publisher'}]"
            ]
          },
          "metadata": {},
          "execution_count": 8
        }
      ]
    },
    {
      "cell_type": "markdown",
      "source": [
        "### Literature Books"
      ],
      "metadata": {
        "id": "dbRol0qTr0Gk"
      }
    },
    {
      "cell_type": "code",
      "source": [
        "combine_genre(\"literature\")"
      ],
      "metadata": {
        "id": "TOYICVImsNBY",
        "outputId": "670906b1-432d-4409-de32-69fb42681fa4",
        "colab": {
          "base_uri": "https://localhost:8080/"
        }
      },
      "execution_count": 9,
      "outputs": [
        {
          "output_type": "stream",
          "name": "stdout",
          "text": [
            "\n",
            "Books under the genre 'literature':\n",
            "\n",
            "1. The Art of War by Sun Tzu\n",
            "2. Bible by Bible\n",
            "3. La Poetica by Aristotle\n",
            "4. The Merchant of Venice by William Shakespeare\n",
            "5. Alice's Adventures in Wonderland by Lewis Carroll\n",
            "6. Pride and Prejudice by Jane Austen\n",
            "7. Don Quixote by Miguel de Cervantes Saavedra\n",
            "8. Adventures of Huckleberry Finn by Mark Twain\n",
            "9. Literacy for the 21st Century by Gail E. Tompkins\n"
          ]
        },
        {
          "output_type": "execute_result",
          "data": {
            "text/plain": [
              "[{'title': 'The Art of War',\n",
              "  'author': 'Sun Tzu',\n",
              "  'published_year': 1900,\n",
              "  'subjects': \"Open Library Staff Picks, Early works to 1800, Military art and science, great_books_of_the_western_world, Business, Self-Improvement, Philosophy, open_syllabus_project, Fiction, Nonfiction, Politics, Military, Classic Literature, History, Military art and science, early works to 1800, Strategy, Management, Military art and science, history, Leadership, War, Success in business, Industrial management, Marketing, Ciencia militar, Sales promotion, Obras anteriores a 1800, Éxito en los negocios, Aptitudes de mando, Sales management, Executive ability, Tangut language, Art et science militaire, Parent and teenager, Criticism and interpretation, Competition, Parenting, Administración, Long Now Manual for Civilization, Exito en los negocios, Warfare & Defence, Military Science, Eastern, Eastern - General, BG-HISTORY - BG-WAR/MILITARY TRANSPORT, History / Military / Strategy, Military - General, Business strategy, Business/Economics, Business & Economics, Business / Economics / Finance, Reference - General, Management - General, Defence strategy, planning & research, Negotiating, Military History - Ancient, History - Military / War, Business & Economics / Negotiating, Other prose: classical, early & medieval, POLITICS & GOVERNMENT, Social history, Literature: Classics, China, Literary, Classics, Marketing - General, Sales & Selling - Management, History / Military / General, Persuasion, Sales, Salesmanship, Selling, Business & Economics / Sales & Selling, Sunzi, active 6th century b.c., Strategic planning, Tactics, Chinese language, Readers, War, history, Guerre, Ouvrages avant 1800, Art et science militaires, Guerra, Estrategia, Other, TECHNOLOGY & ENGINEERING, Krigskonst, Verk före 1800, Gestion d'entreprise, Succès dans les affaires, Management Science, Organizational Behavior, Literary collections, Military art and science--early works to 1800, U101 .s95 1994, 355.02, Chinese history, Ancient & medieval military history, Strategy & weapons of war, Asian philosophy, Military and warfare, Philosophy and ethics, Comics & graphic novels, nonfiction, general, Philosophy, asian, Political science, history, World history, Political science, Philosophy, chinese, Military art and science -- Early works to 1800, War -- Early works to 1800, War and society, Comic books, strips, Illustration of books, Stratégie, HISTORY -- Asia -- China, HISTORY -- Military -- Strategy, LITERATURE - LIT CLASSICS TRD PB, General, Theory of warfare & military science, Illustrations, Sunzi bing fa (Sunzi), Art militaire, Reference, Self-help techniques, U101 .s95 1983, Ciência militar, Taoísmo, Pictorial works, Military History, War (Philosophy), New York Times reviewed, Competition (Psychology), BUSINESS & ECONOMICS / Management, PHILOSOPHY / Eastern, POLITICAL SCIENCE / History & Theory, Conflict management, Peace, Religious aspects, Religious aspects of Conflict management, Religious aspects of Peace, Asia - General, Spirituality - General, Religion, Spiritual warfare, Philosophy, taoist\",\n",
              "  'description': 'No description available',\n",
              "  'ebook_available': False,\n",
              "  'publishers': 'Unknown Publisher'},\n",
              " {'title': 'Bible',\n",
              "  'author': 'Bible',\n",
              "  'published_year': 1200,\n",
              "  'subjects': \"Manuscripts, Latin (Medieval and modern), Glossaries, vocabularies, Early works to 1800, Bible, Religion, Bibles, Biblical Studies - General, Religion / Bible / General, Bible - General, Commentaries, Authorized, Criticism, interpretation, Shorthand, Sacred books, Church of Jesus Christ of Latter-day Saints, BÍBLIA (INTERPRETAÇÃO), Juvenile literature, The Bible, Biblia, Christian life, Study and teaching, English Concordances, Bible, study and teaching, Jews, Antiquities, Apocryphal books (Old Testament), Education, Doctrines, Spiritual life, Religious life, New Testament, Peshitta, English Harmonies, Bible, commentaries, Introductions, Biography, Creation, Biblical teaching, History, Bible, criticism, interpretation, etc., Catholic Truth Society (Great Britain), Church year meditations, Lectionaries, Bible, theology, Bibel, Bijbel, Christianity, Spirituality, Bible. -- Old Testament, Bible. -- New Testament, Teenagers' use, English Bible stories, Bible stories, Bible--Study and teaching--Catholic Church, Catholic youth--Religious life, Catholic youth, Devotional calendars, Christian women, Prayers and devotions, Women -- Prayer-books and devotions -- English, Devotional exercises, Couples, Prayer-books and devotions, Devotional use, Older Christians, Bible, meditations, Older people, prayers and devotions, Meditations, Twelve-step programs, Conduct of life, Prayer books and devotions, Teenagers, Amplified, Men's Bible, Twelve-step programs -- Religious aspects -- Christianity -- Meditations, Bible -- Meditations, Women, Mothers, Sources, Specimens, Bibles - Living, Religious aspects, Teenage girls, Devotional literature, Men, Church group work with men, Study skills, Children, Children's use, Blacks in the Bible, Bibles, english standard version, study, Faith, Theology, Chronology, Bible - Reference Editions, Bible, versions, Bibles, other english translations, study, Bibles, new international version, youth & teen, Bibles, new king james version, youth & teen, Bibles, king james version, study, Bibles, christian standard bible, youth & teen, Spiritual life, christianity, Bibles, other english translations, youth & teen, Bible, study, Commentaires, Methodist Church, Holy Bible, study bible, Bibles, new revised standard version, study, BIBLES / New Revised Standard Version / Study, RELIGION / Biblical Criticism & Interpretation / General, Evidences, authority, Creationism, Bible - Evidences, authority, Bible - Study and teaching, Authority, Christian leadership, Women in the Bible, Juvenile, Bible Study Guide, God, knowableness, Bible, criticism, interpretation, etc., n. t. epistles, Jerusalem, O.T., English Paraphrases, Paraphrases, Religion - Bibles - General, Bible - Stories - Old Testament, Paraphrases, English, Students, History of Biblical events, Children, religious life, In literature, Bible, commentaries, o. t. apocrypha, Characters, Characters and characteristics, Parenting, Moral and ethical aspects, Parents, Geography, Evidence, Apologetics, Missions, Boys, Bible -- Study and teaching, Versiones, Indexes, Teenage boys, Girls, Personal narratives, Pentecostalism, Episcopalians, Earthquakes, Youth, Reference, Deuterocanonieke boeken, Oude Testament, Nieuwe Testament, Bible. O.T. Apocrypha, Apocrypha, Critique, interprétation, Comentarios, Reader Development Collection, Bibles, god's word, text, Abridgements, God, Literal Translations, Literal Translation, Literal Bible, New World, Psalters, collectionID:KellerChallenge, Women Biblical scholars, collectionID:EanesChallenge, Étude et enseignement, Almanachs spirituels, Forecasting, Forecasts, Bible, reading, Reference books, Women, religious life, Religion and theology, Children, juvenile literature, Livres en gros caractères, Éditions de référence, Bible, chronology, Bible, use, Quotations, Citations, Übersetzung, Kommentar, Ouvrages pour la jeunesse, Usage par les enfants, Holy books, Bibles, new revised standard version, new testament & portions, Environmental aspects, Green movement, Environmentalism, Adolescents, Vie religieuse, Doctrinal Theology, Families, Holy Spirit, Saint-Esprit, Enseignement biblique, Spiritual formation, Église catholique, Jeunesse catholique, Paraphrases anglaises, Christian men, Recovery, Old and new testament, Vie chrétienne, Bibles, la biblia de las americas, text, collectionID:bannedbooks, Translations into English, Bible in literature, Bibles, other english translations, text, Bible, study and teaching, outlines, syllabi, etc., Bible, concordances, Large type books, Bible, versions, english, Bibles, new international version, text, Bible, juvenile literature, Women, prayers and devotions, Bibles, new international version, devotional, Bibles, nueva version international, text, Bibles, other english translations, reference, Bibles, king james version, children, Bibles, new revised standard version, text, Bibles, new international reader's version, children, Bibles, general, Bibles, multiple translations, text, Bibles, king james version, text, Bibles, new international reader's version, study, Bible, textbooks, Devotional literature (selections: extracts, etc.), Bibles, new international reader's version, youth & teen, Youth, religious life, Bibles, new international version, children, Devotional calendars, juvenile literature, Bibles, new international version, general, Bible, prophecies, Prophecy, christianity, African americans, religion, God, worship and love, Bibles, new international reader's version, general, Introduction, Bibles, english standard version, general, Bibles, christian standard bible, text, Bible, dictionaries, Bibles, christian standard bible, study, Bibles, la biblia de las americas, general, Bibles, new american standard bible, general, Bibles, christian standard bible, reference, Versions, Revised Standard, Reference editions, Episcopal Church. Joint Commission on Marginal Readings in the Bible, Children's songs, Contemporary christian music, Dakota language, Texts, Dakota (Langue), Textes, English Parallel versions, Apocryphal books\",\n",
              "  'description': 'No description available',\n",
              "  'ebook_available': False,\n",
              "  'publishers': 'Unknown Publisher'},\n",
              " {'title': 'La Poetica',\n",
              "  'author': 'Aristotle',\n",
              "  'published_year': 1479,\n",
              "  'subjects': 'Metaphysics, Early works to 1800, Metaphysica (Aristoteles), Rhetoric, ancient, Ethics, greece, Athens (greece), politics and government, Meteorology, early works to 1800, Aristotle, Philosophers, greece, Astronomy, early works to 1800, Animal locomotion, Philosophy, ancient, Rhetoric, Poetry, early works to 1800, Aesthetics, early works to 1800, Ancient Rhetoric, Poetry, Aesthetics, Esztétika, Irodalomelmélet, Költészet, Retorika, Rhétorique ancienne, Filosofia, Poétique, Rhétorique, Zoology, Pre-Linnean works, Philosophy, Collected Works, Classical philology, Philosophie, Ouvrages avant 1800, Filosofie, Poésie, Esthétique, 18.43 ancient Greek literature, 08.21 Ancient philosophy, Ancient Philosophy, Ancient Science, Science, ancient, Ethics, Economics, Poetics, Métaphysique, Criticism and interpretation, Pa3893 .r3 1991, 808.0092, Linguistics & semiotics, Ancient greek philosophy, Metaphysics--early works to 1800, B434.a5 b67 1994, 110, Philosophy--early works to 1800, B407 .a26 1996, 185, B407 .f56 1995, Psychology, Early works to 1850, Greek literature, History and criticism, Theory, Literary form, Ancient Aesthetics, Horses, Folklore, Translations into English, Literary Style, The Sublime',\n",
              "  'description': 'No description available',\n",
              "  'ebook_available': False,\n",
              "  'publishers': 'Unknown Publisher'},\n",
              " {'title': 'The Merchant of Venice',\n",
              "  'author': 'William Shakespeare',\n",
              "  'published_year': 1600,\n",
              "  'subjects': 'Drama, Jews, Moneylenders, Shylock (Fictitious character), Juvenile drama, Plays, English literature, History and criticism, History, Problems, exercises, Criticism and interpretation, Sources, Bibliography, Promptbooks, English Young adult drama, Quartos, Study and teaching, Outlines, syllabi, Fiction, Study guides, Examinations, Jews in literature, English drama, English drama (Comedy), Drama in English Shakespeare, William - Texts, English literature: Shakespeare criticism, English literature: Shakespeare texts, Plays / Drama, Literary Criticism, Shakespeare, For National Curriculum Key Stage 3, Venice (Italy), Juvenile literature, Concordances, Venecia (Italia), Prestamistas, Teatro, Judíos, Nonfiction, British and irish drama (dramatic works by one author), Shakespeare, william, 1564-1616, merchant of venice, Shakespeare, william, 1564-1616, juvenile literature, Shakespeare, william, 1564-1616, adaptations, Merchant of Venice (Shakespeare, William), Education, English literature, study and teaching, Shakespeare, william, 1564-1616, criticism and interpretation, Drama (dramatic works by one author), English literature, outlines, syllabi, etc., Shakespeare, william, 1564-1616, outlines, syllabi, etc., Outlines, syllabi, Problems, exercises, Dramatic production, Stage history, Comedies, Humorous plays, Study and teaching (Secondary), Secondary Education, Shakespeare, William, 1564-1616, Criticism, Jewish merchants, Readers for new literates, Shakespeare, william, 1564-1616, study and teaching, Mathematics, study and teaching, Shakespeare, william, 1564-1616, criticism, textual, English literature, history and criticism, early modern, 1500-1700, Theater, Production and direction, Stage management, Théâtre, Production et mise en scène, Régie (Théâtre), English drama, history and criticism, Merchants, In literature, Comedy, Readers, Portia (Fictitious character : Shakespeare), Shakespeare, william , 1564-1616, Moneylenders--drama, Jews--italy--venice--drama, Shylock (fictitious character)--drama, Pr2825.a2 d75 2010, 822.33, Textbooks',\n",
              "  'description': 'No description available',\n",
              "  'ebook_available': False,\n",
              "  'publishers': 'Unknown Publisher'},\n",
              " {'title': \"Alice's Adventures in Wonderland\",\n",
              "  'author': 'Lewis Carroll',\n",
              "  'published_year': 1865,\n",
              "  'subjects': \"Alice (fictitious character : carroll), fiction, British and irish fiction (fictional works by one author), Fiction, fantasy, general, JUVENILE FICTION, classics, Fantasy & Magic, Imagination & Play, adventure and adventurers, adventure and adventurers, fiction, adventure stories, adventure travel, animals, anthropomorphism, artists' illustrated books, books and reading, child and youth fiction, children, children's fiction, children's literature, children's literature, english, children's stories, children's stories, english, classic literature, coloring books, croquet, cuentos infantiles ingleses, curiosidad, curiosidad en los niños, curiosity, curiosity in children, english, english adventure stories, english fantastic fiction, english fantasy fiction, english fantasy literature, english language, english literature, english nonsense verses, fairy tales, fantasy, fantasy fiction, fantasy in fiction, fantasy  magic, fantasía, ficción juvenil, fiction, friendship, girls, girls, fiction, hookahs, humor, humorous stories, illustrations, imaginary places, juvenile literature, legends, literary nonsense, logic, lugares imaginarios, mythical animals, niñas, nonsense verses, novela, novela fantástica, novela juvenil, open library staff picks, picture books, playing cards, rabbits, readers, reading materials, short novel, tea, texts, Alice (Fictitious character : Carroll), English language, textbooks for foreign speakers, Fantastique, Enfants, Affirmation de soi, Spanish language materials, Alicia (Personaje literario : Carroll), Spanish language, nyt:chapter-books=2010-02-21, New York Times bestseller, Literatura infanto-juvenil, Literatura inglesa, Carroll, lewis, 1832-1898, Children's literature, history and criticism, Children, books and reading, Crocheting, Fiction, general, Fantasy fiction, history and criticism, Toy and movable books, Imagination, Textbooks for foreign speakers, Readers for new literates, High interest-low vocabulary books, Science fiction, CUENTO INFANTIL INGLES, History and criticism, Translations into Irish, Irish literature, Swahili language, Ficc ʹa o (ge nero), Shi jie wen xue, Xiao shuo, Fantasi a, Tong hua, Suo xie, Shao er du wu, Pin yin du wu, Children's stories, Chinese, Chinese language, Translations into Polish, Ying yu, Yu yan du wu, Decision making, Juvenile Wit and humor, Conduct of life, Illusion (Philosophy), Innocence (Psychology), Dreams, Courts and courtiers, Theft, Courts, Curiosité, Romans, nouvelles, etc. pour la jeunesse, Prise de décision, Humour pour la jeunesse, Morale pratique, Lieux imaginaires, Illusion (Philosophie), Rêves, Cartes à jouer, Cours et courtisans, Croquet (Jeu), Vol (Droit), Tribunaux, Histoires pour enfants anglaises, Literature, collections, Fiction, short stories (single author), Contes de fées, English fiction, Translations into Ladino, Nonsense literature, Fantasmes, Dinosaurier, Utdöda djur, Urtidsdjur, Forntiden, Geologi, Evolution, Jorden, Fantastiske fortællinger, Translations into Yiddish, Criticism and interpretation, History, Alice's adventures in Wonderland (Carroll, Lewis), Alice in Wonderland;, North, Rural-urban migration, Russian language\",\n",
              "  'description': 'No description available',\n",
              "  'ebook_available': False,\n",
              "  'publishers': 'Unknown Publisher'},\n",
              " {'title': 'Pride and Prejudice',\n",
              "  'author': 'Jane Austen',\n",
              "  'published_year': 1813,\n",
              "  'subjects': 'Fiction, Romance, Historical, Regency, British and irish fiction (fictional works by one author), Brothers and sisters, Courtship, Drama, English fiction, English literature, Families, Family, Family life, Family relations, Fiction Classics, History, Interpersonal relations, Juvenile fiction, Literary Fiction, love stories, manners, Manners and customs, marriage, Sisters, Social classes, Social life and customs, Upper class, wealth, Women in England, young ladies, Young women, entail, Young women, fiction, Sisters, fiction, Fiction, family life, general, England, fiction, Man-woman relationships, fiction, Roman anglais, Classes sociales, Romans, nouvelles, Sœurs, Amours, Jeunes femmes, Familles, Mœurs et coutumes\", Clases sociales, Novela, Jóvenes (Mujeres), Cortejo amoroso, Hermanas, Cuentos de amor, Fiction, coming of age, Fiction, romance, general, Great britain, social life and customs, fiction, Readers, Prejudices, Romance fiction, Historical fiction, Classical literature, Domestic fiction, English language, textbooks for foreign speakers, Women, fiction, Adaptations, Gentry, Mate selection, Fiction, romance, historical, general, English literature (collections), Coloring books, Fiction, family life, Language and languages, study and teaching, Emoticons, Drama (dramatic works by one author), Feelings, Class, Englisch, Roman, Sociala klasser i litteraturen, Prophecies, Great britain, Reading level-grade 7, Reading level-grade 9, Reading level-grade 8, Reading level-grade 11, Reading level-grade 10, Reading level-grade 12, Large type books, Fiction, romance, historical, Austen, jane, 1775-1817, Literature and fiction (general), English literature, history and criticism, England, Художественная литература -- Великобритания -- Английская литература -- 1-ая пол. 19 в. -- Романы, Novel, Fiction',\n",
              "  'description': 'No description available',\n",
              "  'ebook_available': False,\n",
              "  'publishers': 'Unknown Publisher'},\n",
              " {'title': 'Don Quixote',\n",
              "  'author': 'Miguel de Cervantes Saavedra',\n",
              "  'published_year': 1600,\n",
              "  'subjects': \"Don Quixote (Cervantes Saavedra, Miguel de), Quotations, Knights and knighthood, Social life and customs, Fiction, Classic Literature, Don Quixote (Fictitious character), Early works to 1800, Dictionaries, Literatura picaresca, España, Readers, Caballeros y caballería, great_books_of_the_western_world, Squires, Spanish fiction, Illustrations, Relatos de aventura, Criticism and interpretation, Spanish Adventure fiction, Dulcinea, Real Academia Española,, Characters, Dulcinea (Fictitious character), Rhetoric, Spanish Proverbs, Spanish literature, Quests, History, Study and teaching (Secondary), Chivalry, Vida social y costumbres, Spanish language, Composition and exercises, Ficción, Long Now Manual for Civilization, Sancho Panza (Fictitious character), Manners and customs, Spanish language materials, Spanish: Adult Fiction, Classics, General, Literature - Classics / Criticism, Continental european fiction (fictional works by one author), Spain, fiction, Don quixote (fictitious character), fiction, Fiction, action & adventure, Fiction, historical, Dulcinea (fictitious character), fiction, Romance literature, Cide Hamete Benengeli (Fictitious character), Open Library Staff Picks, Humor, Pictorial works, Literature, Comic books, strips, Comics & graphic novels, general, Modern Literature, Spanish, Knights and knighthood, fiction, Wishbone (fictitious character), fiction, Dogs, fiction, Chivalry, fiction, Fiction, general, NOVELAS ESPAÑOLAS, Novela española, Translations into English, Bibliography, Adventure stories, Literary, Shōsetsu-Shōsetsushū, Biography, Literatura española, Appreciation, NOVELISTAS ESPAÑOLES, BIOGRAFIA, Crítica e Interpretación, Fiction, romance, general, Dalziel Brothers, Spanish Authors, Quixote, Don quixote (fictitious character)--fiction, Knights and knighthood--spain--fiction, Pq6329 .a2 2003b, 863/.3, World literature, Fiction subjects, Peoples & cultures - fiction, Literature, collections, Politics and government, Children: Grades 4-6, Children's fiction, Spain -- Social life and customs -- 16th century -- Fiction, Knights and knighthood -- Spain -- Fiction, Picaresque literature, Romances\",\n",
              "  'description': 'No description available',\n",
              "  'ebook_available': False,\n",
              "  'publishers': 'Unknown Publisher'},\n",
              " {'title': 'Adventures of Huckleberry Finn',\n",
              "  'author': 'Mark Twain',\n",
              "  'published_year': 1876,\n",
              "  'subjects': \"adventure and adventurers, Adventure stories, American fiction (fictional works by one author), American literature, Boys, Child and youth fiction, Children's fiction, child witnesses, Courtship, English language, friendship, Fugitive slaves, history, humor, Humorous stories, Juvenile fiction, juvenile literature, literature, Loyalty, Male friendship, Manners and customs, orphans, Personnages, Race relations, rafting, Rafting (Sports), Revenge, Runaway children, Runaways, runaway teenagers, satire, Sisters, slavery, Slaves, Social classes, social history-United States-1800s, Social life and customs, Travel, Voyage, voyages and travels, young men, Young women, American literature, history and criticism, 19th century, American literature, outlines, syllabi, etc., American manuscripts, amitie masculine, Anglais (langue), boys in literature, Dictionaries, Dummies (Bookselling), enfants fugueurs, English as a second language, esclaves fugitifs, Examinations, Facsimiles, Foreign speakers, garcons, Garçons, Literary Criticism, Long Now Manual for Civilization, Manuscripts, open_syllabus_project, Readers, Readers for new literates, relations raciales, Romans, Rôle selon le sexe dans la littérature, Specimens, Study and teaching, Study guides, Fiction, Huckleberry Finn (Fictitious character), Romans, nouvelles, etc. pour la jeunesse, Voyages, Amitié, Histoire, Fiction, general, Mississippi river, fiction, Missouri, fiction, Adventure and adventurers, fiction, Slavery, fiction, Finn, huckleberry (fictitious character), fiction, Runaways (Fictitious characters), Romans, nouvelles, Friendship, fiction, Boys, fiction, Voyages and travels -- Fiction, Friendship -- Fiction, Slavery -- Fiction, Mississippi River -- Fiction, Missouri -- History -- 19th century -- Fiction, Children's literature, American fiction, Roman américain, Amitié masculine, Livres en gros caractères, Classes sociales, Jeunes femmes, Amours, Sœurs, Large print books, Fictional Works Publication Type, Adventures of Huckleberry Finn (Twain, Mark), Criticism and interpretation, Race relations in literature, Coming of age, Huckleberry Finn (Fictional character), Humorous, Action & Adventure, Mississippi, fiction, Enslaved persons, fiction, Fiction, coming of age, Fiction, humorous, general, Southern states, fiction, Finn, huckleberry, Finn, huckleberry (fictitious character), Finn, huckleberry (fictitious character)--fiction, Runaway children--fiction, Male friendship--fiction, Fugitive slaves--fiction, Race relations--fiction, Boys--fiction, Ps1305 .a1 2003, 813/.4, Twain, mark , 1835-1910, Boys--travel, Boys--travel--mississippi river--fiction, Sex role in literature, Boys--missouri--fiction, Ps1305.a2 g73 1995, Ps1305 .t93 1999, Boys & men, In literature, Spanish, French, The adventures of huckleberry finn (twain), Relations raciales dans la littérature, Huckleberry finn, Finn, huckleberry (personnage fictif), Fiction, action & adventure, Slaves, fiction, Fiction, humorous, United states, history, Twain, mark, 1835-1910, Sawyer, tom (fictitious character), fiction, Literature and fiction, juvenile, Fiction, historical, Tom sawyer (fictitious character), Aventuras-, Novelas-, Libros infantiles, Abenturak-, Eleberriak-, Haur eta gazteentzako liburuak, Wit and humor, History and criticism, Library, Personal copy\",\n",
              "  'description': 'No description available',\n",
              "  'ebook_available': False,\n",
              "  'publishers': 'Unknown Publisher'},\n",
              " {'title': 'Literacy for the 21st Century',\n",
              "  'author': 'Gail E. Tompkins',\n",
              "  'published_year': 1996,\n",
              "  'subjects': 'Literature, Language arts (Preschool), Reading (Elementary), Study and teaching (Elementary), Language arts (Elementary), Literacy, Etude et enseignement (Primaire), Lecture (Enseignement primaire), Litterature, Arts du langage (Primaire), Language arts, Literature, study and teaching, Reading (elementary), Language arts (elementary), Language arts &amp; disciplines, Teaching - reading & language, Teaching & teacher training, Education - general & miscellaneous, Educational levels & settings, Literature--study and teaching (elementary), Lb1576 .t657 2010, 372.6',\n",
              "  'description': 'No description available',\n",
              "  'ebook_available': False,\n",
              "  'publishers': 'Unknown Publisher'}]"
            ]
          },
          "metadata": {},
          "execution_count": 9
        }
      ]
    },
    {
      "cell_type": "markdown",
      "source": [
        "### Mystery/Thriller Books"
      ],
      "metadata": {
        "id": "OMy34Ddgr1z2"
      }
    },
    {
      "cell_type": "code",
      "source": [
        "combine_genre(\"mystery_thriller\")"
      ],
      "metadata": {
        "id": "7xG5CM7FsQ9E",
        "outputId": "2f191dae-0640-484b-992f-1c469b7d3f28",
        "colab": {
          "base_uri": "https://localhost:8080/"
        }
      },
      "execution_count": 10,
      "outputs": [
        {
          "output_type": "stream",
          "name": "stdout",
          "text": [
            "\n",
            "Books under the genre 'mystery_thriller':\n",
            "\n",
            "1. A Study in Scarlet by Arthur Conan Doyle\n",
            "2. Treasure Island by Robert Louis Stevenson\n",
            "3. Murder on the Orient Express by Agatha Christie\n",
            "4. A Christmas Carol by Charles Dickens\n",
            "5. The Thirty-Nine Steps by John Buchan\n",
            "6. The Moonstone by Wilkie Collins\n",
            "7. Alice's Adventures in Wonderland by Lewis Carroll\n",
            "8. The Da Vinci Code by Dan Brown\n",
            "9. Wuthering Heights by Emily Brontë\n"
          ]
        },
        {
          "output_type": "execute_result",
          "data": {
            "text/plain": [
              "[{'title': 'A Study in Scarlet',\n",
              "  'author': 'Arthur Conan Doyle',\n",
              "  'published_year': 1887,\n",
              "  'subjects': \"Action & Adventure Fiction, aortic aneurysm, Battle of Maiwand, Blessing and cursing, British and irish fiction (fictional works by one author), Children's fiction, Classics, crime scenes, Detective and mystery stories, Detective Fiction, Detectives, Detectives privados, Detektive, Détectives, English Detective and mystery stories, English literature, Ficción, Fiction, hemoglobin, Investigadores privados, Krimi, Literature and fiction, mystery and suspense, Murder, Mystery and detective stories, Mystery fiction, Novela, Novela de misterio, pioneers, Private investigators, Scottish Terriers, Second Anglo-Afghan War, The Church of Jesus Christ and Latter-day Saints, Trichinopoly cigars, Sherlock Holmes, IIIT\",\n",
              "  'description': 'No description available',\n",
              "  'ebook_available': False,\n",
              "  'publishers': 'Unknown Publisher'},\n",
              " {'title': 'Treasure Island',\n",
              "  'author': 'Robert Louis Stevenson',\n",
              "  'published_year': 1880,\n",
              "  'subjects': \"Fiction, Treasure Island (Imaginary place), Treasure-trove, Pirates, Treasure troves, Children's fiction, Adventure and adventurers, fiction, Pirates, fiction, Buried treasure, fiction, Voyages and travels, fiction, Treasure island (imaginary place), fiction, Literature, British and irish fiction (fictional works by one author), Asventure and adventures, Adventure and adventures, Buried treasure, Caribbean area, fiction, Literature and fiction, juvenile, Adventure and adventurers, Juvenile fiction, Adventure stories, History, Treasure troves -- Juvenile fiction, Children: Grades 4-6, Classic Literature, Juvenile literature, Boys, Treasure maps, Long John Silver (Fictitious character), Action & Adventure, Sea stories, Piratas, Tesoros ocultos, Ficción, Relatos de aventura, Treasuretrove, Adventure fiction, Children: Grades 3-4, Cartoons and comics, Fiction, action & adventure, Fiction, sea stories, English literature, history and criticism, 19th century, Large type books, England, fiction, Stevenson, robert louis, 1850-1894, Adventures and adventurers, New Words, Medieval and modern Latin language, Remedial teaching, Reading interests, Reading, Reading (Secondary), Comic books, strips, Translations into Scots language, Report writing, Composition and exercises, English language, Readers, Treasue Island (Imaginary place), Textbooks for foreign speakers, Readers for new literates, Alice (Fictitious character : Carroll), Fantasy, AR 8.0., Romans, nouvelles, etc. pour la jeunesse, Child and youth fiction, Collected works (single author, multi-form), Poetry (poetic works by one author), Adaptations, Graphic novels, Teenage boys, Kidnapping, Voyages around the world, Disinheritance, Shipwrecks, Dictionaries, Spanish, French, German, Treasure Island: Robert Louis Stevenson, Henry Charles Pitz, Classic Novel, buccaneers, buried gold, joy, fear, suspense, Classics, New York Times reviewed, Roman écossais, High interest-low vocabulary books, Reading comprehension, Problems, exercises, English fiction, Fiction, historical, general, Novela, Aventuras y aventureros, Novela inglesa, Education, great britain, Ficción juvenil, Spanish language books, Spanish language, Literary Criticism, Nonfiction, Thriller, Spanish language materials, Novela juvenil, Aventuras, Trésors, Romans, nouvelles, Recherche, Isla del Tesoro (Lugares imaginarios), Tesoros enterrado, Buried treasure--Fiction, Pirates--Fiction, Adventure and adventurers--Fiction, Fiction, thrillers, general, Ocean travel, Mutiny, Children's stories, Scottish, Translations into Irish, Male authors, Children's stories, English, Scottish authors, Scottish Adventure stories, Illustrated children's books, Specimens, Language readers, Critique et interprétation, Children's literature, French, Historical fiction, English Literature, English, Languages & Literatures, Children's literature\",\n",
              "  'description': 'No description available',\n",
              "  'ebook_available': False,\n",
              "  'publishers': 'Unknown Publisher'},\n",
              " {'title': 'Murder on the Orient Express',\n",
              "  'author': 'Agatha Christie',\n",
              "  'published_year': 1933,\n",
              "  'subjects': 'Agatha Christie, Private investigator, P.I., Hercule Poirot, Detective, Murder, Mystery, Juvenile, Humour, Fiction, Literature, Stories, Private investigators, Private investigators in fiction, Travel, Railroad, Trains, Express trains, Orient Express, Littérature anglaise, Roman anglais, Orient Express (Express train), Regény, Angol irodalom, Hercule Poirot (Fictitious character), Detective and mystery stories, Railroad stories, Railroad travel, Poirot, Hercule (Personaje literario), Novela policíaca, Ficción, Investigation, Juvenile fiction, Poirot, hercule (fictitious character), fiction, Private investigators, fiction, Fiction, mystery & detective, traditional, French imprints, Translations into French, English Detective and mystery stories, French fiction, English fiction, English literature, Readers, English language, textbooks for foreign speakers, Hercule Poirot (Fictional character), Mystery fiction, Large type books, Dorian. Grey (Fictitious character), Détectives, Romans, nouvelles, Orient-Express (Train rapide), Meurtre, Enquêtes, Spanish language materials, Novela, Detectives privados, Comics & graphic novels, crime & mystery, American literature',\n",
              "  'description': 'No description available',\n",
              "  'ebook_available': False,\n",
              "  'publishers': 'Unknown Publisher'},\n",
              " {'title': 'A Christmas Carol',\n",
              "  'author': 'Charles Dickens',\n",
              "  'published_year': 1843,\n",
              "  'subjects': \"Ghost stories, Readers, Ebenzer Scrooge (Fictitious character), open_syllabus_project, Cartoons and comics, Promptbooks, Christmas stories, French language books, Poor families, Navidad, Esperanto, Sick children, French language, Repentance, Criticism and interpretation, Facsimiles, Christmas, English Manuscripts, English Christmas stories, Fiction,, Poor, Empathy, Animals, Adaptations, Recluses, French language edition, Translations into Portuguese, Comic books, strips, Recitations, Generosity, Literary collections, Cuentos de fantasmas, London(England), Children's stories, Ficción, Manners and customs, Fiction, Misers, History, Ebenezer Scrooge (Fictitious character), Social life and customs, Trials (Breach of promise), England, Vida social y costumbres, Juvenile fiction, Fantasmas, Bible stories, Texts, Cuentos de Navidad, Scrooge, Ebenezer (Personaje literario), Social conditions, Ghosts, Juvenile literature, Scrooge, Ebenezer (Fictitious character), High interest-low vocabulary books, Pictorial works, Short stories, Christmas, fiction, Children's fiction, Scrooge, ebenezer (fictitious character), fiction, England, fiction, Ghosts, fiction, British and irish fiction (fictional works by one author), Drama (dramatic works by one author), London (england), fiction, Coloring books, Child and youth fiction, Fiction, historical, Child and youth non-fiction, Carols, Children's songs, Holidays, fiction, Fiction, ghost, English literature, Parody, General, Zombies, Literature and fiction, juvenile, Literature and fiction, historical fiction, Fantasy fiction, Songs, Christmas, juvenile literature, Conduct of life, Toy and movable books, Specimens, English Ghost stories, Illustrations, Classics, Christmas carol (Dickens, Charles), Fiction, historical, general, Great britain, fiction, Fiction, humorous, general, Fiction, general, Fiction, action & adventure, Fiction, suspense, Weihnachten, Nächstenliebe, Englisch, Gespenstergeschichte, Avarice, Novela juvenil, Fiction, christian, general, Greece, fiction, Literature and fiction, horror and ghost stories, Noël, Contes, Spanish language materials, Familles pauvres, Romans, nouvelles, Avares, Spanish language, Reading materials, Histoires de Noël, Fiction, religious, Christmas, poetry, Color, juvenile literature, English language, Study and teaching, Romans, Littérature, Enseignement des langues, Autoformation, Comic books, strips, etc., Fiction, fantasy, general, Family, Publishers and publishing, Christmas trees, Redemption, Habsucht, Egoismus, Bekehrung, Nineteenth century,, Romans, nouvelles, etc. pour la jeunesse, Mœurs et coutumes, Readers for new literates, Animals, fiction, British and irish drama (dramatic works by one author), Art, Nowele angielskie, Tłumaczenia polskie, Boże Narodzenie, Nowele, Fiction, thrillers, suspense, Fiction, short stories (single author), Literature, collections, Classic Literature, Drama, Fiction, holidays, Fiction, classics, Reading, remedial teaching, Elementary education of adults, Family, fiction, Sick, fiction, Christmas music\",\n",
              "  'description': 'No description available',\n",
              "  'ebook_available': False,\n",
              "  'publishers': 'Unknown Publisher'},\n",
              " {'title': 'The Thirty-Nine Steps',\n",
              "  'author': 'John Buchan',\n",
              "  'published_year': 1915,\n",
              "  'subjects': \"Hannay, richard (fictitious character), fiction, Great britain, fiction, Fiction, espionage, English language, Fiction, Fugitives from justice, Intelligence service, Missing persons, Richard Hannay (Fictitious character), Secret societies, Suspense fiction, Textbooks for foreign speakers, World War, 1914-1918, World War (1914-1918) fast (OCoLC)fst01180746, Spy stories, Fiction, suspense, Large type books, Fiction, thrillers, espionage, Scotland, fiction, World war, 1914-1918, fiction, Fiction, action & adventure, Fiction, thrillers, suspense, English Detective and mystery stories, thriller, spy adventure, Collected works (single author, multi-form), Children's fiction, Fiction, mystery & detective, traditional, English literature, Fiction, mystery & detective, general, World War, 1914-1918 -- Fiction, Hannay, Richard (Fictitious character) -- Fiction, Intelligence service -- Great Britain -- Fiction, Guerre mondiale, 1914-1918, Romans, nouvelles, Service des renseignements, Roman d'espionnage, Assassinat, Romans, nouvelles, etc. pour la jeunesse, Littérature pour la jeunesse, Readers for new literates, Fiction, thrillers, general, Theater programs, Specimens, Hannay, Richard (Fictitious character), Hannay, richard, Hannay, richard (fictitious character)--fiction, Intelligence service--great britain--fiction, Pr6003.u13 t5 2008, 823.912\",\n",
              "  'description': 'No description available',\n",
              "  'ebook_available': False,\n",
              "  'publishers': 'Unknown Publisher'},\n",
              " {'title': 'The Moonstone',\n",
              "  'author': 'Wilkie Collins',\n",
              "  'published_year': 1868,\n",
              "  'subjects': \"Fiction, Jewelry theft, East Indians, Police, Drama, History, Detective and mystery stories, Readers, English fiction, Country homes, Diamonds, Young women, Juvenile literature, Upper class, Classic Literature, Mystery fiction, Children: Grades 4-6, Social life and customs, Manners and customs, British and irish fiction (fictional works by one author), England, fiction, Verinder, rachel (fictitious character), fiction, Fiction, mystery & detective, police procedural, Fiction, mystery & detective, general, Murder, Moonstones, Literature, Dictionaries, English language, French, Spanish, William, Wilkie, Collins, Bantam, Classics, The Moonstone, Romance, Mystery Crime, Swords, Poison, Thievery, Kidnapping, Hypnotism, Fear, Joy, Compassion, Anger, Death, Crime, fiction, English literature, Fiction, crime, Juvenile fiction, Vol de bijoux, Romans, nouvelles, etc. pour la jeunesse, England -- Fiction, Country homes -- Fiction, Police -- England -- Fiction, Jewelry theft -- Fiction, East Indians -- England -- Fiction, Detective and mystery stories, English, English Detective and mystery stories, Translations into Russian, Study and teaching, Chinese speakers, Zhen tan xiao shuo, Suo xie ben, Chang pian xiao shuo, Novela policíaca inglesa, Fiction, mystery & detective, traditional, Mystery and detective stories, Children's fiction, Romans, nouvelles, Histoire, Mœurs et coutumes, General, Malicious accusation\",\n",
              "  'description': 'No description available',\n",
              "  'ebook_available': False,\n",
              "  'publishers': 'Unknown Publisher'},\n",
              " {'title': \"Alice's Adventures in Wonderland\",\n",
              "  'author': 'Lewis Carroll',\n",
              "  'published_year': 1865,\n",
              "  'subjects': \"Alice (fictitious character : carroll), fiction, British and irish fiction (fictional works by one author), Fiction, fantasy, general, JUVENILE FICTION, classics, Fantasy & Magic, Imagination & Play, adventure and adventurers, adventure and adventurers, fiction, adventure stories, adventure travel, animals, anthropomorphism, artists' illustrated books, books and reading, child and youth fiction, children, children's fiction, children's literature, children's literature, english, children's stories, children's stories, english, classic literature, coloring books, croquet, cuentos infantiles ingleses, curiosidad, curiosidad en los niños, curiosity, curiosity in children, english, english adventure stories, english fantastic fiction, english fantasy fiction, english fantasy literature, english language, english literature, english nonsense verses, fairy tales, fantasy, fantasy fiction, fantasy in fiction, fantasy  magic, fantasía, ficción juvenil, fiction, friendship, girls, girls, fiction, hookahs, humor, humorous stories, illustrations, imaginary places, juvenile literature, legends, literary nonsense, logic, lugares imaginarios, mythical animals, niñas, nonsense verses, novela, novela fantástica, novela juvenil, open library staff picks, picture books, playing cards, rabbits, readers, reading materials, short novel, tea, texts, Alice (Fictitious character : Carroll), English language, textbooks for foreign speakers, Fantastique, Enfants, Affirmation de soi, Spanish language materials, Alicia (Personaje literario : Carroll), Spanish language, nyt:chapter-books=2010-02-21, New York Times bestseller, Literatura infanto-juvenil, Literatura inglesa, Carroll, lewis, 1832-1898, Children's literature, history and criticism, Children, books and reading, Crocheting, Fiction, general, Fantasy fiction, history and criticism, Toy and movable books, Imagination, Textbooks for foreign speakers, Readers for new literates, High interest-low vocabulary books, Science fiction, CUENTO INFANTIL INGLES, History and criticism, Translations into Irish, Irish literature, Swahili language, Ficc ʹa o (ge nero), Shi jie wen xue, Xiao shuo, Fantasi a, Tong hua, Suo xie, Shao er du wu, Pin yin du wu, Children's stories, Chinese, Chinese language, Translations into Polish, Ying yu, Yu yan du wu, Decision making, Juvenile Wit and humor, Conduct of life, Illusion (Philosophy), Innocence (Psychology), Dreams, Courts and courtiers, Theft, Courts, Curiosité, Romans, nouvelles, etc. pour la jeunesse, Prise de décision, Humour pour la jeunesse, Morale pratique, Lieux imaginaires, Illusion (Philosophie), Rêves, Cartes à jouer, Cours et courtisans, Croquet (Jeu), Vol (Droit), Tribunaux, Histoires pour enfants anglaises, Literature, collections, Fiction, short stories (single author), Contes de fées, English fiction, Translations into Ladino, Nonsense literature, Fantasmes, Dinosaurier, Utdöda djur, Urtidsdjur, Forntiden, Geologi, Evolution, Jorden, Fantastiske fortællinger, Translations into Yiddish, Criticism and interpretation, History, Alice's adventures in Wonderland (Carroll, Lewis), Alice in Wonderland;, North, Rural-urban migration, Russian language\",\n",
              "  'description': 'No description available',\n",
              "  'ebook_available': False,\n",
              "  'publishers': 'Unknown Publisher'},\n",
              " {'title': 'The Da Vinci Code',\n",
              "  'author': 'Dan Brown',\n",
              "  'published_year': 2003,\n",
              "  'subjects': 'Suspense & Thriller, Spiritual Fiction, hieros gamos, Priory of Sion, Holy Grail, Vitruvian Man, Fibonacci sequence, safe deposit boxes, mystery & suspense, Templars, Manuscripts, Last Supper in art, Symbolism in architecture, suspense fiction, adventure fiction, Catholics, puzzles, International thriller, Code and cipher stories, Mystery fiction, crimes against art museum curators, art appreciation, thrillers, suspense, Historical Mystery & Detective Fiction, Religious fiction, Mystery, Aventures, Religious articles, Crimes against, Romans, Appreciation, Occultisme, Art museum curators, Sociedades secretas, Grial, Ficción, Robert Langdon (Fictitious character), Novela, Powiesc amerykanska, T¿umaczenia polskie, Polish language materials, Secret societies, Cryptographers, Fiction, Grail, Reading Level-Grade 9, Reading Level-Grade 8, Reading Level-Grade 11, Reading Level-Grade 10, Reading Level-Grade 12, Detective and mystery stories, Cryptography, Fictional Works, American fiction, Leonardo, da vinci, 1452-1519, fiction, Paris (france), fiction, Fiction, mystery & detective, general, Langdon, robert (fictitious character), fiction, Fiction, thrillers, Fiction, thrillers, general, Large type books, Fiction, suspense, Museumsdirektor, Bruderschaft, Mord, Manuscritos, Criptografía, Belletristische Darstellung, Maria Magdalena, New York Times reviewed, Religious, General, England, fiction, Fiction, thrillers, suspense, Chang pian xiao shuo, collectionid:dbrl',\n",
              "  'description': 'No description available',\n",
              "  'ebook_available': False,\n",
              "  'publishers': 'Unknown Publisher'},\n",
              " {'title': 'Wuthering Heights',\n",
              "  'author': 'Emily Brontë',\n",
              "  'published_year': 1846,\n",
              "  'subjects': \"British and irish fiction (fictional works by one author), Children's fiction, Classic fiction, Classic Literature, Country homes, Country life, Cousins, Death, Drama, English language, English language readers, English literature, Examinations, Families, family life, Fiction, Foundlings, Historical Fiction, Inheritance and succession, Interpersonal relations, Juvenile fiction, Landscape in literature, love, Manners and customs, orphans, Psychological fiction, Reading Level-Grade 7, Reading Level-Grade 8, Reading Level-Grade 9, Reading Level-Grade 10, Reading Level-Grade 11, Reading Level-Grade 12, Rejection (Psychology), revenge, romance, Romance fiction, romantic fiction, Rural families, slavery, Social life and customs, tragedy, Triangles (Interpersonal relations), Young women, Fiction, general, Revenge -- Fiction, Rejection (Psychology) -- Fiction, Love stories, Domestic fiction, Yorkshire (England) -- Fiction, Foundlings -- Fiction, Rural families -- Fiction, Heathcliff (Fictitious character : Brontë) -- Fiction, Triangles (Interpersonal relations) -- Fiction, Heathcliff (fictitious character), fiction, Fiction, family life, general, Fiction, psychological, Fiction, romance, general, Man-woman relationships, fiction, England, fiction, Triangle (Relations humaines), Romans, nouvelles, Rejet (Psychologie), Familles rurales, Enfants trouvés, Wuthering Heights (Brontë, Emily), Vengeance, English fiction, Triangles (Interpersonal relationships), Yorkshire (England), Roman anglais, Relations entre hommes et femmes, Mœurs et coutumes, Women, Femmes, Heathcliff (Fictitious character), Catherine Earnshawm (Fictitious character), English Gothic fiction, Adaptations, Social conditions, Interpersonal relations, fiction, Roman, Englisch, Wuthering heights (Emily Brontë), Comics & graphic novels, romance, Love, fiction, Comic books, strips, etc., Comics & graphic novels, literary, Literature, collections, American fiction, Foundlings in fiction, Rural families in fiction, England in fiction, Revenge in fiction, Landscape in literature in fiction, Slavery in fiction, Reading books, Country life in fiction, Readers, Orphans in fiction, Study and teaching, Love in fiction, Readers (Adult), Study guides, Zhang pian xiao shuo, Heathcliff (Fictitious character : Brontë), Social conflict, Triangles (interpersonal relations)--fiction, Revenge--fiction, Pr4172 .w7 2009c, 823/.8, Hl 2083, Bronte, emily, 1818-1848\",\n",
              "  'description': 'No description available',\n",
              "  'ebook_available': False,\n",
              "  'publishers': 'Unknown Publisher'}]"
            ]
          },
          "metadata": {},
          "execution_count": 10
        }
      ]
    },
    {
      "cell_type": "markdown",
      "source": [
        "### Science Fiction Books"
      ],
      "metadata": {
        "id": "V2l384hqr4mK"
      }
    },
    {
      "cell_type": "code",
      "source": [
        "combine_genre(\"science_fiction\")"
      ],
      "metadata": {
        "id": "YwHz35VIsp7r",
        "outputId": "f644d28e-6add-469f-bed0-6824919499b5",
        "colab": {
          "base_uri": "https://localhost:8080/"
        }
      },
      "execution_count": 11,
      "outputs": [
        {
          "output_type": "stream",
          "name": "stdout",
          "text": [
            "\n",
            "Books under the genre 'science_fiction':\n",
            "\n",
            "1. Alice's Adventures in Wonderland by Lewis Carroll\n",
            "2. Frankenstein or The Modern Prometheus by Mary Shelley\n",
            "3. Fahrenheit 451 by Ray Bradbury\n",
            "4. The War of the Worlds by H. G. Wells\n",
            "5. The Giver by Lois Lowry\n",
            "6. A Wrinkle in Time by Madeleine L'Engle\n"
          ]
        },
        {
          "output_type": "execute_result",
          "data": {
            "text/plain": [
              "[{'title': \"Alice's Adventures in Wonderland\",\n",
              "  'author': 'Lewis Carroll',\n",
              "  'published_year': 1865,\n",
              "  'subjects': \"Alice (fictitious character : carroll), fiction, British and irish fiction (fictional works by one author), Fiction, fantasy, general, JUVENILE FICTION, classics, Fantasy & Magic, Imagination & Play, adventure and adventurers, adventure and adventurers, fiction, adventure stories, adventure travel, animals, anthropomorphism, artists' illustrated books, books and reading, child and youth fiction, children, children's fiction, children's literature, children's literature, english, children's stories, children's stories, english, classic literature, coloring books, croquet, cuentos infantiles ingleses, curiosidad, curiosidad en los niños, curiosity, curiosity in children, english, english adventure stories, english fantastic fiction, english fantasy fiction, english fantasy literature, english language, english literature, english nonsense verses, fairy tales, fantasy, fantasy fiction, fantasy in fiction, fantasy  magic, fantasía, ficción juvenil, fiction, friendship, girls, girls, fiction, hookahs, humor, humorous stories, illustrations, imaginary places, juvenile literature, legends, literary nonsense, logic, lugares imaginarios, mythical animals, niñas, nonsense verses, novela, novela fantástica, novela juvenil, open library staff picks, picture books, playing cards, rabbits, readers, reading materials, short novel, tea, texts, Alice (Fictitious character : Carroll), English language, textbooks for foreign speakers, Fantastique, Enfants, Affirmation de soi, Spanish language materials, Alicia (Personaje literario : Carroll), Spanish language, nyt:chapter-books=2010-02-21, New York Times bestseller, Literatura infanto-juvenil, Literatura inglesa, Carroll, lewis, 1832-1898, Children's literature, history and criticism, Children, books and reading, Crocheting, Fiction, general, Fantasy fiction, history and criticism, Toy and movable books, Imagination, Textbooks for foreign speakers, Readers for new literates, High interest-low vocabulary books, Science fiction, CUENTO INFANTIL INGLES, History and criticism, Translations into Irish, Irish literature, Swahili language, Ficc ʹa o (ge nero), Shi jie wen xue, Xiao shuo, Fantasi a, Tong hua, Suo xie, Shao er du wu, Pin yin du wu, Children's stories, Chinese, Chinese language, Translations into Polish, Ying yu, Yu yan du wu, Decision making, Juvenile Wit and humor, Conduct of life, Illusion (Philosophy), Innocence (Psychology), Dreams, Courts and courtiers, Theft, Courts, Curiosité, Romans, nouvelles, etc. pour la jeunesse, Prise de décision, Humour pour la jeunesse, Morale pratique, Lieux imaginaires, Illusion (Philosophie), Rêves, Cartes à jouer, Cours et courtisans, Croquet (Jeu), Vol (Droit), Tribunaux, Histoires pour enfants anglaises, Literature, collections, Fiction, short stories (single author), Contes de fées, English fiction, Translations into Ladino, Nonsense literature, Fantasmes, Dinosaurier, Utdöda djur, Urtidsdjur, Forntiden, Geologi, Evolution, Jorden, Fantastiske fortællinger, Translations into Yiddish, Criticism and interpretation, History, Alice's adventures in Wonderland (Carroll, Lewis), Alice in Wonderland;, North, Rural-urban migration, Russian language\",\n",
              "  'description': 'No description available',\n",
              "  'ebook_available': False,\n",
              "  'publishers': 'Unknown Publisher'},\n",
              " {'title': 'Frankenstein or The Modern Prometheus',\n",
              "  'author': 'Mary Shelley',\n",
              "  'published_year': 1818,\n",
              "  'subjects': 'Frankenstein (Fictitious character), Frankenstein\\'s monster (Fictitious character), Fiction, Victor Frankenstein (Fictitious character), Scientists, Monsters, Fiction, horror, Frankenstein (fictitious character), fiction, Physicians, fiction, British fiction (fictional works by one author), Scientists, fiction, Geneva (Switzerland), fiction, Children\\'s fiction, Horror stories, Fiction, science fiction, general, Fiction, general, Horror tales, Frankenstein (Shelley, Mary Wollstonecraft), Large type books, English fiction, Study guides, Examinations, Criticism and interpretation, Fiction, gothic, English language, textbooks for foreign speakers, Reading comprehension, Monsters, fiction, English literature, Comics & graphic novels, science fiction, Comics & graphic novels, horror, Comic books, strips, etc., Comics & graphic novels, literary, Shelley, Mary Wollstonecraft, 1797-1851, English fiction (collections), 19th century, Literature and fiction, horror and ghost stories, Readers, Science fiction, history and criticism, Horror tales, history and criticism, Children\\'s stories, Monstrous, Novela, History and criticism, Horror fiction, British and irish fiction (fictional works by one author), Fiction, historical, general, literary criticism, English Science fiction, English Horror tales, Scientists in literature, Monsters in literature, Science, experiments, fiction, Authors, Travel, Reincarnation, Self-actualization (Psychology), Vida espiritual, Arte de vivir, Conducta (Ética), Self-realization, Reading materials, Fiction, science fiction, hard science fiction, Switzerland, fiction, Literature and fiction, women authors, Literature, history and criticism, Science fiction, Cartoons and comics, Monstres, Romans, nouvelles, Comic books, strips, Classic science fiction, Horror and supernatural fiction, Classic fiction, Science in literature, Illustration, Gothic fiction, English language, juvenile literature, Shelley, Mary Wollstonecraft, 1797-1851. Frankenstein, Frankenstein, Victor (Fictitious character) -- Fiction, Frankenstein\\'s monster (Fictitious character) -- Fiction, Scientists -- Fiction, Monsters -- Fiction, Frankenstein’s monster (Fictitious character), Frankenstein’s monster, Monsters--fiction, Frankenstein, victor (fictitious character), Frankenstein, victor (fictitious character)--fiction, Pr5397 .f7 1992, 823.7 f, Frankenstein, victor, Frankenstein\\'s monster, Scientists--fiction, Frankenstein, victor (fictional character), Frankenstein, victor (fictional character)--fiction, Frankenstein (fictional character), Frankenstein (fictional character)--fiction, Pr5397 .f7 2003c, 823/.7, Fic004000, Pr5397 .f7 1969, Pr5397 .f7 2008f, 823.7, Science & technology in literature, Literary styles & movements - fiction, Books at the movies, Occupations - fiction, English fiction & prose literature - general & miscellaneous - literary criticism, Horror literature - literary criticism, English, Scot, Pr5397 .f7 2007, Shelley, mary wollstonecraft , 1797-1851, Pr5397 .f7 2012, Classics, Horror, Gothic, English & college success -> english -> fiction, Mary shelley, Mary wollstonecraft shelley, Women authors, Rhetoric, Ya, Young adult, Juvenile, History, Historical, Classic, Literature, Books, Novels, Hardcovers, Paperback, Ebook, Audio-book, Stories, Tales, Madness, Mad, Science, Life conduct, Ethics, Translations into russian, Ficción, Frankenstein (personaje literario), Monstruos, Epistolary fiction, Conducta (etica), ghost\", Frankenstein films, Juvenile fiction, African american women, Man-woman relationships, Pr5397 .f7 2012d, Pr5397 .f7 2008d, 823, Drama (dramatic works by one author)',\n",
              "  'description': 'No description available',\n",
              "  'ebook_available': False,\n",
              "  'publishers': 'Unknown Publisher'},\n",
              " {'title': 'Fahrenheit 451',\n",
              "  'author': 'Ray Bradbury',\n",
              "  'published_year': 1953,\n",
              "  'subjects': \"Mechanical Hound, girl next door, Long Now Manual for Civilization, Terrorismo estatal, Censura, Novela, Totalitarismo, science fiction, political fiction, satire, Zukunft, State-sponsored terrorism, Totalitarianism, Book burning, Censorship, Fiction, American Science fiction, Fictional Works, Terrorism, Reading Level-Grade 7, Reading Level-Grade 9, Reading Level-Grade 8, Reading Level-Grade 11, Reading Level-Grade 10, Reading Level-Grade 12, Fiction, dystopian, Fiction, science fiction, general, Fiction, political, Drama, Large type books, American literature, award:retro_hugo, Terrorismo, Totalitarianisms, Bücherverbrennung, Terrorisme d'État, Romans, nouvelles, Totalitarisme, Autodafé de livres, Zhang pian xiao shuo, Education, Language arts, Fiction, horror, Science fiction, american, Book burning--fiction, Censorship--fiction, State-sponsored terrorism--fiction, Totalitarianism--fiction, Ps3503.r167 f3 2012, 813/.54\",\n",
              "  'description': 'No description available',\n",
              "  'ebook_available': False,\n",
              "  'publishers': 'Unknown Publisher'},\n",
              " {'title': 'The War of the Worlds',\n",
              "  'author': 'H. G. Wells',\n",
              "  'published_year': 1898,\n",
              "  'subjects': \"Imaginary wars and battles, Juvenile fiction, Space warfare, Science Fiction & Fantasy, Fiction, Diseases, Martians, Invasions, Classic Literature, Open Library Staff Picks, open_syllabus_project, English Science fiction, Imaginary wars and battles in literature, Mars (Planet), Science fiction, Space vehicles, Earth, Romance Ingles, Fiction, science fiction, general, British and irish fiction (fictional works by one author), Fiction, fantasy, general, Children's fiction, Examinations, Vocabulary, SAT (Educational test), English language, Study guides, Fiction, action & adventure, Life on other planets, War stories, Extraterrestrial beings, fiction, Outer space, fiction, Literature, English literature, Seres extraterrestres, Extraterrestrial beings, Ficcion, Guerra espacial, Fiction, science fiction, action & adventure, Human-alien encounters, Comic books, strips, Wells, h. g. (herbert george), 1866-1946, Adaptations, Graphic novels, Aladdin (legendary character), fiction, War, fiction, Adventure and adventurers, fiction, Guerras imaginarias, Novela, Guerra, Life on other planets, fiction, Fiction, war & military, Imaginary wars and battles -- Fiction, Space warfare -- Fiction, Mars (Planet) -- Fiction, Imaginary wars and battles--fiction, Space warfare--fiction, Pr5774 .w3 2005dx, 823.912\",\n",
              "  'description': 'No description available',\n",
              "  'ebook_available': False,\n",
              "  'publishers': 'Unknown Publisher'},\n",
              " {'title': 'The Giver',\n",
              "  'author': 'Lois Lowry',\n",
              "  'published_year': 1993,\n",
              "  'subjects': \"Social control, Control (Psychology), Juvenile fiction, Fiction, Science fiction, Memory, Ethics, Dystopias, Blind, Braille language materials, Books and reading, Children's fiction, New York Times reviewed, Literature, Dystopian, Sci Fi, Novel, Children's literature, study and teaching, Children's literature, examinations, questions, etc., Newbery Medal, Ciencia-ficción, Classic, Individuality, Comic books, strips, Graphic novels, YOUNG ADULT FICTION / Comics & Graphic Novels / Dystopian, YOUNG ADULT FICTION / Comics & Graphic Novels / Fantasy, YOUNG ADULT FICTION / Comics & Graphic Novels / Coming of Age, Adventure and adventurers, fiction, Liberty, Social prediction, award:Newbery_award\",\n",
              "  'description': 'No description available',\n",
              "  'ebook_available': False,\n",
              "  'publishers': 'Unknown Publisher'},\n",
              " {'title': 'A Wrinkle in Time',\n",
              "  'author': \"Madeleine L'Engle\",\n",
              "  'published_year': 1962,\n",
              "  'subjects': \"Love, sci-fi, Newbery Medal, Open Library Staff Picks, Juvenile fiction, Space and time, Fiction, Science fiction, Friendship in adolesce, Time travel, Murry family (Fictitious character), Brothers and sisters, Extraterrestrial beings, Friendship, Science Fiction, Fantasy, & Magic, Classics, Spanish: Young Adult (Gr. 10-12), Juvenile Fiction - Classics, Văn học Mĩ, Tiểu thuyết, Missing persons, Gifted children, Newbery Medal books, Families, Family life, Reading Level-Grade 7, Reading Level-Grade 9, Reading Level-Grade 8, Reading Level-Grade 11, Reading Level-Grade 10, Reading Level-Grade 12, Children's fiction, Fantasy fiction, Murry family (fictitious character), fiction, Fathers and daughters, fiction, Friendship, fiction, Murry family (Fictitious characters), Adventure and adventurers, fiction, American fiction, Moral and ethical aspects, Responsibility, Decision making, Good and evil, A wrinkle in time, Espacio y tiempo, Novela, Viaje en el tiempo, Poopnce, award:Newbery_award, lexile:740, lexile_range:701-800, age:min:10, age:max:14, grade:min:Kindergarten and up, grade:max:undefined, Picture books\",\n",
              "  'description': 'No description available',\n",
              "  'ebook_available': False,\n",
              "  'publishers': 'Unknown Publisher'}]"
            ]
          },
          "metadata": {},
          "execution_count": 11
        }
      ]
    },
    {
      "cell_type": "markdown",
      "source": [
        "# Create table for putting books based on genre"
      ],
      "metadata": {
        "id": "N6ORY0rUVMF_"
      }
    },
    {
      "cell_type": "code",
      "source": [
        "def book_details(books_under_genre):\n",
        "  book_data = {'ISBN': [],\n",
        "               'Title': [],\n",
        "               'Author': [],\n",
        "               'Published_year': [],\n",
        "               'Subject': []\n",
        "               }\n"
      ],
      "metadata": {
        "id": "gCi3Wqs1VObB"
      },
      "execution_count": 3,
      "outputs": []
    },
    {
      "cell_type": "markdown",
      "source": [
        "# Step 3 - Scrape User Ratings & Reviews"
      ],
      "metadata": {
        "id": "2ub8gV81QUu-"
      }
    },
    {
      "cell_type": "code",
      "source": [
        "import requests\n",
        "from bs4 import BeautifulSoup\n",
        "import re\n",
        "link = \"https://openlibrary.org/subjects\"\n",
        "data = requests.get(link).text\n",
        "response = requests.get(link)\n",
        "soup = BeautifulSoup(response.text, 'html.parser')"
      ],
      "metadata": {
        "id": "jInyi4pge6cG"
      },
      "execution_count": 4,
      "outputs": []
    },
    {
      "cell_type": "code",
      "source": [
        "def link2soup(link):\n",
        "    data = requests.get(link).text\n",
        "    return BeautifulSoup(data)\n"
      ],
      "metadata": {
        "id": "hWIPCexT1Z9P"
      },
      "execution_count": 5,
      "outputs": []
    },
    {
      "cell_type": "code",
      "source": [
        "def parse_to_books(link):\n",
        "    '''\n",
        "    Assume we start in \"https://openlibrary.org/subjects\" (base link) page,\n",
        "    crawls to each chosen subject link and add it to the base link.\n",
        "    '''\n",
        "    # assume start in \"https://openlibrary.org/subjects\" page\n",
        "    chosen_subjects = {\n",
        "        \"romance\", \"fantasy\", \"historical_fiction\", \"horror\", \"humor\",\n",
        "        \"literature\", \"mystery_and_detective_stories\", \"science_fiction\"\n",
        "    }\n",
        "\n",
        "    soup = link2soup(link)\n",
        "\n",
        "    # Extract all subjects links\n",
        "    all_links = [a['href'] for a in soup.select(\"div#subjectsPage ul li a\") if 'href' in a.attrs]\n",
        "    # print(all_links[:5])\n",
        "\n",
        "    # Filter only the chosen subjects\n",
        "    filtered_links = [\n",
        "        link for link in all_links\n",
        "        # ensure only parsing on wanted subjects\n",
        "        if any(sub in link for sub in chosen_subjects) and \"juvenile_literature\" not in link]\n",
        "    # print(filtered_links)\n",
        "\n",
        "    # assume we wish to click the 'fantasy' (specific subject) page\n",
        "    # crawling through links\n",
        "    specific_subject_urls = []\n",
        "    for i in range(len(filtered_links)):\n",
        "        next_button = filtered_links[i].split('/')[2]\n",
        "        specific_subject_url = link + \"/\" + next_button\n",
        "        specific_subject_urls.append(specific_subject_url)\n",
        "\n",
        "    return(specific_subject_urls)"
      ],
      "metadata": {
        "id": "KhOrVgb2XMfw"
      },
      "execution_count": 6,
      "outputs": []
    },
    {
      "cell_type": "code",
      "source": [
        "subject_links = parse_to_books(link)\n",
        "subject_links"
      ],
      "metadata": {
        "id": "mnw9yqwzecNp",
        "outputId": "1b94a1fe-5ea0-420a-adb1-c60c603796e2",
        "colab": {
          "base_uri": "https://localhost:8080/"
        }
      },
      "execution_count": 7,
      "outputs": [
        {
          "output_type": "execute_result",
          "data": {
            "text/plain": [
              "['https://openlibrary.org/subjects/fantasy',\n",
              " 'https://openlibrary.org/subjects/historical_fiction',\n",
              " 'https://openlibrary.org/subjects/horror',\n",
              " 'https://openlibrary.org/subjects/humor',\n",
              " 'https://openlibrary.org/subjects/literature',\n",
              " 'https://openlibrary.org/subjects/mystery_and_detective_stories',\n",
              " 'https://openlibrary.org/subjects/romance',\n",
              " 'https://openlibrary.org/subjects/science_fiction']"
            ]
          },
          "metadata": {},
          "execution_count": 7
        }
      ]
    },
    {
      "cell_type": "code",
      "source": [
        "# assumes we want to go to the total \"works\" under each subject\n",
        "def total_works_page(specific_subject_urls):\n",
        "    '''assumes we want to go to the total \"works\" under each subject\n",
        "\n",
        "    Returns: all urls to 'total works' under each subject\n",
        "    '''\n",
        "    base_link = \"https://openlibrary.org\"\n",
        "    total_works_list = []\n",
        "\n",
        "    for url in specific_subject_urls:\n",
        "        soup = link2soup(url)\n",
        "\n",
        "        # Extract total works link\n",
        "        total_works_link = [a['href'].replace(\" \", \"%20\") for a in soup.select(\"a[title='See all works']\") if 'href' in a.attrs]\n",
        "\n",
        "        # Print extracted links (if any)\n",
        "        print(f\"Total works links for {url}: {total_works_link}\")\n",
        "\n",
        "        # Append full URLs to list:\n",
        "        for link in total_works_link:\n",
        "            total_works_list.append(base_link + link)\n",
        "\n",
        "    return total_works_list"
      ],
      "metadata": {
        "id": "yOls7kkbwKoa"
      },
      "execution_count": 8,
      "outputs": []
    },
    {
      "cell_type": "code",
      "source": [
        "subject_total_work_url = total_works_page(subject_links)\n",
        "subject_total_work_url"
      ],
      "metadata": {
        "id": "tI0ll8aG3eJu",
        "outputId": "e86ce23f-37d4-4f17-af2d-47835e069321",
        "colab": {
          "base_uri": "https://localhost:8080/"
        }
      },
      "execution_count": 9,
      "outputs": [
        {
          "output_type": "stream",
          "name": "stdout",
          "text": [
            "Total works links for https://openlibrary.org/subjects/fantasy: ['/search?subject=Fantasy']\n",
            "Total works links for https://openlibrary.org/subjects/historical_fiction: ['/search?subject=Historical%20fiction']\n",
            "Total works links for https://openlibrary.org/subjects/horror: ['/search?subject=Horror']\n",
            "Total works links for https://openlibrary.org/subjects/humor: ['/search?subject=Humor']\n",
            "Total works links for https://openlibrary.org/subjects/literature: ['/search?subject=Literature']\n",
            "Total works links for https://openlibrary.org/subjects/mystery_and_detective_stories: ['/search?subject=Mystery%20and%20detective%20stories']\n",
            "Total works links for https://openlibrary.org/subjects/romance: ['/search?subject=Romance']\n",
            "Total works links for https://openlibrary.org/subjects/science_fiction: ['/search?subject=Science%20fiction']\n"
          ]
        },
        {
          "output_type": "execute_result",
          "data": {
            "text/plain": [
              "['https://openlibrary.org/search?subject=Fantasy',\n",
              " 'https://openlibrary.org/search?subject=Historical%20fiction',\n",
              " 'https://openlibrary.org/search?subject=Horror',\n",
              " 'https://openlibrary.org/search?subject=Humor',\n",
              " 'https://openlibrary.org/search?subject=Literature',\n",
              " 'https://openlibrary.org/search?subject=Mystery%20and%20detective%20stories',\n",
              " 'https://openlibrary.org/search?subject=Romance',\n",
              " 'https://openlibrary.org/search?subject=Science%20fiction']"
            ]
          },
          "metadata": {},
          "execution_count": 9
        }
      ]
    },
    {
      "cell_type": "code",
      "source": [
        "def get_book_hrefs(url):\n",
        "    soup = link2soup(url)\n",
        "    endof_links = [a['href'] for a in soup.select(\"div#searchResults li.searchResultItem.sri--w-main a.results\")\n",
        "                    if 'href' in a.attrs]\n",
        "    return endof_links"
      ],
      "metadata": {
        "id": "upqReyWWer9k"
      },
      "execution_count": 10,
      "outputs": []
    },
    {
      "cell_type": "code",
      "source": [
        "# Extracts the link to the next pages of \"total works\" under a specific subject\n",
        "def every_page(subject_total_work_url):\n",
        "    '''\n",
        "    Assume we are in the first page of the 'total works' under each subject.\n",
        "    Parse pages from the first page to the last under each subject.\n",
        "\n",
        "    Return: URL of pages from 1 - n of 'total works' under each subject\n",
        "    '''\n",
        "    base_url = 'https://openlibrary.org'\n",
        "    page_links = []\n",
        "\n",
        "    for subject_url in subject_total_work_url:\n",
        "        soup = link2soup(subject_url)\n",
        "\n",
        "        # Find the last page number\n",
        "        last_page = soup.select_one('a.ChoosePage[data-ol-link-track=\"Pager|LastPage\"]')\n",
        "        if last_page:\n",
        "            last_page_number = int(last_page.get_text())\n",
        "            # last_page_number = 3 for now for debugging\n",
        "        else:\n",
        "            last_page_number = 1  # If there's only one page\n",
        "\n",
        "        # Generate all page links from 1 to last_page_number\n",
        "        for page in range(1, last_page_number + 1):\n",
        "            page_links.append(f'{subject_url}&page={page}')\n",
        "\n",
        "    return page_links\n",
        "\n"
      ],
      "metadata": {
        "id": "sgDul2RJlZ-j"
      },
      "execution_count": 11,
      "outputs": []
    },
    {
      "cell_type": "code",
      "source": [
        "all_pages = every_page(subject_total_work_url)\n",
        "all_pages[:3]"
      ],
      "metadata": {
        "colab": {
          "base_uri": "https://localhost:8080/"
        },
        "id": "UvfCMliIf9FL",
        "outputId": "2aa14862-58e8-4f10-f1ea-15f472615e61"
      },
      "execution_count": 12,
      "outputs": [
        {
          "output_type": "execute_result",
          "data": {
            "text/plain": [
              "['https://openlibrary.org/search?subject=Fantasy&page=1',\n",
              " 'https://openlibrary.org/search?subject=Fantasy&page=2',\n",
              " 'https://openlibrary.org/search?subject=Fantasy&page=3']"
            ]
          },
          "metadata": {},
          "execution_count": 12
        }
      ]
    },
    {
      "cell_type": "code",
      "source": [
        "def book_links(urls):\n",
        "    # EDITED: book links really accepts a broad list of \"search\" style URLs\n",
        "    # use ThreadPoolExecutor to run code concurrently: this means that multiple\n",
        "    #   requests may go out and be pending at the same; max_workers is set to\n",
        "    #   100, but there might be a better value to pick!\n",
        "    # add tqdm as a progress bar\n",
        "    # there is still a concern regarding rate limiting: subsequent requests may\n",
        "    #   get slower and slower or just return with an error (HTTP 422)\n",
        "    '''\n",
        "    Assumes we are in the \"total works\" section of each subject and wish to parse over every book.\n",
        "    This also includes parsing the next pages continuously until the end.\n",
        "\n",
        "    Return: URL of every book under \"total works\" section of each subject\n",
        "    '''\n",
        "\n",
        "    base_url = \"https://openlibrary.org\"\n",
        "    book_links = []\n",
        "    with concurrent.futures.ThreadPoolExecutor(max_workers=100) as executor:\n",
        "        future_to_url = {executor.submit(get_book_hrefs, url): url for url in urls}\n",
        "        print(\"SUBMITTED\")\n",
        "        with tqdm(total=len(urls)) as pbar:\n",
        "            for future in concurrent.futures.as_completed(future_to_url):\n",
        "                url = future_to_url[future]\n",
        "                try:\n",
        "                    data = future.result()\n",
        "                    book_links.extend(map(lambda href: base_url + href, data))\n",
        "                except Exception as exc:\n",
        "                    print('%r generated an exception: %s' % (url, exc))\n",
        "                finally:\n",
        "                    pbar.update(1)\n",
        "\n",
        "    return book_links\n"
      ],
      "metadata": {
        "id": "hFhEn7HjCkxL"
      },
      "execution_count": 13,
      "outputs": []
    },
    {
      "cell_type": "code",
      "source": [
        "# takes the first pages of each subject's total works urls and get all of the book links on each page\n",
        "# then, write to a file named some_book_links.csv\n",
        "some_book_links = book_links(subject_total_work_url)\n",
        "with open('some_book_links.csv', 'w', newline='') as myfile:\n",
        "     wr = csv.writer(myfile, quoting=csv.QUOTE_ALL)\n",
        "     wr.writerow(some_book_links)"
      ],
      "metadata": {
        "id": "T8WlqqNF3uw1",
        "outputId": "c8ee8295-3c12-45d4-cabf-c21e3f690a97",
        "colab": {
          "base_uri": "https://localhost:8080/"
        }
      },
      "execution_count": 18,
      "outputs": [
        {
          "output_type": "stream",
          "name": "stdout",
          "text": [
            "SUBMITTED\n"
          ]
        },
        {
          "output_type": "stream",
          "name": "stderr",
          "text": [
            "100%|██████████| 8/8 [00:06<00:00,  1.19it/s]\n"
          ]
        }
      ]
    },
    {
      "cell_type": "code",
      "source": [
        "# here is how you read something like some_book_links.csv\n",
        "with open('some_book_links.csv', 'r') as myfile:\n",
        "    rd = csv.reader(myfile)\n",
        "    row = next(rd)\n",
        "\n",
        "print(row)"
      ],
      "metadata": {
        "colab": {
          "base_uri": "https://localhost:8080/"
        },
        "id": "1qAMD23fs6AS",
        "outputId": "5aa9d117-3d06-494c-a5d9-c661c1c199d8"
      },
      "execution_count": 22,
      "outputs": [
        {
          "output_type": "stream",
          "name": "stdout",
          "text": [
            "['https://openlibrary.org/works/OL407498W?edition=key%3A/books/OL27869353M', 'https://openlibrary.org/works/OL3388961W?edition=key%3A/books/OL24961332M', 'https://openlibrary.org/works/OL85891W?edition=key%3A/books/OL57985422M', 'https://openlibrary.org/works/OL81634W?edition=key%3A/books/OL45621643M', 'https://openlibrary.org/works/OL81626W?edition=key%3A/books/OL35297182M', 'https://openlibrary.org/works/OL2895536W?edition=key%3A/books/OL37819235M', 'https://openlibrary.org/works/OL85892W?edition=key%3A/books/OL37044817M', 'https://openlibrary.org/works/OL1833989W?edition=key%3A/books/OL37044480M', 'https://openlibrary.org/works/OL81632W?edition=key%3A/books/OL3421116M', 'https://openlibrary.org/works/OL24156W?edition=key%3A/books/OL17959484M', 'https://openlibrary.org/works/OL2288676W?edition=key%3A/books/OL6671163M', 'https://openlibrary.org/works/OL8127201W?edition=key%3A/books/OL37044552M', 'https://openlibrary.org/works/OL183675W?edition=key%3A/books/OL37044696M', 'https://openlibrary.org/works/OL450063W?edition=key%3A/books/OL37937792M', 'https://openlibrary.org/works/OL66534W?edition=key%3A/books/OL47079598M', 'https://openlibrary.org/works/OL52266W?edition=key%3A/books/OL37044712M', 'https://openlibrary.org/works/OL5720023W?edition=key%3A/books/OL24644542M', 'https://openlibrary.org/works/OL8193416W?edition=key%3A/books/OL46984115M', 'https://openlibrary.org/works/OL71042W?edition=key%3A/books/OL13875254M', 'https://openlibrary.org/works/OL276328W?edition=key%3A/books/OL19345137M', 'https://openlibrary.org/works/OL2779754W?edition=key%3A/books/OL6223529M', 'https://openlibrary.org/works/OL103134W?edition=key%3A/books/OL57076114M', 'https://openlibrary.org/works/OL52195W?edition=key%3A/books/OL51733541M', 'https://openlibrary.org/works/OL17365W?edition=key%3A/books/OL27271548M', 'https://openlibrary.org/works/OL52266W?edition=key%3A/books/OL37044712M', 'https://openlibrary.org/works/OL1099479W?edition=key%3A/books/OL37044654M', 'https://openlibrary.org/works/OL1418187W?edition=key%3A/books/OL37044782M', 'https://openlibrary.org/works/OL52260W?edition=key%3A/books/OL6947922M', 'https://openlibrary.org/works/OL893415W?edition=key%3A/books/OL26242482M', 'https://openlibrary.org/works/OL52151W?edition=key%3A/books/OL7219307M', 'https://openlibrary.org/works/OL731737W?edition=key%3A/books/OL32974194M', 'https://openlibrary.org/works/OL74502W?edition=key%3A/books/OL32092077M', 'https://openlibrary.org/works/OL2163649W?edition=key%3A/books/OL32838419M', 'https://openlibrary.org/works/OL1099513W?edition=key%3A/books/OL37044653M', 'https://openlibrary.org/works/OL15450W?edition=key%3A/books/OL23325250M', 'https://openlibrary.org/works/OL10215W?edition=key%3A/books/OL37044876M', 'https://openlibrary.org/works/OL52267W?edition=key%3A/books/OL37044446M', 'https://openlibrary.org/works/OL450124W?edition=key%3A/books/OL24331784M', 'https://openlibrary.org/works/OL52114W?edition=key%3A/books/OL33225306M', 'https://openlibrary.org/works/OL51145W?edition=key%3A/books/OL37815339M', 'https://openlibrary.org/works/OL472549W?edition=key%3A/books/OL50517844M', 'https://openlibrary.org/works/OL472542W?edition=key%3A/books/OL40281128M', 'https://openlibrary.org/works/OL471871W?edition=key%3A/books/OL7666467M', 'https://openlibrary.org/works/OL472250W?edition=key%3A/books/OL50564887M', 'https://openlibrary.org/works/OL471940W?edition=key%3A/books/OL30698173M', 'https://openlibrary.org/works/OL471765W?edition=key%3A/books/OL37774584M', 'https://openlibrary.org/works/OL472594W?edition=key%3A/books/OL47745542M', 'https://openlibrary.org/works/OL472165W?edition=key%3A/books/OL26379432M', 'https://openlibrary.org/works/OL265415W?edition=key%3A/books/OL51009206M', 'https://openlibrary.org/works/OL15400582W?edition=key%3A/books/OL28469923M', 'https://openlibrary.org/works/OL471943W?edition=key%3A/books/OL46971624M', 'https://openlibrary.org/works/OL471891W?edition=key%3A/books/OL2401891M', 'https://openlibrary.org/works/OL472470W?edition=key%3A/books/OL35894270M', 'https://openlibrary.org/works/OL262463W?edition=key%3A/books/OL45692809M', 'https://openlibrary.org/works/OL262452W?edition=key%3A/books/OL47077035M', 'https://openlibrary.org/works/OL76468W?edition=key%3A/books/OL24174164M', 'https://openlibrary.org/works/OL471932W?edition=key%3A/books/OL46524697M', 'https://openlibrary.org/works/OL262496W?edition=key%3A/books/OL37044507M', 'https://openlibrary.org/works/OL471610W?edition=key%3A/books/OL9119838M', 'https://openlibrary.org/works/OL471666W?edition=key%3A/books/OL7826070M', 'https://openlibrary.org/works/OL7973273W?edition=key%3A/books/OL24151919M', 'https://openlibrary.org/works/OL45884W?edition=key%3A/books/OL37757335M', 'https://openlibrary.org/works/OL1793164W?edition=key%3A/books/OL37044669M', 'https://openlibrary.org/works/OL2163649W?edition=key%3A/books/OL32838419M', 'https://openlibrary.org/works/OL45793W?edition=key%3A/books/OL39486892M', 'https://openlibrary.org/works/OL676009W?edition=key%3A/books/OL46976639M', 'https://openlibrary.org/works/OL45809W?edition=key%3A/books/OL39486924M', 'https://openlibrary.org/works/OL8763776W?edition=key%3A/books/OL50494428M', 'https://openlibrary.org/works/OL100672W?edition=key%3A/books/OL39806707M', 'https://openlibrary.org/works/OL14872925W?edition=key%3A/books/OL25892966M', 'https://openlibrary.org/works/OL45846W?edition=key%3A/books/OL39486910M', 'https://openlibrary.org/works/OL88813W?edition=key%3A/books/OL37044791M', 'https://openlibrary.org/works/OL66513W?edition=key%3A/books/OL50293425M', 'https://openlibrary.org/works/OL45885W?edition=key%3A/books/OL36656501M', 'https://openlibrary.org/works/OL54147W?edition=key%3A/books/OL31957235M', 'https://openlibrary.org/works/OL118388W?edition=key%3A/books/OL37044775M', 'https://openlibrary.org/works/OL45790W?edition=key%3A/books/OL28338839M', 'https://openlibrary.org/works/OL476641W?edition=key%3A/books/OL37876602M', 'https://openlibrary.org/works/OL53908W?edition=key%3A/books/OL26486158M', 'https://openlibrary.org/works/OL471509W?edition=key%3A/books/OL50890407M', 'https://openlibrary.org/works/OL15450W?edition=key%3A/books/OL23325250M', 'https://openlibrary.org/works/OL262390W?edition=key%3A/books/OL23330498M', 'https://openlibrary.org/works/OL27495W?edition=key%3A/books/OL51711297M', 'https://openlibrary.org/works/OL15437W?edition=key%3A/books/OL26320183M', 'https://openlibrary.org/works/OL71124W?edition=key%3A/books/OL30152672M', 'https://openlibrary.org/works/OL1449046W?edition=key%3A/books/OL13867086M', 'https://openlibrary.org/works/OL45361W?edition=key%3A/books/OL7146062M', 'https://openlibrary.org/works/OL18414W?edition=key%3A/books/OL28890803M', 'https://openlibrary.org/works/OL71078W?edition=key%3A/books/OL31967838M', 'https://openlibrary.org/works/OL18415W?edition=key%3A/books/OL51733522M', 'https://openlibrary.org/works/OL8127201W?edition=key%3A/books/OL37044552M', 'https://openlibrary.org/works/OL27482W?edition=key%3A/books/OL51709286M', 'https://openlibrary.org/works/OL2271626W?edition=key%3A/books/OL2847987M', 'https://openlibrary.org/works/OL71037W?edition=key%3A/books/OL3676511M', 'https://openlibrary.org/works/OL71069W?edition=key%3A/books/OL27420959M', 'https://openlibrary.org/works/OL27513W?edition=key%3A/books/OL43079986M', 'https://openlibrary.org/works/OL99541W?edition=key%3A/books/OL37044497M', 'https://openlibrary.org/works/OL18396W?edition=key%3A/books/OL19879211M', 'https://openlibrary.org/works/OL27479W?edition=key%3A/books/OL45329737M', 'https://openlibrary.org/works/OL71132W?edition=key%3A/books/OL31956164M', 'https://openlibrary.org/works/OL77775W?edition=key%3A/books/OL46930495M', 'https://openlibrary.org/works/OL1003017W?edition=key%3A/books/OL44595490M', 'https://openlibrary.org/works/OL44995W?edition=key%3A/books/OL37044526M', 'https://openlibrary.org/works/OL15450151W?edition=key%3A/books/OL20475668M', 'https://openlibrary.org/works/OL274518W?edition=key%3A/books/OL25954563M', 'https://openlibrary.org/works/OL100239W?edition=key%3A/books/OL37847175M', 'https://openlibrary.org/works/OL15437W?edition=key%3A/books/OL26320183M', 'https://openlibrary.org/works/OL1230715W?edition=key%3A/books/OL21214329M', 'https://openlibrary.org/works/OL81294W?edition=key%3A/books/OL44811282M', 'https://openlibrary.org/works/OL15450W?edition=key%3A/books/OL23325250M', 'https://openlibrary.org/works/OL1230631W?edition=key%3A/books/OL49668278M', 'https://openlibrary.org/works/OL66534W?edition=key%3A/books/OL47079598M', 'https://openlibrary.org/works/OL468362W?edition=key%3A/books/OL1118852M', 'https://openlibrary.org/works/OL88813W?edition=key%3A/books/OL37044791M', 'https://openlibrary.org/works/OL1157252W?edition=key%3A/books/OL37044566M', 'https://openlibrary.org/works/OL66554W?edition=key%3A/books/OL50444320M', 'https://openlibrary.org/works/OL267096W?edition=key%3A/books/OL39800439M', 'https://openlibrary.org/works/OL471990W?edition=key%3A/books/OL51012140M', 'https://openlibrary.org/works/OL77748W?edition=key%3A/books/OL52187484M', 'https://openlibrary.org/works/OL54031W?edition=key%3A/books/OL32930303M', 'https://openlibrary.org/works/OL2026379W?edition=key%3A/books/OL44098697M', 'https://openlibrary.org/works/OL498434W?edition=key%3A/books/OL26398835M', 'https://openlibrary.org/works/OL1147650W?edition=key%3A/books/OL22110100M', 'https://openlibrary.org/works/OL52151W?edition=key%3A/books/OL7219307M', 'https://openlibrary.org/works/OL239940W?edition=key%3A/books/OL40217931M', 'https://openlibrary.org/works/OL65906W?edition=key%3A/books/OL1630380M', 'https://openlibrary.org/works/OL308980W?edition=key%3A/books/OL6347498M', 'https://openlibrary.org/works/OL39316W?edition=key%3A/books/OL28598734M', 'https://openlibrary.org/works/OL144822W?edition=key%3A/books/OL32116569M', 'https://openlibrary.org/works/OL468485W?edition=key%3A/books/OL7719876M', 'https://openlibrary.org/works/OL8127201W?edition=key%3A/books/OL37044552M', 'https://openlibrary.org/works/OL505781W?edition=key%3A/books/OL24152421M', 'https://openlibrary.org/works/OL65430W?edition=key%3A/books/OL39491447M', 'https://openlibrary.org/works/OL52556W?edition=key%3A/books/OL23450786M', 'https://openlibrary.org/works/OL15450W?edition=key%3A/books/OL23325250M', 'https://openlibrary.org/works/OL267174W?edition=key%3A/books/OL7023326M', 'https://openlibrary.org/works/OL7966242W?edition=key%3A/books/OL12123550M', 'https://openlibrary.org/works/OL45503W?edition=key%3A/books/OL17997603M', 'https://openlibrary.org/works/OL45361W?edition=key%3A/books/OL7146062M', 'https://openlibrary.org/works/OL8112804W?edition=key%3A/books/OL10225309M', 'https://openlibrary.org/works/OL77775W?edition=key%3A/books/OL46930495M', 'https://openlibrary.org/works/OL67334W?edition=key%3A/books/OL28343294M', 'https://openlibrary.org/works/OL74502W?edition=key%3A/books/OL32092077M', 'https://openlibrary.org/works/OL106837W?edition=key%3A/books/OL5856540M', 'https://openlibrary.org/works/OL863808W?edition=key%3A/books/OL6950809M', 'https://openlibrary.org/works/OL10834W?edition=key%3A/books/OL24833372M', 'https://openlibrary.org/works/OL36287W?edition=key%3A/books/OL46867087M', 'https://openlibrary.org/works/OL36861W?edition=key%3A/books/OL24152170M', 'https://openlibrary.org/works/OL2775807W?edition=key%3A/books/OL25265941M', 'https://openlibrary.org/works/OL1253285W?edition=key%3A/books/OL37044827M', 'https://openlibrary.org/works/OL731737W?edition=key%3A/books/OL32974194M', 'https://openlibrary.org/works/OL51145W?edition=key%3A/books/OL37815339M', 'https://openlibrary.org/works/OL2564006W?edition=key%3A/books/OL1743726M', 'https://openlibrary.org/works/OL166899W?edition=key%3A/books/OL46541738M', 'https://openlibrary.org/works/OL24166W?edition=key%3A/books/OL32007176M', 'https://openlibrary.org/works/OL19908W?edition=key%3A/books/OL37044549M', 'https://openlibrary.org/works/OL18414W?edition=key%3A/books/OL28890803M', 'https://openlibrary.org/works/OL258301W?edition=key%3A/books/OL39804749M', 'https://openlibrary.org/works/OL53994W?edition=key%3A/books/OL31959489M', 'https://openlibrary.org/works/OL99541W?edition=key%3A/books/OL37044497M']\n"
          ]
        }
      ]
    },
    {
      "cell_type": "code",
      "source": [
        "# all_book_links uses all pages of each subject's total works and gets all of the book urls\n",
        "# this takes a long time to run!\n",
        "# make sure to save all_book_links.csv\n",
        "all_book_links = book_links(all_pages)\n",
        "with open('all_book_links.csv', 'w', newline='') as myfile:\n",
        "     wr = csv.writer(myfile, quoting=csv.QUOTE_ALL)\n",
        "     wr.writerow(all_book_links)"
      ],
      "metadata": {
        "colab": {
          "base_uri": "https://localhost:8080/",
          "height": 543
        },
        "id": "RybFkW65gE8S",
        "outputId": "85970795-94e9-4d16-c82c-0c21dc7a1d61"
      },
      "execution_count": 19,
      "outputs": [
        {
          "output_type": "stream",
          "name": "stdout",
          "text": [
            "SUBMITTED\n"
          ]
        },
        {
          "output_type": "stream",
          "name": "stderr",
          "text": [
            "  1%|          | 821/89622 [07:13<13:01:19,  1.89it/s]\n"
          ]
        },
        {
          "output_type": "error",
          "ename": "KeyboardInterrupt",
          "evalue": "",
          "traceback": [
            "\u001b[0;31m---------------------------------------------------------------------------\u001b[0m",
            "\u001b[0;31mKeyboardInterrupt\u001b[0m                         Traceback (most recent call last)",
            "\u001b[0;32m<ipython-input-13-55315a074999>\u001b[0m in \u001b[0;36mbook_links\u001b[0;34m(urls)\u001b[0m\n\u001b[1;32m     14\u001b[0m         \u001b[0;32mwith\u001b[0m \u001b[0mtqdm\u001b[0m\u001b[0;34m(\u001b[0m\u001b[0mtotal\u001b[0m\u001b[0;34m=\u001b[0m\u001b[0mlen\u001b[0m\u001b[0;34m(\u001b[0m\u001b[0murls\u001b[0m\u001b[0;34m)\u001b[0m\u001b[0;34m)\u001b[0m \u001b[0;32mas\u001b[0m \u001b[0mpbar\u001b[0m\u001b[0;34m:\u001b[0m\u001b[0;34m\u001b[0m\u001b[0;34m\u001b[0m\u001b[0m\n\u001b[0;32m---> 15\u001b[0;31m             \u001b[0;32mfor\u001b[0m \u001b[0mfuture\u001b[0m \u001b[0;32min\u001b[0m \u001b[0mconcurrent\u001b[0m\u001b[0;34m.\u001b[0m\u001b[0mfutures\u001b[0m\u001b[0;34m.\u001b[0m\u001b[0mas_completed\u001b[0m\u001b[0;34m(\u001b[0m\u001b[0mfuture_to_url\u001b[0m\u001b[0;34m)\u001b[0m\u001b[0;34m:\u001b[0m\u001b[0;34m\u001b[0m\u001b[0;34m\u001b[0m\u001b[0m\n\u001b[0m\u001b[1;32m     16\u001b[0m                 \u001b[0murl\u001b[0m \u001b[0;34m=\u001b[0m \u001b[0mfuture_to_url\u001b[0m\u001b[0;34m[\u001b[0m\u001b[0mfuture\u001b[0m\u001b[0;34m]\u001b[0m\u001b[0;34m\u001b[0m\u001b[0;34m\u001b[0m\u001b[0m\n",
            "\u001b[0;32m/usr/lib/python3.11/concurrent/futures/_base.py\u001b[0m in \u001b[0;36mas_completed\u001b[0;34m(fs, timeout)\u001b[0m\n\u001b[1;32m    242\u001b[0m \u001b[0;34m\u001b[0m\u001b[0m\n\u001b[0;32m--> 243\u001b[0;31m             \u001b[0mwaiter\u001b[0m\u001b[0;34m.\u001b[0m\u001b[0mevent\u001b[0m\u001b[0;34m.\u001b[0m\u001b[0mwait\u001b[0m\u001b[0;34m(\u001b[0m\u001b[0mwait_timeout\u001b[0m\u001b[0;34m)\u001b[0m\u001b[0;34m\u001b[0m\u001b[0;34m\u001b[0m\u001b[0m\n\u001b[0m\u001b[1;32m    244\u001b[0m \u001b[0;34m\u001b[0m\u001b[0m\n",
            "\u001b[0;32m/usr/lib/python3.11/threading.py\u001b[0m in \u001b[0;36mwait\u001b[0;34m(self, timeout)\u001b[0m\n\u001b[1;32m    628\u001b[0m             \u001b[0;32mif\u001b[0m \u001b[0;32mnot\u001b[0m \u001b[0msignaled\u001b[0m\u001b[0;34m:\u001b[0m\u001b[0;34m\u001b[0m\u001b[0;34m\u001b[0m\u001b[0m\n\u001b[0;32m--> 629\u001b[0;31m                 \u001b[0msignaled\u001b[0m \u001b[0;34m=\u001b[0m \u001b[0mself\u001b[0m\u001b[0;34m.\u001b[0m\u001b[0m_cond\u001b[0m\u001b[0;34m.\u001b[0m\u001b[0mwait\u001b[0m\u001b[0;34m(\u001b[0m\u001b[0mtimeout\u001b[0m\u001b[0;34m)\u001b[0m\u001b[0;34m\u001b[0m\u001b[0;34m\u001b[0m\u001b[0m\n\u001b[0m\u001b[1;32m    630\u001b[0m             \u001b[0;32mreturn\u001b[0m \u001b[0msignaled\u001b[0m\u001b[0;34m\u001b[0m\u001b[0;34m\u001b[0m\u001b[0m\n",
            "\u001b[0;32m/usr/lib/python3.11/threading.py\u001b[0m in \u001b[0;36mwait\u001b[0;34m(self, timeout)\u001b[0m\n\u001b[1;32m    326\u001b[0m             \u001b[0;32mif\u001b[0m \u001b[0mtimeout\u001b[0m \u001b[0;32mis\u001b[0m \u001b[0;32mNone\u001b[0m\u001b[0;34m:\u001b[0m\u001b[0;34m\u001b[0m\u001b[0;34m\u001b[0m\u001b[0m\n\u001b[0;32m--> 327\u001b[0;31m                 \u001b[0mwaiter\u001b[0m\u001b[0;34m.\u001b[0m\u001b[0macquire\u001b[0m\u001b[0;34m(\u001b[0m\u001b[0;34m)\u001b[0m\u001b[0;34m\u001b[0m\u001b[0;34m\u001b[0m\u001b[0m\n\u001b[0m\u001b[1;32m    328\u001b[0m                 \u001b[0mgotit\u001b[0m \u001b[0;34m=\u001b[0m \u001b[0;32mTrue\u001b[0m\u001b[0;34m\u001b[0m\u001b[0;34m\u001b[0m\u001b[0m\n",
            "\u001b[0;31mKeyboardInterrupt\u001b[0m: ",
            "\nDuring handling of the above exception, another exception occurred:\n",
            "\u001b[0;31mKeyboardInterrupt\u001b[0m                         Traceback (most recent call last)",
            "\u001b[0;32m<ipython-input-19-e2da83f894ec>\u001b[0m in \u001b[0;36m<cell line: 0>\u001b[0;34m()\u001b[0m\n\u001b[0;32m----> 1\u001b[0;31m \u001b[0mall_book_links\u001b[0m \u001b[0;34m=\u001b[0m \u001b[0mbook_links\u001b[0m\u001b[0;34m(\u001b[0m\u001b[0mall_pages\u001b[0m\u001b[0;34m)\u001b[0m\u001b[0;34m\u001b[0m\u001b[0;34m\u001b[0m\u001b[0m\n\u001b[0m\u001b[1;32m      2\u001b[0m \u001b[0;32mwith\u001b[0m \u001b[0mopen\u001b[0m\u001b[0;34m(\u001b[0m\u001b[0;34m'all_book_links.csv'\u001b[0m\u001b[0;34m,\u001b[0m \u001b[0;34m'w'\u001b[0m\u001b[0;34m,\u001b[0m \u001b[0mnewline\u001b[0m\u001b[0;34m=\u001b[0m\u001b[0;34m''\u001b[0m\u001b[0;34m)\u001b[0m \u001b[0;32mas\u001b[0m \u001b[0mmyfile\u001b[0m\u001b[0;34m:\u001b[0m\u001b[0;34m\u001b[0m\u001b[0;34m\u001b[0m\u001b[0m\n\u001b[1;32m      3\u001b[0m      \u001b[0mwr\u001b[0m \u001b[0;34m=\u001b[0m \u001b[0mcsv\u001b[0m\u001b[0;34m.\u001b[0m\u001b[0mwriter\u001b[0m\u001b[0;34m(\u001b[0m\u001b[0mmyfile\u001b[0m\u001b[0;34m,\u001b[0m \u001b[0mquoting\u001b[0m\u001b[0;34m=\u001b[0m\u001b[0mcsv\u001b[0m\u001b[0;34m.\u001b[0m\u001b[0mQUOTE_ALL\u001b[0m\u001b[0;34m)\u001b[0m\u001b[0;34m\u001b[0m\u001b[0;34m\u001b[0m\u001b[0m\n\u001b[1;32m      4\u001b[0m      \u001b[0mwr\u001b[0m\u001b[0;34m.\u001b[0m\u001b[0mwriterow\u001b[0m\u001b[0;34m(\u001b[0m\u001b[0mall_book_links\u001b[0m\u001b[0;34m)\u001b[0m\u001b[0;34m\u001b[0m\u001b[0;34m\u001b[0m\u001b[0m\n",
            "\u001b[0;32m<ipython-input-13-55315a074999>\u001b[0m in \u001b[0;36mbook_links\u001b[0;34m(urls)\u001b[0m\n\u001b[1;32m      9\u001b[0m     \u001b[0mbase_url\u001b[0m \u001b[0;34m=\u001b[0m \u001b[0;34m\"https://openlibrary.org\"\u001b[0m\u001b[0;34m\u001b[0m\u001b[0;34m\u001b[0m\u001b[0m\n\u001b[1;32m     10\u001b[0m     \u001b[0mbook_links\u001b[0m \u001b[0;34m=\u001b[0m \u001b[0;34m[\u001b[0m\u001b[0;34m]\u001b[0m\u001b[0;34m\u001b[0m\u001b[0;34m\u001b[0m\u001b[0m\n\u001b[0;32m---> 11\u001b[0;31m     \u001b[0;32mwith\u001b[0m \u001b[0mconcurrent\u001b[0m\u001b[0;34m.\u001b[0m\u001b[0mfutures\u001b[0m\u001b[0;34m.\u001b[0m\u001b[0mThreadPoolExecutor\u001b[0m\u001b[0;34m(\u001b[0m\u001b[0mmax_workers\u001b[0m\u001b[0;34m=\u001b[0m\u001b[0;36m100\u001b[0m\u001b[0;34m)\u001b[0m \u001b[0;32mas\u001b[0m \u001b[0mexecutor\u001b[0m\u001b[0;34m:\u001b[0m\u001b[0;34m\u001b[0m\u001b[0;34m\u001b[0m\u001b[0m\n\u001b[0m\u001b[1;32m     12\u001b[0m         \u001b[0mfuture_to_url\u001b[0m \u001b[0;34m=\u001b[0m \u001b[0;34m{\u001b[0m\u001b[0mexecutor\u001b[0m\u001b[0;34m.\u001b[0m\u001b[0msubmit\u001b[0m\u001b[0;34m(\u001b[0m\u001b[0mget_book_hrefs\u001b[0m\u001b[0;34m,\u001b[0m \u001b[0murl\u001b[0m\u001b[0;34m)\u001b[0m\u001b[0;34m:\u001b[0m \u001b[0murl\u001b[0m \u001b[0;32mfor\u001b[0m \u001b[0murl\u001b[0m \u001b[0;32min\u001b[0m \u001b[0murls\u001b[0m\u001b[0;34m}\u001b[0m\u001b[0;34m\u001b[0m\u001b[0;34m\u001b[0m\u001b[0m\n\u001b[1;32m     13\u001b[0m         \u001b[0mprint\u001b[0m\u001b[0;34m(\u001b[0m\u001b[0;34m\"SUBMITTED\"\u001b[0m\u001b[0;34m)\u001b[0m\u001b[0;34m\u001b[0m\u001b[0;34m\u001b[0m\u001b[0m\n",
            "\u001b[0;32m/usr/lib/python3.11/concurrent/futures/_base.py\u001b[0m in \u001b[0;36m__exit__\u001b[0;34m(self, exc_type, exc_val, exc_tb)\u001b[0m\n\u001b[1;32m    645\u001b[0m \u001b[0;34m\u001b[0m\u001b[0m\n\u001b[1;32m    646\u001b[0m     \u001b[0;32mdef\u001b[0m \u001b[0m__exit__\u001b[0m\u001b[0;34m(\u001b[0m\u001b[0mself\u001b[0m\u001b[0;34m,\u001b[0m \u001b[0mexc_type\u001b[0m\u001b[0;34m,\u001b[0m \u001b[0mexc_val\u001b[0m\u001b[0;34m,\u001b[0m \u001b[0mexc_tb\u001b[0m\u001b[0;34m)\u001b[0m\u001b[0;34m:\u001b[0m\u001b[0;34m\u001b[0m\u001b[0;34m\u001b[0m\u001b[0m\n\u001b[0;32m--> 647\u001b[0;31m         \u001b[0mself\u001b[0m\u001b[0;34m.\u001b[0m\u001b[0mshutdown\u001b[0m\u001b[0;34m(\u001b[0m\u001b[0mwait\u001b[0m\u001b[0;34m=\u001b[0m\u001b[0;32mTrue\u001b[0m\u001b[0;34m)\u001b[0m\u001b[0;34m\u001b[0m\u001b[0;34m\u001b[0m\u001b[0m\n\u001b[0m\u001b[1;32m    648\u001b[0m         \u001b[0;32mreturn\u001b[0m \u001b[0;32mFalse\u001b[0m\u001b[0;34m\u001b[0m\u001b[0;34m\u001b[0m\u001b[0m\n\u001b[1;32m    649\u001b[0m \u001b[0;34m\u001b[0m\u001b[0m\n",
            "\u001b[0;32m/usr/lib/python3.11/concurrent/futures/thread.py\u001b[0m in \u001b[0;36mshutdown\u001b[0;34m(self, wait, cancel_futures)\u001b[0m\n\u001b[1;32m    233\u001b[0m         \u001b[0;32mif\u001b[0m \u001b[0mwait\u001b[0m\u001b[0;34m:\u001b[0m\u001b[0;34m\u001b[0m\u001b[0;34m\u001b[0m\u001b[0m\n\u001b[1;32m    234\u001b[0m             \u001b[0;32mfor\u001b[0m \u001b[0mt\u001b[0m \u001b[0;32min\u001b[0m \u001b[0mself\u001b[0m\u001b[0;34m.\u001b[0m\u001b[0m_threads\u001b[0m\u001b[0;34m:\u001b[0m\u001b[0;34m\u001b[0m\u001b[0;34m\u001b[0m\u001b[0m\n\u001b[0;32m--> 235\u001b[0;31m                 \u001b[0mt\u001b[0m\u001b[0;34m.\u001b[0m\u001b[0mjoin\u001b[0m\u001b[0;34m(\u001b[0m\u001b[0;34m)\u001b[0m\u001b[0;34m\u001b[0m\u001b[0;34m\u001b[0m\u001b[0m\n\u001b[0m\u001b[1;32m    236\u001b[0m     \u001b[0mshutdown\u001b[0m\u001b[0;34m.\u001b[0m\u001b[0m__doc__\u001b[0m \u001b[0;34m=\u001b[0m \u001b[0m_base\u001b[0m\u001b[0;34m.\u001b[0m\u001b[0mExecutor\u001b[0m\u001b[0;34m.\u001b[0m\u001b[0mshutdown\u001b[0m\u001b[0;34m.\u001b[0m\u001b[0m__doc__\u001b[0m\u001b[0;34m\u001b[0m\u001b[0;34m\u001b[0m\u001b[0m\n",
            "\u001b[0;32m/usr/lib/python3.11/threading.py\u001b[0m in \u001b[0;36mjoin\u001b[0;34m(self, timeout)\u001b[0m\n\u001b[1;32m   1117\u001b[0m \u001b[0;34m\u001b[0m\u001b[0m\n\u001b[1;32m   1118\u001b[0m         \u001b[0;32mif\u001b[0m \u001b[0mtimeout\u001b[0m \u001b[0;32mis\u001b[0m \u001b[0;32mNone\u001b[0m\u001b[0;34m:\u001b[0m\u001b[0;34m\u001b[0m\u001b[0;34m\u001b[0m\u001b[0m\n\u001b[0;32m-> 1119\u001b[0;31m             \u001b[0mself\u001b[0m\u001b[0;34m.\u001b[0m\u001b[0m_wait_for_tstate_lock\u001b[0m\u001b[0;34m(\u001b[0m\u001b[0;34m)\u001b[0m\u001b[0;34m\u001b[0m\u001b[0;34m\u001b[0m\u001b[0m\n\u001b[0m\u001b[1;32m   1120\u001b[0m         \u001b[0;32melse\u001b[0m\u001b[0;34m:\u001b[0m\u001b[0;34m\u001b[0m\u001b[0;34m\u001b[0m\u001b[0m\n\u001b[1;32m   1121\u001b[0m             \u001b[0;31m# the behavior of a negative timeout isn't documented, but\u001b[0m\u001b[0;34m\u001b[0m\u001b[0;34m\u001b[0m\u001b[0m\n",
            "\u001b[0;32m/usr/lib/python3.11/threading.py\u001b[0m in \u001b[0;36m_wait_for_tstate_lock\u001b[0;34m(self, block, timeout)\u001b[0m\n\u001b[1;32m   1137\u001b[0m \u001b[0;34m\u001b[0m\u001b[0m\n\u001b[1;32m   1138\u001b[0m         \u001b[0;32mtry\u001b[0m\u001b[0;34m:\u001b[0m\u001b[0;34m\u001b[0m\u001b[0;34m\u001b[0m\u001b[0m\n\u001b[0;32m-> 1139\u001b[0;31m             \u001b[0;32mif\u001b[0m \u001b[0mlock\u001b[0m\u001b[0;34m.\u001b[0m\u001b[0macquire\u001b[0m\u001b[0;34m(\u001b[0m\u001b[0mblock\u001b[0m\u001b[0;34m,\u001b[0m \u001b[0mtimeout\u001b[0m\u001b[0;34m)\u001b[0m\u001b[0;34m:\u001b[0m\u001b[0;34m\u001b[0m\u001b[0;34m\u001b[0m\u001b[0m\n\u001b[0m\u001b[1;32m   1140\u001b[0m                 \u001b[0mlock\u001b[0m\u001b[0;34m.\u001b[0m\u001b[0mrelease\u001b[0m\u001b[0;34m(\u001b[0m\u001b[0;34m)\u001b[0m\u001b[0;34m\u001b[0m\u001b[0;34m\u001b[0m\u001b[0m\n\u001b[1;32m   1141\u001b[0m                 \u001b[0mself\u001b[0m\u001b[0;34m.\u001b[0m\u001b[0m_stop\u001b[0m\u001b[0;34m(\u001b[0m\u001b[0;34m)\u001b[0m\u001b[0;34m\u001b[0m\u001b[0;34m\u001b[0m\u001b[0m\n",
            "\u001b[0;31mKeyboardInterrupt\u001b[0m: "
          ]
        }
      ]
    },
    {
      "cell_type": "code",
      "source": [
        "from tqdm import tqdm\n",
        "import time\n",
        "\n",
        "N=100\n",
        "for i in tqdm(range(N)):\n",
        "    x = i**2\n",
        "    time.sleep(0.1)\n",
        "\n",
        "for i, j in tqdm(enumerate(range(N)), total=N):\n",
        "    x = i**2\n",
        "    time.sleep(0.1)"
      ],
      "metadata": {
        "id": "4FtK-Qid2lUv",
        "outputId": "4e2b8e79-cbf5-4a30-b0ca-315874604f48",
        "colab": {
          "base_uri": "https://localhost:8080/"
        }
      },
      "execution_count": 23,
      "outputs": [
        {
          "output_type": "stream",
          "name": "stderr",
          "text": [
            "100%|██████████| 100/100 [00:10<00:00,  9.89it/s]\n",
            "100%|██████████| 100/100 [00:10<00:00,  9.89it/s]\n"
          ]
        }
      ]
    },
    {
      "cell_type": "code",
      "source": [
        "len(enumerate(range(100)))"
      ],
      "metadata": {
        "id": "3hmGQjxh3QND",
        "outputId": "08280422-1efa-4a91-945d-450a2e89254c",
        "colab": {
          "base_uri": "https://localhost:8080/",
          "height": 144
        }
      },
      "execution_count": null,
      "outputs": [
        {
          "output_type": "error",
          "ename": "TypeError",
          "evalue": "object of type 'enumerate' has no len()",
          "traceback": [
            "\u001b[0;31m---------------------------------------------------------------------------\u001b[0m",
            "\u001b[0;31mTypeError\u001b[0m                                 Traceback (most recent call last)",
            "\u001b[0;32m<ipython-input-25-a2c7185dc3ff>\u001b[0m in \u001b[0;36m<cell line: 0>\u001b[0;34m()\u001b[0m\n\u001b[0;32m----> 1\u001b[0;31m \u001b[0mlen\u001b[0m\u001b[0;34m(\u001b[0m\u001b[0menumerate\u001b[0m\u001b[0;34m(\u001b[0m\u001b[0mrange\u001b[0m\u001b[0;34m(\u001b[0m\u001b[0;36m100\u001b[0m\u001b[0;34m)\u001b[0m\u001b[0;34m)\u001b[0m\u001b[0;34m)\u001b[0m\u001b[0;34m\u001b[0m\u001b[0;34m\u001b[0m\u001b[0m\n\u001b[0m",
            "\u001b[0;31mTypeError\u001b[0m: object of type 'enumerate' has no len()"
          ]
        }
      ]
    },
    {
      "cell_type": "code",
      "source": [],
      "metadata": {
        "id": "yau_HBWV3QPV"
      },
      "execution_count": null,
      "outputs": []
    },
    {
      "cell_type": "code",
      "source": [
        "import concurrent.futures\n",
        "\n",
        "from tqdm import tqdm\n",
        "\n",
        "def every_book(all_pages, subject_total_work_url):\n",
        "    \"\"\"\n",
        "    Assume we are in the first page of every 'total works' under a subject\n",
        "    and wish to parse through every book in every page under the 'total works'.\n",
        "\n",
        "    Returns: A list of URLs for every book from pages 1 to n under 'total works' of each subject.\n",
        "    \"\"\"\n",
        "    all_book_links = []\n",
        "\n",
        "    # with tqdm(total=len(all_pages)) as pbar:\n",
        "    #     with concurrent.futures.ThreadPoolExecutor(max_workers=10) as executor:\n",
        "    #         future_to_page = {executor.submit(book_links, [page]): page for page in all_pages}\n",
        "    #         for future in concurrent.futures.as_completed(future_to_page):\n",
        "    #             page = future_to_page[future]\n",
        "    #             try:\n",
        "    #                 data = future.result()\n",
        "    #                 all_book_links.extend(data)\n",
        "    #             except Exception as exc:\n",
        "    #                 print('%r generated an exception: %s' % (page, exc))\n",
        "    #             finally:\n",
        "    #                 pbar.update(1)\n",
        "\n",
        "    return all_book_links\n",
        "\n"
      ],
      "metadata": {
        "id": "IgWTOgREBc0C"
      },
      "execution_count": 26,
      "outputs": []
    },
    {
      "cell_type": "code",
      "source": [
        "all_pages[2]"
      ],
      "metadata": {
        "colab": {
          "base_uri": "https://localhost:8080/",
          "height": 35
        },
        "id": "xQN_EkGHdg9h",
        "outputId": "2ad47128-661a-4789-a7b8-5c1a198d9559"
      },
      "execution_count": 31,
      "outputs": [
        {
          "output_type": "execute_result",
          "data": {
            "text/plain": [
              "'https://openlibrary.org/search?subject=Fantasy&page=3'"
            ],
            "application/vnd.google.colaboratory.intrinsic+json": {
              "type": "string"
            }
          },
          "metadata": {},
          "execution_count": 31
        }
      ]
    },
    {
      "cell_type": "code",
      "source": [
        "x = book_links(all_pages[:2])"
      ],
      "metadata": {
        "id": "nmZT--BddwGQ"
      },
      "execution_count": 34,
      "outputs": []
    },
    {
      "cell_type": "code",
      "source": [
        "y = book_links([all_pages[0]]) + book_links([all_pages[1]])"
      ],
      "metadata": {
        "id": "xROmgXQsdpap"
      },
      "execution_count": 40,
      "outputs": []
    },
    {
      "cell_type": "code",
      "source": [
        "x == y"
      ],
      "metadata": {
        "colab": {
          "base_uri": "https://localhost:8080/"
        },
        "id": "q6qBzuKveFGP",
        "outputId": "e8e27da8-6039-482a-b0b8-8c0146df5169"
      },
      "execution_count": 42,
      "outputs": [
        {
          "output_type": "execute_result",
          "data": {
            "text/plain": [
              "True"
            ]
          },
          "metadata": {},
          "execution_count": 42
        }
      ]
    },
    {
      "cell_type": "code",
      "source": [
        "all_books_url = every_book(all_pages, subject_total_work_url)"
      ],
      "metadata": {
        "id": "FMU8FaDk1d3K",
        "outputId": "536b9671-c3e3-46fd-a103-4f8bd5265ede",
        "colab": {
          "base_uri": "https://localhost:8080/",
          "height": 1000
        }
      },
      "execution_count": 27,
      "outputs": [
        {
          "output_type": "stream",
          "name": "stderr",
          "text": [
            "  0%|          | 142/89622 [01:44<18:21:43,  1.35it/s]\n",
            "ERROR:root:Internal Python error in the inspect module.\n",
            "Below is the traceback from this internal error.\n",
            "\n"
          ]
        },
        {
          "output_type": "stream",
          "name": "stdout",
          "text": [
            "Traceback (most recent call last):\n",
            "  File \"/usr/lib/python3.11/concurrent/futures/_base.py\", line 243, in as_completed\n",
            "    waiter.event.wait(wait_timeout)\n",
            "  File \"/usr/lib/python3.11/threading.py\", line 629, in wait\n",
            "    signaled = self._cond.wait(timeout)\n",
            "               ^^^^^^^^^^^^^^^^^^^^^^^^\n",
            "  File \"/usr/lib/python3.11/threading.py\", line 327, in wait\n",
            "    waiter.acquire()\n",
            "KeyboardInterrupt\n",
            "\n",
            "During handling of the above exception, another exception occurred:\n",
            "\n",
            "Traceback (most recent call last):\n",
            "  File \"<ipython-input-26-65afa2eae261>\", line 17, in every_book\n",
            "    for future in concurrent.futures.as_completed(future_to_page):\n",
            "  File \"/usr/lib/python3.11/concurrent/futures/_base.py\", line 259, in as_completed\n",
            "    f._waiters.remove(waiter)\n",
            "KeyboardInterrupt\n",
            "\n",
            "During handling of the above exception, another exception occurred:\n",
            "\n",
            "Traceback (most recent call last):\n",
            "  File \"/usr/local/lib/python3.11/dist-packages/IPython/core/interactiveshell.py\", line 3553, in run_code\n",
            "    exec(code_obj, self.user_global_ns, self.user_ns)\n",
            "  File \"<ipython-input-27-bbc68d1e0fd9>\", line 1, in <cell line: 0>\n",
            "    all_books_url = every_book(all_pages, subject_total_work_url)\n",
            "                    ^^^^^^^^^^^^^^^^^^^^^^^^^^^^^^^^^^^^^^^^^^^^^\n",
            "  File \"<ipython-input-26-65afa2eae261>\", line 15, in every_book\n",
            "    with concurrent.futures.ThreadPoolExecutor(max_workers=10) as executor:\n",
            "  File \"/usr/lib/python3.11/concurrent/futures/_base.py\", line 647, in __exit__\n",
            "    self.shutdown(wait=True)\n",
            "  File \"/usr/lib/python3.11/concurrent/futures/thread.py\", line 235, in shutdown\n",
            "    t.join()\n",
            "  File \"/usr/lib/python3.11/threading.py\", line 1119, in join\n",
            "    self._wait_for_tstate_lock()\n",
            "  File \"/usr/lib/python3.11/threading.py\", line 1139, in _wait_for_tstate_lock\n",
            "    if lock.acquire(block, timeout):\n",
            "       ^^^^^^^^^^^^^^^^^^^^^^^^^^^^\n",
            "KeyboardInterrupt\n",
            "\n",
            "During handling of the above exception, another exception occurred:\n",
            "\n",
            "Traceback (most recent call last):\n",
            "  File \"/usr/local/lib/python3.11/dist-packages/IPython/core/interactiveshell.py\", line 2099, in showtraceback\n",
            "    stb = value._render_traceback_()\n",
            "          ^^^^^^^^^^^^^^^^^^^^^^^^\n",
            "AttributeError: 'KeyboardInterrupt' object has no attribute '_render_traceback_'\n",
            "\n",
            "During handling of the above exception, another exception occurred:\n",
            "\n",
            "Traceback (most recent call last):\n",
            "  File \"/usr/local/lib/python3.11/dist-packages/IPython/core/ultratb.py\", line 1101, in get_records\n",
            "    return _fixed_getinnerframes(etb, number_of_lines_of_context, tb_offset)\n",
            "           ^^^^^^^^^^^^^^^^^^^^^^^^^^^^^^^^^^^^^^^^^^^^^^^^^^^^^^^^^^^^^^^^^\n",
            "  File \"/usr/local/lib/python3.11/dist-packages/IPython/core/ultratb.py\", line 248, in wrapped\n",
            "    return f(*args, **kwargs)\n",
            "           ^^^^^^^^^^^^^^^^^^\n",
            "  File \"/usr/local/lib/python3.11/dist-packages/IPython/core/ultratb.py\", line 281, in _fixed_getinnerframes\n",
            "    records = fix_frame_records_filenames(inspect.getinnerframes(etb, context))\n",
            "                                          ^^^^^^^^^^^^^^^^^^^^^^^^^^^^^^^^^^^^\n",
            "  File \"/usr/lib/python3.11/inspect.py\", line 1739, in getinnerframes\n",
            "    traceback_info = getframeinfo(tb, context)\n",
            "                     ^^^^^^^^^^^^^^^^^^^^^^^^^\n",
            "  File \"/usr/lib/python3.11/inspect.py\", line 1684, in getframeinfo\n",
            "    filename = getsourcefile(frame) or getfile(frame)\n",
            "               ^^^^^^^^^^^^^^^^^^^^\n",
            "  File \"/usr/lib/python3.11/inspect.py\", line 948, in getsourcefile\n",
            "    module = getmodule(object, filename)\n",
            "             ^^^^^^^^^^^^^^^^^^^^^^^^^^^\n",
            "  File \"/usr/lib/python3.11/inspect.py\", line 994, in getmodule\n",
            "    f = getabsfile(module)\n",
            "        ^^^^^^^^^^^^^^^^^^\n",
            "  File \"/usr/lib/python3.11/inspect.py\", line 963, in getabsfile\n",
            "    _filename = getsourcefile(object) or getfile(object)\n",
            "                ^^^^^^^^^^^^^^^^^^^^^\n",
            "  File \"/usr/lib/python3.11/inspect.py\", line 945, in getsourcefile\n",
            "    if os.path.exists(filename):\n",
            "       ^^^^^^^^^^^^^^^^^^^^^^^^\n",
            "  File \"<frozen genericpath>\", line 19, in exists\n",
            "KeyboardInterrupt\n"
          ]
        },
        {
          "output_type": "error",
          "ename": "TypeError",
          "evalue": "object of type 'NoneType' has no len()",
          "traceback": [
            "\u001b[0;31m---------------------------------------------------------------------------\u001b[0m",
            "\u001b[0;31mKeyboardInterrupt\u001b[0m                         Traceback (most recent call last)",
            "\u001b[0;32m/usr/lib/python3.11/concurrent/futures/_base.py\u001b[0m in \u001b[0;36mas_completed\u001b[0;34m(fs, timeout)\u001b[0m\n\u001b[1;32m    242\u001b[0m \u001b[0;34m\u001b[0m\u001b[0m\n\u001b[0;32m--> 243\u001b[0;31m             \u001b[0mwaiter\u001b[0m\u001b[0;34m.\u001b[0m\u001b[0mevent\u001b[0m\u001b[0;34m.\u001b[0m\u001b[0mwait\u001b[0m\u001b[0;34m(\u001b[0m\u001b[0mwait_timeout\u001b[0m\u001b[0;34m)\u001b[0m\u001b[0;34m\u001b[0m\u001b[0;34m\u001b[0m\u001b[0m\n\u001b[0m\u001b[1;32m    244\u001b[0m \u001b[0;34m\u001b[0m\u001b[0m\n",
            "\u001b[0;32m/usr/lib/python3.11/threading.py\u001b[0m in \u001b[0;36mwait\u001b[0;34m(self, timeout)\u001b[0m\n\u001b[1;32m    628\u001b[0m             \u001b[0;32mif\u001b[0m \u001b[0;32mnot\u001b[0m \u001b[0msignaled\u001b[0m\u001b[0;34m:\u001b[0m\u001b[0;34m\u001b[0m\u001b[0;34m\u001b[0m\u001b[0m\n\u001b[0;32m--> 629\u001b[0;31m                 \u001b[0msignaled\u001b[0m \u001b[0;34m=\u001b[0m \u001b[0mself\u001b[0m\u001b[0;34m.\u001b[0m\u001b[0m_cond\u001b[0m\u001b[0;34m.\u001b[0m\u001b[0mwait\u001b[0m\u001b[0;34m(\u001b[0m\u001b[0mtimeout\u001b[0m\u001b[0;34m)\u001b[0m\u001b[0;34m\u001b[0m\u001b[0;34m\u001b[0m\u001b[0m\n\u001b[0m\u001b[1;32m    630\u001b[0m             \u001b[0;32mreturn\u001b[0m \u001b[0msignaled\u001b[0m\u001b[0;34m\u001b[0m\u001b[0;34m\u001b[0m\u001b[0m\n",
            "\u001b[0;32m/usr/lib/python3.11/threading.py\u001b[0m in \u001b[0;36mwait\u001b[0;34m(self, timeout)\u001b[0m\n\u001b[1;32m    326\u001b[0m             \u001b[0;32mif\u001b[0m \u001b[0mtimeout\u001b[0m \u001b[0;32mis\u001b[0m \u001b[0;32mNone\u001b[0m\u001b[0;34m:\u001b[0m\u001b[0;34m\u001b[0m\u001b[0;34m\u001b[0m\u001b[0m\n\u001b[0;32m--> 327\u001b[0;31m                 \u001b[0mwaiter\u001b[0m\u001b[0;34m.\u001b[0m\u001b[0macquire\u001b[0m\u001b[0;34m(\u001b[0m\u001b[0;34m)\u001b[0m\u001b[0;34m\u001b[0m\u001b[0;34m\u001b[0m\u001b[0m\n\u001b[0m\u001b[1;32m    328\u001b[0m                 \u001b[0mgotit\u001b[0m \u001b[0;34m=\u001b[0m \u001b[0;32mTrue\u001b[0m\u001b[0;34m\u001b[0m\u001b[0;34m\u001b[0m\u001b[0m\n",
            "\u001b[0;31mKeyboardInterrupt\u001b[0m: ",
            "\nDuring handling of the above exception, another exception occurred:\n",
            "\u001b[0;31mKeyboardInterrupt\u001b[0m                         Traceback (most recent call last)",
            "\u001b[0;32m<ipython-input-26-65afa2eae261>\u001b[0m in \u001b[0;36mevery_book\u001b[0;34m(all_pages, subject_total_work_url)\u001b[0m\n\u001b[1;32m     16\u001b[0m             \u001b[0mfuture_to_page\u001b[0m \u001b[0;34m=\u001b[0m \u001b[0;34m{\u001b[0m\u001b[0mexecutor\u001b[0m\u001b[0;34m.\u001b[0m\u001b[0msubmit\u001b[0m\u001b[0;34m(\u001b[0m\u001b[0mbook_links\u001b[0m\u001b[0;34m,\u001b[0m \u001b[0;34m[\u001b[0m\u001b[0mpage\u001b[0m\u001b[0;34m]\u001b[0m\u001b[0;34m)\u001b[0m\u001b[0;34m:\u001b[0m \u001b[0mpage\u001b[0m \u001b[0;32mfor\u001b[0m \u001b[0mpage\u001b[0m \u001b[0;32min\u001b[0m \u001b[0mall_pages\u001b[0m\u001b[0;34m}\u001b[0m\u001b[0;34m\u001b[0m\u001b[0;34m\u001b[0m\u001b[0m\n\u001b[0;32m---> 17\u001b[0;31m             \u001b[0;32mfor\u001b[0m \u001b[0mfuture\u001b[0m \u001b[0;32min\u001b[0m \u001b[0mconcurrent\u001b[0m\u001b[0;34m.\u001b[0m\u001b[0mfutures\u001b[0m\u001b[0;34m.\u001b[0m\u001b[0mas_completed\u001b[0m\u001b[0;34m(\u001b[0m\u001b[0mfuture_to_page\u001b[0m\u001b[0;34m)\u001b[0m\u001b[0;34m:\u001b[0m\u001b[0;34m\u001b[0m\u001b[0;34m\u001b[0m\u001b[0m\n\u001b[0m\u001b[1;32m     18\u001b[0m                 \u001b[0mpage\u001b[0m \u001b[0;34m=\u001b[0m \u001b[0mfuture_to_page\u001b[0m\u001b[0;34m[\u001b[0m\u001b[0mfuture\u001b[0m\u001b[0;34m]\u001b[0m\u001b[0;34m\u001b[0m\u001b[0;34m\u001b[0m\u001b[0m\n",
            "\u001b[0;32m/usr/lib/python3.11/concurrent/futures/_base.py\u001b[0m in \u001b[0;36mas_completed\u001b[0;34m(fs, timeout)\u001b[0m\n\u001b[1;32m    258\u001b[0m             \u001b[0;32mwith\u001b[0m \u001b[0mf\u001b[0m\u001b[0;34m.\u001b[0m\u001b[0m_condition\u001b[0m\u001b[0;34m:\u001b[0m\u001b[0;34m\u001b[0m\u001b[0;34m\u001b[0m\u001b[0m\n\u001b[0;32m--> 259\u001b[0;31m                 \u001b[0mf\u001b[0m\u001b[0;34m.\u001b[0m\u001b[0m_waiters\u001b[0m\u001b[0;34m.\u001b[0m\u001b[0mremove\u001b[0m\u001b[0;34m(\u001b[0m\u001b[0mwaiter\u001b[0m\u001b[0;34m)\u001b[0m\u001b[0;34m\u001b[0m\u001b[0;34m\u001b[0m\u001b[0m\n\u001b[0m\u001b[1;32m    260\u001b[0m \u001b[0;34m\u001b[0m\u001b[0m\n",
            "\u001b[0;31mKeyboardInterrupt\u001b[0m: ",
            "\nDuring handling of the above exception, another exception occurred:\n",
            "\u001b[0;31mKeyboardInterrupt\u001b[0m                         Traceback (most recent call last)",
            "    \u001b[0;31m[... skipping hidden 1 frame]\u001b[0m\n",
            "\u001b[0;32m<ipython-input-27-bbc68d1e0fd9>\u001b[0m in \u001b[0;36m<cell line: 0>\u001b[0;34m()\u001b[0m\n\u001b[0;32m----> 1\u001b[0;31m \u001b[0mall_books_url\u001b[0m \u001b[0;34m=\u001b[0m \u001b[0mevery_book\u001b[0m\u001b[0;34m(\u001b[0m\u001b[0mall_pages\u001b[0m\u001b[0;34m,\u001b[0m \u001b[0msubject_total_work_url\u001b[0m\u001b[0;34m)\u001b[0m\u001b[0;34m\u001b[0m\u001b[0;34m\u001b[0m\u001b[0m\n\u001b[0m",
            "\u001b[0;32m<ipython-input-26-65afa2eae261>\u001b[0m in \u001b[0;36mevery_book\u001b[0;34m(all_pages, subject_total_work_url)\u001b[0m\n\u001b[1;32m     14\u001b[0m     \u001b[0;32mwith\u001b[0m \u001b[0mtqdm\u001b[0m\u001b[0;34m(\u001b[0m\u001b[0mtotal\u001b[0m\u001b[0;34m=\u001b[0m\u001b[0mlen\u001b[0m\u001b[0;34m(\u001b[0m\u001b[0mall_pages\u001b[0m\u001b[0;34m)\u001b[0m\u001b[0;34m)\u001b[0m \u001b[0;32mas\u001b[0m \u001b[0mpbar\u001b[0m\u001b[0;34m:\u001b[0m\u001b[0;34m\u001b[0m\u001b[0;34m\u001b[0m\u001b[0m\n\u001b[0;32m---> 15\u001b[0;31m         \u001b[0;32mwith\u001b[0m \u001b[0mconcurrent\u001b[0m\u001b[0;34m.\u001b[0m\u001b[0mfutures\u001b[0m\u001b[0;34m.\u001b[0m\u001b[0mThreadPoolExecutor\u001b[0m\u001b[0;34m(\u001b[0m\u001b[0mmax_workers\u001b[0m\u001b[0;34m=\u001b[0m\u001b[0;36m10\u001b[0m\u001b[0;34m)\u001b[0m \u001b[0;32mas\u001b[0m \u001b[0mexecutor\u001b[0m\u001b[0;34m:\u001b[0m\u001b[0;34m\u001b[0m\u001b[0;34m\u001b[0m\u001b[0m\n\u001b[0m\u001b[1;32m     16\u001b[0m             \u001b[0mfuture_to_page\u001b[0m \u001b[0;34m=\u001b[0m \u001b[0;34m{\u001b[0m\u001b[0mexecutor\u001b[0m\u001b[0;34m.\u001b[0m\u001b[0msubmit\u001b[0m\u001b[0;34m(\u001b[0m\u001b[0mbook_links\u001b[0m\u001b[0;34m,\u001b[0m \u001b[0;34m[\u001b[0m\u001b[0mpage\u001b[0m\u001b[0;34m]\u001b[0m\u001b[0;34m)\u001b[0m\u001b[0;34m:\u001b[0m \u001b[0mpage\u001b[0m \u001b[0;32mfor\u001b[0m \u001b[0mpage\u001b[0m \u001b[0;32min\u001b[0m \u001b[0mall_pages\u001b[0m\u001b[0;34m}\u001b[0m\u001b[0;34m\u001b[0m\u001b[0;34m\u001b[0m\u001b[0m\n",
            "\u001b[0;32m/usr/lib/python3.11/concurrent/futures/_base.py\u001b[0m in \u001b[0;36m__exit__\u001b[0;34m(self, exc_type, exc_val, exc_tb)\u001b[0m\n\u001b[1;32m    646\u001b[0m     \u001b[0;32mdef\u001b[0m \u001b[0m__exit__\u001b[0m\u001b[0;34m(\u001b[0m\u001b[0mself\u001b[0m\u001b[0;34m,\u001b[0m \u001b[0mexc_type\u001b[0m\u001b[0;34m,\u001b[0m \u001b[0mexc_val\u001b[0m\u001b[0;34m,\u001b[0m \u001b[0mexc_tb\u001b[0m\u001b[0;34m)\u001b[0m\u001b[0;34m:\u001b[0m\u001b[0;34m\u001b[0m\u001b[0;34m\u001b[0m\u001b[0m\n\u001b[0;32m--> 647\u001b[0;31m         \u001b[0mself\u001b[0m\u001b[0;34m.\u001b[0m\u001b[0mshutdown\u001b[0m\u001b[0;34m(\u001b[0m\u001b[0mwait\u001b[0m\u001b[0;34m=\u001b[0m\u001b[0;32mTrue\u001b[0m\u001b[0;34m)\u001b[0m\u001b[0;34m\u001b[0m\u001b[0;34m\u001b[0m\u001b[0m\n\u001b[0m\u001b[1;32m    648\u001b[0m         \u001b[0;32mreturn\u001b[0m \u001b[0;32mFalse\u001b[0m\u001b[0;34m\u001b[0m\u001b[0;34m\u001b[0m\u001b[0m\n",
            "\u001b[0;32m/usr/lib/python3.11/concurrent/futures/thread.py\u001b[0m in \u001b[0;36mshutdown\u001b[0;34m(self, wait, cancel_futures)\u001b[0m\n\u001b[1;32m    234\u001b[0m             \u001b[0;32mfor\u001b[0m \u001b[0mt\u001b[0m \u001b[0;32min\u001b[0m \u001b[0mself\u001b[0m\u001b[0;34m.\u001b[0m\u001b[0m_threads\u001b[0m\u001b[0;34m:\u001b[0m\u001b[0;34m\u001b[0m\u001b[0;34m\u001b[0m\u001b[0m\n\u001b[0;32m--> 235\u001b[0;31m                 \u001b[0mt\u001b[0m\u001b[0;34m.\u001b[0m\u001b[0mjoin\u001b[0m\u001b[0;34m(\u001b[0m\u001b[0;34m)\u001b[0m\u001b[0;34m\u001b[0m\u001b[0;34m\u001b[0m\u001b[0m\n\u001b[0m\u001b[1;32m    236\u001b[0m     \u001b[0mshutdown\u001b[0m\u001b[0;34m.\u001b[0m\u001b[0m__doc__\u001b[0m \u001b[0;34m=\u001b[0m \u001b[0m_base\u001b[0m\u001b[0;34m.\u001b[0m\u001b[0mExecutor\u001b[0m\u001b[0;34m.\u001b[0m\u001b[0mshutdown\u001b[0m\u001b[0;34m.\u001b[0m\u001b[0m__doc__\u001b[0m\u001b[0;34m\u001b[0m\u001b[0;34m\u001b[0m\u001b[0m\n",
            "\u001b[0;32m/usr/lib/python3.11/threading.py\u001b[0m in \u001b[0;36mjoin\u001b[0;34m(self, timeout)\u001b[0m\n\u001b[1;32m   1118\u001b[0m         \u001b[0;32mif\u001b[0m \u001b[0mtimeout\u001b[0m \u001b[0;32mis\u001b[0m \u001b[0;32mNone\u001b[0m\u001b[0;34m:\u001b[0m\u001b[0;34m\u001b[0m\u001b[0;34m\u001b[0m\u001b[0m\n\u001b[0;32m-> 1119\u001b[0;31m             \u001b[0mself\u001b[0m\u001b[0;34m.\u001b[0m\u001b[0m_wait_for_tstate_lock\u001b[0m\u001b[0;34m(\u001b[0m\u001b[0;34m)\u001b[0m\u001b[0;34m\u001b[0m\u001b[0;34m\u001b[0m\u001b[0m\n\u001b[0m\u001b[1;32m   1120\u001b[0m         \u001b[0;32melse\u001b[0m\u001b[0;34m:\u001b[0m\u001b[0;34m\u001b[0m\u001b[0;34m\u001b[0m\u001b[0m\n",
            "\u001b[0;32m/usr/lib/python3.11/threading.py\u001b[0m in \u001b[0;36m_wait_for_tstate_lock\u001b[0;34m(self, block, timeout)\u001b[0m\n\u001b[1;32m   1138\u001b[0m         \u001b[0;32mtry\u001b[0m\u001b[0;34m:\u001b[0m\u001b[0;34m\u001b[0m\u001b[0;34m\u001b[0m\u001b[0m\n\u001b[0;32m-> 1139\u001b[0;31m             \u001b[0;32mif\u001b[0m \u001b[0mlock\u001b[0m\u001b[0;34m.\u001b[0m\u001b[0macquire\u001b[0m\u001b[0;34m(\u001b[0m\u001b[0mblock\u001b[0m\u001b[0;34m,\u001b[0m \u001b[0mtimeout\u001b[0m\u001b[0;34m)\u001b[0m\u001b[0;34m:\u001b[0m\u001b[0;34m\u001b[0m\u001b[0;34m\u001b[0m\u001b[0m\n\u001b[0m\u001b[1;32m   1140\u001b[0m                 \u001b[0mlock\u001b[0m\u001b[0;34m.\u001b[0m\u001b[0mrelease\u001b[0m\u001b[0;34m(\u001b[0m\u001b[0;34m)\u001b[0m\u001b[0;34m\u001b[0m\u001b[0;34m\u001b[0m\u001b[0m\n",
            "\u001b[0;31mKeyboardInterrupt\u001b[0m: ",
            "\nDuring handling of the above exception, another exception occurred:\n",
            "\u001b[0;31mAttributeError\u001b[0m                            Traceback (most recent call last)",
            "\u001b[0;32m/usr/local/lib/python3.11/dist-packages/IPython/core/interactiveshell.py\u001b[0m in \u001b[0;36mshowtraceback\u001b[0;34m(self, exc_tuple, filename, tb_offset, exception_only, running_compiled_code)\u001b[0m\n\u001b[1;32m   2098\u001b[0m                         \u001b[0;31m# in the engines. This should return a list of strings.\u001b[0m\u001b[0;34m\u001b[0m\u001b[0;34m\u001b[0m\u001b[0m\n\u001b[0;32m-> 2099\u001b[0;31m                         \u001b[0mstb\u001b[0m \u001b[0;34m=\u001b[0m \u001b[0mvalue\u001b[0m\u001b[0;34m.\u001b[0m\u001b[0m_render_traceback_\u001b[0m\u001b[0;34m(\u001b[0m\u001b[0;34m)\u001b[0m\u001b[0;34m\u001b[0m\u001b[0;34m\u001b[0m\u001b[0m\n\u001b[0m\u001b[1;32m   2100\u001b[0m                     \u001b[0;32mexcept\u001b[0m \u001b[0mException\u001b[0m\u001b[0;34m:\u001b[0m\u001b[0;34m\u001b[0m\u001b[0;34m\u001b[0m\u001b[0m\n",
            "\u001b[0;31mAttributeError\u001b[0m: 'KeyboardInterrupt' object has no attribute '_render_traceback_'",
            "\nDuring handling of the above exception, another exception occurred:\n",
            "\u001b[0;31mTypeError\u001b[0m                                 Traceback (most recent call last)",
            "    \u001b[0;31m[... skipping hidden 1 frame]\u001b[0m\n",
            "\u001b[0;32m/usr/local/lib/python3.11/dist-packages/IPython/core/interactiveshell.py\u001b[0m in \u001b[0;36mshowtraceback\u001b[0;34m(self, exc_tuple, filename, tb_offset, exception_only, running_compiled_code)\u001b[0m\n\u001b[1;32m   2099\u001b[0m                         \u001b[0mstb\u001b[0m \u001b[0;34m=\u001b[0m \u001b[0mvalue\u001b[0m\u001b[0;34m.\u001b[0m\u001b[0m_render_traceback_\u001b[0m\u001b[0;34m(\u001b[0m\u001b[0;34m)\u001b[0m\u001b[0;34m\u001b[0m\u001b[0;34m\u001b[0m\u001b[0m\n\u001b[1;32m   2100\u001b[0m                     \u001b[0;32mexcept\u001b[0m \u001b[0mException\u001b[0m\u001b[0;34m:\u001b[0m\u001b[0;34m\u001b[0m\u001b[0;34m\u001b[0m\u001b[0m\n\u001b[0;32m-> 2101\u001b[0;31m                         stb = self.InteractiveTB.structured_traceback(etype,\n\u001b[0m\u001b[1;32m   2102\u001b[0m                                             value, tb, tb_offset=tb_offset)\n\u001b[1;32m   2103\u001b[0m \u001b[0;34m\u001b[0m\u001b[0m\n",
            "\u001b[0;32m/usr/local/lib/python3.11/dist-packages/IPython/core/ultratb.py\u001b[0m in \u001b[0;36mstructured_traceback\u001b[0;34m(self, etype, value, tb, tb_offset, number_of_lines_of_context)\u001b[0m\n\u001b[1;32m   1365\u001b[0m         \u001b[0;32melse\u001b[0m\u001b[0;34m:\u001b[0m\u001b[0;34m\u001b[0m\u001b[0;34m\u001b[0m\u001b[0m\n\u001b[1;32m   1366\u001b[0m             \u001b[0mself\u001b[0m\u001b[0;34m.\u001b[0m\u001b[0mtb\u001b[0m \u001b[0;34m=\u001b[0m \u001b[0mtb\u001b[0m\u001b[0;34m\u001b[0m\u001b[0;34m\u001b[0m\u001b[0m\n\u001b[0;32m-> 1367\u001b[0;31m         return FormattedTB.structured_traceback(\n\u001b[0m\u001b[1;32m   1368\u001b[0m             self, etype, value, tb, tb_offset, number_of_lines_of_context)\n\u001b[1;32m   1369\u001b[0m \u001b[0;34m\u001b[0m\u001b[0m\n",
            "\u001b[0;32m/usr/local/lib/python3.11/dist-packages/IPython/core/ultratb.py\u001b[0m in \u001b[0;36mstructured_traceback\u001b[0;34m(self, etype, value, tb, tb_offset, number_of_lines_of_context)\u001b[0m\n\u001b[1;32m   1265\u001b[0m         \u001b[0;32mif\u001b[0m \u001b[0mmode\u001b[0m \u001b[0;32min\u001b[0m \u001b[0mself\u001b[0m\u001b[0;34m.\u001b[0m\u001b[0mverbose_modes\u001b[0m\u001b[0;34m:\u001b[0m\u001b[0;34m\u001b[0m\u001b[0;34m\u001b[0m\u001b[0m\n\u001b[1;32m   1266\u001b[0m             \u001b[0;31m# Verbose modes need a full traceback\u001b[0m\u001b[0;34m\u001b[0m\u001b[0;34m\u001b[0m\u001b[0m\n\u001b[0;32m-> 1267\u001b[0;31m             return VerboseTB.structured_traceback(\n\u001b[0m\u001b[1;32m   1268\u001b[0m                 \u001b[0mself\u001b[0m\u001b[0;34m,\u001b[0m \u001b[0metype\u001b[0m\u001b[0;34m,\u001b[0m \u001b[0mvalue\u001b[0m\u001b[0;34m,\u001b[0m \u001b[0mtb\u001b[0m\u001b[0;34m,\u001b[0m \u001b[0mtb_offset\u001b[0m\u001b[0;34m,\u001b[0m \u001b[0mnumber_of_lines_of_context\u001b[0m\u001b[0;34m\u001b[0m\u001b[0;34m\u001b[0m\u001b[0m\n\u001b[1;32m   1269\u001b[0m             )\n",
            "\u001b[0;32m/usr/local/lib/python3.11/dist-packages/IPython/core/ultratb.py\u001b[0m in \u001b[0;36mstructured_traceback\u001b[0;34m(self, etype, evalue, etb, tb_offset, number_of_lines_of_context)\u001b[0m\n\u001b[1;32m   1122\u001b[0m         \u001b[0;34m\"\"\"Return a nice text document describing the traceback.\"\"\"\u001b[0m\u001b[0;34m\u001b[0m\u001b[0;34m\u001b[0m\u001b[0m\n\u001b[1;32m   1123\u001b[0m \u001b[0;34m\u001b[0m\u001b[0m\n\u001b[0;32m-> 1124\u001b[0;31m         formatted_exception = self.format_exception_as_a_whole(etype, evalue, etb, number_of_lines_of_context,\n\u001b[0m\u001b[1;32m   1125\u001b[0m                                                                tb_offset)\n\u001b[1;32m   1126\u001b[0m \u001b[0;34m\u001b[0m\u001b[0m\n",
            "\u001b[0;32m/usr/local/lib/python3.11/dist-packages/IPython/core/ultratb.py\u001b[0m in \u001b[0;36mformat_exception_as_a_whole\u001b[0;34m(self, etype, evalue, etb, number_of_lines_of_context, tb_offset)\u001b[0m\n\u001b[1;32m   1080\u001b[0m \u001b[0;34m\u001b[0m\u001b[0m\n\u001b[1;32m   1081\u001b[0m \u001b[0;34m\u001b[0m\u001b[0m\n\u001b[0;32m-> 1082\u001b[0;31m         \u001b[0mlast_unique\u001b[0m\u001b[0;34m,\u001b[0m \u001b[0mrecursion_repeat\u001b[0m \u001b[0;34m=\u001b[0m \u001b[0mfind_recursion\u001b[0m\u001b[0;34m(\u001b[0m\u001b[0morig_etype\u001b[0m\u001b[0;34m,\u001b[0m \u001b[0mevalue\u001b[0m\u001b[0;34m,\u001b[0m \u001b[0mrecords\u001b[0m\u001b[0;34m)\u001b[0m\u001b[0;34m\u001b[0m\u001b[0;34m\u001b[0m\u001b[0m\n\u001b[0m\u001b[1;32m   1083\u001b[0m \u001b[0;34m\u001b[0m\u001b[0m\n\u001b[1;32m   1084\u001b[0m         \u001b[0mframes\u001b[0m \u001b[0;34m=\u001b[0m \u001b[0mself\u001b[0m\u001b[0;34m.\u001b[0m\u001b[0mformat_records\u001b[0m\u001b[0;34m(\u001b[0m\u001b[0mrecords\u001b[0m\u001b[0;34m,\u001b[0m \u001b[0mlast_unique\u001b[0m\u001b[0;34m,\u001b[0m \u001b[0mrecursion_repeat\u001b[0m\u001b[0;34m)\u001b[0m\u001b[0;34m\u001b[0m\u001b[0;34m\u001b[0m\u001b[0m\n",
            "\u001b[0;32m/usr/local/lib/python3.11/dist-packages/IPython/core/ultratb.py\u001b[0m in \u001b[0;36mfind_recursion\u001b[0;34m(etype, value, records)\u001b[0m\n\u001b[1;32m    380\u001b[0m     \u001b[0;31m# first frame (from in to out) that looks different.\u001b[0m\u001b[0;34m\u001b[0m\u001b[0;34m\u001b[0m\u001b[0m\n\u001b[1;32m    381\u001b[0m     \u001b[0;32mif\u001b[0m \u001b[0;32mnot\u001b[0m \u001b[0mis_recursion_error\u001b[0m\u001b[0;34m(\u001b[0m\u001b[0metype\u001b[0m\u001b[0;34m,\u001b[0m \u001b[0mvalue\u001b[0m\u001b[0;34m,\u001b[0m \u001b[0mrecords\u001b[0m\u001b[0;34m)\u001b[0m\u001b[0;34m:\u001b[0m\u001b[0;34m\u001b[0m\u001b[0;34m\u001b[0m\u001b[0m\n\u001b[0;32m--> 382\u001b[0;31m         \u001b[0;32mreturn\u001b[0m \u001b[0mlen\u001b[0m\u001b[0;34m(\u001b[0m\u001b[0mrecords\u001b[0m\u001b[0;34m)\u001b[0m\u001b[0;34m,\u001b[0m \u001b[0;36m0\u001b[0m\u001b[0;34m\u001b[0m\u001b[0;34m\u001b[0m\u001b[0m\n\u001b[0m\u001b[1;32m    383\u001b[0m \u001b[0;34m\u001b[0m\u001b[0m\n\u001b[1;32m    384\u001b[0m     \u001b[0;31m# Select filename, lineno, func_name to track frames with\u001b[0m\u001b[0;34m\u001b[0m\u001b[0;34m\u001b[0m\u001b[0m\n",
            "\u001b[0;31mTypeError\u001b[0m: object of type 'NoneType' has no len()"
          ]
        }
      ]
    },
    {
      "cell_type": "code",
      "source": [
        "def extract_book_reviews(subject):\n",
        "    '''\n",
        "    Extracts book reviews by categories (columns), paired with a percentage value. Returns a dataframe of books and\n",
        "    '''\n",
        "    subject_link = f'https://openlibrary.org/search?subject={subject}'\n",
        "    response = requests.get(subject_link)\n",
        "    soup = BeautifulSoup(response.text, 'html.parser')\n",
        "\n",
        "    # extract book titles\n",
        "    book_titles = every_book(subject) # make sure that the every_book function works\n",
        "\n",
        "    # extract community reviews\n",
        "    community_reviews = [x.get_text() for x in soup.select(\"span.reviews__value\")]\n",
        "    community_data = [re.search(r'\\s*(\\w[\\w\\s]*)',x).group(1).strip() for x in community_reviews]\n",
        "\n",
        "    # extract percentages\n",
        "    review_percentage = [x.get_text() for x in soup.select(\"span.percentage\")]\n",
        "    percentage_data = [re.search(r'\\s*(\\w[\\w\\s]*)',x).group(1).strip() for x in review_percentage]\n",
        "\n",
        "    # ensure that community reviews and percentages (lists) are the same length\n",
        "    if len(community_data) != len(percentage_data):\n",
        "        print(\"The reviews and percentages do not match.\")\n",
        "\n",
        "    # find number of reviews\n",
        "    number_of_reviews = [x.get_text() for x in soup.select(\"h2.observation-title\")]\n",
        "    number_of_reviews = [re.search(r'\\((\\d+)\\)',x).group(1).strip() for x in number_of_reviews]\n",
        "\n",
        "    # create an empty dict\n",
        "    book_dict = {}\n",
        "\n",
        "    # convert the community reviews and percentages into a dictionary\n",
        "    for i in range(len(book_titles)): #loop through books\n",
        "        review_dict = {'Title' : book_titles[i]}\n",
        "\n",
        "        for j in range(len(community_data)):\n",
        "            categories = community_data[j]\n",
        "            percentage_value = review_percentage[j]\n",
        "\n",
        "            review_dict[categories] = percentage_value\n",
        "\n",
        "        book_dict.append(review_dict)\n",
        "\n",
        "    # convert the dictionary into dataframe\n",
        "    df = pd.Dataframe(book_dict)\n",
        "\n",
        "    # return the dataframe\n",
        "    return df\n",
        "\n",
        "data_frame = extract_book_reviews('romance')\n",
        "data_frame.head()"
      ],
      "metadata": {
        "id": "Q7UnUNkyT-2f",
        "outputId": "29cdc20d-1803-484e-fc65-a7352b8bae66",
        "colab": {
          "base_uri": "https://localhost:8080/",
          "height": 323
        }
      },
      "execution_count": null,
      "outputs": [
        {
          "output_type": "error",
          "ename": "NameError",
          "evalue": "name 'every_book' is not defined",
          "traceback": [
            "\u001b[0;31m---------------------------------------------------------------------------\u001b[0m",
            "\u001b[0;31mNameError\u001b[0m                                 Traceback (most recent call last)",
            "\u001b[0;32m<ipython-input-35-cfa4e4705b81>\u001b[0m in \u001b[0;36m<cell line: 0>\u001b[0;34m()\u001b[0m\n\u001b[1;32m     47\u001b[0m     \u001b[0;32mreturn\u001b[0m \u001b[0mdf\u001b[0m\u001b[0;34m\u001b[0m\u001b[0;34m\u001b[0m\u001b[0m\n\u001b[1;32m     48\u001b[0m \u001b[0;34m\u001b[0m\u001b[0m\n\u001b[0;32m---> 49\u001b[0;31m \u001b[0mdata_frame\u001b[0m \u001b[0;34m=\u001b[0m \u001b[0mextract_book_reviews\u001b[0m\u001b[0;34m(\u001b[0m\u001b[0;34m'romance'\u001b[0m\u001b[0;34m)\u001b[0m\u001b[0;34m\u001b[0m\u001b[0;34m\u001b[0m\u001b[0m\n\u001b[0m\u001b[1;32m     50\u001b[0m \u001b[0mdata_frame\u001b[0m\u001b[0;34m.\u001b[0m\u001b[0mhead\u001b[0m\u001b[0;34m(\u001b[0m\u001b[0;34m)\u001b[0m\u001b[0;34m\u001b[0m\u001b[0;34m\u001b[0m\u001b[0m\n",
            "\u001b[0;32m<ipython-input-35-cfa4e4705b81>\u001b[0m in \u001b[0;36mextract_book_reviews\u001b[0;34m(subject)\u001b[0m\n\u001b[1;32m      8\u001b[0m \u001b[0;34m\u001b[0m\u001b[0m\n\u001b[1;32m      9\u001b[0m     \u001b[0;31m# extract book titles\u001b[0m\u001b[0;34m\u001b[0m\u001b[0;34m\u001b[0m\u001b[0m\n\u001b[0;32m---> 10\u001b[0;31m     \u001b[0mbook_titles\u001b[0m \u001b[0;34m=\u001b[0m \u001b[0mevery_book\u001b[0m\u001b[0;34m(\u001b[0m\u001b[0msubject\u001b[0m\u001b[0;34m)\u001b[0m \u001b[0;31m# make sure that the every_book function works\u001b[0m\u001b[0;34m\u001b[0m\u001b[0;34m\u001b[0m\u001b[0m\n\u001b[0m\u001b[1;32m     11\u001b[0m \u001b[0;34m\u001b[0m\u001b[0m\n\u001b[1;32m     12\u001b[0m     \u001b[0;31m# extract community reviews\u001b[0m\u001b[0;34m\u001b[0m\u001b[0;34m\u001b[0m\u001b[0m\n",
            "\u001b[0;31mNameError\u001b[0m: name 'every_book' is not defined"
          ]
        }
      ]
    },
    {
      "cell_type": "code",
      "source": [
        "community_reviews = [x.get_text() for x in soup.select(\"span.reviews__value\")]\n",
        "community_data = [re.search(r'\\s*(\\w[\\w\\s]*)',x).group(1).strip() for x in community_reviews]\n",
        "print(community_reviews)"
      ],
      "metadata": {
        "id": "_I8Ds79-gFwY",
        "outputId": "130b8927-aacf-47af-c122-1bbe413a0e16",
        "colab": {
          "base_uri": "https://localhost:8080/"
        }
      },
      "execution_count": null,
      "outputs": [
        {
          "output_type": "stream",
          "name": "stdout",
          "text": [
            "[]\n"
          ]
        }
      ]
    },
    {
      "cell_type": "code",
      "source": [
        "community_reviews = [x.get_text() for x in soup.select(\"span.reviews__value\")]\n",
        "community_data = [re.search(r'\\s*(\\w[\\w\\s]*)',x).group(1).strip() for x in community_reviews]\n",
        "\n",
        "review_percentage = [x.get_text() for x in soup.select(\"span.percentage\")]\n",
        "percentage_data = [re.search(r'\\s*(\\w[\\w\\s]*)',x).group(1).strip() for x in review_percentage]\n",
        "\n",
        "import pandas as pd\n",
        "df = pd.DataFrame(data = {\n",
        "    \"Review\" : community_data,\n",
        "    \"Ratings\" : percentage_data\n",
        "   # \"Number of Reviews\" : number_of_reviews\n",
        "\n",
        "})\n",
        "df"
      ],
      "metadata": {
        "id": "5E8Sh4l432HN",
        "outputId": "240c850c-efca-47d3-9f75-61298e8c6d0c",
        "colab": {
          "base_uri": "https://localhost:8080/",
          "height": 89
        }
      },
      "execution_count": null,
      "outputs": [
        {
          "output_type": "execute_result",
          "data": {
            "text/plain": [
              "Empty DataFrame\n",
              "Columns: [Review, Ratings]\n",
              "Index: []"
            ],
            "text/html": [
              "\n",
              "  <div id=\"df-1100f254-6520-4329-b95a-906a04157c4d\" class=\"colab-df-container\">\n",
              "    <div>\n",
              "<style scoped>\n",
              "    .dataframe tbody tr th:only-of-type {\n",
              "        vertical-align: middle;\n",
              "    }\n",
              "\n",
              "    .dataframe tbody tr th {\n",
              "        vertical-align: top;\n",
              "    }\n",
              "\n",
              "    .dataframe thead th {\n",
              "        text-align: right;\n",
              "    }\n",
              "</style>\n",
              "<table border=\"1\" class=\"dataframe\">\n",
              "  <thead>\n",
              "    <tr style=\"text-align: right;\">\n",
              "      <th></th>\n",
              "      <th>Review</th>\n",
              "      <th>Ratings</th>\n",
              "    </tr>\n",
              "  </thead>\n",
              "  <tbody>\n",
              "  </tbody>\n",
              "</table>\n",
              "</div>\n",
              "    <div class=\"colab-df-buttons\">\n",
              "\n",
              "  <div class=\"colab-df-container\">\n",
              "    <button class=\"colab-df-convert\" onclick=\"convertToInteractive('df-1100f254-6520-4329-b95a-906a04157c4d')\"\n",
              "            title=\"Convert this dataframe to an interactive table.\"\n",
              "            style=\"display:none;\">\n",
              "\n",
              "  <svg xmlns=\"http://www.w3.org/2000/svg\" height=\"24px\" viewBox=\"0 -960 960 960\">\n",
              "    <path d=\"M120-120v-720h720v720H120Zm60-500h600v-160H180v160Zm220 220h160v-160H400v160Zm0 220h160v-160H400v160ZM180-400h160v-160H180v160Zm440 0h160v-160H620v160ZM180-180h160v-160H180v160Zm440 0h160v-160H620v160Z\"/>\n",
              "  </svg>\n",
              "    </button>\n",
              "\n",
              "  <style>\n",
              "    .colab-df-container {\n",
              "      display:flex;\n",
              "      gap: 12px;\n",
              "    }\n",
              "\n",
              "    .colab-df-convert {\n",
              "      background-color: #E8F0FE;\n",
              "      border: none;\n",
              "      border-radius: 50%;\n",
              "      cursor: pointer;\n",
              "      display: none;\n",
              "      fill: #1967D2;\n",
              "      height: 32px;\n",
              "      padding: 0 0 0 0;\n",
              "      width: 32px;\n",
              "    }\n",
              "\n",
              "    .colab-df-convert:hover {\n",
              "      background-color: #E2EBFA;\n",
              "      box-shadow: 0px 1px 2px rgba(60, 64, 67, 0.3), 0px 1px 3px 1px rgba(60, 64, 67, 0.15);\n",
              "      fill: #174EA6;\n",
              "    }\n",
              "\n",
              "    .colab-df-buttons div {\n",
              "      margin-bottom: 4px;\n",
              "    }\n",
              "\n",
              "    [theme=dark] .colab-df-convert {\n",
              "      background-color: #3B4455;\n",
              "      fill: #D2E3FC;\n",
              "    }\n",
              "\n",
              "    [theme=dark] .colab-df-convert:hover {\n",
              "      background-color: #434B5C;\n",
              "      box-shadow: 0px 1px 3px 1px rgba(0, 0, 0, 0.15);\n",
              "      filter: drop-shadow(0px 1px 2px rgba(0, 0, 0, 0.3));\n",
              "      fill: #FFFFFF;\n",
              "    }\n",
              "  </style>\n",
              "\n",
              "    <script>\n",
              "      const buttonEl =\n",
              "        document.querySelector('#df-1100f254-6520-4329-b95a-906a04157c4d button.colab-df-convert');\n",
              "      buttonEl.style.display =\n",
              "        google.colab.kernel.accessAllowed ? 'block' : 'none';\n",
              "\n",
              "      async function convertToInteractive(key) {\n",
              "        const element = document.querySelector('#df-1100f254-6520-4329-b95a-906a04157c4d');\n",
              "        const dataTable =\n",
              "          await google.colab.kernel.invokeFunction('convertToInteractive',\n",
              "                                                    [key], {});\n",
              "        if (!dataTable) return;\n",
              "\n",
              "        const docLinkHtml = 'Like what you see? Visit the ' +\n",
              "          '<a target=\"_blank\" href=https://colab.research.google.com/notebooks/data_table.ipynb>data table notebook</a>'\n",
              "          + ' to learn more about interactive tables.';\n",
              "        element.innerHTML = '';\n",
              "        dataTable['output_type'] = 'display_data';\n",
              "        await google.colab.output.renderOutput(dataTable, element);\n",
              "        const docLink = document.createElement('div');\n",
              "        docLink.innerHTML = docLinkHtml;\n",
              "        element.appendChild(docLink);\n",
              "      }\n",
              "    </script>\n",
              "  </div>\n",
              "\n",
              "\n",
              "  <div id=\"id_bd12ce8d-2131-4861-854c-d736bdb28b6b\">\n",
              "    <style>\n",
              "      .colab-df-generate {\n",
              "        background-color: #E8F0FE;\n",
              "        border: none;\n",
              "        border-radius: 50%;\n",
              "        cursor: pointer;\n",
              "        display: none;\n",
              "        fill: #1967D2;\n",
              "        height: 32px;\n",
              "        padding: 0 0 0 0;\n",
              "        width: 32px;\n",
              "      }\n",
              "\n",
              "      .colab-df-generate:hover {\n",
              "        background-color: #E2EBFA;\n",
              "        box-shadow: 0px 1px 2px rgba(60, 64, 67, 0.3), 0px 1px 3px 1px rgba(60, 64, 67, 0.15);\n",
              "        fill: #174EA6;\n",
              "      }\n",
              "\n",
              "      [theme=dark] .colab-df-generate {\n",
              "        background-color: #3B4455;\n",
              "        fill: #D2E3FC;\n",
              "      }\n",
              "\n",
              "      [theme=dark] .colab-df-generate:hover {\n",
              "        background-color: #434B5C;\n",
              "        box-shadow: 0px 1px 3px 1px rgba(0, 0, 0, 0.15);\n",
              "        filter: drop-shadow(0px 1px 2px rgba(0, 0, 0, 0.3));\n",
              "        fill: #FFFFFF;\n",
              "      }\n",
              "    </style>\n",
              "    <button class=\"colab-df-generate\" onclick=\"generateWithVariable('df')\"\n",
              "            title=\"Generate code using this dataframe.\"\n",
              "            style=\"display:none;\">\n",
              "\n",
              "  <svg xmlns=\"http://www.w3.org/2000/svg\" height=\"24px\"viewBox=\"0 0 24 24\"\n",
              "       width=\"24px\">\n",
              "    <path d=\"M7,19H8.4L18.45,9,17,7.55,7,17.6ZM5,21V16.75L18.45,3.32a2,2,0,0,1,2.83,0l1.4,1.43a1.91,1.91,0,0,1,.58,1.4,1.91,1.91,0,0,1-.58,1.4L9.25,21ZM18.45,9,17,7.55Zm-12,3A5.31,5.31,0,0,0,4.9,8.1,5.31,5.31,0,0,0,1,6.5,5.31,5.31,0,0,0,4.9,4.9,5.31,5.31,0,0,0,6.5,1,5.31,5.31,0,0,0,8.1,4.9,5.31,5.31,0,0,0,12,6.5,5.46,5.46,0,0,0,6.5,12Z\"/>\n",
              "  </svg>\n",
              "    </button>\n",
              "    <script>\n",
              "      (() => {\n",
              "      const buttonEl =\n",
              "        document.querySelector('#id_bd12ce8d-2131-4861-854c-d736bdb28b6b button.colab-df-generate');\n",
              "      buttonEl.style.display =\n",
              "        google.colab.kernel.accessAllowed ? 'block' : 'none';\n",
              "\n",
              "      buttonEl.onclick = () => {\n",
              "        google.colab.notebook.generateWithVariable('df');\n",
              "      }\n",
              "      })();\n",
              "    </script>\n",
              "  </div>\n",
              "\n",
              "    </div>\n",
              "  </div>\n"
            ],
            "application/vnd.google.colaboratory.intrinsic+json": {
              "type": "dataframe",
              "variable_name": "df",
              "summary": "{\n  \"name\": \"df\",\n  \"rows\": 0,\n  \"fields\": [\n    {\n      \"column\": \"Review\",\n      \"properties\": {\n        \"dtype\": \"number\",\n        \"std\": null,\n        \"min\": null,\n        \"max\": null,\n        \"num_unique_values\": 0,\n        \"samples\": [],\n        \"semantic_type\": \"\",\n        \"description\": \"\"\n      }\n    },\n    {\n      \"column\": \"Ratings\",\n      \"properties\": {\n        \"dtype\": \"number\",\n        \"std\": null,\n        \"min\": null,\n        \"max\": null,\n        \"num_unique_values\": 0,\n        \"samples\": [],\n        \"semantic_type\": \"\",\n        \"description\": \"\"\n      }\n    }\n  ]\n}"
            }
          },
          "metadata": {},
          "execution_count": 22
        }
      ]
    },
    {
      "cell_type": "code",
      "source": [
        "number_of_reviews = [x.get_text() for x in soup.select(\"h2.observation-title\")]\n",
        "number_of_reviews = [re.search(r'\\((\\d+)\\)',x).group(1).strip() for x in number_of_reviews]"
      ],
      "metadata": {
        "id": "-JzidLVjQbTZ"
      },
      "execution_count": null,
      "outputs": []
    },
    {
      "cell_type": "code",
      "source": [
        "book_button1 = [x.get_text() for x in soup.select('h3', class_= 'booktitle')]\n",
        "book_button2 = [x.get_text() for x in soup.select('div', class_= 'book-cover')]\n"
      ],
      "metadata": {
        "id": "Mrb3gcOuSWV4"
      },
      "execution_count": null,
      "outputs": []
    },
    {
      "cell_type": "markdown",
      "source": [
        "May need:\n",
        "\n",
        "1. List of books that we like\n",
        "2. Books in general (found above)\n",
        "\n",
        "We can use both data to recommend books we might like (haven't read yet) - do this by finding all users who like the same books as us and then seeing what other books they like. We'll use those results to create that recommendation"
      ],
      "metadata": {
        "id": "xgoxM1_USK87"
      }
    },
    {
      "cell_type": "markdown",
      "source": [
        "## Collaborative Filtering\n",
        "\n",
        "We only want to see books that have been reviewed more than 15 times."
      ],
      "metadata": {
        "id": "2f6ALMulU2dX"
      }
    },
    {
      "cell_type": "markdown",
      "source": [
        "# What to do next:\n",
        "1. Build ML model\n",
        "  - training data: csv file containing books in a specific genre?\n",
        "  - testing data: our prediction now?\n",
        "\n",
        "2. Approaches to consider:\n",
        "  - Collaborative Filtering (based on user ratings, user reviews e.g. Goodreads)\n",
        "  - Content-Based Filtering (based on genre, content description, etc.)\n",
        "  - Combination of both Filtering Methods\n",
        "\n",
        "3. Define Training Data\n",
        "  - What should the csv file include?\n",
        "    1. Book Information: Book ID, Title, Author, Genres, Description\n",
        "    2. User Ratings: User ID, Book ID, Rating, User Reviews\n",
        "\n",
        "4. Machine Learning Models to consider:\n",
        "  - Content-Based Filtering: Book descriptions and genres\n",
        "      - TF-IDF (Term Frequency-Inverse Document Frequency): evaluates the importance of a word in a document : https://www.geeksforgeeks.org/understanding-tf-idf-term-frequency-inverse-document-frequency/\n",
        "      - Sci-Kit Learn: classifiers, feature-extraction\n",
        "  - Collaborative Filtering: User ratings and reviews\n",
        "      - Single Value Decomposition (SVD): can decompose a matrix into 3 matrices, good for ratings: https://www.geeksforgeeks.org/singular-value-decomposition-svd/\n",
        "  - From surprise: https://surpriselib.com/\n",
        "\n",
        "\n",
        "5. Hybrid model\n",
        "  - Step 1: Get the top books for the user through collaborative filtering\n",
        "  - Step 2: Find the most similar books through content based filtering\n",
        "  - Step 3: Return the list of recommended books\n",
        "\n"
      ],
      "metadata": {
        "id": "HR4rZxUZpVip"
      }
    },
    {
      "cell_type": "code",
      "source": [
        "# create dataframe (csv file) of books\n"
      ],
      "metadata": {
        "id": "tGkFgL_EdXuG"
      },
      "execution_count": null,
      "outputs": []
    },
    {
      "cell_type": "code",
      "source": [
        "# import SVD, import test train split\n",
        "from surprise import SVD\n",
        "from surprise.model_selection import test_train_split"
      ],
      "metadata": {
        "id": "zd3enYEiObCu"
      },
      "execution_count": null,
      "outputs": []
    }
  ]
}