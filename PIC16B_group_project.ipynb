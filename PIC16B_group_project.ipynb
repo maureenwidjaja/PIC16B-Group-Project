{
  "nbformat": 4,
  "nbformat_minor": 0,
  "metadata": {
    "colab": {
      "provenance": [],
      "include_colab_link": true
    },
    "kernelspec": {
      "name": "python3",
      "display_name": "Python 3"
    },
    "language_info": {
      "name": "python"
    }
  },
  "cells": [
    {
      "cell_type": "markdown",
      "metadata": {
        "id": "view-in-github",
        "colab_type": "text"
      },
      "source": [
        "<a href=\"https://colab.research.google.com/github/maureenwidjaja/PIC16B-Group-Project/blob/main/PIC16B_group_project.ipynb\" target=\"_parent\"><img src=\"https://colab.research.google.com/assets/colab-badge.svg\" alt=\"Open In Colab\"/></a>"
      ]
    },
    {
      "cell_type": "markdown",
      "source": [
        "# Step 1: Scrape Books Using Open Library API\n",
        "- get by 'Subject' name ->> can be anything, e.g. \"fantasy\" etc.\n",
        "\n"
      ],
      "metadata": {
        "id": "V6SXWqgrdAI-"
      }
    },
    {
      "cell_type": "code",
      "execution_count": 1,
      "metadata": {
        "id": "3cfBooOJcRHn"
      },
      "outputs": [],
      "source": [
        "import requests\n",
        "import matplotlib.pyplot as plt\n",
        "import seaborn as sns\n",
        "import json\n",
        "import pandas as pd\n",
        "import numpy as np"
      ]
    },
    {
      "cell_type": "code",
      "source": [
        "import requests\n",
        "\n",
        "def get_books_by_subject(subject, limit, details=True, ebooks=False, published_in=None, offset=0):\n",
        "    '''\n",
        "    Args:\n",
        "    details: if True, includes related subjects, prolific authors, and publishers.\n",
        "    ebooks: if True,  filters for books with e-books.\n",
        "    published_in: filters by publication year.\n",
        "                  For example:\n",
        "                  http://openlibrary.org/subjects/love.json?published_in=1500-1600\n",
        "    limit: num of works to include in the response, controls pagination.\n",
        "    offset: starting offset in the total works, controls pagination.\n",
        "    '''\n",
        "\n",
        "    if (limit <= 0):\n",
        "      print(\"Enter a limit input\")\n",
        "      return\n",
        "\n",
        "    # Differentiate between gere\n",
        "    genre_fantasy = [\"magic\", \"adventure\", \"fairy tale\", \"epic fantasy\",\n",
        "              \"illusion\", \"legend\", \"wizards\", \"dragons\", \"heroes\"]\n",
        "    genre_literary_fiction = [\"literary\", \"prose\", \"literary fiction\"]\n",
        "    genre_historical_fiction = [\"period\", \"historical\", \"ancient\",\n",
        "                                \"medieval\", \"war\", \"past\", \"historical fiction\"]\n",
        "    genre_sci_fi = [\"space\", \"future\", \"technology\", \"aliens\", \"robots\",\n",
        "                    \"cyberpunk\", \"time travel\", \"dystopia\", \"starships\",\n",
        "                    \"extraterrestrial\"]\n",
        "    genre_mystery = [\"detective\", \"investigation\", \"secrets\", \"puzzle\", \"crime\",\n",
        "                     \"suspect\"]\n",
        "    genre_thriller = [\"suspense\", \"intense\", \"action\", \"plot twist\", \"chase\",\n",
        "                      \"danger\", \"mystery\", \"cliffhanger\", \"adrenaline\", \"crime\"]\n",
        "    genre_horror = [\"fear\", \"supernatural\", \"monsters\", \"ghosts\", \"psychological\",\n",
        "                    \"terror\", \"darkness\", \"haunted\", \"death\", \"creepy\"]\n",
        "\n",
        "\n",
        "\n",
        "\n",
        "\n",
        "\n",
        "\n",
        "\n",
        "\n",
        "\n",
        "    # Creates the API endpoint URL using the subject provided.\n",
        "    base_url = (f'https://openlibrary.org/subjects/{subject}.json')\n",
        "\n",
        "    # Dict to store query parameters.\n",
        "    params = {\n",
        "        \"limit\": limit,\n",
        "        \"offset\": offset\n",
        "    }\n",
        "\n",
        "    # Check if details are \"true\", it will be added to the API request\n",
        "    if details:\n",
        "        params[\"details\"] = \"true\"\n",
        "    if ebooks:\n",
        "        params[\"ebooks\"] = \"true\"\n",
        "    if published_in:\n",
        "        params[\"published_in\"] = published_in  # Example: \"2000-2020\"\n",
        "\n",
        "    # Sends an HTTP GET request to Open Library's API with the query parameters\n",
        "    # stored in params.\n",
        "    # The response is stored in response, which contains JSON data.\n",
        "    response = requests.get(base_url, params=params)\n",
        "\n",
        "    # Checks if the request was successful\n",
        "    if response.status_code == 200:\n",
        "      data = response.json()\n",
        "      # print(data)\n",
        "      # Retrieves the list of books (works).\n",
        "      # If missing, returns an empty list.\n",
        "      books = data.get(\"works\", [])\n",
        "\n",
        "    if not books:\n",
        "      print(\"No books found for this subject.\")\n",
        "      return\n",
        "\n",
        "    # Extract start and end year if range is given\n",
        "    start_year, end_year = None, None\n",
        "    if published_in and \"-\" in published_in:\n",
        "      # convert string into two integers, e.g: 1900 and 2000.\n",
        "      start_year, end_year = map(int, published_in.split(\"-\"))\n",
        "\n",
        "    print(f\"Books in {subject}:\")\n",
        "    for index, book in enumerate(books, start=1):\n",
        "      title = book.get(\"title\", \"Unknown Title\")\n",
        "      author = book[\"authors\"][0][\"name\"] if \"authors\" in book else \"Unknown Author\"\n",
        "      published_year = book.get(\"first_publish_year\", \"Unknown Year\")\n",
        "\n",
        "\n",
        "      # Ensure published year is an integer before filtering\n",
        "      if isinstance(published_year, int) and start_year and end_year:\n",
        "      # Ensure book publication is between range\n",
        "        if not (start_year <= published_year <= end_year):\n",
        "          # print(f\"- {title} by {author} ({published_year})\") checking\n",
        "          continue  # Skip books outside the range\n",
        "\n",
        "      print(f\"{index}. {title} by {author} ({published_year})\")\n",
        "\n",
        "\n",
        "\n"
      ],
      "metadata": {
        "id": "1TLeu2GJc-RB"
      },
      "execution_count": 17,
      "outputs": []
    },
    {
      "cell_type": "code",
      "source": [
        "\n",
        "# test cases:\n",
        "get_books_by_subject(\"love\", limit=20)"
      ],
      "metadata": {
        "id": "4IghBNZZrZ_0",
        "outputId": "c4e6ea90-cec9-4a9d-a73e-c38203192717",
        "colab": {
          "base_uri": "https://localhost:8080/"
        }
      },
      "execution_count": null,
      "outputs": [
        {
          "output_type": "stream",
          "name": "stdout",
          "text": [
            "Books in love:\n",
            "1. Wuthering Heights by Emily Brontë (1846)\n",
            "2. The Great Gatsby by F. Scott Fitzgerald (1920)\n",
            "3. Ethan Frome by Edith Wharton (1910)\n",
            "4. Romeo and Juliet by William Shakespeare (1597)\n",
            "5. Anna Karenina by Лев Толстой (1876)\n",
            "6. πολιτεία by Πλάτων (1554)\n",
            "7. Le Comte de Monte Cristo by Alexandre Dumas (1830)\n",
            "8. Sonnets by William Shakespeare (1609)\n",
            "9. As You Like It by William Shakespeare (1734)\n",
            "10. The Importance of Being Earnest by Oscar Wilde (1893)\n",
            "11. Chronicles of Avonlea by Lucy Maud Montgomery (1912)\n",
            "12. Le petit prince by Antoine de Saint-Exupéry (1943)\n",
            "13. Συμπόσιον by Πλάτων (1559)\n",
            "14. Cyrano de Bergerac by Edmond Rostand (1821)\n",
            "15. Rose in Bloom by Louisa May Alcott (1876)\n",
            "16. कामसूत्र by Mallanaga Vātsyāyana (1883)\n",
            "17. Vita nuova by Dante Alighieri (1829)\n",
            "18. Γοργίας by Πλάτων (1827)\n",
            "19. Works [37 plays, 6 poems, sonnets] by William Shakespeare (1730)\n",
            "20. Чайка by Антон Павлович Чехов (1915)\n"
          ]
        }
      ]
    },
    {
      "cell_type": "code",
      "source": [
        "get_books_by_subject(\"romance\", limit=30)"
      ],
      "metadata": {
        "id": "dPvBaC3jrM7r",
        "outputId": "03ebb40d-a8f4-4dd5-957b-74bdc5e30236",
        "colab": {
          "base_uri": "https://localhost:8080/"
        }
      },
      "execution_count": null,
      "outputs": [
        {
          "output_type": "stream",
          "name": "stdout",
          "text": [
            "Books in romance:\n",
            "1. Wuthering Heights by Emily Brontë (1846)\n",
            "2. Emma by Jane Austen (1815)\n",
            "3. Sense and Sensibility by Jane Austen (1811)\n",
            "4. Little Women by Louisa May Alcott (1848)\n",
            "5. Northanger Abbey by Jane Austen (1818)\n",
            "6. Ethan Frome by Edith Wharton (1910)\n",
            "7. Anna Karenina by Лев Толстой (1876)\n",
            "8. Le Comte de Monte Cristo by Alexandre Dumas (1830)\n",
            "9. Uncle Tom's Cabin by Harriet Beecher Stowe (1850)\n",
            "10. The Moonstone by Wilkie Collins (1868)\n",
            "11. Women in Love by David Herbert Lawrence (1877)\n",
            "12. This Side of Paradise by F. Scott Fitzgerald (1920)\n",
            "13. Cranford by Elizabeth Cleghorn Gaskell (1853)\n",
            "14. Heart of Darkness by Joseph Conrad (1899)\n",
            "15. Jude the Obscure by Thomas Hardy (1895)\n",
            "16. The Woodlanders by Thomas Hardy (1800)\n",
            "17. The pioneers by James Fenimore Cooper (1800)\n",
            "18. Under the Greenwood Tree or, The Mellstock quire by Thomas Hardy (1872)\n",
            "19. The Age of Innocence by Edith Wharton (1920)\n",
            "20. Framley Parsonage by Anthony Trollope (1861)\n",
            "21. Daisy Miller by Henry James (1877)\n",
            "22. कामसूत्र by Mallanaga Vātsyāyana (1883)\n",
            "23. Le rouge et le noir by Stendhal (1800)\n",
            "24. The Ambassadors by Henry James (1903)\n",
            "25. Far From the Madding Crowd by Thomas Hardy (1874)\n",
            "26. Washington Square by Henry James (1880)\n",
            "27. Poirot investigates by Agatha Christie (1924)\n",
            "28. The Return of the Native by Thomas Hardy (1878)\n",
            "29. A Room with a View by Edward Morgan Forster (1908)\n",
            "30. Nostromo by Joseph Conrad (1900)\n"
          ]
        }
      ]
    },
    {
      "cell_type": "code",
      "source": [
        "get_books_by_subject(\"fantasy\", limit=20)"
      ],
      "metadata": {
        "id": "tIcJxamugJEo",
        "colab": {
          "base_uri": "https://localhost:8080/"
        },
        "outputId": "62179149-2640-435a-e148-5fc14a49dd54"
      },
      "execution_count": null,
      "outputs": [
        {
          "output_type": "stream",
          "name": "stdout",
          "text": [
            "Books in fantasy:\n",
            "1. Alice's Adventures in Wonderland by Lewis Carroll (1865)\n",
            "2. The Wonderful Wizard of Oz by L. Frank Baum (1899)\n",
            "3. Treasure Island by Robert Louis Stevenson (1880)\n",
            "4. Gulliver's Travels by Jonathan Swift (1726)\n",
            "5. The Prince by Niccolò Machiavelli (1515)\n",
            "6. Through the Looking-Glass by Lewis Carroll (1865)\n",
            "7. Five Children and It by Edith Nesbit (1905)\n",
            "8. The Lost World by Arthur Conan Doyle (1900)\n",
            "9. The Marvelous Land of Oz by L. Frank Baum (1904)\n",
            "10. Ozma of Oz by L. Frank Baum (1907)\n",
            "11. A Midsummer Night's Dream by William Shakespeare (1600)\n",
            "12. The Emerald City of Oz by L. Frank Baum (1910)\n",
            "13. Dorothy and the Wizard in Oz by L. Frank Baum (1908)\n",
            "14. The Lost Princess of Oz by L. Frank Baum (1917)\n",
            "15. The Story of the Amulet by Edith Nesbit (1905)\n",
            "16. The Complete Life and Adventures of Santa Claus by L. Frank Baum (1902)\n",
            "17. Alice's Adventures in Wonderland / Through the Looking Glass by Lewis Carroll (1889)\n",
            "18. The Road to Oz by L. Frank Baum (1909)\n",
            "19. The Sea Fairies by L. Frank Baum (1911)\n",
            "20. Baum's American Fairy Tales by L. Frank Baum (1901)\n"
          ]
        }
      ]
    },
    {
      "cell_type": "code",
      "source": [
        "get_books_by_subject(\"sci-fi\", limit=20, published_in='1990-2020')"
      ],
      "metadata": {
        "id": "-rEsVkZjh1Ps",
        "outputId": "948865f8-d67b-4a8b-8607-fe87fa97e5be",
        "colab": {
          "base_uri": "https://localhost:8080/"
        }
      },
      "execution_count": 5,
      "outputs": [
        {
          "output_type": "stream",
          "name": "stdout",
          "text": [
            "Books in sci-fi:\n",
            "5. Divergent by Veronica Roth (2010)\n",
            "6. The Circle by Dave Eggers (2013)\n",
            "7. Allegiant by Veronica Roth (2001)\n",
            "8. Artemis by Andy Weir (2017)\n",
            "10. Children of Blood and Bone by Tomi Adeyemi (2017)\n",
            "11. The Mayflower Project by Katherine Applegate (2001)\n",
            "13. The Telling by Ursula K. Le Guin (2000)\n",
            "14. The knife of never letting go by Patrick Ness (2008)\n",
            "18. Waterworld (Movie-Tie-in) by Max Allan Collins (1995)\n",
            "19. Backwards (Red Dwarf) by Rob Grant (1996)\n"
          ]
        }
      ]
    },
    {
      "cell_type": "code",
      "source": [
        "get_books_by_subject(\"science-fiction\", limit=20, published_in='1990-2020')"
      ],
      "metadata": {
        "id": "WHbu5uAPmoku",
        "outputId": "5e06454f-333d-4ac6-c03e-4aa3420368b5",
        "colab": {
          "base_uri": "https://localhost:8080/"
        }
      },
      "execution_count": 3,
      "outputs": [
        {
          "output_type": "stream",
          "name": "stdout",
          "text": [
            "Books in science-fiction:\n",
            "5. Mockingjay by Suzanne Collins (2010)\n",
            "6. The Martian by Andy Weir (2011)\n",
            "12. The City of Ember (The First Book of Ember) by Jeanne DuPrau (1998)\n",
            "15. Gathering Blue by Lois Lowry (2000)\n",
            "17. Pillars of Creation by Terry Goodkind (2001)\n",
            "18. 3001 by Arthur C. Clarke (1997)\n",
            "20. The Fall of Hyperion by Dan Simmons (1990)\n"
          ]
        }
      ]
    },
    {
      "cell_type": "code",
      "source": [
        "# Define the base URL for the Romance subject\n",
        "base_url = 'https://openlibrary.org/subjects/fantasy.json'\n",
        "response = requests.get(base_url)\n",
        "\n",
        "# Print the entire response in a formatted JSON block\n",
        "if response.status_code == 200:\n",
        "    data = response.json()\n",
        "\n",
        "    # Access the list of works\n",
        "    books = data.get(\"works\", [])\n",
        "\n",
        "    # Search for \"Alice's Adventures in Wonderland\"\n",
        "    for book in books:\n",
        "        if \"Alice's Adventures in Wonderland\" in book.get(\"title\", \"\"):\n",
        "            print(json.dumps(book, indent=4))\n",
        "            break\n",
        "    else:\n",
        "        print(\"Book not found in the Romance subject.\")\n",
        "else:\n",
        "    print(f\"Failed to fetch data. Status code: {response.status_code}\")\n"
      ],
      "metadata": {
        "id": "n0mWIsaJXmEQ",
        "outputId": "bf03197c-c666-4e47-e059-00e2ccfd2b19",
        "colab": {
          "base_uri": "https://localhost:8080/"
        }
      },
      "execution_count": 16,
      "outputs": [
        {
          "output_type": "stream",
          "name": "stdout",
          "text": [
            "{\n",
            "    \"key\": \"/works/OL138052W\",\n",
            "    \"title\": \"Alice's Adventures in Wonderland\",\n",
            "    \"edition_count\": 3546,\n",
            "    \"cover_id\": 10527843,\n",
            "    \"cover_edition_key\": \"OL31754751M\",\n",
            "    \"subject\": [\n",
            "        \"Alice (fictitious character : carroll), fiction\",\n",
            "        \"British and irish fiction (fictional works by one author)\",\n",
            "        \"Fiction, fantasy, general\",\n",
            "        \"JUVENILE FICTION\",\n",
            "        \"classics\",\n",
            "        \"Fantasy & Magic\",\n",
            "        \"Imagination & Play\",\n",
            "        \"adventure and adventurers\",\n",
            "        \"adventure and adventurers, fiction\",\n",
            "        \"adventure stories\",\n",
            "        \"adventure travel\",\n",
            "        \"animals\",\n",
            "        \"anthropomorphism\",\n",
            "        \"artists' illustrated books\",\n",
            "        \"books and reading\",\n",
            "        \"child and youth fiction\",\n",
            "        \"children\",\n",
            "        \"children's fiction\",\n",
            "        \"children's literature\",\n",
            "        \"children's literature, english\",\n",
            "        \"children's stories\",\n",
            "        \"children's stories, english\",\n",
            "        \"classic literature\",\n",
            "        \"coloring books\",\n",
            "        \"croquet\",\n",
            "        \"cuentos infantiles ingleses\",\n",
            "        \"curiosidad\",\n",
            "        \"curiosidad en los ni\\u00f1os\",\n",
            "        \"curiosity\",\n",
            "        \"curiosity in children\",\n",
            "        \"english\",\n",
            "        \"english adventure stories\",\n",
            "        \"english fantastic fiction\",\n",
            "        \"english fantasy fiction\",\n",
            "        \"english fantasy literature\",\n",
            "        \"english language\",\n",
            "        \"english literature\",\n",
            "        \"english nonsense verses\",\n",
            "        \"fairy tales\",\n",
            "        \"fantasy\",\n",
            "        \"fantasy fiction\",\n",
            "        \"fantasy in fiction\",\n",
            "        \"fantasy  magic\",\n",
            "        \"fantas\\u00eda\",\n",
            "        \"ficci\\u00f3n juvenil\",\n",
            "        \"fiction\",\n",
            "        \"friendship\",\n",
            "        \"girls\",\n",
            "        \"girls, fiction\",\n",
            "        \"hookahs\",\n",
            "        \"humor\",\n",
            "        \"humorous stories\",\n",
            "        \"illustrations\",\n",
            "        \"imaginary places\",\n",
            "        \"juvenile literature\",\n",
            "        \"legends\",\n",
            "        \"literary nonsense\",\n",
            "        \"logic\",\n",
            "        \"lugares imaginarios\",\n",
            "        \"mythical animals\",\n",
            "        \"ni\\u00f1as\",\n",
            "        \"nonsense verses\",\n",
            "        \"novela\",\n",
            "        \"novela fant\\u00e1stica\",\n",
            "        \"novela juvenil\",\n",
            "        \"open library staff picks\",\n",
            "        \"picture books\",\n",
            "        \"playing cards\",\n",
            "        \"rabbits\",\n",
            "        \"readers\",\n",
            "        \"reading materials\",\n",
            "        \"short novel\",\n",
            "        \"tea\",\n",
            "        \"texts\",\n",
            "        \"Alice (Fictitious character : Carroll)\",\n",
            "        \"English language, textbooks for foreign speakers\",\n",
            "        \"Fantastique\",\n",
            "        \"Enfants\",\n",
            "        \"Affirmation de soi\",\n",
            "        \"Spanish language materials\",\n",
            "        \"Alicia (Personaje literario : Carroll)\",\n",
            "        \"Spanish language\",\n",
            "        \"nyt:chapter-books=2010-02-21\",\n",
            "        \"New York Times bestseller\",\n",
            "        \"Literatura infanto-juvenil\",\n",
            "        \"Literatura inglesa\",\n",
            "        \"Carroll, lewis, 1832-1898\",\n",
            "        \"Children's literature, history and criticism\",\n",
            "        \"Children, books and reading\",\n",
            "        \"Crocheting\",\n",
            "        \"Fiction, general\",\n",
            "        \"Fantasy fiction, history and criticism\",\n",
            "        \"Toy and movable books\",\n",
            "        \"Imagination\",\n",
            "        \"Textbooks for foreign speakers\",\n",
            "        \"Readers for new literates\",\n",
            "        \"High interest-low vocabulary books\",\n",
            "        \"Science fiction\",\n",
            "        \"CUENTO INFANTIL INGLES\",\n",
            "        \"History and criticism\",\n",
            "        \"Translations into Irish\",\n",
            "        \"Irish literature\",\n",
            "        \"Swahili language\",\n",
            "        \"Ficc \\u02b9a o (ge nero)\",\n",
            "        \"Shi jie wen xue\",\n",
            "        \"Xiao shuo\",\n",
            "        \"Fantasi a\",\n",
            "        \"Tong hua\",\n",
            "        \"Suo xie\",\n",
            "        \"Shao er du wu\",\n",
            "        \"Pin yin du wu\",\n",
            "        \"Children's stories, Chinese\",\n",
            "        \"Chinese language\",\n",
            "        \"Translations into Polish\",\n",
            "        \"Ying yu\",\n",
            "        \"Yu yan du wu\",\n",
            "        \"Decision making\",\n",
            "        \"Juvenile Wit and humor\",\n",
            "        \"Conduct of life\",\n",
            "        \"Illusion (Philosophy)\",\n",
            "        \"Innocence (Psychology)\",\n",
            "        \"Dreams\",\n",
            "        \"Courts and courtiers\",\n",
            "        \"Theft\",\n",
            "        \"Courts\",\n",
            "        \"Curiosit\\u00e9\",\n",
            "        \"Romans, nouvelles, etc. pour la jeunesse\",\n",
            "        \"Prise de d\\u00e9cision\",\n",
            "        \"Humour pour la jeunesse\",\n",
            "        \"Morale pratique\",\n",
            "        \"Lieux imaginaires\",\n",
            "        \"Illusion (Philosophie)\",\n",
            "        \"R\\u00eaves\",\n",
            "        \"Cartes \\u00e0 jouer\",\n",
            "        \"Cours et courtisans\",\n",
            "        \"Croquet (Jeu)\",\n",
            "        \"Vol (Droit)\",\n",
            "        \"Tribunaux\",\n",
            "        \"Histoires pour enfants anglaises\",\n",
            "        \"Literature, collections\",\n",
            "        \"Fiction, short stories (single author)\",\n",
            "        \"Contes de f\\u00e9es\",\n",
            "        \"English fiction\",\n",
            "        \"Translations into Ladino\",\n",
            "        \"Nonsense literature\",\n",
            "        \"Fantasmes\",\n",
            "        \"Dinosaurier\",\n",
            "        \"Utd\\u00f6da djur\",\n",
            "        \"Urtidsdjur\",\n",
            "        \"Forntiden\",\n",
            "        \"Geologi\",\n",
            "        \"Evolution\",\n",
            "        \"Jorden\",\n",
            "        \"Fantastiske fort\\u00e6llinger\",\n",
            "        \"Translations into Yiddish\",\n",
            "        \"Criticism and interpretation\",\n",
            "        \"History\",\n",
            "        \"Alice's adventures in Wonderland (Carroll, Lewis)\",\n",
            "        \"Alice in Wonderland;\",\n",
            "        \"North\",\n",
            "        \"Rural-urban migration\",\n",
            "        \"Russian language\"\n",
            "    ],\n",
            "    \"ia_collection\": [\n",
            "        \"Boston_College_Library\",\n",
            "        \"additional_collections\",\n",
            "        \"americana\",\n",
            "        \"audio_bookspoetry\",\n",
            "        \"audiocitenet\",\n",
            "        \"barryuniversity-ol\",\n",
            "        \"binghamton-ol\",\n",
            "        \"blc\",\n",
            "        \"bostonpubliclibrary\",\n",
            "        \"bostonuniversitylibraries-ol\",\n",
            "        \"bpljordan-ol\",\n",
            "        \"brynmawr-ol\",\n",
            "        \"burstein\",\n",
            "        \"cdl\",\n",
            "        \"cnusd-ol\",\n",
            "        \"dartmouthlibrary-ol\",\n",
            "        \"denverpubliclibrary-ol\",\n",
            "        \"europeanlibraries\",\n",
            "        \"fedlink\",\n",
            "        \"folksoundomy\",\n",
            "        \"framingham-ol\",\n",
            "        \"gettysburgcollege\",\n",
            "        \"gutenberg\",\n",
            "        \"gutenberg-audiobooks\",\n",
            "        \"gwulibraries-ol\",\n",
            "        \"iastaffselections\",\n",
            "        \"inlibrary\",\n",
            "        \"internet-books\",\n",
            "        \"internetarchivebooks\",\n",
            "        \"irishstudies\",\n",
            "        \"juvenilehistoricalcollection\",\n",
            "        \"kellylibrary\",\n",
            "        \"library_of_congress\",\n",
            "        \"librivoxaudio\",\n",
            "        \"marygrovecollege\",\n",
            "        \"marymount-ol\",\n",
            "        \"microfilm\",\n",
            "        \"newyorkpubliclibrary\",\n",
            "        \"occidentalcollegelibrary-ol\",\n",
            "        \"oliverwendellholmeslibrary\",\n",
            "        \"openlibrary-d-ol\",\n",
            "        \"phillipsacademy\",\n",
            "        \"popularchinesebooks\",\n",
            "        \"printdisabled\",\n",
            "        \"rochester-ol\",\n",
            "        \"spokanepubliclibrary-ol\",\n",
            "        \"standardebooks\",\n",
            "        \"stmaryscountylibrary\",\n",
            "        \"thomasfisher\",\n",
            "        \"toronto\",\n",
            "        \"ualberta_historical_school\",\n",
            "        \"ualbertawiedrick\",\n",
            "        \"unb-ol\",\n",
            "        \"unclibraries\",\n",
            "        \"uni-ol\",\n",
            "        \"university_of_alberta_libraries\",\n",
            "        \"university_of_alberta_libraries_microfilm\",\n",
            "        \"university_of_toronto\",\n",
            "        \"universityofarizona-ol\",\n",
            "        \"universityofcoloradoboulder-ol\",\n",
            "        \"universityofoklahoma-ol\",\n",
            "        \"worksintranslation\",\n",
            "        \"worthingtonlibraries-ol\",\n",
            "        \"wrlc-ol\"\n",
            "    ],\n",
            "    \"lendinglibrary\": false,\n",
            "    \"printdisabled\": true,\n",
            "    \"lending_edition\": \"OL45637056M\",\n",
            "    \"lending_identifier\": \"alicesadventures0000unse_v7d2\",\n",
            "    \"authors\": [\n",
            "        {\n",
            "            \"key\": \"/authors/OL22098A\",\n",
            "            \"name\": \"Lewis Carroll\"\n",
            "        }\n",
            "    ],\n",
            "    \"first_publish_year\": 1865,\n",
            "    \"ia\": \"alicesadventures0000unse_v7d2\",\n",
            "    \"public_scan\": true,\n",
            "    \"has_fulltext\": true,\n",
            "    \"availability\": {\n",
            "        \"status\": \"error\",\n",
            "        \"error_message\": \"not found\",\n",
            "        \"identifier\": \"alicesadventures0000unse_v7d2\",\n",
            "        \"is_restricted\": true,\n",
            "        \"is_browseable\": false,\n",
            "        \"__src__\": \"core.models.lending.get_availability\"\n",
            "    }\n",
            "}\n"
          ]
        }
      ]
    },
    {
      "cell_type": "code",
      "source": [
        "response['works'][2]['subject'] # to find genre and/or key words"
      ],
      "metadata": {
        "id": "Pj3ae7kcftgn",
        "outputId": "78fd4d61-40c1-4d39-bc5f-8ea3aed5b73a",
        "colab": {
          "base_uri": "https://localhost:8080/",
          "height": 144
        }
      },
      "execution_count": 9,
      "outputs": [
        {
          "output_type": "error",
          "ename": "TypeError",
          "evalue": "'Response' object is not subscriptable",
          "traceback": [
            "\u001b[0;31m---------------------------------------------------------------------------\u001b[0m",
            "\u001b[0;31mTypeError\u001b[0m                                 Traceback (most recent call last)",
            "\u001b[0;32m<ipython-input-9-a3bad0a91b27>\u001b[0m in \u001b[0;36m<cell line: 0>\u001b[0;34m()\u001b[0m\n\u001b[0;32m----> 1\u001b[0;31m \u001b[0mresponse\u001b[0m\u001b[0;34m[\u001b[0m\u001b[0;34m'works'\u001b[0m\u001b[0;34m]\u001b[0m\u001b[0;34m[\u001b[0m\u001b[0;36m2\u001b[0m\u001b[0;34m]\u001b[0m\u001b[0;34m[\u001b[0m\u001b[0;34m'subject'\u001b[0m\u001b[0;34m]\u001b[0m \u001b[0;31m# to find genre and/or key words\u001b[0m\u001b[0;34m\u001b[0m\u001b[0;34m\u001b[0m\u001b[0m\n\u001b[0m",
            "\u001b[0;31mTypeError\u001b[0m: 'Response' object is not subscriptable"
          ]
        }
      ]
    },
    {
      "cell_type": "code",
      "source": [
        "print(response.json())  # or print(response.text) if you want raw JSON text"
      ],
      "metadata": {
        "id": "NYQis-i6ndQL",
        "colab": {
          "base_uri": "https://localhost:8080/"
        },
        "outputId": "0c4c07a8-4fca-4fcd-e24c-266d92085d82"
      },
      "execution_count": 12,
      "outputs": [
        {
          "output_type": "stream",
          "name": "stdout",
          "text": [
            "{'has_fulltext': 'true', 'key': '/subjects', 'm': 'edit', 'title': 'Subjects', 'type': {'key': '/type/i18n_page'}, 'latest_revision': 110, 'revision': 110, 'created': {'type': '/type/datetime', 'value': '2009-10-16T16:46:43.549533'}, 'last_modified': {'type': '/type/datetime', 'value': '2021-10-04T16:52:28.455494'}}\n"
          ]
        }
      ]
    },
    {
      "cell_type": "markdown",
      "source": [
        "# What to do next:\n",
        "1. Build ML model\n",
        "  - training data: csv file containing books in a specific genre?\n",
        "  - testing data: our prediction now?\n",
        "\n",
        "2. Approaches to consider:\n",
        "  - Collaborative Filtering (based on user ratings, user reviews e.g. Goodreads)\n",
        "  - Content-Based Filtering (based on genre, content description, etc.)\n",
        "  - Combination of both Filtering Methods\n",
        "\n",
        "3. Define Training Data\n",
        "  - What should the csv file include?\n",
        "    1. Book Information: Book ID, Title, Author, Genres, Description\n",
        "    2. User Ratings: User ID, Book ID, Rating, User Reviews\n",
        "\n",
        "4. Machine Learning Models to consider:\n",
        "  - Content-Based Filtering: Book descriptions and genres\n",
        "      - TF-IDF (Term Frequency-Inverse Document Frequency): evaluates the importance of a word in a document : https://www.geeksforgeeks.org/understanding-tf-idf-term-frequency-inverse-document-frequency/\n",
        "      - Sci-Kit Learn: classifiers, feature-extraction\n",
        "  - Collaborative Filtering: User ratings and reviews\n",
        "      - Single Value Decomposition (SVD): can decompose a matrix into 3 matrices, good for ratings: https://www.geeksforgeeks.org/singular-value-decomposition-svd/\n",
        "  - From surprise: https://surpriselib.com/\n",
        "\n",
        "\n",
        "5. Hybrid model\n",
        "  - Step 1: Get the top books for the user through collaborative filtering\n",
        "  - Step 2: Find the most similar books through content based filtering\n",
        "  - Step 3: Return the list of recommended books\n",
        "\n"
      ],
      "metadata": {
        "id": "HR4rZxUZpVip"
      }
    },
    {
      "cell_type": "code",
      "source": [
        "# create dataframe (csv file) of books\n"
      ],
      "metadata": {
        "id": "tGkFgL_EdXuG"
      },
      "execution_count": null,
      "outputs": []
    },
    {
      "cell_type": "code",
      "source": [
        "# import SVD, import test train split\n",
        "from surprise import SVD\n",
        "from surprise.model_selection import test_train_split"
      ],
      "metadata": {
        "id": "zd3enYEiObCu"
      },
      "execution_count": null,
      "outputs": []
    }
  ]
}