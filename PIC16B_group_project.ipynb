{
  "nbformat": 4,
  "nbformat_minor": 0,
  "metadata": {
    "colab": {
      "provenance": [],
      "include_colab_link": true
    },
    "kernelspec": {
      "name": "python3",
      "display_name": "Python 3"
    },
    "language_info": {
      "name": "python"
    }
  },
  "cells": [
    {
      "cell_type": "markdown",
      "metadata": {
        "id": "view-in-github",
        "colab_type": "text"
      },
      "source": [
        "<a href=\"https://colab.research.google.com/github/maureenwidjaja/PIC16B-Group-Project/blob/main/PIC16B_group_project.ipynb\" target=\"_parent\"><img src=\"https://colab.research.google.com/assets/colab-badge.svg\" alt=\"Open In Colab\"/></a>"
      ]
    },
    {
      "cell_type": "markdown",
      "source": [
        "# Step 1: Scrape Books Using Open Library API\n",
        "- get by 'Subject' name ->> can be anything, e.g. \"fantasy\" etc.\n",
        "\n"
      ],
      "metadata": {
        "id": "V6SXWqgrdAI-"
      }
    },
    {
      "cell_type": "code",
      "execution_count": null,
      "metadata": {
        "id": "3cfBooOJcRHn"
      },
      "outputs": [],
      "source": [
        "import requests\n",
        "import matplotlib.pyplot as plt\n",
        "import seaborn as sns\n",
        "import json\n",
        "import pandas as pd\n",
        "import numpy as np"
      ]
    },
    {
      "cell_type": "code",
      "source": [
        "import requests\n",
        "\n",
        "def get_books_by_subject(subject, limit=100, details=True, ebooks=False, published_in=None, offset=0):\n",
        "    '''\n",
        "    Args:\n",
        "    details: if True, includes related subjects, prolific authors, and publishers.\n",
        "    ebooks: if True,  filters for books with e-books.\n",
        "    published_in: filters by publication year.\n",
        "                  For example:\n",
        "                  http://openlibrary.org/subjects/love.json?published_in=1500-1600\n",
        "    limit: num of works to include in the response, controls pagination.\n",
        "    offset: starting offset in the total works, controls pagination.\n",
        "    '''\n",
        "    # Creates the API endpoint URL using the subject provided.\n",
        "    base_url = (f'https://openlibrary.org/subjects/{subject}.json?limit=1')\n",
        "\n",
        "\n",
        "    # Sends an HTTP GET request to Open Library's API with the query parameters\n",
        "    # stored in params.\n",
        "    # The response is stored in response, which contains JSON data.\n",
        "    response = requests.get(base_url)#, params=params)\n",
        "\n",
        "    if response.status_code != 200:\n",
        "        print(f\"Error fetching books for {subject}\")\n",
        "        return []\n",
        "\n",
        "    data = response.json()\n",
        "    books = data.get(\"works\", [])\n",
        "\n",
        "    if not books:\n",
        "        print(f\"No books found for {subject}\")\n",
        "        return []\n",
        "\n",
        "    book_list = []\n",
        "    for book in books:\n",
        "        title = book.get(\"title\", \"Unknown Title\")\n",
        "        author = book[\"authors\"][0][\"name\"] if book.get(\"authors\") else \"Unknown Author\"\n",
        "        published_year = book.get(\"first_publish_year\", \"Unknown Year\")\n",
        "\n",
        "        # Other details we may need for\n",
        "        subjects = \", \".join(book.get(\"subject\", [\"No subjects available\"]))\n",
        "        description = book.get(\"description\", \"No description available\")\n",
        "        ebook_available = book.get(\"ebook_count_i\", 0) > 0\n",
        "        publishers = \", \".join(book.get(\"publishers\", [\"Unknown Publisher\"]))\n",
        "\n",
        "        book_list.append({\n",
        "            \"title\": title,\n",
        "            \"author\": author,\n",
        "            \"published_year\": published_year,\n",
        "            \"subjects\": subjects,\n",
        "            \"description\": description,\n",
        "            \"ebook_available\": ebook_available,\n",
        "            \"publishers\": publishers\n",
        "        })\n",
        "\n",
        "    return book_list  # Return the list of books\n"
      ],
      "metadata": {
        "id": "1TLeu2GJc-RB"
      },
      "execution_count": null,
      "outputs": []
    },
    {
      "cell_type": "markdown",
      "source": [
        "# Step 2: Combine into one genre\n",
        "For instance, \"sci-fi\" subject and \"science-fiction\" subject returns different results. So, our next objective is to combine all of them into one genre \"Science Fiction\". The same goes for other genres like \"Romance\" or \"Fantasy\".\n"
      ],
      "metadata": {
        "id": "KZVUatKlOoMH"
      }
    },
    {
      "cell_type": "markdown",
      "source": [
        "### Function to combine sub-genres into a big genre:"
      ],
      "metadata": {
        "id": "AZei4rWfPJGk"
      }
    },
    {
      "cell_type": "code",
      "source": [
        "def combine_genre(subject):\n",
        "    \"\"\"\n",
        "    Args:\n",
        "    subject: book subject\n",
        "\n",
        "    This function collects book lists under sub-genres and combines them into\n",
        "    one main genre.\n",
        "\n",
        "    Returns:\n",
        "    List of all books under a specific genre.\n",
        "    \"\"\"\n",
        "\n",
        "    if subject is None:\n",
        "        raise ValueError(\"Please pass a subject name.\")\n",
        "\n",
        "    # Dictionary of genres and their corresponding lists with adjusted formatting\n",
        "    genre_dict = {\n",
        "        \"romance\": [\n",
        "            \"fiction_romance_general\", \"fiction_romance_historical_general\",\n",
        "            \"romance\", \"man_woman_relationships\", \"fiction_romance_suspense\",\n",
        "            \"fiction_romance_contemporary\",\n",
        "            \"fiction_romance_erotica\", \"fiction_romance_erotic\",\n",
        "            \"marriage_fiction\", \"fiction_erotica_general\", \"romance\",\n",
        "            \"fiction_christian_romance_general\", \"fiction_romance_historical\"\n",
        "        ],\n",
        "        \"fantasy\": [\n",
        "            \"fiction\", \"fantasy_fiction\", \"magic\", \"fiction_fantasy_general\",\n",
        "            \"adventure_and_adventurers_fiction\",\n",
        "            \"adventure_and_adventurers\", \"good_and_evil\", \"fairies\", \"dragons\",\n",
        "            \"cartoons_and_comics\", \"witchcraft\", \"history\", \"wizards\", \"fairies_fiction\"\n",
        "        ],\n",
        "        \"historical_fiction\": [\n",
        "            \"fiction\", \"historical_fiction\", \"history\", \"fiction_historical_general\",\n",
        "            \"fiction_romance_historical_general\", \"fiction_historical\", \"fiction_general\",\n",
        "            \"fiction_romance_historical\", \"world_war_1939_1945\", \"great_britain_fiction\"\n",
        "        ],\n",
        "        \"horror\": [\n",
        "            \"fiction\", \"horror\", \"horror_stories\", \"horror_tales\", \"american_horror_tales\",\n",
        "            \"horror_fiction\", \"detective_and_mystery_stories\", \"crime\", \"catalepsy\", \"murder\",\n",
        "            \"burial_vaults\"\n",
        "        ],\n",
        "        \"humor\": [\n",
        "            \"anecdotes\", \"humor_general\", \"american_wit_and_humor\",\n",
        "            \"wit_and_humor\", \"humour\", \"humor\", \"funny\"\n",
        "        ],\n",
        "        \"literature\": [\n",
        "            \"philosophy\", \"in_literature\", \"theory\", \"criticism\", \"criticism_and_interpretation\",\n",
        "            \"english_literature\", \"modern_literature\", \"american_literature\",\n",
        "            \"literature\", \"litterature\"\n",
        "        ],\n",
        "        \"mystery_thriller\": [\n",
        "            \"detective_and_mystery_stories\", \"mystery_fiction\", \"murder\", \"mystery\",\n",
        "            \"thriller\", \"detective\", \"fiction_thrillers_general\",\n",
        "            \"suspense\", \"fiction_thrillers_suspense\", \"fiction_suspense\",\n",
        "            \"mystery\", \"thriller\", \"murder\",\n",
        "            \"fiction_thrillers_espionage\", \"police\",\n",
        "            \"suspense_fiction\", \"fiction_general\", \"detective_and_mystery_stories\",\n",
        "            \"crimes_against\", \"fiction_psychological\", \"investigation\"\n",
        "        ],\n",
        "        \"science_fiction\": [\n",
        "            \"science_fiction\", \"fiction_science_fiction_general\", \"american_science_fiction\",\n",
        "            \"extraterrestrial_beings\", \"life_on_other_planets\", \"extraterrestrial_beings_fiction\",\n",
        "            \"time_travel\", \"sci_fi\", \"sci-fi\", \"science-fiction\"\n",
        "        ]\n",
        "    }\n",
        "\n",
        "    if subject not in genre_dict:\n",
        "        raise ValueError(\"Invalid genre. Please choose from the predefined genres: \\\n",
        "        romance, fantasy, historical_fiction, horror, humor, literature, \\\n",
        "        mystery_thriller, science_fiction.\")\n",
        "\n",
        "    books_under_genre = []\n",
        "    seen_books = set()  # To store unique books\n",
        "    i = 1\n",
        "    print(f\"\\nBooks under the genre '{subject}':\\n\")\n",
        "\n",
        "    for sub_genre in genre_dict[subject]:\n",
        "        books = get_books_by_subject(sub_genre)  # Get books for the sub-genre\n",
        "\n",
        "        if books:\n",
        "            for book in books:\n",
        "                # Extract the book title and author for uniqueness check)\n",
        "                title_author = book['author']\n",
        "                if title_author is None:\n",
        "                  print(\"no author\")\n",
        "\n",
        "                # Ensure no dupicates\n",
        "                if title_author not in seen_books:\n",
        "                    print(f\"{i}. {book['title']} by {book['author']}\")\n",
        "                    books_under_genre.append(book)\n",
        "                    seen_books.add(title_author)\n",
        "                    i += 1\n",
        "\n",
        "        else:\n",
        "            print(f\"No books found for sub-genre '{sub_genre}'\")\n",
        "\n",
        "    return books_under_genre\n"
      ],
      "metadata": {
        "id": "UfwwK6xYQvEJ"
      },
      "execution_count": null,
      "outputs": []
    },
    {
      "cell_type": "markdown",
      "source": [
        "### Romance books:"
      ],
      "metadata": {
        "id": "Mf3lNHW1eo3B"
      }
    },
    {
      "cell_type": "code",
      "source": [
        "romance_books = combine_genre(\"romance\")"
      ],
      "metadata": {
        "id": "dPvBaC3jrM7r",
        "outputId": "eb01fbd8-89d9-4b3b-ab5d-96a2d0f7284e",
        "colab": {
          "base_uri": "https://localhost:8080/"
        }
      },
      "execution_count": null,
      "outputs": [
        {
          "output_type": "stream",
          "name": "stdout",
          "text": [
            "\n",
            "Books under the genre 'romance':\n",
            "\n",
            "1. Pride and Prejudice by Jane Austen\n",
            "2. Wuthering Heights by Emily Brontë\n",
            "3. Is he lying to you? by Dan Crum\n",
            "4. Rebecca by Daphne du Maurier\n",
            "5. Loving by Danielle Steel\n",
            "6. Fifty Shades Freed by E. L. James\n",
            "7. Memoirs of Fanny Hill by John Cleland\n",
            "8. Decamerone by Giovanni Boccaccio\n",
            "9. Far From the Madding Crowd by Thomas Hardy\n"
          ]
        }
      ]
    },
    {
      "cell_type": "markdown",
      "source": [
        "### Fantasy books:"
      ],
      "metadata": {
        "id": "_xL8yNmgexYq"
      }
    },
    {
      "cell_type": "code",
      "source": [
        "fantasy_books = combine_genre(\"fantasy\")"
      ],
      "metadata": {
        "id": "nHtVwvO_eyiK",
        "outputId": "a28ea7c1-4ccd-4690-cbad-7d1d2b798f1d",
        "colab": {
          "base_uri": "https://localhost:8080/"
        }
      },
      "execution_count": null,
      "outputs": [
        {
          "output_type": "stream",
          "name": "stdout",
          "text": [
            "\n",
            "Books under the genre 'fantasy':\n",
            "\n",
            "1. Pride and Prejudice by Jane Austen\n",
            "2. Alice's Adventures in Wonderland by Lewis Carroll\n",
            "3. The Marvelous Land of Oz by L. Frank Baum\n",
            "4. Five Children and It by Edith Nesbit\n",
            "5. A Christmas Carol by Charles Dickens\n",
            "6. Harry Potter and the Chamber of Secrets by J. K. Rowling\n"
          ]
        }
      ]
    },
    {
      "cell_type": "markdown",
      "source": [
        "### Historical Fiction books:"
      ],
      "metadata": {
        "id": "nYkhIBUue6fG"
      }
    },
    {
      "cell_type": "code",
      "source": [
        "combine_genre(\"historical_fiction\")"
      ],
      "metadata": {
        "id": "erWMCGZyfMsn",
        "outputId": "6576fbdf-3006-496d-c45a-10ab9cbf4bc1",
        "colab": {
          "base_uri": "https://localhost:8080/"
        }
      },
      "execution_count": null,
      "outputs": [
        {
          "output_type": "stream",
          "name": "stdout",
          "text": [
            "\n",
            "Books under the genre 'historical_fiction':\n",
            "\n",
            "1. Pride and Prejudice by Jane Austen (1813)\n",
            "2. A Christmas Carol by Charles Dickens (1843)\n",
            "3. Alice's Adventures in Wonderland by Lewis Carroll (1865)\n",
            "4. The 12th SS by Meyer, Hubert (2005)\n"
          ]
        }
      ]
    },
    {
      "cell_type": "markdown",
      "source": [
        "### Horror Books"
      ],
      "metadata": {
        "id": "23U6zbzCiknR"
      }
    },
    {
      "cell_type": "code",
      "source": [
        "combine_genre(\"horror\")"
      ],
      "metadata": {
        "colab": {
          "base_uri": "https://localhost:8080/"
        },
        "id": "OelIMn9AieMo",
        "outputId": "0627fd5d-d77c-4796-f01d-45fdaa569c7f"
      },
      "execution_count": null,
      "outputs": [
        {
          "output_type": "stream",
          "name": "stdout",
          "text": [
            "\n",
            "Books under the genre 'horror':\n",
            "\n",
            "1. Pride and Prejudice by Jane Austen (1813)\n",
            "2. The Picture of Dorian Gray by Oscar Wilde (1890)\n",
            "3. Frankenstein or The Modern Prometheus by Mary Shelley (1818)\n",
            "4. Carrie by Stephen King (1974)\n",
            "5. A Study in Scarlet by Arthur Conan Doyle (1887)\n",
            "6. The Hound of the Baskervilles by Arthur Conan Doyle (1900)\n",
            "7. Memoirs of Sherlock Holmes [11 stories] by Arthur Conan Doyle (1893)\n",
            "8. The Works of Edgar Allan Poe in Five Volumes by Edgar Allan Poe (1903)\n"
          ]
        }
      ]
    },
    {
      "cell_type": "markdown",
      "source": [
        "### Humor Books"
      ],
      "metadata": {
        "id": "RNbSJfnwrvnv"
      }
    },
    {
      "cell_type": "code",
      "source": [
        "combine_genre(\"humor\")"
      ],
      "metadata": {
        "id": "anU2Zx_Sr9QN",
        "outputId": "4628e936-0025-4005-faeb-5c96f4cccaa6",
        "colab": {
          "base_uri": "https://localhost:8080/"
        }
      },
      "execution_count": null,
      "outputs": [
        {
          "output_type": "stream",
          "name": "stdout",
          "text": [
            "\n",
            "Books under the genre 'humor':\n",
            "\n",
            "1. The Second Jungle Book by Rudyard Kipling (1887)\n",
            "2. Candide by Voltaire (1746)\n",
            "3. Three Men in a Boat (to say nothing of the dog) by Jerome Klapka Jerome (1889)\n",
            "4. Adventures of Huckleberry Finn by Mark Twain (1876)\n",
            "5. Alice's Adventures in Wonderland by Lewis Carroll (1865)\n",
            "6. The BFG by Roald Dahl (1980)\n"
          ]
        }
      ]
    },
    {
      "cell_type": "markdown",
      "source": [
        "### Literature Books"
      ],
      "metadata": {
        "id": "dbRol0qTr0Gk"
      }
    },
    {
      "cell_type": "code",
      "source": [
        "combine_genre(\"literature\")"
      ],
      "metadata": {
        "id": "TOYICVImsNBY",
        "outputId": "7ec90b99-85f2-4a61-9e86-3c5f7c6a3036",
        "colab": {
          "base_uri": "https://localhost:8080/"
        }
      },
      "execution_count": null,
      "outputs": [
        {
          "output_type": "stream",
          "name": "stdout",
          "text": [
            "\n",
            "Books under the genre 'literature':\n",
            "\n",
            "1. The Art of War by Sun Tzu (1900)\n",
            "2. Bible by Bible (1200)\n",
            "3. La Poetica by Aristotle (1479)\n",
            "4. The Merchant of Venice by William Shakespeare (1600)\n",
            "5. Alice's Adventures in Wonderland by Lewis Carroll (1865)\n",
            "6. Pride and Prejudice by Jane Austen (1813)\n",
            "7. Don Quixote by Miguel de Cervantes Saavedra (1600)\n",
            "8. Adventures of Huckleberry Finn by Mark Twain (1876)\n",
            "9. Literacy for the 21st Century by Gail E. Tompkins (1996)\n"
          ]
        }
      ]
    },
    {
      "cell_type": "markdown",
      "source": [
        "### Mystery/Thriller Books"
      ],
      "metadata": {
        "id": "OMy34Ddgr1z2"
      }
    },
    {
      "cell_type": "code",
      "source": [
        "combine_genre(\"mystery_thriller\")"
      ],
      "metadata": {
        "id": "7xG5CM7FsQ9E",
        "outputId": "9cd62f0e-9024-4179-e857-b5343c282be3",
        "colab": {
          "base_uri": "https://localhost:8080/"
        }
      },
      "execution_count": null,
      "outputs": [
        {
          "output_type": "stream",
          "name": "stdout",
          "text": [
            "\n",
            "Books under the genre 'mystery_thriller':\n",
            "\n",
            "1. A Study in Scarlet by Arthur Conan Doyle (1887)\n",
            "2. The Hound of the Baskervilles by Arthur Conan Doyle (1900)\n",
            "3. Treasure Island by Robert Louis Stevenson (1880)\n",
            "4. Murder on the Orient Express by Agatha Christie (1933)\n",
            "5. A Christmas Carol by Charles Dickens (1843)\n",
            "6. The Thirty-Nine Steps by John Buchan (1915)\n",
            "7. The Moonstone by Wilkie Collins (1868)\n",
            "8. Alice's Adventures in Wonderland by Lewis Carroll (1865)\n",
            "9. The Da Vinci Code by Dan Brown (2003)\n",
            "10. Wuthering Heights by Emily Brontë (1846)\n",
            "11. The Mysterious Affair at Styles by Agatha Christie (1920)\n"
          ]
        }
      ]
    },
    {
      "cell_type": "markdown",
      "source": [
        "### Science Fiction Books"
      ],
      "metadata": {
        "id": "V2l384hqr4mK"
      }
    },
    {
      "cell_type": "code",
      "source": [
        "combine_genre(\"science_fiction\")"
      ],
      "metadata": {
        "id": "YwHz35VIsp7r",
        "outputId": "6148a776-b135-48f2-c67d-d6333c0f2d94",
        "colab": {
          "base_uri": "https://localhost:8080/"
        }
      },
      "execution_count": null,
      "outputs": [
        {
          "output_type": "stream",
          "name": "stdout",
          "text": [
            "\n",
            "Books under the genre 'science_fiction':\n",
            "\n",
            "1. Alice's Adventures in Wonderland by Lewis Carroll (1865)\n",
            "2. Frankenstein or The Modern Prometheus by Mary Shelley (1818)\n",
            "3. Fahrenheit 451 by Ray Bradbury (1953)\n",
            "4. The War of the Worlds by H. G. Wells (1898)\n",
            "5. The Time Machine by H. G. Wells (1895)\n",
            "6. The Giver by Lois Lowry (1993)\n",
            "7. A Wrinkle in Time by Madeleine L'Engle (1962)\n"
          ]
        }
      ]
    },
    {
      "cell_type": "markdown",
      "source": [
        "# Create table for putting books based on genre"
      ],
      "metadata": {
        "id": "N6ORY0rUVMF_"
      }
    },
    {
      "cell_type": "code",
      "source": [
        "def book_details(books_under_genre):\n",
        "  book_data = {'ISBN': [],\n",
        "               'Title': [],\n",
        "               'Author': [],\n",
        "               'Published_year': [],\n",
        "               'Subject': []\n",
        "               }\n"
      ],
      "metadata": {
        "id": "gCi3Wqs1VObB"
      },
      "execution_count": null,
      "outputs": []
    },
    {
      "cell_type": "markdown",
      "source": [
        "# Step 3 - Scrape User Ratings & Reviews"
      ],
      "metadata": {
        "id": "2ub8gV81QUu-"
      }
    },
    {
      "cell_type": "code",
      "source": [
        "import requests # server get file in a URL\n",
        "from bs4 import BeautifulSoup\n",
        "link = \"https://openlibrary.org/subjects\"\n",
        "data = requests.get(link).text # kalo w/o .txt cuma output 200 (success)\n",
        "response = requests.get(link)\n",
        "soup = BeautifulSoup(response.text, 'html.parser')"
      ],
      "metadata": {
        "id": "a6kRva7eesFT"
      },
      "execution_count": 10,
      "outputs": []
    },
    {
      "cell_type": "code",
      "source": [
        "def parse_to_books(link):\n",
        "    # assume start in \"https://openlibrary.org/subjects\" page\n",
        "    chosen_subjects = {\n",
        "        \"romance\", \"fantasy\", \"historical_fiction\", \"horror\", \"humor\",\n",
        "        \"literature\", \"mystery_and_detective_stories\", \"science_fiction\"\n",
        "    }\n",
        "\n",
        "    # Extract all subjects links\n",
        "    all_links = [a['href'] for a in soup.select(\"div#subjectsPage ul li a\") if 'href' in a.attrs]\n",
        "    # print(all_links[:5])\n",
        "\n",
        "    # Filter only the chosen subjects\n",
        "    filtered_links = [\n",
        "        link for link in all_links\n",
        "        # ensure only parsing on wanted subjects\n",
        "        if any(sub in link for sub in chosen_subjects) and \"juvenile_literature\" not in link]\n",
        "    # print(filtered_links)\n",
        "\n",
        "    # assume we wish to click the 'fantasy' (specific subject) page\n",
        "    # crawling through links\n",
        "    specific_subject_urls = []\n",
        "    for i in range(len(filtered_links)):\n",
        "        next_button = filtered_links[i].split('/')[2]\n",
        "        specific_subject_url = link + \"/\" + next_button\n",
        "        specific_subject_urls.append(specific_subject_url)\n",
        "\n",
        "    return(specific_subject_urls)"
      ],
      "metadata": {
        "id": "KhOrVgb2XMfw"
      },
      "execution_count": 11,
      "outputs": []
    },
    {
      "cell_type": "code",
      "source": [
        "subject_links = parse_to_books(link)\n",
        "subject_links"
      ],
      "metadata": {
        "id": "mnw9yqwzecNp",
        "outputId": "6d9cb4f4-72ff-4833-dfca-38de0a81a7b1",
        "colab": {
          "base_uri": "https://localhost:8080/"
        }
      },
      "execution_count": 12,
      "outputs": [
        {
          "output_type": "execute_result",
          "data": {
            "text/plain": [
              "['https://openlibrary.org/subjects/fantasy',\n",
              " 'https://openlibrary.org/subjects/historical_fiction',\n",
              " 'https://openlibrary.org/subjects/horror',\n",
              " 'https://openlibrary.org/subjects/humor',\n",
              " 'https://openlibrary.org/subjects/literature',\n",
              " 'https://openlibrary.org/subjects/mystery_and_detective_stories',\n",
              " 'https://openlibrary.org/subjects/romance',\n",
              " 'https://openlibrary.org/subjects/science_fiction']"
            ]
          },
          "metadata": {},
          "execution_count": 12
        }
      ]
    },
    {
      "cell_type": "code",
      "source": [
        "import requests\n",
        "from bs4 import BeautifulSoup\n",
        "import re\n",
        "link = \"https://openlibrary.org/works/OL103123W/Fahrenheit_451#reader-observations\"\n",
        "\n",
        "def link2soup(link):\n",
        "    data = requests.get(link).text\n",
        "    return BeautifulSoup(data)\n",
        "\n",
        "soup = link2soup(link)"
      ],
      "metadata": {
        "id": "hWIPCexT1Z9P"
      },
      "execution_count": null,
      "outputs": []
    },
    {
      "cell_type": "code",
      "source": [
        "community_reviews = [x.get_text() for x in soup.select(\"span.reviews__value\")]\n",
        "community_data = [re.search(r'\\s*(\\w[\\w\\s]*)',x).group(1).strip() for x in community_reviews]\n",
        "\n",
        "review_percentage = [x.get_text() for x in soup.select(\"span.percentage\")]\n",
        "percentage_data = [re.search(r'\\s*(\\w[\\w\\s]*)',x).group(1).strip() for x in review_percentage]\n",
        "\n",
        "import pandas as pd\n",
        "df = pd.DataFrame(data = {\n",
        "    \"Review\" : community_data,\n",
        "    \"Ratings\" : percentage_data\n",
        "   # \"Number of Reviews\" : number_of_reviews\n",
        "\n",
        "})\n",
        "df"
      ],
      "metadata": {
        "id": "5E8Sh4l432HN"
      },
      "execution_count": null,
      "outputs": []
    },
    {
      "cell_type": "code",
      "source": [
        "number_of_reviews = [x.get_text() for x in soup.select(\"h2.observation-title\")]\n",
        "number_of_reviews = [re.search(r'\\((\\d+)\\)',x).group(1).strip() for x in number_of_reviews]"
      ],
      "metadata": {
        "id": "-JzidLVjQbTZ"
      },
      "execution_count": null,
      "outputs": []
    },
    {
      "cell_type": "code",
      "source": [
        "book_button1 = [x.get_text() for x in soup.select('h3', class_= 'booktitle')]\n",
        "book_button2 = [x.get_text() for x in soup.select('div', class_= 'book-cover')]\n"
      ],
      "metadata": {
        "id": "Mrb3gcOuSWV4"
      },
      "execution_count": null,
      "outputs": []
    },
    {
      "cell_type": "markdown",
      "source": [
        "May need:\n",
        "\n",
        "1. List of books that we like\n",
        "2. Books in general (found above)\n",
        "\n",
        "We can use both data to recommend books we might like (haven't read yet) - do this by finding all users who like the same books as us and then seeing what other books they like. We'll use those results to create that recommendation"
      ],
      "metadata": {
        "id": "xgoxM1_USK87"
      }
    },
    {
      "cell_type": "markdown",
      "source": [
        "## Collaborative Filtering\n",
        "\n",
        "We only want to see books that have been reviewed more than 15 times."
      ],
      "metadata": {
        "id": "2f6ALMulU2dX"
      }
    },
    {
      "cell_type": "markdown",
      "source": [
        "# What to do next:\n",
        "1. Build ML model\n",
        "  - training data: csv file containing books in a specific genre?\n",
        "  - testing data: our prediction now?\n",
        "\n",
        "2. Approaches to consider:\n",
        "  - Collaborative Filtering (based on user ratings, user reviews e.g. Goodreads)\n",
        "  - Content-Based Filtering (based on genre, content description, etc.)\n",
        "  - Combination of both Filtering Methods\n",
        "\n",
        "3. Define Training Data\n",
        "  - What should the csv file include?\n",
        "    1. Book Information: Book ID, Title, Author, Genres, Description\n",
        "    2. User Ratings: User ID, Book ID, Rating, User Reviews\n",
        "\n",
        "4. Machine Learning Models to consider:\n",
        "  - Content-Based Filtering: Book descriptions and genres\n",
        "      - TF-IDF (Term Frequency-Inverse Document Frequency): evaluates the importance of a word in a document : https://www.geeksforgeeks.org/understanding-tf-idf-term-frequency-inverse-document-frequency/\n",
        "      - Sci-Kit Learn: classifiers, feature-extraction\n",
        "  - Collaborative Filtering: User ratings and reviews\n",
        "      - Single Value Decomposition (SVD): can decompose a matrix into 3 matrices, good for ratings: https://www.geeksforgeeks.org/singular-value-decomposition-svd/\n",
        "  - From surprise: https://surpriselib.com/\n",
        "\n",
        "\n",
        "5. Hybrid model\n",
        "  - Step 1: Get the top books for the user through collaborative filtering\n",
        "  - Step 2: Find the most similar books through content based filtering\n",
        "  - Step 3: Return the list of recommended books\n",
        "\n"
      ],
      "metadata": {
        "id": "HR4rZxUZpVip"
      }
    },
    {
      "cell_type": "code",
      "source": [
        "# create dataframe (csv file) of books\n"
      ],
      "metadata": {
        "id": "tGkFgL_EdXuG"
      },
      "execution_count": null,
      "outputs": []
    },
    {
      "cell_type": "code",
      "source": [
        "# import SVD, import test train split\n",
        "from surprise import SVD\n",
        "from surprise.model_selection import test_train_split"
      ],
      "metadata": {
        "id": "zd3enYEiObCu"
      },
      "execution_count": null,
      "outputs": []
    }
  ]
}