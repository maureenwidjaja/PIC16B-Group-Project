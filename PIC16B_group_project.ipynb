{
  "nbformat": 4,
  "nbformat_minor": 0,
  "metadata": {
    "colab": {
      "provenance": [],
      "include_colab_link": true
    },
    "kernelspec": {
      "name": "python3",
      "display_name": "Python 3"
    },
    "language_info": {
      "name": "python"
    }
  },
  "cells": [
    {
      "cell_type": "markdown",
      "metadata": {
        "id": "view-in-github",
        "colab_type": "text"
      },
      "source": [
        "<a href=\"https://colab.research.google.com/github/maureenwidjaja/PIC16B-Group-Project/blob/main/PIC16B_group_project.ipynb\" target=\"_parent\"><img src=\"https://colab.research.google.com/assets/colab-badge.svg\" alt=\"Open In Colab\"/></a>"
      ]
    },
    {
      "cell_type": "markdown",
      "source": [
        "# Step 1: Scrape Books Using Open Library API\n",
        "- get by 'Subject' name ->> can be anything, e.g. \"fantasy\" etc.\n",
        "\n"
      ],
      "metadata": {
        "id": "V6SXWqgrdAI-"
      }
    },
    {
      "cell_type": "code",
      "execution_count": null,
      "metadata": {
        "id": "3cfBooOJcRHn"
      },
      "outputs": [],
      "source": [
        "import requests\n",
        "import matplotlib.pyplot as plt\n",
        "import seaborn as sns\n",
        "import json\n",
        "import pandas as pd\n",
        "import numpy as np"
      ]
    },
    {
      "cell_type": "code",
      "source": [
        "import requests\n",
        "\n",
        "def get_books_by_subject(subject, limit=100, details=True, ebooks=False, published_in=None, offset=0):\n",
        "    '''\n",
        "    Args:\n",
        "    details: if True, includes related subjects, prolific authors, and publishers.\n",
        "    ebooks: if True,  filters for books with e-books.\n",
        "    published_in: filters by publication year.\n",
        "                  For example:\n",
        "                  http://openlibrary.org/subjects/love.json?published_in=1500-1600\n",
        "    limit: num of works to include in the response, controls pagination.\n",
        "    offset: starting offset in the total works, controls pagination.\n",
        "    '''\n",
        "    # Creates the API endpoint URL using the subject provided.\n",
        "    base_url = (f'https://openlibrary.org/subjects/{subject}.json?limit=1')\n",
        "\n",
        "\n",
        "    # Sends an HTTP GET request to Open Library's API with the query parameters\n",
        "    # stored in params.\n",
        "    # The response is stored in response, which contains JSON data.\n",
        "    response = requests.get(base_url)#, params=params)\n",
        "\n",
        "    if response.status_code != 200:\n",
        "        print(f\"Error fetching books for {subject}\")\n",
        "        return []\n",
        "\n",
        "    data = response.json()\n",
        "    books = data.get(\"works\", [])\n",
        "\n",
        "    if not books:\n",
        "        print(f\"No books found for {subject}\")\n",
        "        return []\n",
        "\n",
        "    book_list = []\n",
        "    for book in books:\n",
        "        title = book.get(\"title\", \"Unknown Title\")\n",
        "        author = book[\"authors\"][0][\"name\"] if book.get(\"authors\") else \"Unknown Author\"\n",
        "        published_year = book.get(\"first_publish_year\", \"Unknown Year\")\n",
        "\n",
        "        # Other details we may need for\n",
        "        subjects = \", \".join(book.get(\"subject\", [\"No subjects available\"]))\n",
        "        description = book.get(\"description\", \"No description available\")\n",
        "        ebook_available = book.get(\"ebook_count_i\", 0) > 0\n",
        "        publishers = \", \".join(book.get(\"publishers\", [\"Unknown Publisher\"]))\n",
        "\n",
        "        book_list.append({\n",
        "            \"title\": title,\n",
        "            \"author\": author,\n",
        "            \"published_year\": published_year,\n",
        "            \"subjects\": subjects,\n",
        "            \"description\": description,\n",
        "            \"ebook_available\": ebook_available,\n",
        "            \"publishers\": publishers\n",
        "        })\n",
        "\n",
        "    return book_list  # Return the list of books\n"
      ],
      "metadata": {
        "id": "1TLeu2GJc-RB"
      },
      "execution_count": null,
      "outputs": []
    },
    {
      "cell_type": "markdown",
      "source": [
        "# Step 2: Combine into one genre\n",
        "For instance, \"sci-fi\" subject and \"science-fiction\" subject returns different results. So, our next objective is to combine all of them into one genre \"Science Fiction\". The same goes for other genres like \"Romance\" or \"Fantasy\".\n"
      ],
      "metadata": {
        "id": "KZVUatKlOoMH"
      }
    },
    {
      "cell_type": "markdown",
      "source": [
        "### Function to combine sub-genres into a big genre:"
      ],
      "metadata": {
        "id": "AZei4rWfPJGk"
      }
    },
    {
      "cell_type": "code",
      "source": [
        "def combine_genre(subject):\n",
        "    \"\"\"\n",
        "    Args:\n",
        "    subject: book subject\n",
        "\n",
        "    This function collects book lists under sub-genres and combines them into\n",
        "    one main genre.\n",
        "\n",
        "    Returns:\n",
        "    List of all books under a specific genre.\n",
        "    \"\"\"\n",
        "\n",
        "    if subject is None:\n",
        "        raise ValueError(\"Please pass a subject name.\")\n",
        "\n",
        "    # Dictionary of genres and their corresponding lists with adjusted formatting\n",
        "    genre_dict = {\n",
        "        \"romance\": [\n",
        "            \"fiction_romance_general\", \"fiction_romance_historical_general\",\n",
        "            \"romance\", \"man_woman_relationships\", \"fiction_romance_suspense\",\n",
        "            \"fiction_romance_contemporary\",\n",
        "            \"fiction_romance_erotica\", \"fiction_romance_erotic\",\n",
        "            \"marriage_fiction\", \"fiction_erotica_general\", \"romance\",\n",
        "            \"fiction_christian_romance_general\", \"fiction_romance_historical\"\n",
        "        ],\n",
        "        \"fantasy\": [\n",
        "            \"fiction\", \"fantasy_fiction\", \"magic\", \"fiction_fantasy_general\",\n",
        "            \"adventure_and_adventurers_fiction\",\n",
        "            \"adventure_and_adventurers\", \"good_and_evil\", \"fairies\", \"dragons\",\n",
        "            \"cartoons_and_comics\", \"witchcraft\", \"history\", \"wizards\", \"fairies_fiction\"\n",
        "        ],\n",
        "        \"historical_fiction\": [\n",
        "            \"fiction\", \"historical_fiction\", \"history\", \"fiction_historical_general\",\n",
        "            \"fiction_romance_historical_general\", \"fiction_historical\", \"fiction_general\",\n",
        "            \"fiction_romance_historical\", \"world_war_1939_1945\", \"great_britain_fiction\"\n",
        "        ],\n",
        "        \"horror\": [\n",
        "            \"fiction\", \"horror\", \"horror_stories\", \"horror_tales\", \"american_horror_tales\",\n",
        "            \"horror_fiction\", \"detective_and_mystery_stories\", \"crime\", \"catalepsy\", \"murder\",\n",
        "            \"burial_vaults\"\n",
        "        ],\n",
        "        \"humor\": [\n",
        "            \"anecdotes\", \"humor_general\", \"american_wit_and_humor\",\n",
        "            \"wit_and_humor\", \"humour\", \"humor\", \"funny\"\n",
        "        ],\n",
        "        \"literature\": [\n",
        "            \"philosophy\", \"in_literature\", \"theory\", \"criticism\", \"criticism_and_interpretation\",\n",
        "            \"english_literature\", \"modern_literature\", \"american_literature\",\n",
        "            \"literature\", \"litterature\"\n",
        "        ],\n",
        "        \"mystery_thriller\": [\n",
        "            \"detective_and_mystery_stories\", \"mystery_fiction\", \"murder\", \"mystery\",\n",
        "            \"thriller\", \"detective\", \"fiction_thrillers_general\",\n",
        "            \"suspense\", \"fiction_thrillers_suspense\", \"fiction_suspense\",\n",
        "            \"mystery\", \"thriller\", \"murder\",\n",
        "            \"fiction_thrillers_espionage\", \"police\",\n",
        "            \"suspense_fiction\", \"fiction_general\", \"detective_and_mystery_stories\",\n",
        "            \"crimes_against\", \"fiction_psychological\", \"investigation\"\n",
        "        ],\n",
        "        \"science_fiction\": [\n",
        "            \"science_fiction\", \"fiction_science_fiction_general\", \"american_science_fiction\",\n",
        "            \"extraterrestrial_beings\", \"life_on_other_planets\", \"extraterrestrial_beings_fiction\",\n",
        "            \"time_travel\", \"sci_fi\", \"sci-fi\", \"science-fiction\"\n",
        "        ]\n",
        "    }\n",
        "\n",
        "    if subject not in genre_dict:\n",
        "        raise ValueError(\"Invalid genre. Please choose from the predefined genres: \\\n",
        "        romance, fantasy, historical_fiction, horror, humor, literature, \\\n",
        "        mystery_thriller, science_fiction.\")\n",
        "\n",
        "    books_under_genre = []\n",
        "    seen_books = set()  # To store unique books\n",
        "    i = 1\n",
        "    print(f\"\\nBooks under the genre '{subject}':\\n\")\n",
        "\n",
        "    for sub_genre in genre_dict[subject]:\n",
        "        books = get_books_by_subject(sub_genre)  # Get books for the sub-genre\n",
        "\n",
        "        if books:\n",
        "            for book in books:\n",
        "                # Extract the book title and author for uniqueness check)\n",
        "                title_author = book['author']\n",
        "                if title_author is None:\n",
        "                  print(\"no author\")\n",
        "\n",
        "                # Ensure no dupicates\n",
        "                if title_author not in seen_books:\n",
        "                    print(f\"{i}. {book['title']} by {book['author']}\")\n",
        "                    books_under_genre.append(book)\n",
        "                    seen_books.add(title_author)\n",
        "                    i += 1\n",
        "\n",
        "        else:\n",
        "            print(f\"No books found for sub-genre '{sub_genre}'\")\n",
        "\n",
        "    return books_under_genre\n"
      ],
      "metadata": {
        "id": "UfwwK6xYQvEJ"
      },
      "execution_count": null,
      "outputs": []
    },
    {
      "cell_type": "markdown",
      "source": [
        "### Romance books:"
      ],
      "metadata": {
        "id": "Mf3lNHW1eo3B"
      }
    },
    {
      "cell_type": "code",
      "source": [
        "romance_books = combine_genre(\"romance\")"
      ],
      "metadata": {
        "id": "dPvBaC3jrM7r",
        "outputId": "eb01fbd8-89d9-4b3b-ab5d-96a2d0f7284e",
        "colab": {
          "base_uri": "https://localhost:8080/"
        }
      },
      "execution_count": null,
      "outputs": [
        {
          "output_type": "stream",
          "name": "stdout",
          "text": [
            "\n",
            "Books under the genre 'romance':\n",
            "\n",
            "1. Pride and Prejudice by Jane Austen\n",
            "2. Wuthering Heights by Emily Brontë\n",
            "3. Is he lying to you? by Dan Crum\n",
            "4. Rebecca by Daphne du Maurier\n",
            "5. Loving by Danielle Steel\n",
            "6. Fifty Shades Freed by E. L. James\n",
            "7. Memoirs of Fanny Hill by John Cleland\n",
            "8. Decamerone by Giovanni Boccaccio\n",
            "9. Far From the Madding Crowd by Thomas Hardy\n"
          ]
        }
      ]
    },
    {
      "cell_type": "markdown",
      "source": [
        "### Fantasy books:"
      ],
      "metadata": {
        "id": "_xL8yNmgexYq"
      }
    },
    {
      "cell_type": "code",
      "source": [
        "fantasy_books = combine_genre(\"fantasy\")"
      ],
      "metadata": {
        "id": "nHtVwvO_eyiK",
        "outputId": "a28ea7c1-4ccd-4690-cbad-7d1d2b798f1d",
        "colab": {
          "base_uri": "https://localhost:8080/"
        }
      },
      "execution_count": null,
      "outputs": [
        {
          "output_type": "stream",
          "name": "stdout",
          "text": [
            "\n",
            "Books under the genre 'fantasy':\n",
            "\n",
            "1. Pride and Prejudice by Jane Austen\n",
            "2. Alice's Adventures in Wonderland by Lewis Carroll\n",
            "3. The Marvelous Land of Oz by L. Frank Baum\n",
            "4. Five Children and It by Edith Nesbit\n",
            "5. A Christmas Carol by Charles Dickens\n",
            "6. Harry Potter and the Chamber of Secrets by J. K. Rowling\n"
          ]
        }
      ]
    },
    {
      "cell_type": "markdown",
      "source": [
        "### Historical Fiction books:"
      ],
      "metadata": {
        "id": "nYkhIBUue6fG"
      }
    },
    {
      "cell_type": "code",
      "source": [
        "combine_genre(\"historical_fiction\")"
      ],
      "metadata": {
        "id": "erWMCGZyfMsn",
        "outputId": "6576fbdf-3006-496d-c45a-10ab9cbf4bc1",
        "colab": {
          "base_uri": "https://localhost:8080/"
        }
      },
      "execution_count": null,
      "outputs": [
        {
          "output_type": "stream",
          "name": "stdout",
          "text": [
            "\n",
            "Books under the genre 'historical_fiction':\n",
            "\n",
            "1. Pride and Prejudice by Jane Austen (1813)\n",
            "2. A Christmas Carol by Charles Dickens (1843)\n",
            "3. Alice's Adventures in Wonderland by Lewis Carroll (1865)\n",
            "4. The 12th SS by Meyer, Hubert (2005)\n"
          ]
        }
      ]
    },
    {
      "cell_type": "markdown",
      "source": [
        "### Horror Books"
      ],
      "metadata": {
        "id": "23U6zbzCiknR"
      }
    },
    {
      "cell_type": "code",
      "source": [
        "combine_genre(\"horror\")"
      ],
      "metadata": {
        "colab": {
          "base_uri": "https://localhost:8080/"
        },
        "id": "OelIMn9AieMo",
        "outputId": "0627fd5d-d77c-4796-f01d-45fdaa569c7f"
      },
      "execution_count": null,
      "outputs": [
        {
          "output_type": "stream",
          "name": "stdout",
          "text": [
            "\n",
            "Books under the genre 'horror':\n",
            "\n",
            "1. Pride and Prejudice by Jane Austen (1813)\n",
            "2. The Picture of Dorian Gray by Oscar Wilde (1890)\n",
            "3. Frankenstein or The Modern Prometheus by Mary Shelley (1818)\n",
            "4. Carrie by Stephen King (1974)\n",
            "5. A Study in Scarlet by Arthur Conan Doyle (1887)\n",
            "6. The Hound of the Baskervilles by Arthur Conan Doyle (1900)\n",
            "7. Memoirs of Sherlock Holmes [11 stories] by Arthur Conan Doyle (1893)\n",
            "8. The Works of Edgar Allan Poe in Five Volumes by Edgar Allan Poe (1903)\n"
          ]
        }
      ]
    },
    {
      "cell_type": "markdown",
      "source": [
        "### Humor Books"
      ],
      "metadata": {
        "id": "RNbSJfnwrvnv"
      }
    },
    {
      "cell_type": "code",
      "source": [
        "combine_genre(\"humor\")"
      ],
      "metadata": {
        "id": "anU2Zx_Sr9QN",
        "outputId": "4628e936-0025-4005-faeb-5c96f4cccaa6",
        "colab": {
          "base_uri": "https://localhost:8080/"
        }
      },
      "execution_count": null,
      "outputs": [
        {
          "output_type": "stream",
          "name": "stdout",
          "text": [
            "\n",
            "Books under the genre 'humor':\n",
            "\n",
            "1. The Second Jungle Book by Rudyard Kipling (1887)\n",
            "2. Candide by Voltaire (1746)\n",
            "3. Three Men in a Boat (to say nothing of the dog) by Jerome Klapka Jerome (1889)\n",
            "4. Adventures of Huckleberry Finn by Mark Twain (1876)\n",
            "5. Alice's Adventures in Wonderland by Lewis Carroll (1865)\n",
            "6. The BFG by Roald Dahl (1980)\n"
          ]
        }
      ]
    },
    {
      "cell_type": "markdown",
      "source": [
        "### Literature Books"
      ],
      "metadata": {
        "id": "dbRol0qTr0Gk"
      }
    },
    {
      "cell_type": "code",
      "source": [
        "combine_genre(\"literature\")"
      ],
      "metadata": {
        "id": "TOYICVImsNBY",
        "outputId": "7ec90b99-85f2-4a61-9e86-3c5f7c6a3036",
        "colab": {
          "base_uri": "https://localhost:8080/"
        }
      },
      "execution_count": null,
      "outputs": [
        {
          "output_type": "stream",
          "name": "stdout",
          "text": [
            "\n",
            "Books under the genre 'literature':\n",
            "\n",
            "1. The Art of War by Sun Tzu (1900)\n",
            "2. Bible by Bible (1200)\n",
            "3. La Poetica by Aristotle (1479)\n",
            "4. The Merchant of Venice by William Shakespeare (1600)\n",
            "5. Alice's Adventures in Wonderland by Lewis Carroll (1865)\n",
            "6. Pride and Prejudice by Jane Austen (1813)\n",
            "7. Don Quixote by Miguel de Cervantes Saavedra (1600)\n",
            "8. Adventures of Huckleberry Finn by Mark Twain (1876)\n",
            "9. Literacy for the 21st Century by Gail E. Tompkins (1996)\n"
          ]
        }
      ]
    },
    {
      "cell_type": "markdown",
      "source": [
        "### Mystery/Thriller Books"
      ],
      "metadata": {
        "id": "OMy34Ddgr1z2"
      }
    },
    {
      "cell_type": "code",
      "source": [
        "combine_genre(\"mystery_thriller\")"
      ],
      "metadata": {
        "id": "7xG5CM7FsQ9E",
        "outputId": "9cd62f0e-9024-4179-e857-b5343c282be3",
        "colab": {
          "base_uri": "https://localhost:8080/"
        }
      },
      "execution_count": null,
      "outputs": [
        {
          "output_type": "stream",
          "name": "stdout",
          "text": [
            "\n",
            "Books under the genre 'mystery_thriller':\n",
            "\n",
            "1. A Study in Scarlet by Arthur Conan Doyle (1887)\n",
            "2. The Hound of the Baskervilles by Arthur Conan Doyle (1900)\n",
            "3. Treasure Island by Robert Louis Stevenson (1880)\n",
            "4. Murder on the Orient Express by Agatha Christie (1933)\n",
            "5. A Christmas Carol by Charles Dickens (1843)\n",
            "6. The Thirty-Nine Steps by John Buchan (1915)\n",
            "7. The Moonstone by Wilkie Collins (1868)\n",
            "8. Alice's Adventures in Wonderland by Lewis Carroll (1865)\n",
            "9. The Da Vinci Code by Dan Brown (2003)\n",
            "10. Wuthering Heights by Emily Brontë (1846)\n",
            "11. The Mysterious Affair at Styles by Agatha Christie (1920)\n"
          ]
        }
      ]
    },
    {
      "cell_type": "markdown",
      "source": [
        "### Science Fiction Books"
      ],
      "metadata": {
        "id": "V2l384hqr4mK"
      }
    },
    {
      "cell_type": "code",
      "source": [
        "combine_genre(\"science_fiction\")"
      ],
      "metadata": {
        "id": "YwHz35VIsp7r",
        "outputId": "6148a776-b135-48f2-c67d-d6333c0f2d94",
        "colab": {
          "base_uri": "https://localhost:8080/"
        }
      },
      "execution_count": null,
      "outputs": [
        {
          "output_type": "stream",
          "name": "stdout",
          "text": [
            "\n",
            "Books under the genre 'science_fiction':\n",
            "\n",
            "1. Alice's Adventures in Wonderland by Lewis Carroll (1865)\n",
            "2. Frankenstein or The Modern Prometheus by Mary Shelley (1818)\n",
            "3. Fahrenheit 451 by Ray Bradbury (1953)\n",
            "4. The War of the Worlds by H. G. Wells (1898)\n",
            "5. The Time Machine by H. G. Wells (1895)\n",
            "6. The Giver by Lois Lowry (1993)\n",
            "7. A Wrinkle in Time by Madeleine L'Engle (1962)\n"
          ]
        }
      ]
    },
    {
      "cell_type": "markdown",
      "source": [
        "# Create table for putting books based on genre"
      ],
      "metadata": {
        "id": "N6ORY0rUVMF_"
      }
    },
    {
      "cell_type": "code",
      "source": [
        "def book_details(books_under_genre):\n",
        "  book_data = {'ISBN': [],\n",
        "               'Title': [],\n",
        "               'Author': [],\n",
        "               'Published_year': [],\n",
        "               'Subject': []\n",
        "               }\n"
      ],
      "metadata": {
        "id": "gCi3Wqs1VObB"
      },
      "execution_count": null,
      "outputs": []
    },
    {
      "cell_type": "markdown",
      "source": [
        "# Step 3 - Scrape User Ratings & Reviews"
      ],
      "metadata": {
        "id": "2ub8gV81QUu-"
      }
    },
    {
      "cell_type": "code",
      "source": [
        "import requests\n",
        "from bs4 import BeautifulSoup\n",
        "import re\n",
        "link = \"https://openlibrary.org/subjects\"\n",
        "data = requests.get(link).text\n",
        "response = requests.get(link)\n",
        "soup = BeautifulSoup(response.text, 'html.parser')"
      ],
      "metadata": {
        "id": "jInyi4pge6cG"
      },
      "execution_count": 2,
      "outputs": []
    },
    {
      "cell_type": "code",
      "source": [
        "book_link = \"https://openlibrary.org/works/OL103123W/Fahrenheit_451#reader-observations\"\n",
        "\n",
        "def link2soup(link):\n",
        "    data = requests.get(link).text\n",
        "    return BeautifulSoup(data)\n",
        "\n",
        "soup = link2soup(book_link)"
      ],
      "metadata": {
        "id": "hWIPCexT1Z9P"
      },
      "execution_count": null,
      "outputs": []
    },
    {
      "cell_type": "code",
      "source": [
        "def parse_to_books(link):\n",
        "    '''\n",
        "    Assume we start in \"https://openlibrary.org/subjects\" (base link) page,\n",
        "    crawls to each chosen subject link and add it to the base link.\n",
        "    '''\n",
        "    # assume start in \"https://openlibrary.org/subjects\" page\n",
        "    chosen_subjects = {\n",
        "        \"romance\", \"fantasy\", \"historical_fiction\", \"horror\", \"humor\",\n",
        "        \"literature\", \"mystery_and_detective_stories\", \"science_fiction\"\n",
        "    }\n",
        "\n",
        "    # Extract all subjects links\n",
        "    all_links = [a['href'] for a in soup.select(\"div#subjectsPage ul li a\") if 'href' in a.attrs]\n",
        "    # print(all_links[:5])\n",
        "\n",
        "    # Filter only the chosen subjects\n",
        "    filtered_links = [\n",
        "        link for link in all_links\n",
        "        # ensure only parsing on wanted subjects\n",
        "        if any(sub in link for sub in chosen_subjects) and \"juvenile_literature\" not in link]\n",
        "    # print(filtered_links)\n",
        "\n",
        "    # assume we wish to click the 'fantasy' (specific subject) page\n",
        "    # crawling through links\n",
        "    specific_subject_urls = []\n",
        "    for i in range(len(filtered_links)):\n",
        "        next_button = filtered_links[i].split('/')[2]\n",
        "        specific_subject_url = link + \"/\" + next_button\n",
        "        specific_subject_urls.append(specific_subject_url)\n",
        "\n",
        "    return(specific_subject_urls)"
      ],
      "metadata": {
        "id": "KhOrVgb2XMfw"
      },
      "execution_count": null,
      "outputs": []
    },
    {
      "cell_type": "code",
      "source": [
        "subject_links = parse_to_books(link)\n",
        "subject_links"
      ],
      "metadata": {
        "id": "mnw9yqwzecNp",
        "outputId": "f71fd249-063f-4edb-d2ef-9241c12c26da",
        "colab": {
          "base_uri": "https://localhost:8080/"
        }
      },
      "execution_count": null,
      "outputs": [
        {
          "output_type": "execute_result",
          "data": {
            "text/plain": [
              "['https://openlibrary.org/subjects/fantasy',\n",
              " 'https://openlibrary.org/subjects/historical_fiction',\n",
              " 'https://openlibrary.org/subjects/horror',\n",
              " 'https://openlibrary.org/subjects/humor',\n",
              " 'https://openlibrary.org/subjects/literature',\n",
              " 'https://openlibrary.org/subjects/mystery_and_detective_stories',\n",
              " 'https://openlibrary.org/subjects/romance',\n",
              " 'https://openlibrary.org/subjects/science_fiction']"
            ]
          },
          "metadata": {},
          "execution_count": 28
        }
      ]
    },
    {
      "cell_type": "code",
      "source": [
        "# not complete in a function yet\n",
        "# assumes we want to go to the total \"works\" under each subject\n",
        "specific_subject_url_book = []\n",
        "for url in subject_links:\n",
        "    response2 = requests.get(url)  # Make request to each URL\n",
        "    soup2 = BeautifulSoup(response2.text, 'html.parser')  # Parse the HTML\n",
        "\n",
        "    # Extract total works link\n",
        "    total_works_link = [a['href'] for a in soup2.select(\"span#coversCount.count a\") if 'href' in a.attrs]\n",
        "\n",
        "    # Print extracted links (if any)\n",
        "    print(f\"Total works links for {url}: {total_works_link}\")\n",
        "\n",
        "    # Ensure the extracted links list is not empty before iterating\n",
        "    if total_works_link:\n",
        "        for i in range(len(total_works_link)):\n",
        "            next_button2 = total_works_link[i].split('/')[1]  # Extract the relevant part\n",
        "            print(f\"Extracted path: {next_button2}\")  # Debugging output\n",
        "\n",
        "            # Construct the full URL\n",
        "            specific_subject_url = url + \"/\" + next_button2  # Using `url`, not `link`\n",
        "            specific_subject_url_book.append(specific_subject_url)  # Store the URLs\n",
        "\n",
        "# Print all collected subject URLs\n",
        "print(\"\\nFinal collected URLs:\", specific_subject_url_book)"
      ],
      "metadata": {
        "id": "yOls7kkbwKoa",
        "outputId": "f8e63c7e-20f6-41fa-f3c3-9698962ea1b7",
        "colab": {
          "base_uri": "https://localhost:8080/"
        }
      },
      "execution_count": null,
      "outputs": [
        {
          "output_type": "stream",
          "name": "stdout",
          "text": [
            "Total works links for https://openlibrary.org/subjects/fantasy: ['/search?subject=Fantasy']\n",
            "Extracted path: search?subject=Fantasy\n",
            "Total works links for https://openlibrary.org/subjects/historical_fiction: ['/search?subject=Historical fiction']\n",
            "Extracted path: search?subject=Historical fiction\n",
            "Total works links for https://openlibrary.org/subjects/horror: ['/search?subject=Horror']\n",
            "Extracted path: search?subject=Horror\n",
            "Total works links for https://openlibrary.org/subjects/humor: []\n",
            "Total works links for https://openlibrary.org/subjects/literature: ['/search?subject=Literature']\n",
            "Extracted path: search?subject=Literature\n",
            "Total works links for https://openlibrary.org/subjects/mystery_and_detective_stories: ['/search?subject=Mystery and detective stories']\n",
            "Extracted path: search?subject=Mystery and detective stories\n",
            "Total works links for https://openlibrary.org/subjects/romance: ['/search?subject=Romance']\n",
            "Extracted path: search?subject=Romance\n",
            "Total works links for https://openlibrary.org/subjects/science_fiction: ['/search?subject=Science fiction']\n",
            "Extracted path: search?subject=Science fiction\n",
            "\n",
            "Final collected URLs: ['https://openlibrary.org/subjects/fantasy/search?subject=Fantasy', 'https://openlibrary.org/subjects/historical_fiction/search?subject=Historical fiction', 'https://openlibrary.org/subjects/horror/search?subject=Horror', 'https://openlibrary.org/subjects/literature/search?subject=Literature', 'https://openlibrary.org/subjects/mystery_and_detective_stories/search?subject=Mystery and detective stories', 'https://openlibrary.org/subjects/romance/search?subject=Romance', 'https://openlibrary.org/subjects/science_fiction/search?subject=Science fiction']\n"
          ]
        }
      ]
    },
    {
      "cell_type": "code",
      "source": [
        "# extracts the link to each book on a page\n",
        "def book_links(subject):\n",
        "    base_url = 'https://openlibrary.org'\n",
        "    subject_link = f'https://openlibrary.org/search?subject={subject}'\n",
        "    data = requests.get(subject_link).text\n",
        "    response = requests.get(subject_link)\n",
        "    soup = BeautifulSoup(response.text, 'html.parser')\n",
        "\n",
        "    book_links = []\n",
        "    endof_links = [a['href'] for a in soup.select(\"a.results\")\n",
        "                 if 'href' in a.attrs]\n",
        "    for link in endof_links:\n",
        "        book_links.append(base_url + link )\n",
        "\n",
        "    return book_links\n",
        "\n",
        "print(book_links ('Romance'))"
      ],
      "metadata": {
        "id": "hFhEn7HjCkxL",
        "outputId": "32f42d77-427a-432e-e48d-435fc3509c05",
        "colab": {
          "base_uri": "https://localhost:8080/"
        }
      },
      "execution_count": 6,
      "outputs": [
        {
          "output_type": "stream",
          "name": "stdout",
          "text": [
            "['https://openlibrary.org/works/OL77775W?edition=key%3A/books/OL46930495M', 'https://openlibrary.org/works/OL1003017W?edition=key%3A/books/OL44595490M', 'https://openlibrary.org/works/OL44995W?edition=key%3A/books/OL37044526M', 'https://openlibrary.org/works/OL15450151W?edition=key%3A/books/OL20475668M', 'https://openlibrary.org/works/OL274518W?edition=key%3A/books/OL25954563M', 'https://openlibrary.org/works/OL100239W?edition=key%3A/books/OL37847175M', 'https://openlibrary.org/works/OL15437W?edition=key%3A/books/OL26320183M', 'https://openlibrary.org/works/OL1230715W?edition=key%3A/books/OL21214329M', 'https://openlibrary.org/works/OL81294W?edition=key%3A/books/OL44811282M', 'https://openlibrary.org/works/OL15450W?edition=key%3A/books/OL23325250M', 'https://openlibrary.org/works/OL1230631W?edition=key%3A/books/OL49668278M', 'https://openlibrary.org/works/OL66534W?edition=key%3A/books/OL47079598M', 'https://openlibrary.org/works/OL468362W?edition=key%3A/books/OL1118852M', 'https://openlibrary.org/works/OL88813W?edition=key%3A/books/OL37044791M', 'https://openlibrary.org/works/OL1157252W?edition=key%3A/books/OL37044566M', 'https://openlibrary.org/works/OL66554W?edition=key%3A/books/OL50444320M', 'https://openlibrary.org/works/OL267096W?edition=key%3A/books/OL39800439M', 'https://openlibrary.org/works/OL471990W?edition=key%3A/books/OL51012140M', 'https://openlibrary.org/works/OL77748W?edition=key%3A/books/OL52187484M', 'https://openlibrary.org/works/OL54031W?edition=key%3A/books/OL32930303M']\n"
          ]
        }
      ]
    },
    {
      "cell_type": "code",
      "source": [
        "# Extracts the link to every book in every page of a subject\n",
        "def every_page(subject):\n",
        "    base_url = 'https://openlibrary.org'\n",
        "    subject_link = f'https://openlibrary.org/search?subject={subject}'\n",
        "    data = requests.get(subject_link).text\n",
        "    response = requests.get(subject_link)\n",
        "    soup = BeautifulSoup(response.text, 'html.parser')\n",
        "\n",
        "    # next_button = soup.select('div.pagination a.ChoosePage')\n",
        "    last_page = soup.select_one('a.ChoosePage[data-ol-link-track=\"Pager|LastPage\"]').get_text()\n",
        "    last_page_number = int(last_page)\n",
        "    # pages = list(range(0,last_page_number-3))\n",
        "\n",
        "    # page_links = []\n",
        "    page_links = [f'{subject_link}&page={i}' for i in range(1, last_page_number + 1)]\n",
        "\n",
        "    return page_links\n",
        "romance_pages = every_page('Romance')\n",
        "print(romance_pages[12169:12370])\n",
        "# example: romance has 12370 books so this list prints\n",
        "# the first 200 books in the Romance subject\n",
        "\n",
        "\n"
      ],
      "metadata": {
        "id": "yCbTIw5zE120",
        "outputId": "16cb1f8f-5e96-4f39-9da5-312c91cf2a26",
        "colab": {
          "base_uri": "https://localhost:8080/"
        }
      },
      "execution_count": null,
      "outputs": [
        {
          "output_type": "stream",
          "name": "stdout",
          "text": [
            "['https://openlibrary.org/search?subject=Romance&page=12170', 'https://openlibrary.org/search?subject=Romance&page=12171', 'https://openlibrary.org/search?subject=Romance&page=12172', 'https://openlibrary.org/search?subject=Romance&page=12173', 'https://openlibrary.org/search?subject=Romance&page=12174', 'https://openlibrary.org/search?subject=Romance&page=12175', 'https://openlibrary.org/search?subject=Romance&page=12176', 'https://openlibrary.org/search?subject=Romance&page=12177', 'https://openlibrary.org/search?subject=Romance&page=12178', 'https://openlibrary.org/search?subject=Romance&page=12179', 'https://openlibrary.org/search?subject=Romance&page=12180', 'https://openlibrary.org/search?subject=Romance&page=12181', 'https://openlibrary.org/search?subject=Romance&page=12182', 'https://openlibrary.org/search?subject=Romance&page=12183', 'https://openlibrary.org/search?subject=Romance&page=12184', 'https://openlibrary.org/search?subject=Romance&page=12185', 'https://openlibrary.org/search?subject=Romance&page=12186', 'https://openlibrary.org/search?subject=Romance&page=12187', 'https://openlibrary.org/search?subject=Romance&page=12188', 'https://openlibrary.org/search?subject=Romance&page=12189', 'https://openlibrary.org/search?subject=Romance&page=12190', 'https://openlibrary.org/search?subject=Romance&page=12191', 'https://openlibrary.org/search?subject=Romance&page=12192', 'https://openlibrary.org/search?subject=Romance&page=12193', 'https://openlibrary.org/search?subject=Romance&page=12194', 'https://openlibrary.org/search?subject=Romance&page=12195', 'https://openlibrary.org/search?subject=Romance&page=12196', 'https://openlibrary.org/search?subject=Romance&page=12197', 'https://openlibrary.org/search?subject=Romance&page=12198', 'https://openlibrary.org/search?subject=Romance&page=12199', 'https://openlibrary.org/search?subject=Romance&page=12200', 'https://openlibrary.org/search?subject=Romance&page=12201', 'https://openlibrary.org/search?subject=Romance&page=12202', 'https://openlibrary.org/search?subject=Romance&page=12203', 'https://openlibrary.org/search?subject=Romance&page=12204', 'https://openlibrary.org/search?subject=Romance&page=12205', 'https://openlibrary.org/search?subject=Romance&page=12206', 'https://openlibrary.org/search?subject=Romance&page=12207', 'https://openlibrary.org/search?subject=Romance&page=12208', 'https://openlibrary.org/search?subject=Romance&page=12209', 'https://openlibrary.org/search?subject=Romance&page=12210', 'https://openlibrary.org/search?subject=Romance&page=12211', 'https://openlibrary.org/search?subject=Romance&page=12212', 'https://openlibrary.org/search?subject=Romance&page=12213', 'https://openlibrary.org/search?subject=Romance&page=12214', 'https://openlibrary.org/search?subject=Romance&page=12215', 'https://openlibrary.org/search?subject=Romance&page=12216', 'https://openlibrary.org/search?subject=Romance&page=12217', 'https://openlibrary.org/search?subject=Romance&page=12218', 'https://openlibrary.org/search?subject=Romance&page=12219', 'https://openlibrary.org/search?subject=Romance&page=12220', 'https://openlibrary.org/search?subject=Romance&page=12221', 'https://openlibrary.org/search?subject=Romance&page=12222', 'https://openlibrary.org/search?subject=Romance&page=12223', 'https://openlibrary.org/search?subject=Romance&page=12224', 'https://openlibrary.org/search?subject=Romance&page=12225', 'https://openlibrary.org/search?subject=Romance&page=12226', 'https://openlibrary.org/search?subject=Romance&page=12227', 'https://openlibrary.org/search?subject=Romance&page=12228', 'https://openlibrary.org/search?subject=Romance&page=12229', 'https://openlibrary.org/search?subject=Romance&page=12230', 'https://openlibrary.org/search?subject=Romance&page=12231', 'https://openlibrary.org/search?subject=Romance&page=12232', 'https://openlibrary.org/search?subject=Romance&page=12233', 'https://openlibrary.org/search?subject=Romance&page=12234', 'https://openlibrary.org/search?subject=Romance&page=12235', 'https://openlibrary.org/search?subject=Romance&page=12236', 'https://openlibrary.org/search?subject=Romance&page=12237', 'https://openlibrary.org/search?subject=Romance&page=12238', 'https://openlibrary.org/search?subject=Romance&page=12239', 'https://openlibrary.org/search?subject=Romance&page=12240', 'https://openlibrary.org/search?subject=Romance&page=12241', 'https://openlibrary.org/search?subject=Romance&page=12242', 'https://openlibrary.org/search?subject=Romance&page=12243', 'https://openlibrary.org/search?subject=Romance&page=12244', 'https://openlibrary.org/search?subject=Romance&page=12245', 'https://openlibrary.org/search?subject=Romance&page=12246', 'https://openlibrary.org/search?subject=Romance&page=12247', 'https://openlibrary.org/search?subject=Romance&page=12248', 'https://openlibrary.org/search?subject=Romance&page=12249', 'https://openlibrary.org/search?subject=Romance&page=12250', 'https://openlibrary.org/search?subject=Romance&page=12251', 'https://openlibrary.org/search?subject=Romance&page=12252', 'https://openlibrary.org/search?subject=Romance&page=12253', 'https://openlibrary.org/search?subject=Romance&page=12254', 'https://openlibrary.org/search?subject=Romance&page=12255', 'https://openlibrary.org/search?subject=Romance&page=12256', 'https://openlibrary.org/search?subject=Romance&page=12257', 'https://openlibrary.org/search?subject=Romance&page=12258', 'https://openlibrary.org/search?subject=Romance&page=12259', 'https://openlibrary.org/search?subject=Romance&page=12260', 'https://openlibrary.org/search?subject=Romance&page=12261', 'https://openlibrary.org/search?subject=Romance&page=12262', 'https://openlibrary.org/search?subject=Romance&page=12263', 'https://openlibrary.org/search?subject=Romance&page=12264', 'https://openlibrary.org/search?subject=Romance&page=12265', 'https://openlibrary.org/search?subject=Romance&page=12266', 'https://openlibrary.org/search?subject=Romance&page=12267', 'https://openlibrary.org/search?subject=Romance&page=12268', 'https://openlibrary.org/search?subject=Romance&page=12269', 'https://openlibrary.org/search?subject=Romance&page=12270', 'https://openlibrary.org/search?subject=Romance&page=12271', 'https://openlibrary.org/search?subject=Romance&page=12272', 'https://openlibrary.org/search?subject=Romance&page=12273', 'https://openlibrary.org/search?subject=Romance&page=12274', 'https://openlibrary.org/search?subject=Romance&page=12275', 'https://openlibrary.org/search?subject=Romance&page=12276', 'https://openlibrary.org/search?subject=Romance&page=12277', 'https://openlibrary.org/search?subject=Romance&page=12278', 'https://openlibrary.org/search?subject=Romance&page=12279', 'https://openlibrary.org/search?subject=Romance&page=12280', 'https://openlibrary.org/search?subject=Romance&page=12281', 'https://openlibrary.org/search?subject=Romance&page=12282', 'https://openlibrary.org/search?subject=Romance&page=12283', 'https://openlibrary.org/search?subject=Romance&page=12284', 'https://openlibrary.org/search?subject=Romance&page=12285', 'https://openlibrary.org/search?subject=Romance&page=12286', 'https://openlibrary.org/search?subject=Romance&page=12287', 'https://openlibrary.org/search?subject=Romance&page=12288', 'https://openlibrary.org/search?subject=Romance&page=12289', 'https://openlibrary.org/search?subject=Romance&page=12290', 'https://openlibrary.org/search?subject=Romance&page=12291', 'https://openlibrary.org/search?subject=Romance&page=12292', 'https://openlibrary.org/search?subject=Romance&page=12293', 'https://openlibrary.org/search?subject=Romance&page=12294', 'https://openlibrary.org/search?subject=Romance&page=12295', 'https://openlibrary.org/search?subject=Romance&page=12296', 'https://openlibrary.org/search?subject=Romance&page=12297', 'https://openlibrary.org/search?subject=Romance&page=12298', 'https://openlibrary.org/search?subject=Romance&page=12299', 'https://openlibrary.org/search?subject=Romance&page=12300', 'https://openlibrary.org/search?subject=Romance&page=12301', 'https://openlibrary.org/search?subject=Romance&page=12302', 'https://openlibrary.org/search?subject=Romance&page=12303', 'https://openlibrary.org/search?subject=Romance&page=12304', 'https://openlibrary.org/search?subject=Romance&page=12305', 'https://openlibrary.org/search?subject=Romance&page=12306', 'https://openlibrary.org/search?subject=Romance&page=12307', 'https://openlibrary.org/search?subject=Romance&page=12308', 'https://openlibrary.org/search?subject=Romance&page=12309', 'https://openlibrary.org/search?subject=Romance&page=12310', 'https://openlibrary.org/search?subject=Romance&page=12311', 'https://openlibrary.org/search?subject=Romance&page=12312', 'https://openlibrary.org/search?subject=Romance&page=12313', 'https://openlibrary.org/search?subject=Romance&page=12314', 'https://openlibrary.org/search?subject=Romance&page=12315', 'https://openlibrary.org/search?subject=Romance&page=12316', 'https://openlibrary.org/search?subject=Romance&page=12317', 'https://openlibrary.org/search?subject=Romance&page=12318', 'https://openlibrary.org/search?subject=Romance&page=12319', 'https://openlibrary.org/search?subject=Romance&page=12320', 'https://openlibrary.org/search?subject=Romance&page=12321', 'https://openlibrary.org/search?subject=Romance&page=12322', 'https://openlibrary.org/search?subject=Romance&page=12323', 'https://openlibrary.org/search?subject=Romance&page=12324', 'https://openlibrary.org/search?subject=Romance&page=12325', 'https://openlibrary.org/search?subject=Romance&page=12326', 'https://openlibrary.org/search?subject=Romance&page=12327', 'https://openlibrary.org/search?subject=Romance&page=12328', 'https://openlibrary.org/search?subject=Romance&page=12329', 'https://openlibrary.org/search?subject=Romance&page=12330', 'https://openlibrary.org/search?subject=Romance&page=12331', 'https://openlibrary.org/search?subject=Romance&page=12332', 'https://openlibrary.org/search?subject=Romance&page=12333', 'https://openlibrary.org/search?subject=Romance&page=12334', 'https://openlibrary.org/search?subject=Romance&page=12335', 'https://openlibrary.org/search?subject=Romance&page=12336', 'https://openlibrary.org/search?subject=Romance&page=12337', 'https://openlibrary.org/search?subject=Romance&page=12338', 'https://openlibrary.org/search?subject=Romance&page=12339', 'https://openlibrary.org/search?subject=Romance&page=12340', 'https://openlibrary.org/search?subject=Romance&page=12341', 'https://openlibrary.org/search?subject=Romance&page=12342', 'https://openlibrary.org/search?subject=Romance&page=12343', 'https://openlibrary.org/search?subject=Romance&page=12344', 'https://openlibrary.org/search?subject=Romance&page=12345', 'https://openlibrary.org/search?subject=Romance&page=12346', 'https://openlibrary.org/search?subject=Romance&page=12347', 'https://openlibrary.org/search?subject=Romance&page=12348', 'https://openlibrary.org/search?subject=Romance&page=12349', 'https://openlibrary.org/search?subject=Romance&page=12350', 'https://openlibrary.org/search?subject=Romance&page=12351', 'https://openlibrary.org/search?subject=Romance&page=12352', 'https://openlibrary.org/search?subject=Romance&page=12353', 'https://openlibrary.org/search?subject=Romance&page=12354', 'https://openlibrary.org/search?subject=Romance&page=12355', 'https://openlibrary.org/search?subject=Romance&page=12356', 'https://openlibrary.org/search?subject=Romance&page=12357', 'https://openlibrary.org/search?subject=Romance&page=12358', 'https://openlibrary.org/search?subject=Romance&page=12359', 'https://openlibrary.org/search?subject=Romance&page=12360', 'https://openlibrary.org/search?subject=Romance&page=12361', 'https://openlibrary.org/search?subject=Romance&page=12362', 'https://openlibrary.org/search?subject=Romance&page=12363', 'https://openlibrary.org/search?subject=Romance&page=12364', 'https://openlibrary.org/search?subject=Romance&page=12365', 'https://openlibrary.org/search?subject=Romance&page=12366', 'https://openlibrary.org/search?subject=Romance&page=12367', 'https://openlibrary.org/search?subject=Romance&page=12368', 'https://openlibrary.org/search?subject=Romance&page=12369', 'https://openlibrary.org/search?subject=Romance&page=12370']\n"
          ]
        }
      ]
    },
    {
      "cell_type": "code",
      "source": [
        "def every_book(subject):\n",
        "    subject_link = f'https://openlibrary.org/search?subject={subject}'\n",
        "    data = requests.get(subject_link).text\n",
        "    response = requests.get(subject_link)\n",
        "    soup = BeautifulSoup(response.text, 'html.parser')\n",
        "\n",
        "    last_page = soup.select_one('a.ChoosePage[data-ol-link-track=\"Pager|LastPage\"]').get_text()\n",
        "    last_page_number = int(last_page)\n",
        "\n",
        "    page_links = [f'{subject_link}&page={i}' for i in range(1, last_page_number + 1)]\n",
        "    book_links = []\n",
        "\n",
        "    for i in page_links:\n",
        "        endof_links = [a['href'] for a in soup.select(\"div#searchResults li.searchResultItem.sri--w-main a.results\")\n",
        "                     if 'href' in a.attrs]\n",
        "        for link in endof_links:\n",
        "            book_links.append(subject_link + link)\n",
        "\n",
        "    return book_links\n",
        "\n",
        "romance_books = every_book('Romance')\n",
        "print(romance_books[:5])"
      ],
      "metadata": {
        "colab": {
          "base_uri": "https://localhost:8080/",
          "height": 252
        },
        "id": "sgDul2RJlZ-j",
        "outputId": "955bb5a0-e9b7-4f17-e332-b5fda6096874"
      },
      "execution_count": 4,
      "outputs": [
        {
          "output_type": "error",
          "ename": "KeyboardInterrupt",
          "evalue": "",
          "traceback": [
            "\u001b[0;31m---------------------------------------------------------------------------\u001b[0m",
            "\u001b[0;31mKeyboardInterrupt\u001b[0m                         Traceback (most recent call last)",
            "\u001b[0;32m<ipython-input-4-b74eb5ce24a9>\u001b[0m in \u001b[0;36m<cell line: 0>\u001b[0;34m()\u001b[0m\n\u001b[1;32m     19\u001b[0m     \u001b[0;32mreturn\u001b[0m \u001b[0mbook_links\u001b[0m\u001b[0;34m\u001b[0m\u001b[0;34m\u001b[0m\u001b[0m\n\u001b[1;32m     20\u001b[0m \u001b[0;34m\u001b[0m\u001b[0m\n\u001b[0;32m---> 21\u001b[0;31m \u001b[0mromance_books\u001b[0m \u001b[0;34m=\u001b[0m \u001b[0mevery_book\u001b[0m\u001b[0;34m(\u001b[0m\u001b[0;34m'Romance'\u001b[0m\u001b[0;34m)\u001b[0m\u001b[0;34m\u001b[0m\u001b[0;34m\u001b[0m\u001b[0m\n\u001b[0m\u001b[1;32m     22\u001b[0m \u001b[0mprint\u001b[0m\u001b[0;34m(\u001b[0m\u001b[0mromance_books\u001b[0m\u001b[0;34m[\u001b[0m\u001b[0;34m:\u001b[0m\u001b[0;36m5\u001b[0m\u001b[0;34m]\u001b[0m\u001b[0;34m)\u001b[0m\u001b[0;34m\u001b[0m\u001b[0;34m\u001b[0m\u001b[0m\n",
            "\u001b[0;32m<ipython-input-4-b74eb5ce24a9>\u001b[0m in \u001b[0;36mevery_book\u001b[0;34m(subject)\u001b[0m\n\u001b[1;32m     12\u001b[0m \u001b[0;34m\u001b[0m\u001b[0m\n\u001b[1;32m     13\u001b[0m     \u001b[0;32mfor\u001b[0m \u001b[0mi\u001b[0m \u001b[0;32min\u001b[0m \u001b[0mpage_links\u001b[0m\u001b[0;34m:\u001b[0m\u001b[0;34m\u001b[0m\u001b[0;34m\u001b[0m\u001b[0m\n\u001b[0;32m---> 14\u001b[0;31m         endof_links = [a['href'] for a in soup.select(\"div#searchResults li.searchResultItem.sri--w-main a.results\") \n\u001b[0m\u001b[1;32m     15\u001b[0m                      if 'href' in a.attrs]\n\u001b[1;32m     16\u001b[0m         \u001b[0;32mfor\u001b[0m \u001b[0mlink\u001b[0m \u001b[0;32min\u001b[0m \u001b[0mendof_links\u001b[0m\u001b[0;34m:\u001b[0m\u001b[0;34m\u001b[0m\u001b[0;34m\u001b[0m\u001b[0m\n",
            "\u001b[0;32m/usr/local/lib/python3.11/dist-packages/bs4/element.py\u001b[0m in \u001b[0;36mselect\u001b[0;34m(self, selector, namespaces, limit, **kwargs)\u001b[0m\n\u001b[1;32m   2820\u001b[0m            \u001b[0msoupsieve\u001b[0m\u001b[0;34m.\u001b[0m\u001b[0mselect\u001b[0m\u001b[0;34m(\u001b[0m\u001b[0;34m)\u001b[0m \u001b[0mmethod\u001b[0m\u001b[0;34m.\u001b[0m\u001b[0;34m\u001b[0m\u001b[0;34m\u001b[0m\u001b[0m\n\u001b[1;32m   2821\u001b[0m         \"\"\"\n\u001b[0;32m-> 2822\u001b[0;31m         \u001b[0;32mreturn\u001b[0m \u001b[0mself\u001b[0m\u001b[0;34m.\u001b[0m\u001b[0mcss\u001b[0m\u001b[0;34m.\u001b[0m\u001b[0mselect\u001b[0m\u001b[0;34m(\u001b[0m\u001b[0mselector\u001b[0m\u001b[0;34m,\u001b[0m \u001b[0mnamespaces\u001b[0m\u001b[0;34m,\u001b[0m \u001b[0mlimit\u001b[0m\u001b[0;34m,\u001b[0m \u001b[0;34m**\u001b[0m\u001b[0mkwargs\u001b[0m\u001b[0;34m)\u001b[0m\u001b[0;34m\u001b[0m\u001b[0;34m\u001b[0m\u001b[0m\n\u001b[0m\u001b[1;32m   2823\u001b[0m \u001b[0;34m\u001b[0m\u001b[0m\n\u001b[1;32m   2824\u001b[0m     \u001b[0;34m@\u001b[0m\u001b[0mproperty\u001b[0m\u001b[0;34m\u001b[0m\u001b[0;34m\u001b[0m\u001b[0m\n",
            "\u001b[0;32m/usr/local/lib/python3.11/dist-packages/bs4/css.py\u001b[0m in \u001b[0;36mselect\u001b[0;34m(self, select, namespaces, limit, flags, **kwargs)\u001b[0m\n\u001b[1;32m    191\u001b[0m \u001b[0;34m\u001b[0m\u001b[0m\n\u001b[1;32m    192\u001b[0m         return self._rs(\n\u001b[0;32m--> 193\u001b[0;31m             self.api.select(\n\u001b[0m\u001b[1;32m    194\u001b[0m                 \u001b[0mselect\u001b[0m\u001b[0;34m,\u001b[0m \u001b[0mself\u001b[0m\u001b[0;34m.\u001b[0m\u001b[0mtag\u001b[0m\u001b[0;34m,\u001b[0m \u001b[0mself\u001b[0m\u001b[0;34m.\u001b[0m\u001b[0m_ns\u001b[0m\u001b[0;34m(\u001b[0m\u001b[0mnamespaces\u001b[0m\u001b[0;34m,\u001b[0m \u001b[0mselect\u001b[0m\u001b[0;34m)\u001b[0m\u001b[0;34m,\u001b[0m \u001b[0mlimit\u001b[0m\u001b[0;34m,\u001b[0m \u001b[0mflags\u001b[0m\u001b[0;34m,\u001b[0m \u001b[0;34m**\u001b[0m\u001b[0mkwargs\u001b[0m\u001b[0;34m\u001b[0m\u001b[0;34m\u001b[0m\u001b[0m\n\u001b[1;32m    195\u001b[0m             )\n",
            "\u001b[0;32m/usr/local/lib/python3.11/dist-packages/soupsieve/__init__.py\u001b[0m in \u001b[0;36mselect\u001b[0;34m(select, tag, namespaces, limit, flags, custom, **kwargs)\u001b[0m\n\u001b[1;32m    145\u001b[0m     \u001b[0;34m\"\"\"Select the specified tags.\"\"\"\u001b[0m\u001b[0;34m\u001b[0m\u001b[0;34m\u001b[0m\u001b[0m\n\u001b[1;32m    146\u001b[0m \u001b[0;34m\u001b[0m\u001b[0m\n\u001b[0;32m--> 147\u001b[0;31m     \u001b[0;32mreturn\u001b[0m \u001b[0mcompile\u001b[0m\u001b[0;34m(\u001b[0m\u001b[0mselect\u001b[0m\u001b[0;34m,\u001b[0m \u001b[0mnamespaces\u001b[0m\u001b[0;34m,\u001b[0m \u001b[0mflags\u001b[0m\u001b[0;34m,\u001b[0m \u001b[0;34m**\u001b[0m\u001b[0mkwargs\u001b[0m\u001b[0;34m)\u001b[0m\u001b[0;34m.\u001b[0m\u001b[0mselect\u001b[0m\u001b[0;34m(\u001b[0m\u001b[0mtag\u001b[0m\u001b[0;34m,\u001b[0m \u001b[0mlimit\u001b[0m\u001b[0;34m)\u001b[0m\u001b[0;34m\u001b[0m\u001b[0;34m\u001b[0m\u001b[0m\n\u001b[0m\u001b[1;32m    148\u001b[0m \u001b[0;34m\u001b[0m\u001b[0m\n\u001b[1;32m    149\u001b[0m \u001b[0;34m\u001b[0m\u001b[0m\n",
            "\u001b[0;32m/usr/local/lib/python3.11/dist-packages/soupsieve/css_match.py\u001b[0m in \u001b[0;36mselect\u001b[0;34m(self, tag, limit)\u001b[0m\n\u001b[1;32m   1562\u001b[0m         \u001b[0;34m\"\"\"Select the specified tags.\"\"\"\u001b[0m\u001b[0;34m\u001b[0m\u001b[0;34m\u001b[0m\u001b[0m\n\u001b[1;32m   1563\u001b[0m \u001b[0;34m\u001b[0m\u001b[0m\n\u001b[0;32m-> 1564\u001b[0;31m         \u001b[0;32mreturn\u001b[0m \u001b[0mlist\u001b[0m\u001b[0;34m(\u001b[0m\u001b[0mself\u001b[0m\u001b[0;34m.\u001b[0m\u001b[0miselect\u001b[0m\u001b[0;34m(\u001b[0m\u001b[0mtag\u001b[0m\u001b[0;34m,\u001b[0m \u001b[0mlimit\u001b[0m\u001b[0;34m)\u001b[0m\u001b[0;34m)\u001b[0m\u001b[0;34m\u001b[0m\u001b[0;34m\u001b[0m\u001b[0m\n\u001b[0m\u001b[1;32m   1565\u001b[0m \u001b[0;34m\u001b[0m\u001b[0m\n\u001b[1;32m   1566\u001b[0m     \u001b[0;32mdef\u001b[0m \u001b[0miselect\u001b[0m\u001b[0;34m(\u001b[0m\u001b[0mself\u001b[0m\u001b[0;34m,\u001b[0m \u001b[0mtag\u001b[0m\u001b[0;34m:\u001b[0m \u001b[0mbs4\u001b[0m\u001b[0;34m.\u001b[0m\u001b[0mTag\u001b[0m\u001b[0;34m,\u001b[0m \u001b[0mlimit\u001b[0m\u001b[0;34m:\u001b[0m \u001b[0mint\u001b[0m \u001b[0;34m=\u001b[0m \u001b[0;36m0\u001b[0m\u001b[0;34m)\u001b[0m \u001b[0;34m->\u001b[0m \u001b[0mIterator\u001b[0m\u001b[0;34m[\u001b[0m\u001b[0mbs4\u001b[0m\u001b[0;34m.\u001b[0m\u001b[0mTag\u001b[0m\u001b[0;34m]\u001b[0m\u001b[0;34m:\u001b[0m\u001b[0;34m\u001b[0m\u001b[0;34m\u001b[0m\u001b[0m\n",
            "\u001b[0;32m/usr/local/lib/python3.11/dist-packages/soupsieve/css_match.py\u001b[0m in \u001b[0;36miselect\u001b[0;34m(self, tag, limit)\u001b[0m\n\u001b[1;32m   1567\u001b[0m         \u001b[0;34m\"\"\"Iterate the specified tags.\"\"\"\u001b[0m\u001b[0;34m\u001b[0m\u001b[0;34m\u001b[0m\u001b[0m\n\u001b[1;32m   1568\u001b[0m \u001b[0;34m\u001b[0m\u001b[0m\n\u001b[0;32m-> 1569\u001b[0;31m         \u001b[0;32myield\u001b[0m \u001b[0;32mfrom\u001b[0m \u001b[0mCSSMatch\u001b[0m\u001b[0;34m(\u001b[0m\u001b[0mself\u001b[0m\u001b[0;34m.\u001b[0m\u001b[0mselectors\u001b[0m\u001b[0;34m,\u001b[0m \u001b[0mtag\u001b[0m\u001b[0;34m,\u001b[0m \u001b[0mself\u001b[0m\u001b[0;34m.\u001b[0m\u001b[0mnamespaces\u001b[0m\u001b[0;34m,\u001b[0m \u001b[0mself\u001b[0m\u001b[0;34m.\u001b[0m\u001b[0mflags\u001b[0m\u001b[0;34m)\u001b[0m\u001b[0;34m.\u001b[0m\u001b[0mselect\u001b[0m\u001b[0;34m(\u001b[0m\u001b[0mlimit\u001b[0m\u001b[0;34m)\u001b[0m\u001b[0;34m\u001b[0m\u001b[0;34m\u001b[0m\u001b[0m\n\u001b[0m\u001b[1;32m   1570\u001b[0m \u001b[0;34m\u001b[0m\u001b[0m\n\u001b[1;32m   1571\u001b[0m     \u001b[0;32mdef\u001b[0m \u001b[0m__repr__\u001b[0m\u001b[0;34m(\u001b[0m\u001b[0mself\u001b[0m\u001b[0;34m)\u001b[0m \u001b[0;34m->\u001b[0m \u001b[0mstr\u001b[0m\u001b[0;34m:\u001b[0m  \u001b[0;31m# pragma: no cover\u001b[0m\u001b[0;34m\u001b[0m\u001b[0;34m\u001b[0m\u001b[0m\n",
            "\u001b[0;32m/usr/local/lib/python3.11/dist-packages/soupsieve/css_match.py\u001b[0m in \u001b[0;36mselect\u001b[0;34m(self, limit)\u001b[0m\n\u001b[1;32m   1467\u001b[0m \u001b[0;34m\u001b[0m\u001b[0m\n\u001b[1;32m   1468\u001b[0m         \u001b[0;32mfor\u001b[0m \u001b[0mchild\u001b[0m \u001b[0;32min\u001b[0m \u001b[0mself\u001b[0m\u001b[0;34m.\u001b[0m\u001b[0mget_descendants\u001b[0m\u001b[0;34m(\u001b[0m\u001b[0mself\u001b[0m\u001b[0;34m.\u001b[0m\u001b[0mtag\u001b[0m\u001b[0;34m)\u001b[0m\u001b[0;34m:\u001b[0m\u001b[0;34m\u001b[0m\u001b[0;34m\u001b[0m\u001b[0m\n\u001b[0;32m-> 1469\u001b[0;31m             \u001b[0;32mif\u001b[0m \u001b[0mself\u001b[0m\u001b[0;34m.\u001b[0m\u001b[0mmatch\u001b[0m\u001b[0;34m(\u001b[0m\u001b[0mchild\u001b[0m\u001b[0;34m)\u001b[0m\u001b[0;34m:\u001b[0m\u001b[0;34m\u001b[0m\u001b[0;34m\u001b[0m\u001b[0m\n\u001b[0m\u001b[1;32m   1470\u001b[0m                 \u001b[0;32myield\u001b[0m \u001b[0mchild\u001b[0m\u001b[0;34m\u001b[0m\u001b[0;34m\u001b[0m\u001b[0m\n\u001b[1;32m   1471\u001b[0m                 \u001b[0;32mif\u001b[0m \u001b[0mlim\u001b[0m \u001b[0;32mis\u001b[0m \u001b[0;32mnot\u001b[0m \u001b[0;32mNone\u001b[0m\u001b[0;34m:\u001b[0m\u001b[0;34m\u001b[0m\u001b[0;34m\u001b[0m\u001b[0m\n",
            "\u001b[0;32m/usr/local/lib/python3.11/dist-packages/soupsieve/css_match.py\u001b[0m in \u001b[0;36mmatch\u001b[0;34m(self, el)\u001b[0m\n\u001b[1;32m   1494\u001b[0m         \u001b[0;34m\"\"\"Match.\"\"\"\u001b[0m\u001b[0;34m\u001b[0m\u001b[0;34m\u001b[0m\u001b[0m\n\u001b[1;32m   1495\u001b[0m \u001b[0;34m\u001b[0m\u001b[0m\n\u001b[0;32m-> 1496\u001b[0;31m         \u001b[0;32mreturn\u001b[0m \u001b[0;32mnot\u001b[0m \u001b[0mself\u001b[0m\u001b[0;34m.\u001b[0m\u001b[0mis_doc\u001b[0m\u001b[0;34m(\u001b[0m\u001b[0mel\u001b[0m\u001b[0;34m)\u001b[0m \u001b[0;32mand\u001b[0m \u001b[0mself\u001b[0m\u001b[0;34m.\u001b[0m\u001b[0mis_tag\u001b[0m\u001b[0;34m(\u001b[0m\u001b[0mel\u001b[0m\u001b[0;34m)\u001b[0m \u001b[0;32mand\u001b[0m \u001b[0mself\u001b[0m\u001b[0;34m.\u001b[0m\u001b[0mmatch_selectors\u001b[0m\u001b[0;34m(\u001b[0m\u001b[0mel\u001b[0m\u001b[0;34m,\u001b[0m \u001b[0mself\u001b[0m\u001b[0;34m.\u001b[0m\u001b[0mselectors\u001b[0m\u001b[0;34m)\u001b[0m\u001b[0;34m\u001b[0m\u001b[0;34m\u001b[0m\u001b[0m\n\u001b[0m\u001b[1;32m   1497\u001b[0m \u001b[0;34m\u001b[0m\u001b[0m\n\u001b[1;32m   1498\u001b[0m \u001b[0;34m\u001b[0m\u001b[0m\n",
            "\u001b[0;32m/usr/local/lib/python3.11/dist-packages/soupsieve/css_match.py\u001b[0m in \u001b[0;36mmatch_selectors\u001b[0;34m(self, el, selectors)\u001b[0m\n\u001b[1;32m   1398\u001b[0m                     \u001b[0;32mcontinue\u001b[0m\u001b[0;34m\u001b[0m\u001b[0;34m\u001b[0m\u001b[0m\n\u001b[1;32m   1399\u001b[0m                 \u001b[0;31m# Verify tag matches\u001b[0m\u001b[0;34m\u001b[0m\u001b[0;34m\u001b[0m\u001b[0m\n\u001b[0;32m-> 1400\u001b[0;31m                 \u001b[0;32mif\u001b[0m \u001b[0;32mnot\u001b[0m \u001b[0mself\u001b[0m\u001b[0;34m.\u001b[0m\u001b[0mmatch_tag\u001b[0m\u001b[0;34m(\u001b[0m\u001b[0mel\u001b[0m\u001b[0;34m,\u001b[0m \u001b[0mselector\u001b[0m\u001b[0;34m.\u001b[0m\u001b[0mtag\u001b[0m\u001b[0;34m)\u001b[0m\u001b[0;34m:\u001b[0m\u001b[0;34m\u001b[0m\u001b[0;34m\u001b[0m\u001b[0m\n\u001b[0m\u001b[1;32m   1401\u001b[0m                     \u001b[0;32mcontinue\u001b[0m\u001b[0;34m\u001b[0m\u001b[0;34m\u001b[0m\u001b[0m\n\u001b[1;32m   1402\u001b[0m                 \u001b[0;31m# Verify tag is defined\u001b[0m\u001b[0;34m\u001b[0m\u001b[0;34m\u001b[0m\u001b[0m\n",
            "\u001b[0;32m/usr/local/lib/python3.11/dist-packages/soupsieve/css_match.py\u001b[0m in \u001b[0;36mmatch_tag\u001b[0;34m(self, el, tag)\u001b[0m\n\u001b[1;32m    757\u001b[0m         \u001b[0;32mif\u001b[0m \u001b[0mtag\u001b[0m \u001b[0;32mis\u001b[0m \u001b[0;32mnot\u001b[0m \u001b[0;32mNone\u001b[0m\u001b[0;34m:\u001b[0m\u001b[0;34m\u001b[0m\u001b[0;34m\u001b[0m\u001b[0m\n\u001b[1;32m    758\u001b[0m             \u001b[0;31m# Verify namespace\u001b[0m\u001b[0;34m\u001b[0m\u001b[0;34m\u001b[0m\u001b[0m\n\u001b[0;32m--> 759\u001b[0;31m             \u001b[0;32mif\u001b[0m \u001b[0;32mnot\u001b[0m \u001b[0mself\u001b[0m\u001b[0;34m.\u001b[0m\u001b[0mmatch_namespace\u001b[0m\u001b[0;34m(\u001b[0m\u001b[0mel\u001b[0m\u001b[0;34m,\u001b[0m \u001b[0mtag\u001b[0m\u001b[0;34m)\u001b[0m\u001b[0;34m:\u001b[0m\u001b[0;34m\u001b[0m\u001b[0;34m\u001b[0m\u001b[0m\n\u001b[0m\u001b[1;32m    760\u001b[0m                 \u001b[0mmatch\u001b[0m \u001b[0;34m=\u001b[0m \u001b[0;32mFalse\u001b[0m\u001b[0;34m\u001b[0m\u001b[0;34m\u001b[0m\u001b[0m\n\u001b[1;32m    761\u001b[0m             \u001b[0;32mif\u001b[0m \u001b[0;32mnot\u001b[0m \u001b[0mself\u001b[0m\u001b[0;34m.\u001b[0m\u001b[0mmatch_tagname\u001b[0m\u001b[0;34m(\u001b[0m\u001b[0mel\u001b[0m\u001b[0;34m,\u001b[0m \u001b[0mtag\u001b[0m\u001b[0;34m)\u001b[0m\u001b[0;34m:\u001b[0m\u001b[0;34m\u001b[0m\u001b[0;34m\u001b[0m\u001b[0m\n",
            "\u001b[0;32m/usr/local/lib/python3.11/dist-packages/soupsieve/css_match.py\u001b[0m in \u001b[0;36mmatch_namespace\u001b[0;34m(self, el, tag)\u001b[0m\n\u001b[1;32m    707\u001b[0m         \u001b[0mmatch\u001b[0m \u001b[0;34m=\u001b[0m \u001b[0;32mTrue\u001b[0m\u001b[0;34m\u001b[0m\u001b[0;34m\u001b[0m\u001b[0m\n\u001b[1;32m    708\u001b[0m         \u001b[0mnamespace\u001b[0m \u001b[0;34m=\u001b[0m \u001b[0mself\u001b[0m\u001b[0;34m.\u001b[0m\u001b[0mget_tag_ns\u001b[0m\u001b[0;34m(\u001b[0m\u001b[0mel\u001b[0m\u001b[0;34m)\u001b[0m\u001b[0;34m\u001b[0m\u001b[0;34m\u001b[0m\u001b[0m\n\u001b[0;32m--> 709\u001b[0;31m         \u001b[0mdefault_namespace\u001b[0m \u001b[0;34m=\u001b[0m \u001b[0mself\u001b[0m\u001b[0;34m.\u001b[0m\u001b[0mnamespaces\u001b[0m\u001b[0;34m.\u001b[0m\u001b[0mget\u001b[0m\u001b[0;34m(\u001b[0m\u001b[0;34m''\u001b[0m\u001b[0;34m)\u001b[0m\u001b[0;34m\u001b[0m\u001b[0;34m\u001b[0m\u001b[0m\n\u001b[0m\u001b[1;32m    710\u001b[0m         \u001b[0mtag_ns\u001b[0m \u001b[0;34m=\u001b[0m \u001b[0;34m''\u001b[0m \u001b[0;32mif\u001b[0m \u001b[0mtag\u001b[0m\u001b[0;34m.\u001b[0m\u001b[0mprefix\u001b[0m \u001b[0;32mis\u001b[0m \u001b[0;32mNone\u001b[0m \u001b[0;32melse\u001b[0m \u001b[0mself\u001b[0m\u001b[0;34m.\u001b[0m\u001b[0mnamespaces\u001b[0m\u001b[0;34m.\u001b[0m\u001b[0mget\u001b[0m\u001b[0;34m(\u001b[0m\u001b[0mtag\u001b[0m\u001b[0;34m.\u001b[0m\u001b[0mprefix\u001b[0m\u001b[0;34m)\u001b[0m\u001b[0;34m\u001b[0m\u001b[0;34m\u001b[0m\u001b[0m\n\u001b[1;32m    711\u001b[0m         \u001b[0;31m# We must match the default namespace if one is not provided\u001b[0m\u001b[0;34m\u001b[0m\u001b[0;34m\u001b[0m\u001b[0m\n",
            "\u001b[0;32m/usr/lib/python3.11/_collections_abc.py\u001b[0m in \u001b[0;36mget\u001b[0;34m(self, key, default)\u001b[0m\n",
            "\u001b[0;31mKeyboardInterrupt\u001b[0m: "
          ]
        }
      ]
    },
    {
      "cell_type": "code",
      "source": [
        "def parse_book_review(subject_links):\n",
        "  pass"
      ],
      "metadata": {
        "id": "xTfA_9wUfYkE"
      },
      "execution_count": null,
      "outputs": []
    },
    {
      "cell_type": "code",
      "source": [
        "community_reviews = [x.get_text() for x in soup.select(\"span.reviews__value\")]\n",
        "community_data = [re.search(r'\\s*(\\w[\\w\\s]*)',x).group(1).strip() for x in community_reviews]\n",
        "print(community_reviews)"
      ],
      "metadata": {
        "id": "_I8Ds79-gFwY",
        "outputId": "130b8927-aacf-47af-c122-1bbe413a0e16",
        "colab": {
          "base_uri": "https://localhost:8080/"
        }
      },
      "execution_count": null,
      "outputs": [
        {
          "output_type": "stream",
          "name": "stdout",
          "text": [
            "[]\n"
          ]
        }
      ]
    },
    {
      "cell_type": "code",
      "source": [
        "community_reviews = [x.get_text() for x in soup.select(\"span.reviews__value\")]\n",
        "community_data = [re.search(r'\\s*(\\w[\\w\\s]*)',x).group(1).strip() for x in community_reviews]\n",
        "\n",
        "review_percentage = [x.get_text() for x in soup.select(\"span.percentage\")]\n",
        "percentage_data = [re.search(r'\\s*(\\w[\\w\\s]*)',x).group(1).strip() for x in review_percentage]\n",
        "\n",
        "import pandas as pd\n",
        "df = pd.DataFrame(data = {\n",
        "    \"Review\" : community_data,\n",
        "    \"Ratings\" : percentage_data\n",
        "   # \"Number of Reviews\" : number_of_reviews\n",
        "\n",
        "})\n",
        "df"
      ],
      "metadata": {
        "id": "5E8Sh4l432HN",
        "outputId": "240c850c-efca-47d3-9f75-61298e8c6d0c",
        "colab": {
          "base_uri": "https://localhost:8080/",
          "height": 89
        }
      },
      "execution_count": null,
      "outputs": [
        {
          "output_type": "execute_result",
          "data": {
            "text/plain": [
              "Empty DataFrame\n",
              "Columns: [Review, Ratings]\n",
              "Index: []"
            ],
            "text/html": [
              "\n",
              "  <div id=\"df-1100f254-6520-4329-b95a-906a04157c4d\" class=\"colab-df-container\">\n",
              "    <div>\n",
              "<style scoped>\n",
              "    .dataframe tbody tr th:only-of-type {\n",
              "        vertical-align: middle;\n",
              "    }\n",
              "\n",
              "    .dataframe tbody tr th {\n",
              "        vertical-align: top;\n",
              "    }\n",
              "\n",
              "    .dataframe thead th {\n",
              "        text-align: right;\n",
              "    }\n",
              "</style>\n",
              "<table border=\"1\" class=\"dataframe\">\n",
              "  <thead>\n",
              "    <tr style=\"text-align: right;\">\n",
              "      <th></th>\n",
              "      <th>Review</th>\n",
              "      <th>Ratings</th>\n",
              "    </tr>\n",
              "  </thead>\n",
              "  <tbody>\n",
              "  </tbody>\n",
              "</table>\n",
              "</div>\n",
              "    <div class=\"colab-df-buttons\">\n",
              "\n",
              "  <div class=\"colab-df-container\">\n",
              "    <button class=\"colab-df-convert\" onclick=\"convertToInteractive('df-1100f254-6520-4329-b95a-906a04157c4d')\"\n",
              "            title=\"Convert this dataframe to an interactive table.\"\n",
              "            style=\"display:none;\">\n",
              "\n",
              "  <svg xmlns=\"http://www.w3.org/2000/svg\" height=\"24px\" viewBox=\"0 -960 960 960\">\n",
              "    <path d=\"M120-120v-720h720v720H120Zm60-500h600v-160H180v160Zm220 220h160v-160H400v160Zm0 220h160v-160H400v160ZM180-400h160v-160H180v160Zm440 0h160v-160H620v160ZM180-180h160v-160H180v160Zm440 0h160v-160H620v160Z\"/>\n",
              "  </svg>\n",
              "    </button>\n",
              "\n",
              "  <style>\n",
              "    .colab-df-container {\n",
              "      display:flex;\n",
              "      gap: 12px;\n",
              "    }\n",
              "\n",
              "    .colab-df-convert {\n",
              "      background-color: #E8F0FE;\n",
              "      border: none;\n",
              "      border-radius: 50%;\n",
              "      cursor: pointer;\n",
              "      display: none;\n",
              "      fill: #1967D2;\n",
              "      height: 32px;\n",
              "      padding: 0 0 0 0;\n",
              "      width: 32px;\n",
              "    }\n",
              "\n",
              "    .colab-df-convert:hover {\n",
              "      background-color: #E2EBFA;\n",
              "      box-shadow: 0px 1px 2px rgba(60, 64, 67, 0.3), 0px 1px 3px 1px rgba(60, 64, 67, 0.15);\n",
              "      fill: #174EA6;\n",
              "    }\n",
              "\n",
              "    .colab-df-buttons div {\n",
              "      margin-bottom: 4px;\n",
              "    }\n",
              "\n",
              "    [theme=dark] .colab-df-convert {\n",
              "      background-color: #3B4455;\n",
              "      fill: #D2E3FC;\n",
              "    }\n",
              "\n",
              "    [theme=dark] .colab-df-convert:hover {\n",
              "      background-color: #434B5C;\n",
              "      box-shadow: 0px 1px 3px 1px rgba(0, 0, 0, 0.15);\n",
              "      filter: drop-shadow(0px 1px 2px rgba(0, 0, 0, 0.3));\n",
              "      fill: #FFFFFF;\n",
              "    }\n",
              "  </style>\n",
              "\n",
              "    <script>\n",
              "      const buttonEl =\n",
              "        document.querySelector('#df-1100f254-6520-4329-b95a-906a04157c4d button.colab-df-convert');\n",
              "      buttonEl.style.display =\n",
              "        google.colab.kernel.accessAllowed ? 'block' : 'none';\n",
              "\n",
              "      async function convertToInteractive(key) {\n",
              "        const element = document.querySelector('#df-1100f254-6520-4329-b95a-906a04157c4d');\n",
              "        const dataTable =\n",
              "          await google.colab.kernel.invokeFunction('convertToInteractive',\n",
              "                                                    [key], {});\n",
              "        if (!dataTable) return;\n",
              "\n",
              "        const docLinkHtml = 'Like what you see? Visit the ' +\n",
              "          '<a target=\"_blank\" href=https://colab.research.google.com/notebooks/data_table.ipynb>data table notebook</a>'\n",
              "          + ' to learn more about interactive tables.';\n",
              "        element.innerHTML = '';\n",
              "        dataTable['output_type'] = 'display_data';\n",
              "        await google.colab.output.renderOutput(dataTable, element);\n",
              "        const docLink = document.createElement('div');\n",
              "        docLink.innerHTML = docLinkHtml;\n",
              "        element.appendChild(docLink);\n",
              "      }\n",
              "    </script>\n",
              "  </div>\n",
              "\n",
              "\n",
              "  <div id=\"id_bd12ce8d-2131-4861-854c-d736bdb28b6b\">\n",
              "    <style>\n",
              "      .colab-df-generate {\n",
              "        background-color: #E8F0FE;\n",
              "        border: none;\n",
              "        border-radius: 50%;\n",
              "        cursor: pointer;\n",
              "        display: none;\n",
              "        fill: #1967D2;\n",
              "        height: 32px;\n",
              "        padding: 0 0 0 0;\n",
              "        width: 32px;\n",
              "      }\n",
              "\n",
              "      .colab-df-generate:hover {\n",
              "        background-color: #E2EBFA;\n",
              "        box-shadow: 0px 1px 2px rgba(60, 64, 67, 0.3), 0px 1px 3px 1px rgba(60, 64, 67, 0.15);\n",
              "        fill: #174EA6;\n",
              "      }\n",
              "\n",
              "      [theme=dark] .colab-df-generate {\n",
              "        background-color: #3B4455;\n",
              "        fill: #D2E3FC;\n",
              "      }\n",
              "\n",
              "      [theme=dark] .colab-df-generate:hover {\n",
              "        background-color: #434B5C;\n",
              "        box-shadow: 0px 1px 3px 1px rgba(0, 0, 0, 0.15);\n",
              "        filter: drop-shadow(0px 1px 2px rgba(0, 0, 0, 0.3));\n",
              "        fill: #FFFFFF;\n",
              "      }\n",
              "    </style>\n",
              "    <button class=\"colab-df-generate\" onclick=\"generateWithVariable('df')\"\n",
              "            title=\"Generate code using this dataframe.\"\n",
              "            style=\"display:none;\">\n",
              "\n",
              "  <svg xmlns=\"http://www.w3.org/2000/svg\" height=\"24px\"viewBox=\"0 0 24 24\"\n",
              "       width=\"24px\">\n",
              "    <path d=\"M7,19H8.4L18.45,9,17,7.55,7,17.6ZM5,21V16.75L18.45,3.32a2,2,0,0,1,2.83,0l1.4,1.43a1.91,1.91,0,0,1,.58,1.4,1.91,1.91,0,0,1-.58,1.4L9.25,21ZM18.45,9,17,7.55Zm-12,3A5.31,5.31,0,0,0,4.9,8.1,5.31,5.31,0,0,0,1,6.5,5.31,5.31,0,0,0,4.9,4.9,5.31,5.31,0,0,0,6.5,1,5.31,5.31,0,0,0,8.1,4.9,5.31,5.31,0,0,0,12,6.5,5.46,5.46,0,0,0,6.5,12Z\"/>\n",
              "  </svg>\n",
              "    </button>\n",
              "    <script>\n",
              "      (() => {\n",
              "      const buttonEl =\n",
              "        document.querySelector('#id_bd12ce8d-2131-4861-854c-d736bdb28b6b button.colab-df-generate');\n",
              "      buttonEl.style.display =\n",
              "        google.colab.kernel.accessAllowed ? 'block' : 'none';\n",
              "\n",
              "      buttonEl.onclick = () => {\n",
              "        google.colab.notebook.generateWithVariable('df');\n",
              "      }\n",
              "      })();\n",
              "    </script>\n",
              "  </div>\n",
              "\n",
              "    </div>\n",
              "  </div>\n"
            ],
            "application/vnd.google.colaboratory.intrinsic+json": {
              "type": "dataframe",
              "variable_name": "df",
              "summary": "{\n  \"name\": \"df\",\n  \"rows\": 0,\n  \"fields\": [\n    {\n      \"column\": \"Review\",\n      \"properties\": {\n        \"dtype\": \"number\",\n        \"std\": null,\n        \"min\": null,\n        \"max\": null,\n        \"num_unique_values\": 0,\n        \"samples\": [],\n        \"semantic_type\": \"\",\n        \"description\": \"\"\n      }\n    },\n    {\n      \"column\": \"Ratings\",\n      \"properties\": {\n        \"dtype\": \"number\",\n        \"std\": null,\n        \"min\": null,\n        \"max\": null,\n        \"num_unique_values\": 0,\n        \"samples\": [],\n        \"semantic_type\": \"\",\n        \"description\": \"\"\n      }\n    }\n  ]\n}"
            }
          },
          "metadata": {},
          "execution_count": 22
        }
      ]
    },
    {
      "cell_type": "code",
      "source": [
        "number_of_reviews = [x.get_text() for x in soup.select(\"h2.observation-title\")]\n",
        "number_of_reviews = [re.search(r'\\((\\d+)\\)',x).group(1).strip() for x in number_of_reviews]"
      ],
      "metadata": {
        "id": "-JzidLVjQbTZ"
      },
      "execution_count": null,
      "outputs": []
    },
    {
      "cell_type": "code",
      "source": [
        "book_button1 = [x.get_text() for x in soup.select('h3', class_= 'booktitle')]\n",
        "book_button2 = [x.get_text() for x in soup.select('div', class_= 'book-cover')]\n"
      ],
      "metadata": {
        "id": "Mrb3gcOuSWV4"
      },
      "execution_count": null,
      "outputs": []
    },
    {
      "cell_type": "markdown",
      "source": [
        "May need:\n",
        "\n",
        "1. List of books that we like\n",
        "2. Books in general (found above)\n",
        "\n",
        "We can use both data to recommend books we might like (haven't read yet) - do this by finding all users who like the same books as us and then seeing what other books they like. We'll use those results to create that recommendation"
      ],
      "metadata": {
        "id": "xgoxM1_USK87"
      }
    },
    {
      "cell_type": "markdown",
      "source": [
        "## Collaborative Filtering\n",
        "\n",
        "We only want to see books that have been reviewed more than 15 times."
      ],
      "metadata": {
        "id": "2f6ALMulU2dX"
      }
    },
    {
      "cell_type": "markdown",
      "source": [
        "# What to do next:\n",
        "1. Build ML model\n",
        "  - training data: csv file containing books in a specific genre?\n",
        "  - testing data: our prediction now?\n",
        "\n",
        "2. Approaches to consider:\n",
        "  - Collaborative Filtering (based on user ratings, user reviews e.g. Goodreads)\n",
        "  - Content-Based Filtering (based on genre, content description, etc.)\n",
        "  - Combination of both Filtering Methods\n",
        "\n",
        "3. Define Training Data\n",
        "  - What should the csv file include?\n",
        "    1. Book Information: Book ID, Title, Author, Genres, Description\n",
        "    2. User Ratings: User ID, Book ID, Rating, User Reviews\n",
        "\n",
        "4. Machine Learning Models to consider:\n",
        "  - Content-Based Filtering: Book descriptions and genres\n",
        "      - TF-IDF (Term Frequency-Inverse Document Frequency): evaluates the importance of a word in a document : https://www.geeksforgeeks.org/understanding-tf-idf-term-frequency-inverse-document-frequency/\n",
        "      - Sci-Kit Learn: classifiers, feature-extraction\n",
        "  - Collaborative Filtering: User ratings and reviews\n",
        "      - Single Value Decomposition (SVD): can decompose a matrix into 3 matrices, good for ratings: https://www.geeksforgeeks.org/singular-value-decomposition-svd/\n",
        "  - From surprise: https://surpriselib.com/\n",
        "\n",
        "\n",
        "5. Hybrid model\n",
        "  - Step 1: Get the top books for the user through collaborative filtering\n",
        "  - Step 2: Find the most similar books through content based filtering\n",
        "  - Step 3: Return the list of recommended books\n",
        "\n"
      ],
      "metadata": {
        "id": "HR4rZxUZpVip"
      }
    },
    {
      "cell_type": "code",
      "source": [
        "# create dataframe (csv file) of books\n"
      ],
      "metadata": {
        "id": "tGkFgL_EdXuG"
      },
      "execution_count": null,
      "outputs": []
    },
    {
      "cell_type": "code",
      "source": [
        "# import SVD, import test train split\n",
        "from surprise import SVD\n",
        "from surprise.model_selection import test_train_split"
      ],
      "metadata": {
        "id": "zd3enYEiObCu"
      },
      "execution_count": null,
      "outputs": []
    }
  ]
}