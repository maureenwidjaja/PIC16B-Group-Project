{
  "nbformat": 4,
  "nbformat_minor": 0,
  "metadata": {
    "colab": {
      "provenance": [],
      "include_colab_link": true
    },
    "kernelspec": {
      "name": "python3",
      "display_name": "Python 3"
    },
    "language_info": {
      "name": "python"
    }
  },
  "cells": [
    {
      "cell_type": "markdown",
      "metadata": {
        "id": "view-in-github",
        "colab_type": "text"
      },
      "source": [
        "<a href=\"https://colab.research.google.com/github/maureenwidjaja/PIC16B-Group-Project/blob/main/PIC16B_group_project.ipynb\" target=\"_parent\"><img src=\"https://colab.research.google.com/assets/colab-badge.svg\" alt=\"Open In Colab\"/></a>"
      ]
    },
    {
      "cell_type": "markdown",
      "source": [
        "# Step 1: Scrape Books Using Open Library API\n",
        "- get by 'Subject' name ->> can be anything, e.g. \"fantasy\" etc.\n",
        "\n"
      ],
      "metadata": {
        "id": "V6SXWqgrdAI-"
      }
    },
    {
      "cell_type": "code",
      "execution_count": null,
      "metadata": {
        "id": "3cfBooOJcRHn"
      },
      "outputs": [],
      "source": [
        "import requests\n",
        "import matplotlib.pyplot as plt\n",
        "import seaborn as sns\n",
        "import json\n",
        "import pandas as pd\n",
        "import numpy as np"
      ]
    },
    {
      "cell_type": "code",
      "source": [
        "import requests\n",
        "\n",
        "def get_books_by_subject(subject, limit=100, details=True, ebooks=False, published_in=None, offset=0):\n",
        "    '''\n",
        "    Args:\n",
        "    details: if True, includes related subjects, prolific authors, and publishers.\n",
        "    ebooks: if True,  filters for books with e-books.\n",
        "    published_in: filters by publication year.\n",
        "                  For example:\n",
        "                  http://openlibrary.org/subjects/love.json?published_in=1500-1600\n",
        "    limit: num of works to include in the response, controls pagination.\n",
        "    offset: starting offset in the total works, controls pagination.\n",
        "    '''\n",
        "    # Creates the API endpoint URL using the subject provided.\n",
        "    base_url = (f'https://openlibrary.org/subjects/{subject}.json?limit=1')\n",
        "\n",
        "\n",
        "    # Sends an HTTP GET request to Open Library's API with the query parameters\n",
        "    # stored in params.\n",
        "    # The response is stored in response, which contains JSON data.\n",
        "    response = requests.get(base_url)#, params=params)\n",
        "\n",
        "    if response.status_code != 200:\n",
        "        print(f\"Error fetching books for {subject}\")\n",
        "        return []\n",
        "\n",
        "    data = response.json()\n",
        "    books = data.get(\"works\", [])\n",
        "\n",
        "    if not books:\n",
        "        print(f\"No books found for {subject}\")\n",
        "        return []\n",
        "\n",
        "    book_list = []\n",
        "    for book in books:\n",
        "        title = book.get(\"title\", \"Unknown Title\")\n",
        "        author = book[\"authors\"][0][\"name\"] if book.get(\"authors\") else \"Unknown Author\"\n",
        "        published_year = book.get(\"first_publish_year\", \"Unknown Year\")\n",
        "\n",
        "        # Other details we may need for\n",
        "        subjects = \", \".join(book.get(\"subject\", [\"No subjects available\"]))\n",
        "        description = book.get(\"description\", \"No description available\")\n",
        "        ebook_available = book.get(\"ebook_count_i\", 0) > 0\n",
        "        publishers = \", \".join(book.get(\"publishers\", [\"Unknown Publisher\"]))\n",
        "\n",
        "        book_list.append({\n",
        "            \"title\": title,\n",
        "            \"author\": author,\n",
        "            \"published_year\": published_year,\n",
        "            \"subjects\": subjects,\n",
        "            \"description\": description,\n",
        "            \"ebook_available\": ebook_available,\n",
        "            \"publishers\": publishers\n",
        "        })\n",
        "\n",
        "    return book_list  # Return the list of books\n"
      ],
      "metadata": {
        "id": "1TLeu2GJc-RB"
      },
      "execution_count": null,
      "outputs": []
    },
    {
      "cell_type": "markdown",
      "source": [
        "# Step 2: Combine into one genre\n",
        "For instance, \"sci-fi\" subject and \"science-fiction\" subject returns different results. So, our next objective is to combine all of them into one genre \"Science Fiction\". The same goes for other genres like \"Romance\" or \"Fantasy\".\n"
      ],
      "metadata": {
        "id": "KZVUatKlOoMH"
      }
    },
    {
      "cell_type": "markdown",
      "source": [
        "### Function to combine sub-genres into a big genre:"
      ],
      "metadata": {
        "id": "AZei4rWfPJGk"
      }
    },
    {
      "cell_type": "code",
      "source": [
        "def combine_genre(subject):\n",
        "    \"\"\"\n",
        "    Args:\n",
        "    subject: book subject\n",
        "\n",
        "    This function collects book lists under sub-genres and combines them into\n",
        "    one main genre.\n",
        "\n",
        "    Returns:\n",
        "    List of all books under a specific genre.\n",
        "    \"\"\"\n",
        "\n",
        "    if subject is None:\n",
        "        raise ValueError(\"Please pass a subject name.\")\n",
        "\n",
        "    # Dictionary of genres and their corresponding lists with adjusted formatting\n",
        "    genre_dict = {\n",
        "        \"romance\": [\n",
        "            \"fiction_romance_general\", \"fiction_romance_historical_general\",\n",
        "            \"romance\", \"man_woman_relationships\", \"fiction_romance_suspense\",\n",
        "            \"fiction_romance_contemporary\",\n",
        "            \"fiction_romance_erotica\", \"fiction_romance_erotic\",\n",
        "            \"marriage_fiction\", \"fiction_erotica_general\", \"romance\",\n",
        "            \"fiction_christian_romance_general\", \"fiction_romance_historical\"\n",
        "        ],\n",
        "        \"fantasy\": [\n",
        "            \"fiction\", \"fantasy_fiction\", \"magic\", \"fiction_fantasy_general\",\n",
        "            \"adventure_and_adventurers_fiction\",\n",
        "            \"adventure_and_adventurers\", \"good_and_evil\", \"fairies\", \"dragons\",\n",
        "            \"cartoons_and_comics\", \"witchcraft\", \"history\", \"wizards\", \"fairies_fiction\"\n",
        "        ],\n",
        "        \"historical_fiction\": [\n",
        "            \"fiction\", \"historical_fiction\", \"history\", \"fiction_historical_general\",\n",
        "            \"fiction_romance_historical_general\", \"fiction_historical\", \"fiction_general\",\n",
        "            \"fiction_romance_historical\", \"world_war_1939_1945\", \"great_britain_fiction\"\n",
        "        ],\n",
        "        \"horror\": [\n",
        "            \"fiction\", \"horror\", \"horror_stories\", \"horror_tales\", \"american_horror_tales\",\n",
        "            \"horror_fiction\", \"detective_and_mystery_stories\", \"crime\", \"catalepsy\", \"murder\",\n",
        "            \"burial_vaults\"\n",
        "        ],\n",
        "        \"humor\": [\n",
        "            \"anecdotes\", \"humor_general\", \"american_wit_and_humor\",\n",
        "            \"wit_and_humor\", \"humour\", \"humor\", \"funny\"\n",
        "        ],\n",
        "        \"literature\": [\n",
        "            \"philosophy\", \"in_literature\", \"theory\", \"criticism\", \"criticism_and_interpretation\",\n",
        "            \"english_literature\", \"modern_literature\", \"american_literature\",\n",
        "            \"literature\", \"litterature\"\n",
        "        ],\n",
        "        \"mystery_thriller\": [\n",
        "            \"detective_and_mystery_stories\", \"mystery_fiction\", \"murder\", \"mystery\",\n",
        "            \"thriller\", \"detective\", \"fiction_thrillers_general\",\n",
        "            \"suspense\", \"fiction_thrillers_suspense\", \"fiction_suspense\",\n",
        "            \"mystery\", \"thriller\", \"murder\",\n",
        "            \"fiction_thrillers_espionage\", \"police\",\n",
        "            \"suspense_fiction\", \"fiction_general\", \"detective_and_mystery_stories\",\n",
        "            \"crimes_against\", \"fiction_psychological\", \"investigation\"\n",
        "        ],\n",
        "        \"science_fiction\": [\n",
        "            \"science_fiction\", \"fiction_science_fiction_general\", \"american_science_fiction\",\n",
        "            \"extraterrestrial_beings\", \"life_on_other_planets\", \"extraterrestrial_beings_fiction\",\n",
        "            \"time_travel\", \"sci_fi\", \"sci-fi\", \"science-fiction\"\n",
        "        ]\n",
        "    }\n",
        "\n",
        "    if subject not in genre_dict:\n",
        "        raise ValueError(\"Invalid genre. Please choose from the predefined genres: \\\n",
        "        romance, fantasy, historical_fiction, horror, humor, literature, \\\n",
        "        mystery_thriller, science_fiction.\")\n",
        "\n",
        "    books_under_genre = []\n",
        "    seen_books = set()  # To store unique books\n",
        "    i = 1\n",
        "    print(f\"\\nBooks under the genre '{subject}':\\n\")\n",
        "\n",
        "    for sub_genre in genre_dict[subject]:\n",
        "        books = get_books_by_subject(sub_genre)  # Get books for the sub-genre\n",
        "\n",
        "        if books:\n",
        "            for book in books:\n",
        "                # Extract the book title and author for uniqueness check)\n",
        "                title_author = book['author']\n",
        "                if title_author is None:\n",
        "                  print(\"no author\")\n",
        "\n",
        "                # Ensure no dupicates\n",
        "                if title_author not in seen_books:\n",
        "                    print(f\"{i}. {book['title']} by {book['author']}\")\n",
        "                    books_under_genre.append(book)\n",
        "                    seen_books.add(title_author)\n",
        "                    i += 1\n",
        "\n",
        "        else:\n",
        "            print(f\"No books found for sub-genre '{sub_genre}'\")\n",
        "\n",
        "    return books_under_genre\n"
      ],
      "metadata": {
        "id": "UfwwK6xYQvEJ"
      },
      "execution_count": null,
      "outputs": []
    },
    {
      "cell_type": "markdown",
      "source": [
        "### Romance books:"
      ],
      "metadata": {
        "id": "Mf3lNHW1eo3B"
      }
    },
    {
      "cell_type": "code",
      "source": [
        "romance_books = combine_genre(\"romance\")"
      ],
      "metadata": {
        "id": "dPvBaC3jrM7r",
        "outputId": "d57fbbda-7482-4726-b1e1-cf7440ecdfbf",
        "colab": {
          "base_uri": "https://localhost:8080/"
        }
      },
      "execution_count": null,
      "outputs": [
        {
          "output_type": "stream",
          "name": "stdout",
          "text": [
            "\n",
            "Books under the genre 'romance':\n",
            "\n",
            "1. Pride and Prejudice by Jane Austen\n",
            "2. Wuthering Heights by Emily Brontë\n",
            "3. Is he lying to you? by Dan Crum\n",
            "4. Rebecca by Daphne du Maurier\n",
            "5. Loving by Danielle Steel\n",
            "6. Fifty Shades Freed by E. L. James\n",
            "7. Memoirs of Fanny Hill by John Cleland\n",
            "8. Decamerone by Giovanni Boccaccio\n",
            "9. Far From the Madding Crowd by Thomas Hardy\n"
          ]
        }
      ]
    },
    {
      "cell_type": "markdown",
      "source": [
        "### Fantasy books:"
      ],
      "metadata": {
        "id": "_xL8yNmgexYq"
      }
    },
    {
      "cell_type": "code",
      "source": [
        "fantasy_books = combine_genre(\"fantasy\")"
      ],
      "metadata": {
        "id": "nHtVwvO_eyiK",
        "outputId": "a28ea7c1-4ccd-4690-cbad-7d1d2b798f1d",
        "colab": {
          "base_uri": "https://localhost:8080/"
        }
      },
      "execution_count": null,
      "outputs": [
        {
          "output_type": "stream",
          "name": "stdout",
          "text": [
            "\n",
            "Books under the genre 'fantasy':\n",
            "\n",
            "1. Pride and Prejudice by Jane Austen\n",
            "2. Alice's Adventures in Wonderland by Lewis Carroll\n",
            "3. The Marvelous Land of Oz by L. Frank Baum\n",
            "4. Five Children and It by Edith Nesbit\n",
            "5. A Christmas Carol by Charles Dickens\n",
            "6. Harry Potter and the Chamber of Secrets by J. K. Rowling\n"
          ]
        }
      ]
    },
    {
      "cell_type": "markdown",
      "source": [
        "### Historical Fiction books:"
      ],
      "metadata": {
        "id": "nYkhIBUue6fG"
      }
    },
    {
      "cell_type": "code",
      "source": [
        "combine_genre(\"historical_fiction\")"
      ],
      "metadata": {
        "id": "erWMCGZyfMsn",
        "outputId": "6576fbdf-3006-496d-c45a-10ab9cbf4bc1",
        "colab": {
          "base_uri": "https://localhost:8080/"
        }
      },
      "execution_count": null,
      "outputs": [
        {
          "output_type": "stream",
          "name": "stdout",
          "text": [
            "\n",
            "Books under the genre 'historical_fiction':\n",
            "\n",
            "1. Pride and Prejudice by Jane Austen (1813)\n",
            "2. A Christmas Carol by Charles Dickens (1843)\n",
            "3. Alice's Adventures in Wonderland by Lewis Carroll (1865)\n",
            "4. The 12th SS by Meyer, Hubert (2005)\n"
          ]
        }
      ]
    },
    {
      "cell_type": "markdown",
      "source": [
        "### Horror Books"
      ],
      "metadata": {
        "id": "23U6zbzCiknR"
      }
    },
    {
      "cell_type": "code",
      "source": [
        "combine_genre(\"horror\")"
      ],
      "metadata": {
        "colab": {
          "base_uri": "https://localhost:8080/"
        },
        "id": "OelIMn9AieMo",
        "outputId": "0627fd5d-d77c-4796-f01d-45fdaa569c7f"
      },
      "execution_count": null,
      "outputs": [
        {
          "output_type": "stream",
          "name": "stdout",
          "text": [
            "\n",
            "Books under the genre 'horror':\n",
            "\n",
            "1. Pride and Prejudice by Jane Austen (1813)\n",
            "2. The Picture of Dorian Gray by Oscar Wilde (1890)\n",
            "3. Frankenstein or The Modern Prometheus by Mary Shelley (1818)\n",
            "4. Carrie by Stephen King (1974)\n",
            "5. A Study in Scarlet by Arthur Conan Doyle (1887)\n",
            "6. The Hound of the Baskervilles by Arthur Conan Doyle (1900)\n",
            "7. Memoirs of Sherlock Holmes [11 stories] by Arthur Conan Doyle (1893)\n",
            "8. The Works of Edgar Allan Poe in Five Volumes by Edgar Allan Poe (1903)\n"
          ]
        }
      ]
    },
    {
      "cell_type": "markdown",
      "source": [
        "### Humor Books"
      ],
      "metadata": {
        "id": "RNbSJfnwrvnv"
      }
    },
    {
      "cell_type": "code",
      "source": [
        "combine_genre(\"humor\")"
      ],
      "metadata": {
        "id": "anU2Zx_Sr9QN",
        "outputId": "4628e936-0025-4005-faeb-5c96f4cccaa6",
        "colab": {
          "base_uri": "https://localhost:8080/"
        }
      },
      "execution_count": null,
      "outputs": [
        {
          "output_type": "stream",
          "name": "stdout",
          "text": [
            "\n",
            "Books under the genre 'humor':\n",
            "\n",
            "1. The Second Jungle Book by Rudyard Kipling (1887)\n",
            "2. Candide by Voltaire (1746)\n",
            "3. Three Men in a Boat (to say nothing of the dog) by Jerome Klapka Jerome (1889)\n",
            "4. Adventures of Huckleberry Finn by Mark Twain (1876)\n",
            "5. Alice's Adventures in Wonderland by Lewis Carroll (1865)\n",
            "6. The BFG by Roald Dahl (1980)\n"
          ]
        }
      ]
    },
    {
      "cell_type": "markdown",
      "source": [
        "### Literature Books"
      ],
      "metadata": {
        "id": "dbRol0qTr0Gk"
      }
    },
    {
      "cell_type": "code",
      "source": [
        "combine_genre(\"literature\")"
      ],
      "metadata": {
        "id": "TOYICVImsNBY",
        "outputId": "7ec90b99-85f2-4a61-9e86-3c5f7c6a3036",
        "colab": {
          "base_uri": "https://localhost:8080/"
        }
      },
      "execution_count": null,
      "outputs": [
        {
          "output_type": "stream",
          "name": "stdout",
          "text": [
            "\n",
            "Books under the genre 'literature':\n",
            "\n",
            "1. The Art of War by Sun Tzu (1900)\n",
            "2. Bible by Bible (1200)\n",
            "3. La Poetica by Aristotle (1479)\n",
            "4. The Merchant of Venice by William Shakespeare (1600)\n",
            "5. Alice's Adventures in Wonderland by Lewis Carroll (1865)\n",
            "6. Pride and Prejudice by Jane Austen (1813)\n",
            "7. Don Quixote by Miguel de Cervantes Saavedra (1600)\n",
            "8. Adventures of Huckleberry Finn by Mark Twain (1876)\n",
            "9. Literacy for the 21st Century by Gail E. Tompkins (1996)\n"
          ]
        }
      ]
    },
    {
      "cell_type": "markdown",
      "source": [
        "### Mystery/Thriller Books"
      ],
      "metadata": {
        "id": "OMy34Ddgr1z2"
      }
    },
    {
      "cell_type": "code",
      "source": [
        "combine_genre(\"mystery_thriller\")"
      ],
      "metadata": {
        "id": "7xG5CM7FsQ9E",
        "outputId": "9cd62f0e-9024-4179-e857-b5343c282be3",
        "colab": {
          "base_uri": "https://localhost:8080/"
        }
      },
      "execution_count": null,
      "outputs": [
        {
          "output_type": "stream",
          "name": "stdout",
          "text": [
            "\n",
            "Books under the genre 'mystery_thriller':\n",
            "\n",
            "1. A Study in Scarlet by Arthur Conan Doyle (1887)\n",
            "2. The Hound of the Baskervilles by Arthur Conan Doyle (1900)\n",
            "3. Treasure Island by Robert Louis Stevenson (1880)\n",
            "4. Murder on the Orient Express by Agatha Christie (1933)\n",
            "5. A Christmas Carol by Charles Dickens (1843)\n",
            "6. The Thirty-Nine Steps by John Buchan (1915)\n",
            "7. The Moonstone by Wilkie Collins (1868)\n",
            "8. Alice's Adventures in Wonderland by Lewis Carroll (1865)\n",
            "9. The Da Vinci Code by Dan Brown (2003)\n",
            "10. Wuthering Heights by Emily Brontë (1846)\n",
            "11. The Mysterious Affair at Styles by Agatha Christie (1920)\n"
          ]
        }
      ]
    },
    {
      "cell_type": "markdown",
      "source": [
        "### Science Fiction Books"
      ],
      "metadata": {
        "id": "V2l384hqr4mK"
      }
    },
    {
      "cell_type": "code",
      "source": [
        "combine_genre(\"science_fiction\")"
      ],
      "metadata": {
        "id": "YwHz35VIsp7r",
        "outputId": "6148a776-b135-48f2-c67d-d6333c0f2d94",
        "colab": {
          "base_uri": "https://localhost:8080/"
        }
      },
      "execution_count": null,
      "outputs": [
        {
          "output_type": "stream",
          "name": "stdout",
          "text": [
            "\n",
            "Books under the genre 'science_fiction':\n",
            "\n",
            "1. Alice's Adventures in Wonderland by Lewis Carroll (1865)\n",
            "2. Frankenstein or The Modern Prometheus by Mary Shelley (1818)\n",
            "3. Fahrenheit 451 by Ray Bradbury (1953)\n",
            "4. The War of the Worlds by H. G. Wells (1898)\n",
            "5. The Time Machine by H. G. Wells (1895)\n",
            "6. The Giver by Lois Lowry (1993)\n",
            "7. A Wrinkle in Time by Madeleine L'Engle (1962)\n"
          ]
        }
      ]
    },
    {
      "cell_type": "markdown",
      "source": [
        "# Create table for putting books based on genre"
      ],
      "metadata": {
        "id": "N6ORY0rUVMF_"
      }
    },
    {
      "cell_type": "code",
      "source": [
        "def book_details(books_under_genre):\n",
        "  book_data = {'ISBN': [],\n",
        "               'Title': [],\n",
        "               'Author': [],\n",
        "               'Published_year': [],\n",
        "               'Subject': []\n",
        "               }\n"
      ],
      "metadata": {
        "id": "gCi3Wqs1VObB"
      },
      "execution_count": null,
      "outputs": []
    },
    {
      "cell_type": "markdown",
      "source": [
        "# Step 3 - Scrape User Ratings & Reviews"
      ],
      "metadata": {
        "id": "2ub8gV81QUu-"
      }
    },
    {
      "cell_type": "code",
      "source": [
        "import requests\n",
        "from bs4 import BeautifulSoup\n",
        "import re\n",
        "link = \"https://openlibrary.org/subjects\"\n",
        "data = requests.get(link).text\n",
        "response = requests.get(link)\n",
        "soup = BeautifulSoup(response.text, 'html.parser')"
      ],
      "metadata": {
        "id": "jInyi4pge6cG"
      },
      "execution_count": 3,
      "outputs": []
    },
    {
      "cell_type": "code",
      "source": [
        "def link2soup(link):\n",
        "    data = requests.get(link).text\n",
        "    return BeautifulSoup(data)\n"
      ],
      "metadata": {
        "id": "hWIPCexT1Z9P"
      },
      "execution_count": 4,
      "outputs": []
    },
    {
      "cell_type": "code",
      "source": [
        "def parse_to_books(link):\n",
        "    '''\n",
        "    Assume we start in \"https://openlibrary.org/subjects\" (base link) page,\n",
        "    crawls to each chosen subject link and add it to the base link.\n",
        "    '''\n",
        "    # assume start in \"https://openlibrary.org/subjects\" page\n",
        "    chosen_subjects = {\n",
        "        \"romance\", \"fantasy\", \"historical_fiction\", \"horror\", \"humor\",\n",
        "        \"literature\", \"mystery_and_detective_stories\", \"science_fiction\"\n",
        "    }\n",
        "\n",
        "    soup = link2soup(link)\n",
        "\n",
        "    # Extract all subjects links\n",
        "    all_links = [a['href'] for a in soup.select(\"div#subjectsPage ul li a\") if 'href' in a.attrs]\n",
        "    # print(all_links[:5])\n",
        "\n",
        "    # Filter only the chosen subjects\n",
        "    filtered_links = [\n",
        "        link for link in all_links\n",
        "        # ensure only parsing on wanted subjects\n",
        "        if any(sub in link for sub in chosen_subjects) and \"juvenile_literature\" not in link]\n",
        "    # print(filtered_links)\n",
        "\n",
        "    # assume we wish to click the 'fantasy' (specific subject) page\n",
        "    # crawling through links\n",
        "    specific_subject_urls = []\n",
        "    for i in range(len(filtered_links)):\n",
        "        next_button = filtered_links[i].split('/')[2]\n",
        "        specific_subject_url = link + \"/\" + next_button\n",
        "        specific_subject_urls.append(specific_subject_url)\n",
        "\n",
        "    return(specific_subject_urls)"
      ],
      "metadata": {
        "id": "KhOrVgb2XMfw"
      },
      "execution_count": 5,
      "outputs": []
    },
    {
      "cell_type": "code",
      "source": [
        "subject_links = parse_to_books(link)\n",
        "subject_links"
      ],
      "metadata": {
        "id": "mnw9yqwzecNp",
        "outputId": "5e2d0260-40dd-4066-fb89-eb99e62117f7",
        "colab": {
          "base_uri": "https://localhost:8080/"
        }
      },
      "execution_count": 6,
      "outputs": [
        {
          "output_type": "execute_result",
          "data": {
            "text/plain": [
              "['https://openlibrary.org/subjects/fantasy',\n",
              " 'https://openlibrary.org/subjects/historical_fiction',\n",
              " 'https://openlibrary.org/subjects/horror',\n",
              " 'https://openlibrary.org/subjects/humor',\n",
              " 'https://openlibrary.org/subjects/literature',\n",
              " 'https://openlibrary.org/subjects/mystery_and_detective_stories',\n",
              " 'https://openlibrary.org/subjects/romance',\n",
              " 'https://openlibrary.org/subjects/science_fiction']"
            ]
          },
          "metadata": {},
          "execution_count": 6
        }
      ]
    },
    {
      "cell_type": "code",
      "source": [
        "# assumes we want to go to the total \"works\" under each subject\n",
        "def total_works_page(specific_subject_urls):\n",
        "    '''assumes we want to go to the total \"works\" under each subject\n",
        "\n",
        "    Returns: all urls to 'total works' under each subject\n",
        "    '''\n",
        "    base_link = \"https://openlibrary.org\"\n",
        "    total_works_list = []\n",
        "\n",
        "    for url in specific_subject_urls:\n",
        "        soup = link2soup(url)\n",
        "\n",
        "        # Extract total works link\n",
        "        total_works_link = [a['href'].replace(\" \", \"%20\") for a in soup.select(\"a[title='See all works']\") if 'href' in a.attrs]\n",
        "\n",
        "        # Print extracted links (if any)\n",
        "        print(f\"Total works links for {url}: {total_works_link}\")\n",
        "\n",
        "        # Append full URLs to list:\n",
        "        for link in total_works_link:\n",
        "            total_works_list.append(base_link + link)\n",
        "\n",
        "    return total_works_list"
      ],
      "metadata": {
        "id": "yOls7kkbwKoa"
      },
      "execution_count": 8,
      "outputs": []
    },
    {
      "cell_type": "code",
      "source": [
        "subject_total_work_url = total_works_page(subject_links)\n",
        "subject_total_work_url"
      ],
      "metadata": {
        "id": "tI0ll8aG3eJu",
        "outputId": "62dd836f-b9b9-460d-8e0b-db7bb1fcd28d",
        "colab": {
          "base_uri": "https://localhost:8080/"
        }
      },
      "execution_count": 9,
      "outputs": [
        {
          "output_type": "stream",
          "name": "stdout",
          "text": [
            "Total works links for https://openlibrary.org/subjects/fantasy: ['/search?subject=Fantasy']\n",
            "Total works links for https://openlibrary.org/subjects/historical_fiction: ['/search?subject=Historical%20fiction']\n",
            "Total works links for https://openlibrary.org/subjects/horror: ['/search?subject=Horror']\n",
            "Total works links for https://openlibrary.org/subjects/humor: ['/search?subject=Humor']\n",
            "Total works links for https://openlibrary.org/subjects/literature: ['/search?subject=Literature']\n",
            "Total works links for https://openlibrary.org/subjects/mystery_and_detective_stories: ['/search?subject=Mystery%20and%20detective%20stories']\n",
            "Total works links for https://openlibrary.org/subjects/romance: ['/search?subject=Romance']\n",
            "Total works links for https://openlibrary.org/subjects/science_fiction: ['/search?subject=Science%20fiction']\n"
          ]
        },
        {
          "output_type": "execute_result",
          "data": {
            "text/plain": [
              "['https://openlibrary.org/search?subject=Fantasy',\n",
              " 'https://openlibrary.org/search?subject=Historical%20fiction',\n",
              " 'https://openlibrary.org/search?subject=Horror',\n",
              " 'https://openlibrary.org/search?subject=Humor',\n",
              " 'https://openlibrary.org/search?subject=Literature',\n",
              " 'https://openlibrary.org/search?subject=Mystery%20and%20detective%20stories',\n",
              " 'https://openlibrary.org/search?subject=Romance',\n",
              " 'https://openlibrary.org/search?subject=Science%20fiction']"
            ]
          },
          "metadata": {},
          "execution_count": 9
        }
      ]
    },
    {
      "cell_type": "code",
      "source": [
        "def book_links(subject_total_work_url):\n",
        "    '''\n",
        "    Assumes we are in the \"total works\" section of each subject and wish to parse over every book.\n",
        "    This also includes parsing the next pages continuously until the end.\n",
        "\n",
        "    Return: URL of every book under \"total works\" section of each subject\n",
        "    '''\n",
        "    base_url = \"https://openlibrary.org\"\n",
        "    book_links = []  # Initialize the list outside of the loop to collect all links\n",
        "    for i in subject_total_work_url:\n",
        "        soup = link2soup(i)  # Pass the URL to link2soup, not the whole list\n",
        "\n",
        "        endof_links = [a['href'] for a in soup.select(\"div#searchResults li.searchResultItem.sri--w-main a.results\")\n",
        "                       if 'href' in a.attrs]\n",
        "\n",
        "        for link in endof_links:\n",
        "            book_links.append(base_url + link)\n",
        "\n",
        "\n",
        "    return book_links  # Return the full list after all iterations\n",
        "\n"
      ],
      "metadata": {
        "id": "hFhEn7HjCkxL"
      },
      "execution_count": 10,
      "outputs": []
    },
    {
      "cell_type": "code",
      "source": [
        "# this prints out all the book URLs in the first page of every 'total works' link under every subject\n",
        "book_links(subject_total_work_url)"
      ],
      "metadata": {
        "id": "T8WlqqNF3uw1",
        "outputId": "8d2adb4a-7b20-475c-d6e5-0380dc17215d",
        "colab": {
          "base_uri": "https://localhost:8080/"
        }
      },
      "execution_count": 11,
      "outputs": [
        {
          "output_type": "execute_result",
          "data": {
            "text/plain": [
              "['https://openlibrary.org/works/OL15450W?edition=key%3A/books/OL23325250M',\n",
              " 'https://openlibrary.org/works/OL262390W?edition=key%3A/books/OL23330498M',\n",
              " 'https://openlibrary.org/works/OL27495W?edition=key%3A/books/OL51711297M',\n",
              " 'https://openlibrary.org/works/OL15437W?edition=key%3A/books/OL26320183M',\n",
              " 'https://openlibrary.org/works/OL71124W?edition=key%3A/books/OL30152672M',\n",
              " 'https://openlibrary.org/works/OL1449046W?edition=key%3A/books/OL13867086M',\n",
              " 'https://openlibrary.org/works/OL45361W?edition=key%3A/books/OL7146062M',\n",
              " 'https://openlibrary.org/works/OL18414W?edition=key%3A/books/OL28890803M',\n",
              " 'https://openlibrary.org/works/OL71078W?edition=key%3A/books/OL31967838M',\n",
              " 'https://openlibrary.org/works/OL18415W?edition=key%3A/books/OL51733522M',\n",
              " 'https://openlibrary.org/works/OL8127201W?edition=key%3A/books/OL37044552M',\n",
              " 'https://openlibrary.org/works/OL27482W?edition=key%3A/books/OL51709286M',\n",
              " 'https://openlibrary.org/works/OL2271626W?edition=key%3A/books/OL2847987M',\n",
              " 'https://openlibrary.org/works/OL71037W?edition=key%3A/books/OL3676511M',\n",
              " 'https://openlibrary.org/works/OL71069W?edition=key%3A/books/OL27420959M',\n",
              " 'https://openlibrary.org/works/OL27513W?edition=key%3A/books/OL43079986M',\n",
              " 'https://openlibrary.org/works/OL99541W?edition=key%3A/books/OL37044497M',\n",
              " 'https://openlibrary.org/works/OL18396W?edition=key%3A/books/OL19879211M',\n",
              " 'https://openlibrary.org/works/OL27479W?edition=key%3A/books/OL45329737M',\n",
              " 'https://openlibrary.org/works/OL71132W?edition=key%3A/books/OL31956164M',\n",
              " 'https://openlibrary.org/works/OL77775W?edition=key%3A/books/OL46930495M',\n",
              " 'https://openlibrary.org/works/OL67334W?edition=key%3A/books/OL28343294M',\n",
              " 'https://openlibrary.org/works/OL74502W?edition=key%3A/books/OL32092077M',\n",
              " 'https://openlibrary.org/works/OL106837W?edition=key%3A/books/OL5856540M',\n",
              " 'https://openlibrary.org/works/OL863808W?edition=key%3A/books/OL6950809M',\n",
              " 'https://openlibrary.org/works/OL10834W?edition=key%3A/books/OL24833372M',\n",
              " 'https://openlibrary.org/works/OL36287W?edition=key%3A/books/OL46867087M',\n",
              " 'https://openlibrary.org/works/OL36861W?edition=key%3A/books/OL24152170M',\n",
              " 'https://openlibrary.org/works/OL2775807W?edition=key%3A/books/OL25265941M',\n",
              " 'https://openlibrary.org/works/OL1253285W?edition=key%3A/books/OL37044827M',\n",
              " 'https://openlibrary.org/works/OL731737W?edition=key%3A/books/OL32974194M',\n",
              " 'https://openlibrary.org/works/OL51145W?edition=key%3A/books/OL37815339M',\n",
              " 'https://openlibrary.org/works/OL2564006W?edition=key%3A/books/OL1743726M',\n",
              " 'https://openlibrary.org/works/OL166899W?edition=key%3A/books/OL46541738M',\n",
              " 'https://openlibrary.org/works/OL24166W?edition=key%3A/books/OL32007176M',\n",
              " 'https://openlibrary.org/works/OL19908W?edition=key%3A/books/OL37044549M',\n",
              " 'https://openlibrary.org/works/OL18414W?edition=key%3A/books/OL28890803M',\n",
              " 'https://openlibrary.org/works/OL258301W?edition=key%3A/books/OL39804749M',\n",
              " 'https://openlibrary.org/works/OL53994W?edition=key%3A/books/OL31959489M',\n",
              " 'https://openlibrary.org/works/OL99541W?edition=key%3A/books/OL37044497M',\n",
              " 'https://openlibrary.org/works/OL407498W?edition=key%3A/books/OL27869353M',\n",
              " 'https://openlibrary.org/works/OL3388961W?edition=key%3A/books/OL24961332M',\n",
              " 'https://openlibrary.org/works/OL85891W?edition=key%3A/books/OL57985422M',\n",
              " 'https://openlibrary.org/works/OL81634W?edition=key%3A/books/OL45621643M',\n",
              " 'https://openlibrary.org/works/OL81626W?edition=key%3A/books/OL35297182M',\n",
              " 'https://openlibrary.org/works/OL2895536W?edition=key%3A/books/OL37819235M',\n",
              " 'https://openlibrary.org/works/OL85892W?edition=key%3A/books/OL37044817M',\n",
              " 'https://openlibrary.org/works/OL1833989W?edition=key%3A/books/OL37044480M',\n",
              " 'https://openlibrary.org/works/OL81632W?edition=key%3A/books/OL3421116M',\n",
              " 'https://openlibrary.org/works/OL24156W?edition=key%3A/books/OL17959484M',\n",
              " 'https://openlibrary.org/works/OL2288676W?edition=key%3A/books/OL6671163M',\n",
              " 'https://openlibrary.org/works/OL8127201W?edition=key%3A/books/OL37044552M',\n",
              " 'https://openlibrary.org/works/OL183675W?edition=key%3A/books/OL37044696M',\n",
              " 'https://openlibrary.org/works/OL450063W?edition=key%3A/books/OL37937792M',\n",
              " 'https://openlibrary.org/works/OL66534W?edition=key%3A/books/OL47079598M',\n",
              " 'https://openlibrary.org/works/OL52266W?edition=key%3A/books/OL37044712M',\n",
              " 'https://openlibrary.org/works/OL5720023W?edition=key%3A/books/OL24644542M',\n",
              " 'https://openlibrary.org/works/OL8193416W?edition=key%3A/books/OL46984115M',\n",
              " 'https://openlibrary.org/works/OL71042W?edition=key%3A/books/OL13875254M',\n",
              " 'https://openlibrary.org/works/OL276328W?edition=key%3A/books/OL19345137M',\n",
              " 'https://openlibrary.org/works/OL7973273W?edition=key%3A/books/OL24151919M',\n",
              " 'https://openlibrary.org/works/OL45884W?edition=key%3A/books/OL37757335M',\n",
              " 'https://openlibrary.org/works/OL1793164W?edition=key%3A/books/OL37044669M',\n",
              " 'https://openlibrary.org/works/OL2163649W?edition=key%3A/books/OL32838419M',\n",
              " 'https://openlibrary.org/works/OL45793W?edition=key%3A/books/OL39486892M',\n",
              " 'https://openlibrary.org/works/OL676009W?edition=key%3A/books/OL46976639M',\n",
              " 'https://openlibrary.org/works/OL45809W?edition=key%3A/books/OL39486924M',\n",
              " 'https://openlibrary.org/works/OL8763776W?edition=key%3A/books/OL50494428M',\n",
              " 'https://openlibrary.org/works/OL100672W?edition=key%3A/books/OL39806707M',\n",
              " 'https://openlibrary.org/works/OL14872925W?edition=key%3A/books/OL25892966M',\n",
              " 'https://openlibrary.org/works/OL45846W?edition=key%3A/books/OL39486910M',\n",
              " 'https://openlibrary.org/works/OL88813W?edition=key%3A/books/OL37044791M',\n",
              " 'https://openlibrary.org/works/OL66513W?edition=key%3A/books/OL50293425M',\n",
              " 'https://openlibrary.org/works/OL45885W?edition=key%3A/books/OL36656501M',\n",
              " 'https://openlibrary.org/works/OL54147W?edition=key%3A/books/OL31957235M',\n",
              " 'https://openlibrary.org/works/OL118388W?edition=key%3A/books/OL37044775M',\n",
              " 'https://openlibrary.org/works/OL45790W?edition=key%3A/books/OL28338839M',\n",
              " 'https://openlibrary.org/works/OL476641W?edition=key%3A/books/OL37876602M',\n",
              " 'https://openlibrary.org/works/OL53908W?edition=key%3A/books/OL26486158M',\n",
              " 'https://openlibrary.org/works/OL471509W?edition=key%3A/books/OL50890407M',\n",
              " 'https://openlibrary.org/works/OL2026379W?edition=key%3A/books/OL44098697M',\n",
              " 'https://openlibrary.org/works/OL498434W?edition=key%3A/books/OL26398835M',\n",
              " 'https://openlibrary.org/works/OL1147650W?edition=key%3A/books/OL22110100M',\n",
              " 'https://openlibrary.org/works/OL52151W?edition=key%3A/books/OL7219307M',\n",
              " 'https://openlibrary.org/works/OL239940W?edition=key%3A/books/OL40217931M',\n",
              " 'https://openlibrary.org/works/OL65906W?edition=key%3A/books/OL1630380M',\n",
              " 'https://openlibrary.org/works/OL308980W?edition=key%3A/books/OL6347498M',\n",
              " 'https://openlibrary.org/works/OL39316W?edition=key%3A/books/OL28598734M',\n",
              " 'https://openlibrary.org/works/OL144822W?edition=key%3A/books/OL32116569M',\n",
              " 'https://openlibrary.org/works/OL468485W?edition=key%3A/books/OL7719876M',\n",
              " 'https://openlibrary.org/works/OL8127201W?edition=key%3A/books/OL37044552M',\n",
              " 'https://openlibrary.org/works/OL505781W?edition=key%3A/books/OL24152421M',\n",
              " 'https://openlibrary.org/works/OL65430W?edition=key%3A/books/OL39491447M',\n",
              " 'https://openlibrary.org/works/OL52556W?edition=key%3A/books/OL23450786M',\n",
              " 'https://openlibrary.org/works/OL15450W?edition=key%3A/books/OL23325250M',\n",
              " 'https://openlibrary.org/works/OL267174W?edition=key%3A/books/OL7023326M',\n",
              " 'https://openlibrary.org/works/OL7966242W?edition=key%3A/books/OL12123550M',\n",
              " 'https://openlibrary.org/works/OL45503W?edition=key%3A/books/OL17997603M',\n",
              " 'https://openlibrary.org/works/OL45361W?edition=key%3A/books/OL7146062M',\n",
              " 'https://openlibrary.org/works/OL8112804W?edition=key%3A/books/OL10225309M',\n",
              " 'https://openlibrary.org/works/OL472549W?edition=key%3A/books/OL50517844M',\n",
              " 'https://openlibrary.org/works/OL472542W?edition=key%3A/books/OL40281128M',\n",
              " 'https://openlibrary.org/works/OL471871W?edition=key%3A/books/OL7666467M',\n",
              " 'https://openlibrary.org/works/OL472250W?edition=key%3A/books/OL50564887M',\n",
              " 'https://openlibrary.org/works/OL471940W?edition=key%3A/books/OL30698173M',\n",
              " 'https://openlibrary.org/works/OL471765W?edition=key%3A/books/OL37774584M',\n",
              " 'https://openlibrary.org/works/OL472594W?edition=key%3A/books/OL47745542M',\n",
              " 'https://openlibrary.org/works/OL472165W?edition=key%3A/books/OL26379432M',\n",
              " 'https://openlibrary.org/works/OL265415W?edition=key%3A/books/OL51009206M',\n",
              " 'https://openlibrary.org/works/OL15400582W?edition=key%3A/books/OL28469923M',\n",
              " 'https://openlibrary.org/works/OL471943W?edition=key%3A/books/OL46971624M',\n",
              " 'https://openlibrary.org/works/OL471891W?edition=key%3A/books/OL2401891M',\n",
              " 'https://openlibrary.org/works/OL472470W?edition=key%3A/books/OL35894270M',\n",
              " 'https://openlibrary.org/works/OL262463W?edition=key%3A/books/OL45692809M',\n",
              " 'https://openlibrary.org/works/OL262452W?edition=key%3A/books/OL47077035M',\n",
              " 'https://openlibrary.org/works/OL76468W?edition=key%3A/books/OL24174164M',\n",
              " 'https://openlibrary.org/works/OL471932W?edition=key%3A/books/OL46524697M',\n",
              " 'https://openlibrary.org/works/OL262496W?edition=key%3A/books/OL37044507M',\n",
              " 'https://openlibrary.org/works/OL471610W?edition=key%3A/books/OL9119838M',\n",
              " 'https://openlibrary.org/works/OL471666W?edition=key%3A/books/OL7826070M',\n",
              " 'https://openlibrary.org/works/OL77775W?edition=key%3A/books/OL46930495M',\n",
              " 'https://openlibrary.org/works/OL1003017W?edition=key%3A/books/OL44595490M',\n",
              " 'https://openlibrary.org/works/OL44995W?edition=key%3A/books/OL37044526M',\n",
              " 'https://openlibrary.org/works/OL15450151W?edition=key%3A/books/OL20475668M',\n",
              " 'https://openlibrary.org/works/OL274518W?edition=key%3A/books/OL25954563M',\n",
              " 'https://openlibrary.org/works/OL100239W?edition=key%3A/books/OL37847175M',\n",
              " 'https://openlibrary.org/works/OL15437W?edition=key%3A/books/OL26320183M',\n",
              " 'https://openlibrary.org/works/OL1230715W?edition=key%3A/books/OL21214329M',\n",
              " 'https://openlibrary.org/works/OL81294W?edition=key%3A/books/OL44811282M',\n",
              " 'https://openlibrary.org/works/OL15450W?edition=key%3A/books/OL23325250M',\n",
              " 'https://openlibrary.org/works/OL1230631W?edition=key%3A/books/OL49668278M',\n",
              " 'https://openlibrary.org/works/OL66534W?edition=key%3A/books/OL47079598M',\n",
              " 'https://openlibrary.org/works/OL468362W?edition=key%3A/books/OL1118852M',\n",
              " 'https://openlibrary.org/works/OL88813W?edition=key%3A/books/OL37044791M',\n",
              " 'https://openlibrary.org/works/OL1157252W?edition=key%3A/books/OL37044566M',\n",
              " 'https://openlibrary.org/works/OL66554W?edition=key%3A/books/OL50444320M',\n",
              " 'https://openlibrary.org/works/OL267096W?edition=key%3A/books/OL39800439M',\n",
              " 'https://openlibrary.org/works/OL471990W?edition=key%3A/books/OL51012140M',\n",
              " 'https://openlibrary.org/works/OL77748W?edition=key%3A/books/OL52187484M',\n",
              " 'https://openlibrary.org/works/OL54031W?edition=key%3A/books/OL32930303M',\n",
              " 'https://openlibrary.org/works/OL2779754W?edition=key%3A/books/OL6223529M',\n",
              " 'https://openlibrary.org/works/OL103134W?edition=key%3A/books/OL57076114M',\n",
              " 'https://openlibrary.org/works/OL52195W?edition=key%3A/books/OL51733541M',\n",
              " 'https://openlibrary.org/works/OL17365W?edition=key%3A/books/OL27271548M',\n",
              " 'https://openlibrary.org/works/OL52266W?edition=key%3A/books/OL37044712M',\n",
              " 'https://openlibrary.org/works/OL1099479W?edition=key%3A/books/OL37044654M',\n",
              " 'https://openlibrary.org/works/OL1418187W?edition=key%3A/books/OL37044782M',\n",
              " 'https://openlibrary.org/works/OL52260W?edition=key%3A/books/OL6947922M',\n",
              " 'https://openlibrary.org/works/OL893415W?edition=key%3A/books/OL26242482M',\n",
              " 'https://openlibrary.org/works/OL52151W?edition=key%3A/books/OL7219307M',\n",
              " 'https://openlibrary.org/works/OL731737W?edition=key%3A/books/OL32974194M',\n",
              " 'https://openlibrary.org/works/OL74502W?edition=key%3A/books/OL32092077M',\n",
              " 'https://openlibrary.org/works/OL2163649W?edition=key%3A/books/OL32838419M',\n",
              " 'https://openlibrary.org/works/OL1099513W?edition=key%3A/books/OL37044653M',\n",
              " 'https://openlibrary.org/works/OL15450W?edition=key%3A/books/OL23325250M',\n",
              " 'https://openlibrary.org/works/OL10215W?edition=key%3A/books/OL37044876M',\n",
              " 'https://openlibrary.org/works/OL52267W?edition=key%3A/books/OL37044446M',\n",
              " 'https://openlibrary.org/works/OL450124W?edition=key%3A/books/OL24331784M',\n",
              " 'https://openlibrary.org/works/OL52114W?edition=key%3A/books/OL33225306M',\n",
              " 'https://openlibrary.org/works/OL51145W?edition=key%3A/books/OL37815339M']"
            ]
          },
          "metadata": {},
          "execution_count": 11
        }
      ]
    },
    {
      "cell_type": "code",
      "source": [
        "# Extracts the link to the next pages of \"total works\" under a specific subject\n",
        "def every_page(subject_total_work_url):\n",
        "    '''\n",
        "    Assume we are in the first page of the 'total works' under each subject.\n",
        "    Parse pages from the first page to the last under each subject.\n",
        "\n",
        "    Return: URL of pages from 1 - n of 'total works' under each subject\n",
        "    '''\n",
        "    base_url = 'https://openlibrary.org'\n",
        "    page_links = []\n",
        "\n",
        "    for subject_url in subject_total_work_url:\n",
        "        soup = link2soup(subject_url)\n",
        "\n",
        "        # Find the last page number\n",
        "        last_page = soup.select_one('a.ChoosePage[data-ol-link-track=\"Pager|LastPage\"]')\n",
        "        if last_page:\n",
        "            last_page_number = int(last_page.get_text())\n",
        "            # last_page_number = 3 for now for debugging\n",
        "        else:\n",
        "            last_page_number = 1  # If there's only one page\n",
        "\n",
        "        # Generate all page links from 1 to last_page_number\n",
        "        for page in range(1, last_page_number + 1):\n",
        "            page_links.append(f'{subject_url}&page={page}')\n",
        "\n",
        "    return page_links\n",
        "\n"
      ],
      "metadata": {
        "id": "sgDul2RJlZ-j"
      },
      "execution_count": 27,
      "outputs": []
    },
    {
      "cell_type": "code",
      "source": [
        "all_pages = every_page(subject_total_work_url) # currently showing the URL of every 3 pages under 'total works' for each subject\n",
        "all_pages[:3]"
      ],
      "metadata": {
        "id": "aUrO_cCM4IDi",
        "outputId": "8a6b8819-13b1-47ff-d9f4-e47dbe279621",
        "colab": {
          "base_uri": "https://localhost:8080/"
        }
      },
      "execution_count": 31,
      "outputs": [
        {
          "output_type": "execute_result",
          "data": {
            "text/plain": [
              "['https://openlibrary.org/search?subject=Fantasy&page=1',\n",
              " 'https://openlibrary.org/search?subject=Fantasy&page=2',\n",
              " 'https://openlibrary.org/search?subject=Fantasy&page=3']"
            ]
          },
          "metadata": {},
          "execution_count": 31
        }
      ]
    },
    {
      "cell_type": "code",
      "source": [
        "from tqdm import tqdm\n",
        "import time\n",
        "\n",
        "N=100\n",
        "for i in tqdm(range(N)):\n",
        "    x = i**2\n",
        "    time.sleep(0.1)\n",
        "\n",
        "for i, j in tqdm(enumerate(range(N)), total=N):\n",
        "    x = i**2\n",
        "    time.sleep(0.1)"
      ],
      "metadata": {
        "id": "4FtK-Qid2lUv",
        "outputId": "9b36ed7a-4192-4940-add2-f5134a10d358",
        "colab": {
          "base_uri": "https://localhost:8080/"
        }
      },
      "execution_count": 26,
      "outputs": [
        {
          "output_type": "stream",
          "name": "stderr",
          "text": [
            "100%|██████████| 100/100 [00:10<00:00,  9.86it/s]\n",
            "100%|██████████| 100/100 [00:10<00:00,  9.88it/s]\n"
          ]
        }
      ]
    },
    {
      "cell_type": "code",
      "source": [
        "len(enumerate(range(100)))"
      ],
      "metadata": {
        "id": "3hmGQjxh3QND",
        "outputId": "08280422-1efa-4a91-945d-450a2e89254c",
        "colab": {
          "base_uri": "https://localhost:8080/",
          "height": 144
        }
      },
      "execution_count": 25,
      "outputs": [
        {
          "output_type": "error",
          "ename": "TypeError",
          "evalue": "object of type 'enumerate' has no len()",
          "traceback": [
            "\u001b[0;31m---------------------------------------------------------------------------\u001b[0m",
            "\u001b[0;31mTypeError\u001b[0m                                 Traceback (most recent call last)",
            "\u001b[0;32m<ipython-input-25-a2c7185dc3ff>\u001b[0m in \u001b[0;36m<cell line: 0>\u001b[0;34m()\u001b[0m\n\u001b[0;32m----> 1\u001b[0;31m \u001b[0mlen\u001b[0m\u001b[0;34m(\u001b[0m\u001b[0menumerate\u001b[0m\u001b[0;34m(\u001b[0m\u001b[0mrange\u001b[0m\u001b[0;34m(\u001b[0m\u001b[0;36m100\u001b[0m\u001b[0;34m)\u001b[0m\u001b[0;34m)\u001b[0m\u001b[0;34m)\u001b[0m\u001b[0;34m\u001b[0m\u001b[0;34m\u001b[0m\u001b[0m\n\u001b[0m",
            "\u001b[0;31mTypeError\u001b[0m: object of type 'enumerate' has no len()"
          ]
        }
      ]
    },
    {
      "cell_type": "code",
      "source": [],
      "metadata": {
        "id": "yau_HBWV3QPV"
      },
      "execution_count": null,
      "outputs": []
    },
    {
      "cell_type": "code",
      "source": [
        "from tqdm import tqdm\n",
        "import time\n",
        "def every_book(all_pages, subject_total_work_url):\n",
        "    \"\"\"\n",
        "    Assume we are in the first page of every 'total works' under a subject\n",
        "    and wish to parse through every book in every page under the 'total works'.\n",
        "\n",
        "    Returns: A list of URLs for every book from pages 1 to n under 'total works' of each subject.\n",
        "    \"\"\"\n",
        "    all_book_links = []\n",
        "\n",
        "    for page in tqdm(all_pages):\n",
        "        time.sleep(1)  # Avoid overwhelming the server\n",
        "        all_book_links.extend(book_links([page]))  # Pass each page as a list\n",
        "\n",
        "    return all_book_links\n",
        "\n"
      ],
      "metadata": {
        "id": "IgWTOgREBc0C"
      },
      "execution_count": 38,
      "outputs": []
    },
    {
      "cell_type": "code",
      "source": [
        "all_books_url = every_book(all_pages, subject_total_work_url)"
      ],
      "metadata": {
        "id": "FMU8FaDk1d3K",
        "outputId": "4f86e9a2-e530-4a44-d41d-2b340a43b13a",
        "colab": {
          "base_uri": "https://localhost:8080/"
        }
      },
      "execution_count": null,
      "outputs": [
        {
          "output_type": "stream",
          "name": "stderr",
          "text": [
            "  1%|▏         | 1267/89619 [57:27<69:43:26,  2.84s/it]"
          ]
        }
      ]
    },
    {
      "cell_type": "code",
      "source": [
        "def extract_book_reviews(subject):\n",
        "    '''\n",
        "    Extracts book reviews by categories (columns), paired with a percentage value. Returns a dataframe of books and\n",
        "    '''\n",
        "    subject_link = f'https://openlibrary.org/search?subject={subject}'\n",
        "    response = requests.get(subject_link)\n",
        "    soup = BeautifulSoup(response.text, 'html.parser')\n",
        "\n",
        "    # extract book titles\n",
        "    book_titles = every_book(subject) # make sure that the every_book function works\n",
        "\n",
        "    # extract community reviews\n",
        "    community_reviews = [x.get_text() for x in soup.select(\"span.reviews__value\")]\n",
        "    community_data = [re.search(r'\\s*(\\w[\\w\\s]*)',x).group(1).strip() for x in community_reviews]\n",
        "\n",
        "    # extract percentages\n",
        "    review_percentage = [x.get_text() for x in soup.select(\"span.percentage\")]\n",
        "    percentage_data = [re.search(r'\\s*(\\w[\\w\\s]*)',x).group(1).strip() for x in review_percentage]\n",
        "\n",
        "    # ensure that community reviews and percentages (lists) are the same length\n",
        "    if len(community_data) != len(percentage_data):\n",
        "        print(\"The reviews and percentages do not match.\")\n",
        "\n",
        "    # find number of reviews\n",
        "    number_of_reviews = [x.get_text() for x in soup.select(\"h2.observation-title\")]\n",
        "    number_of_reviews = [re.search(r'\\((\\d+)\\)',x).group(1).strip() for x in number_of_reviews]\n",
        "\n",
        "    # create an empty dict\n",
        "    book_dict = {}\n",
        "\n",
        "    # convert the community reviews and percentages into a dictionary\n",
        "    for i in range(len(book_titles)): #loop through books\n",
        "        review_dict = {'Title' : book_titles[i]}\n",
        "\n",
        "        for j in range(len(community_data)):\n",
        "            categories = community_data[j]\n",
        "            percentage_value = review_percentage[j]\n",
        "\n",
        "            review_dict[categories] = percentage_value\n",
        "\n",
        "        book_dict.append(review_dict)\n",
        "\n",
        "    # convert the dictionary into dataframe\n",
        "    df = pd.Dataframe(book_dict)\n",
        "\n",
        "    # return the dataframe\n",
        "    return df\n",
        "\n",
        "data_frame = extract_book_reviews('romance')\n",
        "data_frame.head()"
      ],
      "metadata": {
        "id": "Q7UnUNkyT-2f",
        "outputId": "29cdc20d-1803-484e-fc65-a7352b8bae66",
        "colab": {
          "base_uri": "https://localhost:8080/",
          "height": 323
        }
      },
      "execution_count": null,
      "outputs": [
        {
          "output_type": "error",
          "ename": "NameError",
          "evalue": "name 'every_book' is not defined",
          "traceback": [
            "\u001b[0;31m---------------------------------------------------------------------------\u001b[0m",
            "\u001b[0;31mNameError\u001b[0m                                 Traceback (most recent call last)",
            "\u001b[0;32m<ipython-input-35-cfa4e4705b81>\u001b[0m in \u001b[0;36m<cell line: 0>\u001b[0;34m()\u001b[0m\n\u001b[1;32m     47\u001b[0m     \u001b[0;32mreturn\u001b[0m \u001b[0mdf\u001b[0m\u001b[0;34m\u001b[0m\u001b[0;34m\u001b[0m\u001b[0m\n\u001b[1;32m     48\u001b[0m \u001b[0;34m\u001b[0m\u001b[0m\n\u001b[0;32m---> 49\u001b[0;31m \u001b[0mdata_frame\u001b[0m \u001b[0;34m=\u001b[0m \u001b[0mextract_book_reviews\u001b[0m\u001b[0;34m(\u001b[0m\u001b[0;34m'romance'\u001b[0m\u001b[0;34m)\u001b[0m\u001b[0;34m\u001b[0m\u001b[0;34m\u001b[0m\u001b[0m\n\u001b[0m\u001b[1;32m     50\u001b[0m \u001b[0mdata_frame\u001b[0m\u001b[0;34m.\u001b[0m\u001b[0mhead\u001b[0m\u001b[0;34m(\u001b[0m\u001b[0;34m)\u001b[0m\u001b[0;34m\u001b[0m\u001b[0;34m\u001b[0m\u001b[0m\n",
            "\u001b[0;32m<ipython-input-35-cfa4e4705b81>\u001b[0m in \u001b[0;36mextract_book_reviews\u001b[0;34m(subject)\u001b[0m\n\u001b[1;32m      8\u001b[0m \u001b[0;34m\u001b[0m\u001b[0m\n\u001b[1;32m      9\u001b[0m     \u001b[0;31m# extract book titles\u001b[0m\u001b[0;34m\u001b[0m\u001b[0;34m\u001b[0m\u001b[0m\n\u001b[0;32m---> 10\u001b[0;31m     \u001b[0mbook_titles\u001b[0m \u001b[0;34m=\u001b[0m \u001b[0mevery_book\u001b[0m\u001b[0;34m(\u001b[0m\u001b[0msubject\u001b[0m\u001b[0;34m)\u001b[0m \u001b[0;31m# make sure that the every_book function works\u001b[0m\u001b[0;34m\u001b[0m\u001b[0;34m\u001b[0m\u001b[0m\n\u001b[0m\u001b[1;32m     11\u001b[0m \u001b[0;34m\u001b[0m\u001b[0m\n\u001b[1;32m     12\u001b[0m     \u001b[0;31m# extract community reviews\u001b[0m\u001b[0;34m\u001b[0m\u001b[0;34m\u001b[0m\u001b[0m\n",
            "\u001b[0;31mNameError\u001b[0m: name 'every_book' is not defined"
          ]
        }
      ]
    },
    {
      "cell_type": "code",
      "source": [
        "community_reviews = [x.get_text() for x in soup.select(\"span.reviews__value\")]\n",
        "community_data = [re.search(r'\\s*(\\w[\\w\\s]*)',x).group(1).strip() for x in community_reviews]\n",
        "print(community_reviews)"
      ],
      "metadata": {
        "id": "_I8Ds79-gFwY",
        "outputId": "130b8927-aacf-47af-c122-1bbe413a0e16",
        "colab": {
          "base_uri": "https://localhost:8080/"
        }
      },
      "execution_count": null,
      "outputs": [
        {
          "output_type": "stream",
          "name": "stdout",
          "text": [
            "[]\n"
          ]
        }
      ]
    },
    {
      "cell_type": "code",
      "source": [
        "community_reviews = [x.get_text() for x in soup.select(\"span.reviews__value\")]\n",
        "community_data = [re.search(r'\\s*(\\w[\\w\\s]*)',x).group(1).strip() for x in community_reviews]\n",
        "\n",
        "review_percentage = [x.get_text() for x in soup.select(\"span.percentage\")]\n",
        "percentage_data = [re.search(r'\\s*(\\w[\\w\\s]*)',x).group(1).strip() for x in review_percentage]\n",
        "\n",
        "import pandas as pd\n",
        "df = pd.DataFrame(data = {\n",
        "    \"Review\" : community_data,\n",
        "    \"Ratings\" : percentage_data\n",
        "   # \"Number of Reviews\" : number_of_reviews\n",
        "\n",
        "})\n",
        "df"
      ],
      "metadata": {
        "id": "5E8Sh4l432HN",
        "outputId": "240c850c-efca-47d3-9f75-61298e8c6d0c",
        "colab": {
          "base_uri": "https://localhost:8080/",
          "height": 89
        }
      },
      "execution_count": null,
      "outputs": [
        {
          "output_type": "execute_result",
          "data": {
            "text/plain": [
              "Empty DataFrame\n",
              "Columns: [Review, Ratings]\n",
              "Index: []"
            ],
            "text/html": [
              "\n",
              "  <div id=\"df-1100f254-6520-4329-b95a-906a04157c4d\" class=\"colab-df-container\">\n",
              "    <div>\n",
              "<style scoped>\n",
              "    .dataframe tbody tr th:only-of-type {\n",
              "        vertical-align: middle;\n",
              "    }\n",
              "\n",
              "    .dataframe tbody tr th {\n",
              "        vertical-align: top;\n",
              "    }\n",
              "\n",
              "    .dataframe thead th {\n",
              "        text-align: right;\n",
              "    }\n",
              "</style>\n",
              "<table border=\"1\" class=\"dataframe\">\n",
              "  <thead>\n",
              "    <tr style=\"text-align: right;\">\n",
              "      <th></th>\n",
              "      <th>Review</th>\n",
              "      <th>Ratings</th>\n",
              "    </tr>\n",
              "  </thead>\n",
              "  <tbody>\n",
              "  </tbody>\n",
              "</table>\n",
              "</div>\n",
              "    <div class=\"colab-df-buttons\">\n",
              "\n",
              "  <div class=\"colab-df-container\">\n",
              "    <button class=\"colab-df-convert\" onclick=\"convertToInteractive('df-1100f254-6520-4329-b95a-906a04157c4d')\"\n",
              "            title=\"Convert this dataframe to an interactive table.\"\n",
              "            style=\"display:none;\">\n",
              "\n",
              "  <svg xmlns=\"http://www.w3.org/2000/svg\" height=\"24px\" viewBox=\"0 -960 960 960\">\n",
              "    <path d=\"M120-120v-720h720v720H120Zm60-500h600v-160H180v160Zm220 220h160v-160H400v160Zm0 220h160v-160H400v160ZM180-400h160v-160H180v160Zm440 0h160v-160H620v160ZM180-180h160v-160H180v160Zm440 0h160v-160H620v160Z\"/>\n",
              "  </svg>\n",
              "    </button>\n",
              "\n",
              "  <style>\n",
              "    .colab-df-container {\n",
              "      display:flex;\n",
              "      gap: 12px;\n",
              "    }\n",
              "\n",
              "    .colab-df-convert {\n",
              "      background-color: #E8F0FE;\n",
              "      border: none;\n",
              "      border-radius: 50%;\n",
              "      cursor: pointer;\n",
              "      display: none;\n",
              "      fill: #1967D2;\n",
              "      height: 32px;\n",
              "      padding: 0 0 0 0;\n",
              "      width: 32px;\n",
              "    }\n",
              "\n",
              "    .colab-df-convert:hover {\n",
              "      background-color: #E2EBFA;\n",
              "      box-shadow: 0px 1px 2px rgba(60, 64, 67, 0.3), 0px 1px 3px 1px rgba(60, 64, 67, 0.15);\n",
              "      fill: #174EA6;\n",
              "    }\n",
              "\n",
              "    .colab-df-buttons div {\n",
              "      margin-bottom: 4px;\n",
              "    }\n",
              "\n",
              "    [theme=dark] .colab-df-convert {\n",
              "      background-color: #3B4455;\n",
              "      fill: #D2E3FC;\n",
              "    }\n",
              "\n",
              "    [theme=dark] .colab-df-convert:hover {\n",
              "      background-color: #434B5C;\n",
              "      box-shadow: 0px 1px 3px 1px rgba(0, 0, 0, 0.15);\n",
              "      filter: drop-shadow(0px 1px 2px rgba(0, 0, 0, 0.3));\n",
              "      fill: #FFFFFF;\n",
              "    }\n",
              "  </style>\n",
              "\n",
              "    <script>\n",
              "      const buttonEl =\n",
              "        document.querySelector('#df-1100f254-6520-4329-b95a-906a04157c4d button.colab-df-convert');\n",
              "      buttonEl.style.display =\n",
              "        google.colab.kernel.accessAllowed ? 'block' : 'none';\n",
              "\n",
              "      async function convertToInteractive(key) {\n",
              "        const element = document.querySelector('#df-1100f254-6520-4329-b95a-906a04157c4d');\n",
              "        const dataTable =\n",
              "          await google.colab.kernel.invokeFunction('convertToInteractive',\n",
              "                                                    [key], {});\n",
              "        if (!dataTable) return;\n",
              "\n",
              "        const docLinkHtml = 'Like what you see? Visit the ' +\n",
              "          '<a target=\"_blank\" href=https://colab.research.google.com/notebooks/data_table.ipynb>data table notebook</a>'\n",
              "          + ' to learn more about interactive tables.';\n",
              "        element.innerHTML = '';\n",
              "        dataTable['output_type'] = 'display_data';\n",
              "        await google.colab.output.renderOutput(dataTable, element);\n",
              "        const docLink = document.createElement('div');\n",
              "        docLink.innerHTML = docLinkHtml;\n",
              "        element.appendChild(docLink);\n",
              "      }\n",
              "    </script>\n",
              "  </div>\n",
              "\n",
              "\n",
              "  <div id=\"id_bd12ce8d-2131-4861-854c-d736bdb28b6b\">\n",
              "    <style>\n",
              "      .colab-df-generate {\n",
              "        background-color: #E8F0FE;\n",
              "        border: none;\n",
              "        border-radius: 50%;\n",
              "        cursor: pointer;\n",
              "        display: none;\n",
              "        fill: #1967D2;\n",
              "        height: 32px;\n",
              "        padding: 0 0 0 0;\n",
              "        width: 32px;\n",
              "      }\n",
              "\n",
              "      .colab-df-generate:hover {\n",
              "        background-color: #E2EBFA;\n",
              "        box-shadow: 0px 1px 2px rgba(60, 64, 67, 0.3), 0px 1px 3px 1px rgba(60, 64, 67, 0.15);\n",
              "        fill: #174EA6;\n",
              "      }\n",
              "\n",
              "      [theme=dark] .colab-df-generate {\n",
              "        background-color: #3B4455;\n",
              "        fill: #D2E3FC;\n",
              "      }\n",
              "\n",
              "      [theme=dark] .colab-df-generate:hover {\n",
              "        background-color: #434B5C;\n",
              "        box-shadow: 0px 1px 3px 1px rgba(0, 0, 0, 0.15);\n",
              "        filter: drop-shadow(0px 1px 2px rgba(0, 0, 0, 0.3));\n",
              "        fill: #FFFFFF;\n",
              "      }\n",
              "    </style>\n",
              "    <button class=\"colab-df-generate\" onclick=\"generateWithVariable('df')\"\n",
              "            title=\"Generate code using this dataframe.\"\n",
              "            style=\"display:none;\">\n",
              "\n",
              "  <svg xmlns=\"http://www.w3.org/2000/svg\" height=\"24px\"viewBox=\"0 0 24 24\"\n",
              "       width=\"24px\">\n",
              "    <path d=\"M7,19H8.4L18.45,9,17,7.55,7,17.6ZM5,21V16.75L18.45,3.32a2,2,0,0,1,2.83,0l1.4,1.43a1.91,1.91,0,0,1,.58,1.4,1.91,1.91,0,0,1-.58,1.4L9.25,21ZM18.45,9,17,7.55Zm-12,3A5.31,5.31,0,0,0,4.9,8.1,5.31,5.31,0,0,0,1,6.5,5.31,5.31,0,0,0,4.9,4.9,5.31,5.31,0,0,0,6.5,1,5.31,5.31,0,0,0,8.1,4.9,5.31,5.31,0,0,0,12,6.5,5.46,5.46,0,0,0,6.5,12Z\"/>\n",
              "  </svg>\n",
              "    </button>\n",
              "    <script>\n",
              "      (() => {\n",
              "      const buttonEl =\n",
              "        document.querySelector('#id_bd12ce8d-2131-4861-854c-d736bdb28b6b button.colab-df-generate');\n",
              "      buttonEl.style.display =\n",
              "        google.colab.kernel.accessAllowed ? 'block' : 'none';\n",
              "\n",
              "      buttonEl.onclick = () => {\n",
              "        google.colab.notebook.generateWithVariable('df');\n",
              "      }\n",
              "      })();\n",
              "    </script>\n",
              "  </div>\n",
              "\n",
              "    </div>\n",
              "  </div>\n"
            ],
            "application/vnd.google.colaboratory.intrinsic+json": {
              "type": "dataframe",
              "variable_name": "df",
              "summary": "{\n  \"name\": \"df\",\n  \"rows\": 0,\n  \"fields\": [\n    {\n      \"column\": \"Review\",\n      \"properties\": {\n        \"dtype\": \"number\",\n        \"std\": null,\n        \"min\": null,\n        \"max\": null,\n        \"num_unique_values\": 0,\n        \"samples\": [],\n        \"semantic_type\": \"\",\n        \"description\": \"\"\n      }\n    },\n    {\n      \"column\": \"Ratings\",\n      \"properties\": {\n        \"dtype\": \"number\",\n        \"std\": null,\n        \"min\": null,\n        \"max\": null,\n        \"num_unique_values\": 0,\n        \"samples\": [],\n        \"semantic_type\": \"\",\n        \"description\": \"\"\n      }\n    }\n  ]\n}"
            }
          },
          "metadata": {},
          "execution_count": 22
        }
      ]
    },
    {
      "cell_type": "code",
      "source": [
        "number_of_reviews = [x.get_text() for x in soup.select(\"h2.observation-title\")]\n",
        "number_of_reviews = [re.search(r'\\((\\d+)\\)',x).group(1).strip() for x in number_of_reviews]"
      ],
      "metadata": {
        "id": "-JzidLVjQbTZ"
      },
      "execution_count": null,
      "outputs": []
    },
    {
      "cell_type": "code",
      "source": [
        "book_button1 = [x.get_text() for x in soup.select('h3', class_= 'booktitle')]\n",
        "book_button2 = [x.get_text() for x in soup.select('div', class_= 'book-cover')]\n"
      ],
      "metadata": {
        "id": "Mrb3gcOuSWV4"
      },
      "execution_count": null,
      "outputs": []
    },
    {
      "cell_type": "markdown",
      "source": [
        "May need:\n",
        "\n",
        "1. List of books that we like\n",
        "2. Books in general (found above)\n",
        "\n",
        "We can use both data to recommend books we might like (haven't read yet) - do this by finding all users who like the same books as us and then seeing what other books they like. We'll use those results to create that recommendation"
      ],
      "metadata": {
        "id": "xgoxM1_USK87"
      }
    },
    {
      "cell_type": "markdown",
      "source": [
        "## Collaborative Filtering\n",
        "\n",
        "We only want to see books that have been reviewed more than 15 times."
      ],
      "metadata": {
        "id": "2f6ALMulU2dX"
      }
    },
    {
      "cell_type": "markdown",
      "source": [
        "# What to do next:\n",
        "1. Build ML model\n",
        "  - training data: csv file containing books in a specific genre?\n",
        "  - testing data: our prediction now?\n",
        "\n",
        "2. Approaches to consider:\n",
        "  - Collaborative Filtering (based on user ratings, user reviews e.g. Goodreads)\n",
        "  - Content-Based Filtering (based on genre, content description, etc.)\n",
        "  - Combination of both Filtering Methods\n",
        "\n",
        "3. Define Training Data\n",
        "  - What should the csv file include?\n",
        "    1. Book Information: Book ID, Title, Author, Genres, Description\n",
        "    2. User Ratings: User ID, Book ID, Rating, User Reviews\n",
        "\n",
        "4. Machine Learning Models to consider:\n",
        "  - Content-Based Filtering: Book descriptions and genres\n",
        "      - TF-IDF (Term Frequency-Inverse Document Frequency): evaluates the importance of a word in a document : https://www.geeksforgeeks.org/understanding-tf-idf-term-frequency-inverse-document-frequency/\n",
        "      - Sci-Kit Learn: classifiers, feature-extraction\n",
        "  - Collaborative Filtering: User ratings and reviews\n",
        "      - Single Value Decomposition (SVD): can decompose a matrix into 3 matrices, good for ratings: https://www.geeksforgeeks.org/singular-value-decomposition-svd/\n",
        "  - From surprise: https://surpriselib.com/\n",
        "\n",
        "\n",
        "5. Hybrid model\n",
        "  - Step 1: Get the top books for the user through collaborative filtering\n",
        "  - Step 2: Find the most similar books through content based filtering\n",
        "  - Step 3: Return the list of recommended books\n",
        "\n"
      ],
      "metadata": {
        "id": "HR4rZxUZpVip"
      }
    },
    {
      "cell_type": "code",
      "source": [
        "# create dataframe (csv file) of books\n"
      ],
      "metadata": {
        "id": "tGkFgL_EdXuG"
      },
      "execution_count": null,
      "outputs": []
    },
    {
      "cell_type": "code",
      "source": [
        "# import SVD, import test train split\n",
        "from surprise import SVD\n",
        "from surprise.model_selection import test_train_split"
      ],
      "metadata": {
        "id": "zd3enYEiObCu"
      },
      "execution_count": null,
      "outputs": []
    }
  ]
}