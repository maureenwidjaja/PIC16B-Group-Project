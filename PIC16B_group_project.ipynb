{
  "nbformat": 4,
  "nbformat_minor": 0,
  "metadata": {
    "colab": {
      "provenance": [],
      "include_colab_link": true
    },
    "kernelspec": {
      "name": "python3",
      "display_name": "Python 3"
    },
    "language_info": {
      "name": "python"
    }
  },
  "cells": [
    {
      "cell_type": "markdown",
      "metadata": {
        "id": "view-in-github",
        "colab_type": "text"
      },
      "source": [
        "<a href=\"https://colab.research.google.com/github/maureenwidjaja/PIC16B-Group-Project/blob/main/PIC16B_group_project.ipynb\" target=\"_parent\"><img src=\"https://colab.research.google.com/assets/colab-badge.svg\" alt=\"Open In Colab\"/></a>"
      ]
    },
    {
      "cell_type": "markdown",
      "source": [
        "# Step 1: Scrape Books Using Open Library API\n",
        "- get by 'Subject' name ->> can be anything, e.g. \"fantasy\" etc.\n",
        "\n"
      ],
      "metadata": {
        "id": "V6SXWqgrdAI-"
      }
    },
    {
      "cell_type": "code",
      "execution_count": 2,
      "metadata": {
        "id": "3cfBooOJcRHn"
      },
      "outputs": [],
      "source": [
        "import requests\n",
        "import matplotlib.pyplot as plt\n",
        "import seaborn as sns\n",
        "import json\n",
        "import pandas as pd\n",
        "import numpy as np"
      ]
    },
    {
      "cell_type": "code",
      "source": [
        "import requests\n",
        "\n",
        "def get_books_by_subject(subject, limit=100, details=True, ebooks=False, published_in=None, offset=0):\n",
        "    '''\n",
        "    Args:\n",
        "    details: if True, includes related subjects, prolific authors, and publishers.\n",
        "    ebooks: if True,  filters for books with e-books.\n",
        "    published_in: filters by publication year.\n",
        "                  For example:\n",
        "                  http://openlibrary.org/subjects/love.json?published_in=1500-1600\n",
        "    limit: num of works to include in the response, controls pagination.\n",
        "    offset: starting offset in the total works, controls pagination.\n",
        "    '''\n",
        "    # Creates the API endpoint URL using the subject provided.\n",
        "    base_url = (f'https://openlibrary.org/subjects/{subject}.json?limit=1')\n",
        "\n",
        "\n",
        "    # Sends an HTTP GET request to Open Library's API with the query parameters\n",
        "    # stored in params.\n",
        "    # The response is stored in response, which contains JSON data.\n",
        "    response = requests.get(base_url)#, params=params)\n",
        "\n",
        "    if response.status_code != 200:\n",
        "        print(f\"Error fetching books for {subject}\")\n",
        "        return []\n",
        "\n",
        "    data = response.json()\n",
        "    books = data.get(\"works\", [])\n",
        "\n",
        "    if not books:\n",
        "        print(f\"No books found for {subject}\")\n",
        "        return []\n",
        "\n",
        "    book_list = []\n",
        "    for book in books:\n",
        "        title = book.get(\"title\", \"Unknown Title\")\n",
        "        author = book[\"authors\"][0][\"name\"] if book.get(\"authors\") else \"Unknown Author\"\n",
        "        published_year = book.get(\"first_publish_year\", \"Unknown Year\")\n",
        "\n",
        "        # Other details we may need for\n",
        "        subjects = \", \".join(book.get(\"subject\", [\"No subjects available\"]))\n",
        "        description = book.get(\"description\", \"No description available\")\n",
        "        ebook_available = book.get(\"ebook_count_i\", 0) > 0\n",
        "        publishers = \", \".join(book.get(\"publishers\", [\"Unknown Publisher\"]))\n",
        "\n",
        "        book_list.append({\n",
        "            \"title\": title,\n",
        "            \"author\": author,\n",
        "            \"published_year\": published_year,\n",
        "            \"subjects\": subjects,\n",
        "            \"description\": description,\n",
        "            \"ebook_available\": ebook_available,\n",
        "            \"publishers\": publishers\n",
        "        })\n",
        "\n",
        "    return book_list  # Return the list of books\n"
      ],
      "metadata": {
        "id": "1TLeu2GJc-RB"
      },
      "execution_count": null,
      "outputs": []
    },
    {
      "cell_type": "markdown",
      "source": [
        "# Step 2: Combine into one genre\n",
        "For instance, \"sci-fi\" subject and \"science-fiction\" subject returns different results. So, our next objective is to combine all of them into one genre \"Science Fiction\". The same goes for other genres like \"Romance\" or \"Fantasy\".\n"
      ],
      "metadata": {
        "id": "KZVUatKlOoMH"
      }
    },
    {
      "cell_type": "markdown",
      "source": [
        "### Function to combine sub-genres into a big genre:"
      ],
      "metadata": {
        "id": "AZei4rWfPJGk"
      }
    },
    {
      "cell_type": "code",
      "source": [
        "def combine_genre(subject):\n",
        "    \"\"\"\n",
        "    Args:\n",
        "    subject: book subject\n",
        "\n",
        "    This function collects book lists under sub-genres and combines them into\n",
        "    one main genre.\n",
        "\n",
        "    Returns:\n",
        "    List of all books under a specific genre.\n",
        "    \"\"\"\n",
        "\n",
        "    if subject is None:\n",
        "        raise ValueError(\"Please pass a subject name.\")\n",
        "\n",
        "    # Dictionary of genres and their corresponding lists with adjusted formatting\n",
        "    genre_dict = {\n",
        "        \"romance\": [\n",
        "            \"fiction_romance_general\", \"fiction_romance_historical_general\",\n",
        "            \"romance\", \"man_woman_relationships\", \"fiction_romance_suspense\",\n",
        "            \"fiction_romance_contemporary\",\n",
        "            \"fiction_romance_erotica\", \"fiction_romance_erotic\",\n",
        "            \"marriage_fiction\", \"fiction_erotica_general\", \"romance\",\n",
        "            \"fiction_christian_romance_general\", \"fiction_romance_historical\"\n",
        "        ],\n",
        "        \"fantasy\": [\n",
        "            \"fiction\", \"fantasy_fiction\", \"magic\", \"fiction_fantasy_general\",\n",
        "            \"adventure_and_adventurers_fiction\",\n",
        "            \"adventure_and_adventurers\", \"good_and_evil\", \"fairies\", \"dragons\",\n",
        "            \"cartoons_and_comics\", \"witchcraft\", \"history\", \"wizards\", \"fairies_fiction\"\n",
        "        ],\n",
        "        \"historical_fiction\": [\n",
        "            \"fiction\", \"historical_fiction\", \"history\", \"fiction_historical_general\",\n",
        "            \"fiction_romance_historical_general\", \"fiction_historical\", \"fiction_general\",\n",
        "            \"fiction_romance_historical\", \"world_war_1939_1945\", \"great_britain_fiction\"\n",
        "        ],\n",
        "        \"horror\": [\n",
        "            \"fiction\", \"horror\", \"horror_stories\", \"horror_tales\", \"american_horror_tales\",\n",
        "            \"horror_fiction\", \"detective_and_mystery_stories\", \"crime\", \"catalepsy\", \"murder\",\n",
        "            \"burial_vaults\"\n",
        "        ],\n",
        "        \"humor\": [\n",
        "            \"anecdotes\", \"humor_general\", \"american_wit_and_humor\",\n",
        "            \"wit_and_humor\", \"humour\", \"humor\", \"funny\"\n",
        "        ],\n",
        "        \"literature\": [\n",
        "            \"philosophy\", \"in_literature\", \"theory\", \"criticism\", \"criticism_and_interpretation\",\n",
        "            \"english_literature\", \"modern_literature\", \"american_literature\",\n",
        "            \"literature\", \"litterature\"\n",
        "        ],\n",
        "        \"mystery_thriller\": [\n",
        "            \"detective_and_mystery_stories\", \"mystery_fiction\", \"murder\", \"mystery\",\n",
        "            \"thriller\", \"detective\", \"fiction_thrillers_general\",\n",
        "            \"suspense\", \"fiction_thrillers_suspense\", \"fiction_suspense\",\n",
        "            \"mystery\", \"thriller\", \"murder\",\n",
        "            \"fiction_thrillers_espionage\", \"police\",\n",
        "            \"suspense_fiction\", \"fiction_general\", \"detective_and_mystery_stories\",\n",
        "            \"crimes_against\", \"fiction_psychological\", \"investigation\"\n",
        "        ],\n",
        "        \"science_fiction\": [\n",
        "            \"science_fiction\", \"fiction_science_fiction_general\", \"american_science_fiction\",\n",
        "            \"extraterrestrial_beings\", \"life_on_other_planets\", \"extraterrestrial_beings_fiction\",\n",
        "            \"time_travel\", \"sci_fi\", \"sci-fi\", \"science-fiction\"\n",
        "        ]\n",
        "    }\n",
        "\n",
        "    if subject not in genre_dict:\n",
        "        raise ValueError(\"Invalid genre. Please choose from the predefined genres: \\\n",
        "        romance, fantasy, historical_fiction, horror, humor, literature, \\\n",
        "        mystery_thriller, science_fiction.\")\n",
        "\n",
        "    books_under_genre = []\n",
        "    seen_books = set()  # To store unique books\n",
        "    i = 1\n",
        "    print(f\"\\nBooks under the genre '{subject}':\\n\")\n",
        "\n",
        "    for sub_genre in genre_dict[subject]:\n",
        "        books = get_books_by_subject(sub_genre)  # Get books for the sub-genre\n",
        "\n",
        "        if books:\n",
        "            for book in books:\n",
        "                # Extract the book title and author for uniqueness check)\n",
        "                title_author = book['author']\n",
        "                if title_author is None:\n",
        "                  print(\"no author\")\n",
        "\n",
        "                # Ensure no dupicates\n",
        "                if title_author not in seen_books:\n",
        "                    print(f\"{i}. {book['title']} by {book['author']}\")\n",
        "                    books_under_genre.append(book)\n",
        "                    seen_books.add(title_author)\n",
        "                    i += 1\n",
        "\n",
        "        else:\n",
        "            print(f\"No books found for sub-genre '{sub_genre}'\")\n",
        "\n",
        "    return books_under_genre\n"
      ],
      "metadata": {
        "id": "UfwwK6xYQvEJ"
      },
      "execution_count": null,
      "outputs": []
    },
    {
      "cell_type": "markdown",
      "source": [
        "### Romance books:"
      ],
      "metadata": {
        "id": "Mf3lNHW1eo3B"
      }
    },
    {
      "cell_type": "code",
      "source": [
        "romance_books = combine_genre(\"romance\")"
      ],
      "metadata": {
        "id": "dPvBaC3jrM7r",
        "outputId": "eb01fbd8-89d9-4b3b-ab5d-96a2d0f7284e",
        "colab": {
          "base_uri": "https://localhost:8080/"
        }
      },
      "execution_count": null,
      "outputs": [
        {
          "output_type": "stream",
          "name": "stdout",
          "text": [
            "\n",
            "Books under the genre 'romance':\n",
            "\n",
            "1. Pride and Prejudice by Jane Austen\n",
            "2. Wuthering Heights by Emily Brontë\n",
            "3. Is he lying to you? by Dan Crum\n",
            "4. Rebecca by Daphne du Maurier\n",
            "5. Loving by Danielle Steel\n",
            "6. Fifty Shades Freed by E. L. James\n",
            "7. Memoirs of Fanny Hill by John Cleland\n",
            "8. Decamerone by Giovanni Boccaccio\n",
            "9. Far From the Madding Crowd by Thomas Hardy\n"
          ]
        }
      ]
    },
    {
      "cell_type": "markdown",
      "source": [
        "### Fantasy books:"
      ],
      "metadata": {
        "id": "_xL8yNmgexYq"
      }
    },
    {
      "cell_type": "code",
      "source": [
        "fantasy_books = combine_genre(\"fantasy\")"
      ],
      "metadata": {
        "id": "nHtVwvO_eyiK",
        "outputId": "a28ea7c1-4ccd-4690-cbad-7d1d2b798f1d",
        "colab": {
          "base_uri": "https://localhost:8080/"
        }
      },
      "execution_count": null,
      "outputs": [
        {
          "output_type": "stream",
          "name": "stdout",
          "text": [
            "\n",
            "Books under the genre 'fantasy':\n",
            "\n",
            "1. Pride and Prejudice by Jane Austen\n",
            "2. Alice's Adventures in Wonderland by Lewis Carroll\n",
            "3. The Marvelous Land of Oz by L. Frank Baum\n",
            "4. Five Children and It by Edith Nesbit\n",
            "5. A Christmas Carol by Charles Dickens\n",
            "6. Harry Potter and the Chamber of Secrets by J. K. Rowling\n"
          ]
        }
      ]
    },
    {
      "cell_type": "markdown",
      "source": [
        "### Historical Fiction books:"
      ],
      "metadata": {
        "id": "nYkhIBUue6fG"
      }
    },
    {
      "cell_type": "code",
      "source": [
        "combine_genre(\"historical_fiction\")"
      ],
      "metadata": {
        "id": "erWMCGZyfMsn",
        "outputId": "6576fbdf-3006-496d-c45a-10ab9cbf4bc1",
        "colab": {
          "base_uri": "https://localhost:8080/"
        }
      },
      "execution_count": null,
      "outputs": [
        {
          "output_type": "stream",
          "name": "stdout",
          "text": [
            "\n",
            "Books under the genre 'historical_fiction':\n",
            "\n",
            "1. Pride and Prejudice by Jane Austen (1813)\n",
            "2. A Christmas Carol by Charles Dickens (1843)\n",
            "3. Alice's Adventures in Wonderland by Lewis Carroll (1865)\n",
            "4. The 12th SS by Meyer, Hubert (2005)\n"
          ]
        }
      ]
    },
    {
      "cell_type": "markdown",
      "source": [
        "### Horror Books"
      ],
      "metadata": {
        "id": "23U6zbzCiknR"
      }
    },
    {
      "cell_type": "code",
      "source": [
        "combine_genre(\"horror\")"
      ],
      "metadata": {
        "colab": {
          "base_uri": "https://localhost:8080/"
        },
        "id": "OelIMn9AieMo",
        "outputId": "0627fd5d-d77c-4796-f01d-45fdaa569c7f"
      },
      "execution_count": null,
      "outputs": [
        {
          "output_type": "stream",
          "name": "stdout",
          "text": [
            "\n",
            "Books under the genre 'horror':\n",
            "\n",
            "1. Pride and Prejudice by Jane Austen (1813)\n",
            "2. The Picture of Dorian Gray by Oscar Wilde (1890)\n",
            "3. Frankenstein or The Modern Prometheus by Mary Shelley (1818)\n",
            "4. Carrie by Stephen King (1974)\n",
            "5. A Study in Scarlet by Arthur Conan Doyle (1887)\n",
            "6. The Hound of the Baskervilles by Arthur Conan Doyle (1900)\n",
            "7. Memoirs of Sherlock Holmes [11 stories] by Arthur Conan Doyle (1893)\n",
            "8. The Works of Edgar Allan Poe in Five Volumes by Edgar Allan Poe (1903)\n"
          ]
        }
      ]
    },
    {
      "cell_type": "markdown",
      "source": [
        "### Humor Books"
      ],
      "metadata": {
        "id": "RNbSJfnwrvnv"
      }
    },
    {
      "cell_type": "code",
      "source": [
        "combine_genre(\"humor\")"
      ],
      "metadata": {
        "id": "anU2Zx_Sr9QN",
        "outputId": "4628e936-0025-4005-faeb-5c96f4cccaa6",
        "colab": {
          "base_uri": "https://localhost:8080/"
        }
      },
      "execution_count": null,
      "outputs": [
        {
          "output_type": "stream",
          "name": "stdout",
          "text": [
            "\n",
            "Books under the genre 'humor':\n",
            "\n",
            "1. The Second Jungle Book by Rudyard Kipling (1887)\n",
            "2. Candide by Voltaire (1746)\n",
            "3. Three Men in a Boat (to say nothing of the dog) by Jerome Klapka Jerome (1889)\n",
            "4. Adventures of Huckleberry Finn by Mark Twain (1876)\n",
            "5. Alice's Adventures in Wonderland by Lewis Carroll (1865)\n",
            "6. The BFG by Roald Dahl (1980)\n"
          ]
        }
      ]
    },
    {
      "cell_type": "markdown",
      "source": [
        "### Literature Books"
      ],
      "metadata": {
        "id": "dbRol0qTr0Gk"
      }
    },
    {
      "cell_type": "code",
      "source": [
        "combine_genre(\"literature\")"
      ],
      "metadata": {
        "id": "TOYICVImsNBY",
        "outputId": "7ec90b99-85f2-4a61-9e86-3c5f7c6a3036",
        "colab": {
          "base_uri": "https://localhost:8080/"
        }
      },
      "execution_count": null,
      "outputs": [
        {
          "output_type": "stream",
          "name": "stdout",
          "text": [
            "\n",
            "Books under the genre 'literature':\n",
            "\n",
            "1. The Art of War by Sun Tzu (1900)\n",
            "2. Bible by Bible (1200)\n",
            "3. La Poetica by Aristotle (1479)\n",
            "4. The Merchant of Venice by William Shakespeare (1600)\n",
            "5. Alice's Adventures in Wonderland by Lewis Carroll (1865)\n",
            "6. Pride and Prejudice by Jane Austen (1813)\n",
            "7. Don Quixote by Miguel de Cervantes Saavedra (1600)\n",
            "8. Adventures of Huckleberry Finn by Mark Twain (1876)\n",
            "9. Literacy for the 21st Century by Gail E. Tompkins (1996)\n"
          ]
        }
      ]
    },
    {
      "cell_type": "markdown",
      "source": [
        "### Mystery/Thriller Books"
      ],
      "metadata": {
        "id": "OMy34Ddgr1z2"
      }
    },
    {
      "cell_type": "code",
      "source": [
        "combine_genre(\"mystery_thriller\")"
      ],
      "metadata": {
        "id": "7xG5CM7FsQ9E",
        "outputId": "9cd62f0e-9024-4179-e857-b5343c282be3",
        "colab": {
          "base_uri": "https://localhost:8080/"
        }
      },
      "execution_count": null,
      "outputs": [
        {
          "output_type": "stream",
          "name": "stdout",
          "text": [
            "\n",
            "Books under the genre 'mystery_thriller':\n",
            "\n",
            "1. A Study in Scarlet by Arthur Conan Doyle (1887)\n",
            "2. The Hound of the Baskervilles by Arthur Conan Doyle (1900)\n",
            "3. Treasure Island by Robert Louis Stevenson (1880)\n",
            "4. Murder on the Orient Express by Agatha Christie (1933)\n",
            "5. A Christmas Carol by Charles Dickens (1843)\n",
            "6. The Thirty-Nine Steps by John Buchan (1915)\n",
            "7. The Moonstone by Wilkie Collins (1868)\n",
            "8. Alice's Adventures in Wonderland by Lewis Carroll (1865)\n",
            "9. The Da Vinci Code by Dan Brown (2003)\n",
            "10. Wuthering Heights by Emily Brontë (1846)\n",
            "11. The Mysterious Affair at Styles by Agatha Christie (1920)\n"
          ]
        }
      ]
    },
    {
      "cell_type": "markdown",
      "source": [
        "### Science Fiction Books"
      ],
      "metadata": {
        "id": "V2l384hqr4mK"
      }
    },
    {
      "cell_type": "code",
      "source": [
        "combine_genre(\"science_fiction\")"
      ],
      "metadata": {
        "id": "YwHz35VIsp7r",
        "outputId": "6148a776-b135-48f2-c67d-d6333c0f2d94",
        "colab": {
          "base_uri": "https://localhost:8080/"
        }
      },
      "execution_count": null,
      "outputs": [
        {
          "output_type": "stream",
          "name": "stdout",
          "text": [
            "\n",
            "Books under the genre 'science_fiction':\n",
            "\n",
            "1. Alice's Adventures in Wonderland by Lewis Carroll (1865)\n",
            "2. Frankenstein or The Modern Prometheus by Mary Shelley (1818)\n",
            "3. Fahrenheit 451 by Ray Bradbury (1953)\n",
            "4. The War of the Worlds by H. G. Wells (1898)\n",
            "5. The Time Machine by H. G. Wells (1895)\n",
            "6. The Giver by Lois Lowry (1993)\n",
            "7. A Wrinkle in Time by Madeleine L'Engle (1962)\n"
          ]
        }
      ]
    },
    {
      "cell_type": "markdown",
      "source": [
        "# Create table for putting books based on genre"
      ],
      "metadata": {
        "id": "N6ORY0rUVMF_"
      }
    },
    {
      "cell_type": "code",
      "source": [
        "def book_details(books_under_genre):\n",
        "  book_data = {'ISBN': [],\n",
        "               'Title': [],\n",
        "               'Author': [],\n",
        "               'Published_year': [],\n",
        "               'Subject': []\n",
        "               }\n"
      ],
      "metadata": {
        "id": "gCi3Wqs1VObB"
      },
      "execution_count": null,
      "outputs": []
    },
    {
      "cell_type": "markdown",
      "source": [
        "# Step 3 - Scrape User Ratings & Reviews"
      ],
      "metadata": {
        "id": "2ub8gV81QUu-"
      }
    },
    {
      "cell_type": "code",
      "source": [
        "import requests\n",
        "from bs4 import BeautifulSoup\n",
        "import re\n",
        "link = \"https://openlibrary.org/subjects\"\n",
        "data = requests.get(link).text\n",
        "response = requests.get(link)\n",
        "soup = BeautifulSoup(response.text, 'html.parser')"
      ],
      "metadata": {
        "id": "jInyi4pge6cG"
      },
      "execution_count": 4,
      "outputs": []
    },
    {
      "cell_type": "code",
      "source": [
        "book_link = \"https://openlibrary.org/works/OL103123W/Fahrenheit_451#reader-observations\"\n",
        "\n",
        "def link2soup(link):\n",
        "    data = requests.get(link).text\n",
        "    return BeautifulSoup(data)\n",
        "\n",
        "soup = link2soup(book_link)"
      ],
      "metadata": {
        "id": "hWIPCexT1Z9P"
      },
      "execution_count": null,
      "outputs": []
    },
    {
      "cell_type": "code",
      "source": [
        "def parse_to_books(link):\n",
        "    '''\n",
        "    Assume we start in \"https://openlibrary.org/subjects\" (base link) page,\n",
        "    crawls to each chosen subject link and add it to the base link.\n",
        "    '''\n",
        "    # assume start in \"https://openlibrary.org/subjects\" page\n",
        "    chosen_subjects = {\n",
        "        \"romance\", \"fantasy\", \"historical_fiction\", \"horror\", \"humor\",\n",
        "        \"literature\", \"mystery_and_detective_stories\", \"science_fiction\"\n",
        "    }\n",
        "\n",
        "    # Extract all subjects links\n",
        "    all_links = [a['href'] for a in soup.select(\"div#subjectsPage ul li a\") if 'href' in a.attrs]\n",
        "    # print(all_links[:5])\n",
        "\n",
        "    # Filter only the chosen subjects\n",
        "    filtered_links = [\n",
        "        link for link in all_links\n",
        "        # ensure only parsing on wanted subjects\n",
        "        if any(sub in link for sub in chosen_subjects) and \"juvenile_literature\" not in link]\n",
        "    # print(filtered_links)\n",
        "\n",
        "    # assume we wish to click the 'fantasy' (specific subject) page\n",
        "    # crawling through links\n",
        "    specific_subject_urls = []\n",
        "    for i in range(len(filtered_links)):\n",
        "        next_button = filtered_links[i].split('/')[2]\n",
        "        specific_subject_url = link + \"/\" + next_button\n",
        "        specific_subject_urls.append(specific_subject_url)\n",
        "\n",
        "    return(specific_subject_urls)"
      ],
      "metadata": {
        "id": "KhOrVgb2XMfw"
      },
      "execution_count": null,
      "outputs": []
    },
    {
      "cell_type": "code",
      "source": [
        "subject_links = parse_to_books(link)\n",
        "subject_links"
      ],
      "metadata": {
        "id": "mnw9yqwzecNp",
        "outputId": "f71fd249-063f-4edb-d2ef-9241c12c26da",
        "colab": {
          "base_uri": "https://localhost:8080/"
        }
      },
      "execution_count": null,
      "outputs": [
        {
          "output_type": "execute_result",
          "data": {
            "text/plain": [
              "['https://openlibrary.org/subjects/fantasy',\n",
              " 'https://openlibrary.org/subjects/historical_fiction',\n",
              " 'https://openlibrary.org/subjects/horror',\n",
              " 'https://openlibrary.org/subjects/humor',\n",
              " 'https://openlibrary.org/subjects/literature',\n",
              " 'https://openlibrary.org/subjects/mystery_and_detective_stories',\n",
              " 'https://openlibrary.org/subjects/romance',\n",
              " 'https://openlibrary.org/subjects/science_fiction']"
            ]
          },
          "metadata": {},
          "execution_count": 28
        }
      ]
    },
    {
      "cell_type": "code",
      "source": [
        "# not complete in a function yet\n",
        "# assumes we want to go to the total \"works\" under each subject\n",
        "specific_subject_url_book = []\n",
        "for url in subject_links:\n",
        "    response2 = requests.get(url)  # Make request to each URL\n",
        "    soup2 = BeautifulSoup(response2.text, 'html.parser')  # Parse the HTML\n",
        "\n",
        "    # Extract total works link\n",
        "    total_works_link = [a['href'] for a in soup2.select(\"span#coversCount.count a\") if 'href' in a.attrs]\n",
        "\n",
        "    # Print extracted links (if any)\n",
        "    print(f\"Total works links for {url}: {total_works_link}\")\n",
        "\n",
        "    # Ensure the extracted links list is not empty before iterating\n",
        "    if total_works_link:\n",
        "        for i in range(len(total_works_link)):\n",
        "            next_button2 = total_works_link[i].split('/')[1]  # Extract the relevant part\n",
        "            print(f\"Extracted path: {next_button2}\")  # Debugging output\n",
        "\n",
        "            # Construct the full URL\n",
        "            specific_subject_url = url + \"/\" + next_button2  # Using `url`, not `link`\n",
        "            specific_subject_url_book.append(specific_subject_url)  # Store the URLs\n",
        "\n",
        "# Print all collected subject URLs\n",
        "print(\"\\nFinal collected URLs:\", specific_subject_url_book)"
      ],
      "metadata": {
        "id": "yOls7kkbwKoa",
        "outputId": "f8e63c7e-20f6-41fa-f3c3-9698962ea1b7",
        "colab": {
          "base_uri": "https://localhost:8080/"
        }
      },
      "execution_count": null,
      "outputs": [
        {
          "output_type": "stream",
          "name": "stdout",
          "text": [
            "Total works links for https://openlibrary.org/subjects/fantasy: ['/search?subject=Fantasy']\n",
            "Extracted path: search?subject=Fantasy\n",
            "Total works links for https://openlibrary.org/subjects/historical_fiction: ['/search?subject=Historical fiction']\n",
            "Extracted path: search?subject=Historical fiction\n",
            "Total works links for https://openlibrary.org/subjects/horror: ['/search?subject=Horror']\n",
            "Extracted path: search?subject=Horror\n",
            "Total works links for https://openlibrary.org/subjects/humor: []\n",
            "Total works links for https://openlibrary.org/subjects/literature: ['/search?subject=Literature']\n",
            "Extracted path: search?subject=Literature\n",
            "Total works links for https://openlibrary.org/subjects/mystery_and_detective_stories: ['/search?subject=Mystery and detective stories']\n",
            "Extracted path: search?subject=Mystery and detective stories\n",
            "Total works links for https://openlibrary.org/subjects/romance: ['/search?subject=Romance']\n",
            "Extracted path: search?subject=Romance\n",
            "Total works links for https://openlibrary.org/subjects/science_fiction: ['/search?subject=Science fiction']\n",
            "Extracted path: search?subject=Science fiction\n",
            "\n",
            "Final collected URLs: ['https://openlibrary.org/subjects/fantasy/search?subject=Fantasy', 'https://openlibrary.org/subjects/historical_fiction/search?subject=Historical fiction', 'https://openlibrary.org/subjects/horror/search?subject=Horror', 'https://openlibrary.org/subjects/literature/search?subject=Literature', 'https://openlibrary.org/subjects/mystery_and_detective_stories/search?subject=Mystery and detective stories', 'https://openlibrary.org/subjects/romance/search?subject=Romance', 'https://openlibrary.org/subjects/science_fiction/search?subject=Science fiction']\n"
          ]
        }
      ]
    },
    {
      "cell_type": "code",
      "source": [
        "# extracts the link to each book on a page\n",
        "def book_links(subject):\n",
        "    subject_link = f'https://openlibrary.org/search?subject={subject}'\n",
        "    data = requests.get(subject_link).text\n",
        "    response = requests.get(subject_link)\n",
        "    soup = BeautifulSoup(response.text, 'html.parser')\n",
        "\n",
        "    book_links = []\n",
        "    endof_links = [a['href'] for a in soup.select(\"div#searchResults li.searchResultItem.sri--w-main a.results\")\n",
        "                 if 'href' in a.attrs]\n",
        "    for link in endof_links:\n",
        "        book_links.append(subject_link + link )\n",
        "\n",
        "    return book_links\n",
        "\n",
        "print(book_links ('Romance'))"
      ],
      "metadata": {
        "collapsed": true,
        "id": "hFhEn7HjCkxL",
        "outputId": "58beae1c-076d-495d-ceca-f4b9f3d0db87",
        "colab": {
          "base_uri": "https://localhost:8080/"
        }
      },
      "execution_count": 13,
      "outputs": [
        {
          "output_type": "stream",
          "name": "stdout",
          "text": [
            "['https://openlibrary.org/search?subject=Romance/works/OL77775W?edition=key%3A/books/OL46930495M', 'https://openlibrary.org/search?subject=Romance/works/OL1003017W?edition=key%3A/books/OL44595490M', 'https://openlibrary.org/search?subject=Romance/works/OL44995W?edition=key%3A/books/OL37044526M', 'https://openlibrary.org/search?subject=Romance/works/OL15450151W?edition=key%3A/books/OL20475668M', 'https://openlibrary.org/search?subject=Romance/works/OL274518W?edition=key%3A/books/OL25954563M', 'https://openlibrary.org/search?subject=Romance/works/OL100239W?edition=key%3A/books/OL37847175M', 'https://openlibrary.org/search?subject=Romance/works/OL15437W?edition=key%3A/books/OL26320183M', 'https://openlibrary.org/search?subject=Romance/works/OL1230715W?edition=key%3A/books/OL21214329M', 'https://openlibrary.org/search?subject=Romance/works/OL81294W?edition=key%3A/books/OL44811282M', 'https://openlibrary.org/search?subject=Romance/works/OL15450W?edition=key%3A/books/OL23325250M', 'https://openlibrary.org/search?subject=Romance/works/OL1230631W?edition=key%3A/books/OL49668278M', 'https://openlibrary.org/search?subject=Romance/works/OL66534W?edition=key%3A/books/OL47079598M', 'https://openlibrary.org/search?subject=Romance/works/OL468362W?edition=key%3A/books/OL1118852M', 'https://openlibrary.org/search?subject=Romance/works/OL88813W?edition=key%3A/books/OL37044791M', 'https://openlibrary.org/search?subject=Romance/works/OL1157252W?edition=key%3A/books/OL37044566M', 'https://openlibrary.org/search?subject=Romance/works/OL66554W?edition=key%3A/books/OL50444320M', 'https://openlibrary.org/search?subject=Romance/works/OL267096W?edition=key%3A/books/OL39800439M', 'https://openlibrary.org/search?subject=Romance/works/OL471990W?edition=key%3A/books/OL51012140M', 'https://openlibrary.org/search?subject=Romance/works/OL77748W?edition=key%3A/books/OL52187484M', 'https://openlibrary.org/search?subject=Romance/works/OL54031W?edition=key%3A/books/OL32930303M']\n"
          ]
        }
      ]
    },
    {
      "cell_type": "code",
      "source": [
        "# follows the link to the next page so we can continue parsing\n",
        "def next_button(subject):\n",
        "    subject_link = f'https://openlibrary.org/search?subject={subject}'\n",
        "    data = requests.get(subject_link).text\n",
        "    response = requests.get(subject_link)\n",
        "    soup = BeautifulSoup(response.text, 'html.parser')\n",
        "\n",
        "    next_button = soup.select('div.pagination a.ChoosePage')\n",
        "\n",
        "    last_page = soup.select_one('a.ChoosePage[data-ol-link-track=\"Pager|LastPage\"]').get_text()\n",
        "\n",
        "    if not next_button:\n",
        "        return\n",
        "    return (base_url+next_button[0].attrs['href'])\n",
        "# print(next_button('Romance'))\n",
        "\n",
        "# need to somehow loop this so it's not only going from the first page to the secon"
      ],
      "metadata": {
        "id": "_FJZBWPDClFE"
      },
      "execution_count": null,
      "outputs": []
    },
    {
      "cell_type": "code",
      "source": [
        "import requests\n",
        "from bs4 import BeautifulSoup\n",
        "\n",
        "def every_page(subject):\n",
        "    base_url = 'https://openlibrary.org'\n",
        "    subject_link = f'https://openlibrary.org/search?subject={subject}'\n",
        "    response = requests.get(subject_link)\n",
        "    soup = BeautifulSoup(response.text, 'html.parser')\n",
        "\n",
        "    last_page = soup.select_one('a.ChoosePage[data-ol-link-track=\"Pager|LastPage\"]').get_text()\n",
        "    last_page_number = int(last_page)\n",
        "\n",
        "    page_links = []\n",
        "\n",
        "    for page in range(1, last_page_number + 1):\n",
        "        page_link = f'{subject_link}&page={page}'\n",
        "        response = requests.get(page_link)\n",
        "        soup = BeautifulSoup(response.text, 'html.parser')\n",
        "\n",
        "        book_links = [a['href'] for a in soup.select(\"div#searchResults li.searchResultItem.sri--w-main a.results\") if 'href' in a.attrs]\n",
        "\n",
        "        for link in book_links:\n",
        "            page_links.append(base_url + link + '\\n')  # Adding newline character for each link\n",
        "\n",
        "    return page_links\n",
        "\n",
        "print(every_page('Romance'))\n"
      ],
      "metadata": {
        "id": "yCbTIw5zE120",
        "outputId": "ee62466d-05f5-4cd4-aae0-deeab8b54069",
        "colab": {
          "base_uri": "https://localhost:8080/",
          "height": 321
        }
      },
      "execution_count": 15,
      "outputs": [
        {
          "output_type": "error",
          "ename": "KeyboardInterrupt",
          "evalue": "",
          "traceback": [
            "\u001b[0;31m---------------------------------------------------------------------------\u001b[0m",
            "\u001b[0;31mKeyboardInterrupt\u001b[0m                         Traceback (most recent call last)",
            "\u001b[0;32m<ipython-input-15-a49a2b933feb>\u001b[0m in \u001b[0;36m<cell line: 0>\u001b[0;34m()\u001b[0m\n\u001b[1;32m     25\u001b[0m     \u001b[0;32mreturn\u001b[0m \u001b[0mpage_links\u001b[0m\u001b[0;34m\u001b[0m\u001b[0;34m\u001b[0m\u001b[0m\n\u001b[1;32m     26\u001b[0m \u001b[0;34m\u001b[0m\u001b[0m\n\u001b[0;32m---> 27\u001b[0;31m \u001b[0mprint\u001b[0m\u001b[0;34m(\u001b[0m\u001b[0mevery_page\u001b[0m\u001b[0;34m(\u001b[0m\u001b[0;34m'Romance'\u001b[0m\u001b[0;34m)\u001b[0m\u001b[0;34m)\u001b[0m\u001b[0;34m\u001b[0m\u001b[0;34m\u001b[0m\u001b[0m\n\u001b[0m",
            "\u001b[0;32m<ipython-input-15-a49a2b933feb>\u001b[0m in \u001b[0;36mevery_page\u001b[0;34m(subject)\u001b[0m\n\u001b[1;32m     15\u001b[0m     \u001b[0;32mfor\u001b[0m \u001b[0mpage\u001b[0m \u001b[0;32min\u001b[0m \u001b[0mrange\u001b[0m\u001b[0;34m(\u001b[0m\u001b[0;36m1\u001b[0m\u001b[0;34m,\u001b[0m \u001b[0mlast_page_number\u001b[0m \u001b[0;34m+\u001b[0m \u001b[0;36m1\u001b[0m\u001b[0;34m)\u001b[0m\u001b[0;34m:\u001b[0m\u001b[0;34m\u001b[0m\u001b[0;34m\u001b[0m\u001b[0m\n\u001b[1;32m     16\u001b[0m         \u001b[0mpage_link\u001b[0m \u001b[0;34m=\u001b[0m \u001b[0;34mf'{subject_link}&page={page}'\u001b[0m\u001b[0;34m\u001b[0m\u001b[0;34m\u001b[0m\u001b[0m\n\u001b[0;32m---> 17\u001b[0;31m         \u001b[0mresponse\u001b[0m \u001b[0;34m=\u001b[0m \u001b[0mrequests\u001b[0m\u001b[0;34m.\u001b[0m\u001b[0mget\u001b[0m\u001b[0;34m(\u001b[0m\u001b[0mpage_link\u001b[0m\u001b[0;34m)\u001b[0m\u001b[0;34m\u001b[0m\u001b[0;34m\u001b[0m\u001b[0m\n\u001b[0m\u001b[1;32m     18\u001b[0m         \u001b[0msoup\u001b[0m \u001b[0;34m=\u001b[0m \u001b[0mBeautifulSoup\u001b[0m\u001b[0;34m(\u001b[0m\u001b[0mresponse\u001b[0m\u001b[0;34m.\u001b[0m\u001b[0mtext\u001b[0m\u001b[0;34m,\u001b[0m \u001b[0;34m'html.parser'\u001b[0m\u001b[0;34m)\u001b[0m\u001b[0;34m\u001b[0m\u001b[0;34m\u001b[0m\u001b[0m\n\u001b[1;32m     19\u001b[0m \u001b[0;34m\u001b[0m\u001b[0m\n",
            "\u001b[0;32m/usr/local/lib/python3.11/dist-packages/requests/api.py\u001b[0m in \u001b[0;36mget\u001b[0;34m(url, params, **kwargs)\u001b[0m\n\u001b[1;32m     71\u001b[0m     \"\"\"\n\u001b[1;32m     72\u001b[0m \u001b[0;34m\u001b[0m\u001b[0m\n\u001b[0;32m---> 73\u001b[0;31m     \u001b[0;32mreturn\u001b[0m \u001b[0mrequest\u001b[0m\u001b[0;34m(\u001b[0m\u001b[0;34m\"get\"\u001b[0m\u001b[0;34m,\u001b[0m \u001b[0murl\u001b[0m\u001b[0;34m,\u001b[0m \u001b[0mparams\u001b[0m\u001b[0;34m=\u001b[0m\u001b[0mparams\u001b[0m\u001b[0;34m,\u001b[0m \u001b[0;34m**\u001b[0m\u001b[0mkwargs\u001b[0m\u001b[0;34m)\u001b[0m\u001b[0;34m\u001b[0m\u001b[0;34m\u001b[0m\u001b[0m\n\u001b[0m\u001b[1;32m     74\u001b[0m \u001b[0;34m\u001b[0m\u001b[0m\n\u001b[1;32m     75\u001b[0m \u001b[0;34m\u001b[0m\u001b[0m\n",
            "\u001b[0;32m/usr/local/lib/python3.11/dist-packages/requests/api.py\u001b[0m in \u001b[0;36mrequest\u001b[0;34m(method, url, **kwargs)\u001b[0m\n\u001b[1;32m     57\u001b[0m     \u001b[0;31m# cases, and look like a memory leak in others.\u001b[0m\u001b[0;34m\u001b[0m\u001b[0;34m\u001b[0m\u001b[0m\n\u001b[1;32m     58\u001b[0m     \u001b[0;32mwith\u001b[0m \u001b[0msessions\u001b[0m\u001b[0;34m.\u001b[0m\u001b[0mSession\u001b[0m\u001b[0;34m(\u001b[0m\u001b[0;34m)\u001b[0m \u001b[0;32mas\u001b[0m \u001b[0msession\u001b[0m\u001b[0;34m:\u001b[0m\u001b[0;34m\u001b[0m\u001b[0;34m\u001b[0m\u001b[0m\n\u001b[0;32m---> 59\u001b[0;31m         \u001b[0;32mreturn\u001b[0m \u001b[0msession\u001b[0m\u001b[0;34m.\u001b[0m\u001b[0mrequest\u001b[0m\u001b[0;34m(\u001b[0m\u001b[0mmethod\u001b[0m\u001b[0;34m=\u001b[0m\u001b[0mmethod\u001b[0m\u001b[0;34m,\u001b[0m \u001b[0murl\u001b[0m\u001b[0;34m=\u001b[0m\u001b[0murl\u001b[0m\u001b[0;34m,\u001b[0m \u001b[0;34m**\u001b[0m\u001b[0mkwargs\u001b[0m\u001b[0;34m)\u001b[0m\u001b[0;34m\u001b[0m\u001b[0;34m\u001b[0m\u001b[0m\n\u001b[0m\u001b[1;32m     60\u001b[0m \u001b[0;34m\u001b[0m\u001b[0m\n\u001b[1;32m     61\u001b[0m \u001b[0;34m\u001b[0m\u001b[0m\n",
            "\u001b[0;32m/usr/local/lib/python3.11/dist-packages/requests/sessions.py\u001b[0m in \u001b[0;36mrequest\u001b[0;34m(self, method, url, params, data, headers, cookies, files, auth, timeout, allow_redirects, proxies, hooks, stream, verify, cert, json)\u001b[0m\n\u001b[1;32m    587\u001b[0m         }\n\u001b[1;32m    588\u001b[0m         \u001b[0msend_kwargs\u001b[0m\u001b[0;34m.\u001b[0m\u001b[0mupdate\u001b[0m\u001b[0;34m(\u001b[0m\u001b[0msettings\u001b[0m\u001b[0;34m)\u001b[0m\u001b[0;34m\u001b[0m\u001b[0;34m\u001b[0m\u001b[0m\n\u001b[0;32m--> 589\u001b[0;31m         \u001b[0mresp\u001b[0m \u001b[0;34m=\u001b[0m \u001b[0mself\u001b[0m\u001b[0;34m.\u001b[0m\u001b[0msend\u001b[0m\u001b[0;34m(\u001b[0m\u001b[0mprep\u001b[0m\u001b[0;34m,\u001b[0m \u001b[0;34m**\u001b[0m\u001b[0msend_kwargs\u001b[0m\u001b[0;34m)\u001b[0m\u001b[0;34m\u001b[0m\u001b[0;34m\u001b[0m\u001b[0m\n\u001b[0m\u001b[1;32m    590\u001b[0m \u001b[0;34m\u001b[0m\u001b[0m\n\u001b[1;32m    591\u001b[0m         \u001b[0;32mreturn\u001b[0m \u001b[0mresp\u001b[0m\u001b[0;34m\u001b[0m\u001b[0;34m\u001b[0m\u001b[0m\n",
            "\u001b[0;32m/usr/local/lib/python3.11/dist-packages/requests/sessions.py\u001b[0m in \u001b[0;36msend\u001b[0;34m(self, request, **kwargs)\u001b[0m\n\u001b[1;32m    701\u001b[0m \u001b[0;34m\u001b[0m\u001b[0m\n\u001b[1;32m    702\u001b[0m         \u001b[0;31m# Send the request\u001b[0m\u001b[0;34m\u001b[0m\u001b[0;34m\u001b[0m\u001b[0m\n\u001b[0;32m--> 703\u001b[0;31m         \u001b[0mr\u001b[0m \u001b[0;34m=\u001b[0m \u001b[0madapter\u001b[0m\u001b[0;34m.\u001b[0m\u001b[0msend\u001b[0m\u001b[0;34m(\u001b[0m\u001b[0mrequest\u001b[0m\u001b[0;34m,\u001b[0m \u001b[0;34m**\u001b[0m\u001b[0mkwargs\u001b[0m\u001b[0;34m)\u001b[0m\u001b[0;34m\u001b[0m\u001b[0;34m\u001b[0m\u001b[0m\n\u001b[0m\u001b[1;32m    704\u001b[0m \u001b[0;34m\u001b[0m\u001b[0m\n\u001b[1;32m    705\u001b[0m         \u001b[0;31m# Total elapsed time of the request (approximately)\u001b[0m\u001b[0;34m\u001b[0m\u001b[0;34m\u001b[0m\u001b[0m\n",
            "\u001b[0;32m/usr/local/lib/python3.11/dist-packages/requests/adapters.py\u001b[0m in \u001b[0;36msend\u001b[0;34m(self, request, stream, timeout, verify, cert, proxies)\u001b[0m\n\u001b[1;32m    665\u001b[0m \u001b[0;34m\u001b[0m\u001b[0m\n\u001b[1;32m    666\u001b[0m         \u001b[0;32mtry\u001b[0m\u001b[0;34m:\u001b[0m\u001b[0;34m\u001b[0m\u001b[0;34m\u001b[0m\u001b[0m\n\u001b[0;32m--> 667\u001b[0;31m             resp = conn.urlopen(\n\u001b[0m\u001b[1;32m    668\u001b[0m                 \u001b[0mmethod\u001b[0m\u001b[0;34m=\u001b[0m\u001b[0mrequest\u001b[0m\u001b[0;34m.\u001b[0m\u001b[0mmethod\u001b[0m\u001b[0;34m,\u001b[0m\u001b[0;34m\u001b[0m\u001b[0;34m\u001b[0m\u001b[0m\n\u001b[1;32m    669\u001b[0m                 \u001b[0murl\u001b[0m\u001b[0;34m=\u001b[0m\u001b[0murl\u001b[0m\u001b[0;34m,\u001b[0m\u001b[0;34m\u001b[0m\u001b[0;34m\u001b[0m\u001b[0m\n",
            "\u001b[0;32m/usr/local/lib/python3.11/dist-packages/urllib3/connectionpool.py\u001b[0m in \u001b[0;36murlopen\u001b[0;34m(self, method, url, body, headers, retries, redirect, assert_same_host, timeout, pool_timeout, release_conn, chunked, body_pos, preload_content, decode_content, **response_kw)\u001b[0m\n\u001b[1;32m    785\u001b[0m \u001b[0;34m\u001b[0m\u001b[0m\n\u001b[1;32m    786\u001b[0m             \u001b[0;31m# Make the request on the HTTPConnection object\u001b[0m\u001b[0;34m\u001b[0m\u001b[0;34m\u001b[0m\u001b[0m\n\u001b[0;32m--> 787\u001b[0;31m             response = self._make_request(\n\u001b[0m\u001b[1;32m    788\u001b[0m                 \u001b[0mconn\u001b[0m\u001b[0;34m,\u001b[0m\u001b[0;34m\u001b[0m\u001b[0;34m\u001b[0m\u001b[0m\n\u001b[1;32m    789\u001b[0m                 \u001b[0mmethod\u001b[0m\u001b[0;34m,\u001b[0m\u001b[0;34m\u001b[0m\u001b[0;34m\u001b[0m\u001b[0m\n",
            "\u001b[0;32m/usr/local/lib/python3.11/dist-packages/urllib3/connectionpool.py\u001b[0m in \u001b[0;36m_make_request\u001b[0;34m(self, conn, method, url, body, headers, retries, timeout, chunked, response_conn, preload_content, decode_content, enforce_content_length)\u001b[0m\n\u001b[1;32m    532\u001b[0m         \u001b[0;31m# Receive the response from the server\u001b[0m\u001b[0;34m\u001b[0m\u001b[0;34m\u001b[0m\u001b[0m\n\u001b[1;32m    533\u001b[0m         \u001b[0;32mtry\u001b[0m\u001b[0;34m:\u001b[0m\u001b[0;34m\u001b[0m\u001b[0;34m\u001b[0m\u001b[0m\n\u001b[0;32m--> 534\u001b[0;31m             \u001b[0mresponse\u001b[0m \u001b[0;34m=\u001b[0m \u001b[0mconn\u001b[0m\u001b[0;34m.\u001b[0m\u001b[0mgetresponse\u001b[0m\u001b[0;34m(\u001b[0m\u001b[0;34m)\u001b[0m\u001b[0;34m\u001b[0m\u001b[0;34m\u001b[0m\u001b[0m\n\u001b[0m\u001b[1;32m    535\u001b[0m         \u001b[0;32mexcept\u001b[0m \u001b[0;34m(\u001b[0m\u001b[0mBaseSSLError\u001b[0m\u001b[0;34m,\u001b[0m \u001b[0mOSError\u001b[0m\u001b[0;34m)\u001b[0m \u001b[0;32mas\u001b[0m \u001b[0me\u001b[0m\u001b[0;34m:\u001b[0m\u001b[0;34m\u001b[0m\u001b[0;34m\u001b[0m\u001b[0m\n\u001b[1;32m    536\u001b[0m             \u001b[0mself\u001b[0m\u001b[0;34m.\u001b[0m\u001b[0m_raise_timeout\u001b[0m\u001b[0;34m(\u001b[0m\u001b[0merr\u001b[0m\u001b[0;34m=\u001b[0m\u001b[0me\u001b[0m\u001b[0;34m,\u001b[0m \u001b[0murl\u001b[0m\u001b[0;34m=\u001b[0m\u001b[0murl\u001b[0m\u001b[0;34m,\u001b[0m \u001b[0mtimeout_value\u001b[0m\u001b[0;34m=\u001b[0m\u001b[0mread_timeout\u001b[0m\u001b[0;34m)\u001b[0m\u001b[0;34m\u001b[0m\u001b[0;34m\u001b[0m\u001b[0m\n",
            "\u001b[0;32m/usr/local/lib/python3.11/dist-packages/urllib3/connection.py\u001b[0m in \u001b[0;36mgetresponse\u001b[0;34m(self)\u001b[0m\n\u001b[1;32m    514\u001b[0m \u001b[0;34m\u001b[0m\u001b[0m\n\u001b[1;32m    515\u001b[0m         \u001b[0;31m# Get the response from http.client.HTTPConnection\u001b[0m\u001b[0;34m\u001b[0m\u001b[0;34m\u001b[0m\u001b[0m\n\u001b[0;32m--> 516\u001b[0;31m         \u001b[0mhttplib_response\u001b[0m \u001b[0;34m=\u001b[0m \u001b[0msuper\u001b[0m\u001b[0;34m(\u001b[0m\u001b[0;34m)\u001b[0m\u001b[0;34m.\u001b[0m\u001b[0mgetresponse\u001b[0m\u001b[0;34m(\u001b[0m\u001b[0;34m)\u001b[0m\u001b[0;34m\u001b[0m\u001b[0;34m\u001b[0m\u001b[0m\n\u001b[0m\u001b[1;32m    517\u001b[0m \u001b[0;34m\u001b[0m\u001b[0m\n\u001b[1;32m    518\u001b[0m         \u001b[0;32mtry\u001b[0m\u001b[0;34m:\u001b[0m\u001b[0;34m\u001b[0m\u001b[0;34m\u001b[0m\u001b[0m\n",
            "\u001b[0;32m/usr/lib/python3.11/http/client.py\u001b[0m in \u001b[0;36mgetresponse\u001b[0;34m(self)\u001b[0m\n\u001b[1;32m   1393\u001b[0m         \u001b[0;32mtry\u001b[0m\u001b[0;34m:\u001b[0m\u001b[0;34m\u001b[0m\u001b[0;34m\u001b[0m\u001b[0m\n\u001b[1;32m   1394\u001b[0m             \u001b[0;32mtry\u001b[0m\u001b[0;34m:\u001b[0m\u001b[0;34m\u001b[0m\u001b[0;34m\u001b[0m\u001b[0m\n\u001b[0;32m-> 1395\u001b[0;31m                 \u001b[0mresponse\u001b[0m\u001b[0;34m.\u001b[0m\u001b[0mbegin\u001b[0m\u001b[0;34m(\u001b[0m\u001b[0;34m)\u001b[0m\u001b[0;34m\u001b[0m\u001b[0;34m\u001b[0m\u001b[0m\n\u001b[0m\u001b[1;32m   1396\u001b[0m             \u001b[0;32mexcept\u001b[0m \u001b[0mConnectionError\u001b[0m\u001b[0;34m:\u001b[0m\u001b[0;34m\u001b[0m\u001b[0;34m\u001b[0m\u001b[0m\n\u001b[1;32m   1397\u001b[0m                 \u001b[0mself\u001b[0m\u001b[0;34m.\u001b[0m\u001b[0mclose\u001b[0m\u001b[0;34m(\u001b[0m\u001b[0;34m)\u001b[0m\u001b[0;34m\u001b[0m\u001b[0;34m\u001b[0m\u001b[0m\n",
            "\u001b[0;32m/usr/lib/python3.11/http/client.py\u001b[0m in \u001b[0;36mbegin\u001b[0;34m(self)\u001b[0m\n\u001b[1;32m    323\u001b[0m         \u001b[0;31m# read until we get a non-100 response\u001b[0m\u001b[0;34m\u001b[0m\u001b[0;34m\u001b[0m\u001b[0m\n\u001b[1;32m    324\u001b[0m         \u001b[0;32mwhile\u001b[0m \u001b[0;32mTrue\u001b[0m\u001b[0;34m:\u001b[0m\u001b[0;34m\u001b[0m\u001b[0;34m\u001b[0m\u001b[0m\n\u001b[0;32m--> 325\u001b[0;31m             \u001b[0mversion\u001b[0m\u001b[0;34m,\u001b[0m \u001b[0mstatus\u001b[0m\u001b[0;34m,\u001b[0m \u001b[0mreason\u001b[0m \u001b[0;34m=\u001b[0m \u001b[0mself\u001b[0m\u001b[0;34m.\u001b[0m\u001b[0m_read_status\u001b[0m\u001b[0;34m(\u001b[0m\u001b[0;34m)\u001b[0m\u001b[0;34m\u001b[0m\u001b[0;34m\u001b[0m\u001b[0m\n\u001b[0m\u001b[1;32m    326\u001b[0m             \u001b[0;32mif\u001b[0m \u001b[0mstatus\u001b[0m \u001b[0;34m!=\u001b[0m \u001b[0mCONTINUE\u001b[0m\u001b[0;34m:\u001b[0m\u001b[0;34m\u001b[0m\u001b[0;34m\u001b[0m\u001b[0m\n\u001b[1;32m    327\u001b[0m                 \u001b[0;32mbreak\u001b[0m\u001b[0;34m\u001b[0m\u001b[0;34m\u001b[0m\u001b[0m\n",
            "\u001b[0;32m/usr/lib/python3.11/http/client.py\u001b[0m in \u001b[0;36m_read_status\u001b[0;34m(self)\u001b[0m\n\u001b[1;32m    284\u001b[0m \u001b[0;34m\u001b[0m\u001b[0m\n\u001b[1;32m    285\u001b[0m     \u001b[0;32mdef\u001b[0m \u001b[0m_read_status\u001b[0m\u001b[0;34m(\u001b[0m\u001b[0mself\u001b[0m\u001b[0;34m)\u001b[0m\u001b[0;34m:\u001b[0m\u001b[0;34m\u001b[0m\u001b[0;34m\u001b[0m\u001b[0m\n\u001b[0;32m--> 286\u001b[0;31m         \u001b[0mline\u001b[0m \u001b[0;34m=\u001b[0m \u001b[0mstr\u001b[0m\u001b[0;34m(\u001b[0m\u001b[0mself\u001b[0m\u001b[0;34m.\u001b[0m\u001b[0mfp\u001b[0m\u001b[0;34m.\u001b[0m\u001b[0mreadline\u001b[0m\u001b[0;34m(\u001b[0m\u001b[0m_MAXLINE\u001b[0m \u001b[0;34m+\u001b[0m \u001b[0;36m1\u001b[0m\u001b[0;34m)\u001b[0m\u001b[0;34m,\u001b[0m \u001b[0;34m\"iso-8859-1\"\u001b[0m\u001b[0;34m)\u001b[0m\u001b[0;34m\u001b[0m\u001b[0;34m\u001b[0m\u001b[0m\n\u001b[0m\u001b[1;32m    287\u001b[0m         \u001b[0;32mif\u001b[0m \u001b[0mlen\u001b[0m\u001b[0;34m(\u001b[0m\u001b[0mline\u001b[0m\u001b[0;34m)\u001b[0m \u001b[0;34m>\u001b[0m \u001b[0m_MAXLINE\u001b[0m\u001b[0;34m:\u001b[0m\u001b[0;34m\u001b[0m\u001b[0;34m\u001b[0m\u001b[0m\n\u001b[1;32m    288\u001b[0m             \u001b[0;32mraise\u001b[0m \u001b[0mLineTooLong\u001b[0m\u001b[0;34m(\u001b[0m\u001b[0;34m\"status line\"\u001b[0m\u001b[0;34m)\u001b[0m\u001b[0;34m\u001b[0m\u001b[0;34m\u001b[0m\u001b[0m\n",
            "\u001b[0;32m/usr/lib/python3.11/socket.py\u001b[0m in \u001b[0;36mreadinto\u001b[0;34m(self, b)\u001b[0m\n\u001b[1;32m    716\u001b[0m         \u001b[0;32mwhile\u001b[0m \u001b[0;32mTrue\u001b[0m\u001b[0;34m:\u001b[0m\u001b[0;34m\u001b[0m\u001b[0;34m\u001b[0m\u001b[0m\n\u001b[1;32m    717\u001b[0m             \u001b[0;32mtry\u001b[0m\u001b[0;34m:\u001b[0m\u001b[0;34m\u001b[0m\u001b[0;34m\u001b[0m\u001b[0m\n\u001b[0;32m--> 718\u001b[0;31m                 \u001b[0;32mreturn\u001b[0m \u001b[0mself\u001b[0m\u001b[0;34m.\u001b[0m\u001b[0m_sock\u001b[0m\u001b[0;34m.\u001b[0m\u001b[0mrecv_into\u001b[0m\u001b[0;34m(\u001b[0m\u001b[0mb\u001b[0m\u001b[0;34m)\u001b[0m\u001b[0;34m\u001b[0m\u001b[0;34m\u001b[0m\u001b[0m\n\u001b[0m\u001b[1;32m    719\u001b[0m             \u001b[0;32mexcept\u001b[0m \u001b[0mtimeout\u001b[0m\u001b[0;34m:\u001b[0m\u001b[0;34m\u001b[0m\u001b[0;34m\u001b[0m\u001b[0m\n\u001b[1;32m    720\u001b[0m                 \u001b[0mself\u001b[0m\u001b[0;34m.\u001b[0m\u001b[0m_timeout_occurred\u001b[0m \u001b[0;34m=\u001b[0m \u001b[0;32mTrue\u001b[0m\u001b[0;34m\u001b[0m\u001b[0;34m\u001b[0m\u001b[0m\n",
            "\u001b[0;32m/usr/lib/python3.11/ssl.py\u001b[0m in \u001b[0;36mrecv_into\u001b[0;34m(self, buffer, nbytes, flags)\u001b[0m\n\u001b[1;32m   1312\u001b[0m                   \u001b[0;34m\"non-zero flags not allowed in calls to recv_into() on %s\"\u001b[0m \u001b[0;34m%\u001b[0m\u001b[0;34m\u001b[0m\u001b[0;34m\u001b[0m\u001b[0m\n\u001b[1;32m   1313\u001b[0m                   self.__class__)\n\u001b[0;32m-> 1314\u001b[0;31m             \u001b[0;32mreturn\u001b[0m \u001b[0mself\u001b[0m\u001b[0;34m.\u001b[0m\u001b[0mread\u001b[0m\u001b[0;34m(\u001b[0m\u001b[0mnbytes\u001b[0m\u001b[0;34m,\u001b[0m \u001b[0mbuffer\u001b[0m\u001b[0;34m)\u001b[0m\u001b[0;34m\u001b[0m\u001b[0;34m\u001b[0m\u001b[0m\n\u001b[0m\u001b[1;32m   1315\u001b[0m         \u001b[0;32melse\u001b[0m\u001b[0;34m:\u001b[0m\u001b[0;34m\u001b[0m\u001b[0;34m\u001b[0m\u001b[0m\n\u001b[1;32m   1316\u001b[0m             \u001b[0;32mreturn\u001b[0m \u001b[0msuper\u001b[0m\u001b[0;34m(\u001b[0m\u001b[0;34m)\u001b[0m\u001b[0;34m.\u001b[0m\u001b[0mrecv_into\u001b[0m\u001b[0;34m(\u001b[0m\u001b[0mbuffer\u001b[0m\u001b[0;34m,\u001b[0m \u001b[0mnbytes\u001b[0m\u001b[0;34m,\u001b[0m \u001b[0mflags\u001b[0m\u001b[0;34m)\u001b[0m\u001b[0;34m\u001b[0m\u001b[0;34m\u001b[0m\u001b[0m\n",
            "\u001b[0;32m/usr/lib/python3.11/ssl.py\u001b[0m in \u001b[0;36mread\u001b[0;34m(self, len, buffer)\u001b[0m\n\u001b[1;32m   1164\u001b[0m         \u001b[0;32mtry\u001b[0m\u001b[0;34m:\u001b[0m\u001b[0;34m\u001b[0m\u001b[0;34m\u001b[0m\u001b[0m\n\u001b[1;32m   1165\u001b[0m             \u001b[0;32mif\u001b[0m \u001b[0mbuffer\u001b[0m \u001b[0;32mis\u001b[0m \u001b[0;32mnot\u001b[0m \u001b[0;32mNone\u001b[0m\u001b[0;34m:\u001b[0m\u001b[0;34m\u001b[0m\u001b[0;34m\u001b[0m\u001b[0m\n\u001b[0;32m-> 1166\u001b[0;31m                 \u001b[0;32mreturn\u001b[0m \u001b[0mself\u001b[0m\u001b[0;34m.\u001b[0m\u001b[0m_sslobj\u001b[0m\u001b[0;34m.\u001b[0m\u001b[0mread\u001b[0m\u001b[0;34m(\u001b[0m\u001b[0mlen\u001b[0m\u001b[0;34m,\u001b[0m \u001b[0mbuffer\u001b[0m\u001b[0;34m)\u001b[0m\u001b[0;34m\u001b[0m\u001b[0;34m\u001b[0m\u001b[0m\n\u001b[0m\u001b[1;32m   1167\u001b[0m             \u001b[0;32melse\u001b[0m\u001b[0;34m:\u001b[0m\u001b[0;34m\u001b[0m\u001b[0;34m\u001b[0m\u001b[0m\n\u001b[1;32m   1168\u001b[0m                 \u001b[0;32mreturn\u001b[0m \u001b[0mself\u001b[0m\u001b[0;34m.\u001b[0m\u001b[0m_sslobj\u001b[0m\u001b[0;34m.\u001b[0m\u001b[0mread\u001b[0m\u001b[0;34m(\u001b[0m\u001b[0mlen\u001b[0m\u001b[0;34m)\u001b[0m\u001b[0;34m\u001b[0m\u001b[0;34m\u001b[0m\u001b[0m\n",
            "\u001b[0;31mKeyboardInterrupt\u001b[0m: "
          ]
        }
      ]
    },
    {
      "cell_type": "code",
      "source": [
        "def parse_book_review(subject_links):\n",
        "  pass"
      ],
      "metadata": {
        "id": "xTfA_9wUfYkE"
      },
      "execution_count": null,
      "outputs": []
    },
    {
      "cell_type": "code",
      "source": [
        "community_reviews = [x.get_text() for x in soup.select(\"span.reviews__value\")]\n",
        "community_data = [re.search(r'\\s*(\\w[\\w\\s]*)',x).group(1).strip() for x in community_reviews]\n",
        "print(community_reviews)"
      ],
      "metadata": {
        "id": "_I8Ds79-gFwY",
        "outputId": "130b8927-aacf-47af-c122-1bbe413a0e16",
        "colab": {
          "base_uri": "https://localhost:8080/"
        }
      },
      "execution_count": null,
      "outputs": [
        {
          "output_type": "stream",
          "name": "stdout",
          "text": [
            "[]\n"
          ]
        }
      ]
    },
    {
      "cell_type": "code",
      "source": [
        "community_reviews = [x.get_text() for x in soup.select(\"span.reviews__value\")]\n",
        "community_data = [re.search(r'\\s*(\\w[\\w\\s]*)',x).group(1).strip() for x in community_reviews]\n",
        "\n",
        "review_percentage = [x.get_text() for x in soup.select(\"span.percentage\")]\n",
        "percentage_data = [re.search(r'\\s*(\\w[\\w\\s]*)',x).group(1).strip() for x in review_percentage]\n",
        "\n",
        "import pandas as pd\n",
        "df = pd.DataFrame(data = {\n",
        "    \"Review\" : community_data,\n",
        "    \"Ratings\" : percentage_data\n",
        "   # \"Number of Reviews\" : number_of_reviews\n",
        "\n",
        "})\n",
        "df"
      ],
      "metadata": {
        "id": "5E8Sh4l432HN",
        "outputId": "240c850c-efca-47d3-9f75-61298e8c6d0c",
        "colab": {
          "base_uri": "https://localhost:8080/",
          "height": 89
        }
      },
      "execution_count": null,
      "outputs": [
        {
          "output_type": "execute_result",
          "data": {
            "text/plain": [
              "Empty DataFrame\n",
              "Columns: [Review, Ratings]\n",
              "Index: []"
            ],
            "text/html": [
              "\n",
              "  <div id=\"df-1100f254-6520-4329-b95a-906a04157c4d\" class=\"colab-df-container\">\n",
              "    <div>\n",
              "<style scoped>\n",
              "    .dataframe tbody tr th:only-of-type {\n",
              "        vertical-align: middle;\n",
              "    }\n",
              "\n",
              "    .dataframe tbody tr th {\n",
              "        vertical-align: top;\n",
              "    }\n",
              "\n",
              "    .dataframe thead th {\n",
              "        text-align: right;\n",
              "    }\n",
              "</style>\n",
              "<table border=\"1\" class=\"dataframe\">\n",
              "  <thead>\n",
              "    <tr style=\"text-align: right;\">\n",
              "      <th></th>\n",
              "      <th>Review</th>\n",
              "      <th>Ratings</th>\n",
              "    </tr>\n",
              "  </thead>\n",
              "  <tbody>\n",
              "  </tbody>\n",
              "</table>\n",
              "</div>\n",
              "    <div class=\"colab-df-buttons\">\n",
              "\n",
              "  <div class=\"colab-df-container\">\n",
              "    <button class=\"colab-df-convert\" onclick=\"convertToInteractive('df-1100f254-6520-4329-b95a-906a04157c4d')\"\n",
              "            title=\"Convert this dataframe to an interactive table.\"\n",
              "            style=\"display:none;\">\n",
              "\n",
              "  <svg xmlns=\"http://www.w3.org/2000/svg\" height=\"24px\" viewBox=\"0 -960 960 960\">\n",
              "    <path d=\"M120-120v-720h720v720H120Zm60-500h600v-160H180v160Zm220 220h160v-160H400v160Zm0 220h160v-160H400v160ZM180-400h160v-160H180v160Zm440 0h160v-160H620v160ZM180-180h160v-160H180v160Zm440 0h160v-160H620v160Z\"/>\n",
              "  </svg>\n",
              "    </button>\n",
              "\n",
              "  <style>\n",
              "    .colab-df-container {\n",
              "      display:flex;\n",
              "      gap: 12px;\n",
              "    }\n",
              "\n",
              "    .colab-df-convert {\n",
              "      background-color: #E8F0FE;\n",
              "      border: none;\n",
              "      border-radius: 50%;\n",
              "      cursor: pointer;\n",
              "      display: none;\n",
              "      fill: #1967D2;\n",
              "      height: 32px;\n",
              "      padding: 0 0 0 0;\n",
              "      width: 32px;\n",
              "    }\n",
              "\n",
              "    .colab-df-convert:hover {\n",
              "      background-color: #E2EBFA;\n",
              "      box-shadow: 0px 1px 2px rgba(60, 64, 67, 0.3), 0px 1px 3px 1px rgba(60, 64, 67, 0.15);\n",
              "      fill: #174EA6;\n",
              "    }\n",
              "\n",
              "    .colab-df-buttons div {\n",
              "      margin-bottom: 4px;\n",
              "    }\n",
              "\n",
              "    [theme=dark] .colab-df-convert {\n",
              "      background-color: #3B4455;\n",
              "      fill: #D2E3FC;\n",
              "    }\n",
              "\n",
              "    [theme=dark] .colab-df-convert:hover {\n",
              "      background-color: #434B5C;\n",
              "      box-shadow: 0px 1px 3px 1px rgba(0, 0, 0, 0.15);\n",
              "      filter: drop-shadow(0px 1px 2px rgba(0, 0, 0, 0.3));\n",
              "      fill: #FFFFFF;\n",
              "    }\n",
              "  </style>\n",
              "\n",
              "    <script>\n",
              "      const buttonEl =\n",
              "        document.querySelector('#df-1100f254-6520-4329-b95a-906a04157c4d button.colab-df-convert');\n",
              "      buttonEl.style.display =\n",
              "        google.colab.kernel.accessAllowed ? 'block' : 'none';\n",
              "\n",
              "      async function convertToInteractive(key) {\n",
              "        const element = document.querySelector('#df-1100f254-6520-4329-b95a-906a04157c4d');\n",
              "        const dataTable =\n",
              "          await google.colab.kernel.invokeFunction('convertToInteractive',\n",
              "                                                    [key], {});\n",
              "        if (!dataTable) return;\n",
              "\n",
              "        const docLinkHtml = 'Like what you see? Visit the ' +\n",
              "          '<a target=\"_blank\" href=https://colab.research.google.com/notebooks/data_table.ipynb>data table notebook</a>'\n",
              "          + ' to learn more about interactive tables.';\n",
              "        element.innerHTML = '';\n",
              "        dataTable['output_type'] = 'display_data';\n",
              "        await google.colab.output.renderOutput(dataTable, element);\n",
              "        const docLink = document.createElement('div');\n",
              "        docLink.innerHTML = docLinkHtml;\n",
              "        element.appendChild(docLink);\n",
              "      }\n",
              "    </script>\n",
              "  </div>\n",
              "\n",
              "\n",
              "  <div id=\"id_bd12ce8d-2131-4861-854c-d736bdb28b6b\">\n",
              "    <style>\n",
              "      .colab-df-generate {\n",
              "        background-color: #E8F0FE;\n",
              "        border: none;\n",
              "        border-radius: 50%;\n",
              "        cursor: pointer;\n",
              "        display: none;\n",
              "        fill: #1967D2;\n",
              "        height: 32px;\n",
              "        padding: 0 0 0 0;\n",
              "        width: 32px;\n",
              "      }\n",
              "\n",
              "      .colab-df-generate:hover {\n",
              "        background-color: #E2EBFA;\n",
              "        box-shadow: 0px 1px 2px rgba(60, 64, 67, 0.3), 0px 1px 3px 1px rgba(60, 64, 67, 0.15);\n",
              "        fill: #174EA6;\n",
              "      }\n",
              "\n",
              "      [theme=dark] .colab-df-generate {\n",
              "        background-color: #3B4455;\n",
              "        fill: #D2E3FC;\n",
              "      }\n",
              "\n",
              "      [theme=dark] .colab-df-generate:hover {\n",
              "        background-color: #434B5C;\n",
              "        box-shadow: 0px 1px 3px 1px rgba(0, 0, 0, 0.15);\n",
              "        filter: drop-shadow(0px 1px 2px rgba(0, 0, 0, 0.3));\n",
              "        fill: #FFFFFF;\n",
              "      }\n",
              "    </style>\n",
              "    <button class=\"colab-df-generate\" onclick=\"generateWithVariable('df')\"\n",
              "            title=\"Generate code using this dataframe.\"\n",
              "            style=\"display:none;\">\n",
              "\n",
              "  <svg xmlns=\"http://www.w3.org/2000/svg\" height=\"24px\"viewBox=\"0 0 24 24\"\n",
              "       width=\"24px\">\n",
              "    <path d=\"M7,19H8.4L18.45,9,17,7.55,7,17.6ZM5,21V16.75L18.45,3.32a2,2,0,0,1,2.83,0l1.4,1.43a1.91,1.91,0,0,1,.58,1.4,1.91,1.91,0,0,1-.58,1.4L9.25,21ZM18.45,9,17,7.55Zm-12,3A5.31,5.31,0,0,0,4.9,8.1,5.31,5.31,0,0,0,1,6.5,5.31,5.31,0,0,0,4.9,4.9,5.31,5.31,0,0,0,6.5,1,5.31,5.31,0,0,0,8.1,4.9,5.31,5.31,0,0,0,12,6.5,5.46,5.46,0,0,0,6.5,12Z\"/>\n",
              "  </svg>\n",
              "    </button>\n",
              "    <script>\n",
              "      (() => {\n",
              "      const buttonEl =\n",
              "        document.querySelector('#id_bd12ce8d-2131-4861-854c-d736bdb28b6b button.colab-df-generate');\n",
              "      buttonEl.style.display =\n",
              "        google.colab.kernel.accessAllowed ? 'block' : 'none';\n",
              "\n",
              "      buttonEl.onclick = () => {\n",
              "        google.colab.notebook.generateWithVariable('df');\n",
              "      }\n",
              "      })();\n",
              "    </script>\n",
              "  </div>\n",
              "\n",
              "    </div>\n",
              "  </div>\n"
            ],
            "application/vnd.google.colaboratory.intrinsic+json": {
              "type": "dataframe",
              "variable_name": "df",
              "summary": "{\n  \"name\": \"df\",\n  \"rows\": 0,\n  \"fields\": [\n    {\n      \"column\": \"Review\",\n      \"properties\": {\n        \"dtype\": \"number\",\n        \"std\": null,\n        \"min\": null,\n        \"max\": null,\n        \"num_unique_values\": 0,\n        \"samples\": [],\n        \"semantic_type\": \"\",\n        \"description\": \"\"\n      }\n    },\n    {\n      \"column\": \"Ratings\",\n      \"properties\": {\n        \"dtype\": \"number\",\n        \"std\": null,\n        \"min\": null,\n        \"max\": null,\n        \"num_unique_values\": 0,\n        \"samples\": [],\n        \"semantic_type\": \"\",\n        \"description\": \"\"\n      }\n    }\n  ]\n}"
            }
          },
          "metadata": {},
          "execution_count": 22
        }
      ]
    },
    {
      "cell_type": "code",
      "source": [
        "number_of_reviews = [x.get_text() for x in soup.select(\"h2.observation-title\")]\n",
        "number_of_reviews = [re.search(r'\\((\\d+)\\)',x).group(1).strip() for x in number_of_reviews]"
      ],
      "metadata": {
        "id": "-JzidLVjQbTZ"
      },
      "execution_count": null,
      "outputs": []
    },
    {
      "cell_type": "code",
      "source": [
        "book_button1 = [x.get_text() for x in soup.select('h3', class_= 'booktitle')]\n",
        "book_button2 = [x.get_text() for x in soup.select('div', class_= 'book-cover')]\n"
      ],
      "metadata": {
        "id": "Mrb3gcOuSWV4"
      },
      "execution_count": null,
      "outputs": []
    },
    {
      "cell_type": "markdown",
      "source": [
        "May need:\n",
        "\n",
        "1. List of books that we like\n",
        "2. Books in general (found above)\n",
        "\n",
        "We can use both data to recommend books we might like (haven't read yet) - do this by finding all users who like the same books as us and then seeing what other books they like. We'll use those results to create that recommendation"
      ],
      "metadata": {
        "id": "xgoxM1_USK87"
      }
    },
    {
      "cell_type": "markdown",
      "source": [
        "## Collaborative Filtering\n",
        "\n",
        "We only want to see books that have been reviewed more than 15 times."
      ],
      "metadata": {
        "id": "2f6ALMulU2dX"
      }
    },
    {
      "cell_type": "markdown",
      "source": [
        "# What to do next:\n",
        "1. Build ML model\n",
        "  - training data: csv file containing books in a specific genre?\n",
        "  - testing data: our prediction now?\n",
        "\n",
        "2. Approaches to consider:\n",
        "  - Collaborative Filtering (based on user ratings, user reviews e.g. Goodreads)\n",
        "  - Content-Based Filtering (based on genre, content description, etc.)\n",
        "  - Combination of both Filtering Methods\n",
        "\n",
        "3. Define Training Data\n",
        "  - What should the csv file include?\n",
        "    1. Book Information: Book ID, Title, Author, Genres, Description\n",
        "    2. User Ratings: User ID, Book ID, Rating, User Reviews\n",
        "\n",
        "4. Machine Learning Models to consider:\n",
        "  - Content-Based Filtering: Book descriptions and genres\n",
        "      - TF-IDF (Term Frequency-Inverse Document Frequency): evaluates the importance of a word in a document : https://www.geeksforgeeks.org/understanding-tf-idf-term-frequency-inverse-document-frequency/\n",
        "      - Sci-Kit Learn: classifiers, feature-extraction\n",
        "  - Collaborative Filtering: User ratings and reviews\n",
        "      - Single Value Decomposition (SVD): can decompose a matrix into 3 matrices, good for ratings: https://www.geeksforgeeks.org/singular-value-decomposition-svd/\n",
        "  - From surprise: https://surpriselib.com/\n",
        "\n",
        "\n",
        "5. Hybrid model\n",
        "  - Step 1: Get the top books for the user through collaborative filtering\n",
        "  - Step 2: Find the most similar books through content based filtering\n",
        "  - Step 3: Return the list of recommended books\n",
        "\n"
      ],
      "metadata": {
        "id": "HR4rZxUZpVip"
      }
    },
    {
      "cell_type": "code",
      "source": [
        "# create dataframe (csv file) of books\n"
      ],
      "metadata": {
        "id": "tGkFgL_EdXuG"
      },
      "execution_count": null,
      "outputs": []
    },
    {
      "cell_type": "code",
      "source": [
        "# import SVD, import test train split\n",
        "from surprise import SVD\n",
        "from surprise.model_selection import test_train_split"
      ],
      "metadata": {
        "id": "zd3enYEiObCu"
      },
      "execution_count": null,
      "outputs": []
    }
  ]
}