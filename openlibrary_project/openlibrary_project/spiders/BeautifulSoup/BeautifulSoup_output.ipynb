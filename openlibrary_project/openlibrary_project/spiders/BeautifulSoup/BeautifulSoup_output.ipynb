{
 "cells": [
  {
   "cell_type": "code",
   "execution_count": 13,
   "id": "5c6dba64-bda7-4a99-b083-501ea99b7754",
   "metadata": {},
   "outputs": [],
   "source": [
    "import BeautifulSoupFile"
   ]
  },
  {
   "cell_type": "markdown",
   "id": "4698d7b5-5dc6-4486-9351-dc47502f9532",
   "metadata": {
    "id": "Mf3lNHW1eo3B"
   },
   "source": [
    "### Romance books:"
   ]
  },
  {
   "cell_type": "code",
   "execution_count": 16,
   "id": "130b3575-967d-43a8-bf27-1364e793b44e",
   "metadata": {
    "colab": {
     "base_uri": "https://localhost:8080/"
    },
    "id": "dPvBaC3jrM7r",
    "outputId": "76f7fa58-81f1-4b3c-9144-bae676a93c17",
    "tags": []
   },
   "outputs": [
    {
     "ename": "NameError",
     "evalue": "name 'combine_genre' is not defined",
     "output_type": "error",
     "traceback": [
      "\u001b[0;31m---------------------------------------------------------------------------\u001b[0m",
      "\u001b[0;31mNameError\u001b[0m                                 Traceback (most recent call last)",
      "Cell \u001b[0;32mIn[16], line 1\u001b[0m\n\u001b[0;32m----> 1\u001b[0m romance_books \u001b[38;5;241m=\u001b[39m combine_genre(\u001b[38;5;124m\"\u001b[39m\u001b[38;5;124mromance\u001b[39m\u001b[38;5;124m\"\u001b[39m)\n",
      "\u001b[0;31mNameError\u001b[0m: name 'combine_genre' is not defined"
     ]
    }
   ],
   "source": [
    "romance_books = combine_genre(\"romance\")"
   ]
  },
  {
   "cell_type": "markdown",
   "id": "acc85330-79b5-4577-adb2-5ef1cee512cd",
   "metadata": {
    "id": "_xL8yNmgexYq"
   },
   "source": [
    "### Fantasy books:"
   ]
  },
  {
   "cell_type": "code",
   "execution_count": 5,
   "id": "2188cec2-8cf0-4694-8c30-b2633517f1db",
   "metadata": {
    "colab": {
     "base_uri": "https://localhost:8080/"
    },
    "collapsed": true,
    "id": "nHtVwvO_eyiK",
    "jupyter": {
     "outputs_hidden": true
    },
    "outputId": "53422183-1178-457b-874c-0b7ff15088e6"
   },
   "outputs": [
    {
     "name": "stdout",
     "output_type": "stream",
     "text": [
      "\n",
      "Books under the genre 'fantasy':\n",
      "\n",
      "1. Pride and Prejudice by Jane Austen\n",
      "2. Alice's Adventures in Wonderland by Lewis Carroll\n",
      "3. The Marvelous Land of Oz by L. Frank Baum\n",
      "4. Five Children and It by Edith Nesbit\n",
      "5. A Christmas Carol by Charles Dickens\n",
      "6. Harry Potter and the Chamber of Secrets by J. K. Rowling\n"
     ]
    }
   ],
   "source": [
    "fantasy_books = combine_genre(\"fantasy\")"
   ]
  },
  {
   "cell_type": "markdown",
   "id": "9fcbb16a-12b9-44e3-8e18-84f43f6f60fd",
   "metadata": {
    "id": "nYkhIBUue6fG"
   },
   "source": [
    "### Historical Fiction books:"
   ]
  },
  {
   "cell_type": "code",
   "execution_count": 6,
   "id": "833d227b-514b-443e-8be6-b790228e5589",
   "metadata": {
    "colab": {
     "base_uri": "https://localhost:8080/"
    },
    "collapsed": true,
    "id": "erWMCGZyfMsn",
    "jupyter": {
     "outputs_hidden": true
    },
    "outputId": "6ca90c61-f030-42ed-e432-d6e7f8323cc0"
   },
   "outputs": [
    {
     "name": "stdout",
     "output_type": "stream",
     "text": [
      "\n",
      "Books under the genre 'historical_fiction':\n",
      "\n",
      "1. Pride and Prejudice by Jane Austen\n",
      "2. A Christmas Carol by Charles Dickens\n",
      "3. Alice's Adventures in Wonderland by Lewis Carroll\n",
      "4. The 12th SS by Meyer, Hubert\n"
     ]
    },
    {
     "data": {
      "text/plain": [
       "[{'title': 'Pride and Prejudice',\n",
       "  'author': 'Jane Austen',\n",
       "  'published_year': 1813,\n",
       "  'subjects': 'Fiction, Romance, Historical, Regency, British and irish fiction (fictional works by one author), Brothers and sisters, Courtship, Drama, English fiction, English literature, Families, Family, Family life, Family relations, Fiction Classics, History, Interpersonal relations, Juvenile fiction, Literary Fiction, love stories, manners, Manners and customs, marriage, Sisters, Social classes, Social life and customs, Upper class, wealth, Women in England, young ladies, Young women, entail, Young women, fiction, Sisters, fiction, Fiction, family life, general, England, fiction, Man-woman relationships, fiction, Roman anglais, Classes sociales, Romans, nouvelles, Sœurs, Amours, Jeunes femmes, Familles, Mœurs et coutumes\", Clases sociales, Novela, Jóvenes (Mujeres), Cortejo amoroso, Hermanas, Cuentos de amor, Fiction, coming of age, Fiction, romance, general, Great britain, social life and customs, fiction, Readers, Prejudices, Romance fiction, Historical fiction, Classical literature, Domestic fiction, English language, textbooks for foreign speakers, Women, fiction, Adaptations, Gentry, Mate selection, Fiction, romance, historical, general, English literature (collections), Coloring books, Fiction, family life, Language and languages, study and teaching, Emoticons, Drama (dramatic works by one author), Feelings, Class, Englisch, Roman, Sociala klasser i litteraturen, Prophecies, Great britain, Reading level-grade 7, Reading level-grade 9, Reading level-grade 8, Reading level-grade 11, Reading level-grade 10, Reading level-grade 12, Large type books, Fiction, romance, historical, Austen, jane, 1775-1817, Literature and fiction (general), English literature, history and criticism, England, Художественная литература -- Великобритания -- Английская литература -- 1-ая пол. 19 в. -- Романы, Novel, Fiction',\n",
       "  'description': 'No description available',\n",
       "  'ebook_available': False,\n",
       "  'publishers': 'Unknown Publisher'},\n",
       " {'title': 'A Christmas Carol',\n",
       "  'author': 'Charles Dickens',\n",
       "  'published_year': 1843,\n",
       "  'subjects': \"Ghost stories, Readers, Ebenzer Scrooge (Fictitious character), open_syllabus_project, Cartoons and comics, Promptbooks, Christmas stories, French language books, Poor families, Navidad, Esperanto, Sick children, French language, Repentance, Criticism and interpretation, Facsimiles, Christmas, English Manuscripts, English Christmas stories, Fiction,, Poor, Empathy, Animals, Adaptations, Recluses, French language edition, Translations into Portuguese, Comic books, strips, Recitations, Generosity, Literary collections, Cuentos de fantasmas, London(England), Children's stories, Ficción, Manners and customs, Fiction, Misers, History, Ebenezer Scrooge (Fictitious character), Social life and customs, Trials (Breach of promise), England, Vida social y costumbres, Juvenile fiction, Fantasmas, Bible stories, Texts, Cuentos de Navidad, Scrooge, Ebenezer (Personaje literario), Social conditions, Ghosts, Juvenile literature, Scrooge, Ebenezer (Fictitious character), High interest-low vocabulary books, Pictorial works, Short stories, Christmas, fiction, Children's fiction, Scrooge, ebenezer (fictitious character), fiction, England, fiction, Ghosts, fiction, British and irish fiction (fictional works by one author), Drama (dramatic works by one author), London (england), fiction, Coloring books, Child and youth fiction, Fiction, historical, Child and youth non-fiction, Carols, Children's songs, Holidays, fiction, Fiction, ghost, English literature, Parody, General, Zombies, Literature and fiction, juvenile, Literature and fiction, historical fiction, Fantasy fiction, Songs, Christmas, juvenile literature, Conduct of life, Toy and movable books, Specimens, English Ghost stories, Illustrations, Classics, Christmas carol (Dickens, Charles), Fiction, historical, general, Great britain, fiction, Fiction, humorous, general, Fiction, general, Fiction, action & adventure, Fiction, suspense, Weihnachten, Nächstenliebe, Englisch, Gespenstergeschichte, Avarice, Novela juvenil, Fiction, christian, general, Greece, fiction, Literature and fiction, horror and ghost stories, Noël, Contes, Spanish language materials, Familles pauvres, Romans, nouvelles, Avares, Spanish language, Reading materials, Histoires de Noël, Fiction, religious, Christmas, poetry, Color, juvenile literature, English language, Study and teaching, Romans, Littérature, Enseignement des langues, Autoformation, Comic books, strips, etc., Fiction, fantasy, general, Family, Publishers and publishing, Christmas trees, Redemption, Habsucht, Egoismus, Bekehrung, Nineteenth century,, Romans, nouvelles, etc. pour la jeunesse, Mœurs et coutumes, Readers for new literates, Animals, fiction, British and irish drama (dramatic works by one author), Art, Nowele angielskie, Tłumaczenia polskie, Boże Narodzenie, Nowele, Fiction, thrillers, suspense, Fiction, short stories (single author), Literature, collections, Classic Literature, Drama, Fiction, holidays, Fiction, classics, Reading, remedial teaching, Elementary education of adults, Family, fiction, Sick, fiction, Christmas music\",\n",
       "  'description': 'No description available',\n",
       "  'ebook_available': False,\n",
       "  'publishers': 'Unknown Publisher'},\n",
       " {'title': \"Alice's Adventures in Wonderland\",\n",
       "  'author': 'Lewis Carroll',\n",
       "  'published_year': 1865,\n",
       "  'subjects': \"Alice (fictitious character : carroll), fiction, British and irish fiction (fictional works by one author), Fiction, fantasy, general, JUVENILE FICTION, classics, Fantasy & Magic, Imagination & Play, adventure and adventurers, adventure and adventurers, fiction, adventure stories, adventure travel, animals, anthropomorphism, artists' illustrated books, books and reading, child and youth fiction, children, children's fiction, children's literature, children's literature, english, children's stories, children's stories, english, classic literature, coloring books, croquet, cuentos infantiles ingleses, curiosidad, curiosidad en los niños, curiosity, curiosity in children, english, english adventure stories, english fantastic fiction, english fantasy fiction, english fantasy literature, english language, english literature, english nonsense verses, fairy tales, fantasy, fantasy fiction, fantasy in fiction, fantasy  magic, fantasía, ficción juvenil, fiction, friendship, girls, girls, fiction, hookahs, humor, humorous stories, illustrations, imaginary places, juvenile literature, legends, literary nonsense, logic, lugares imaginarios, mythical animals, niñas, nonsense verses, novela, novela fantástica, novela juvenil, open library staff picks, picture books, playing cards, rabbits, readers, reading materials, short novel, tea, texts, Alice (Fictitious character : Carroll), English language, textbooks for foreign speakers, Fantastique, Enfants, Affirmation de soi, Spanish language materials, Alicia (Personaje literario : Carroll), Spanish language, nyt:chapter-books=2010-02-21, New York Times bestseller, Literatura infanto-juvenil, Literatura inglesa, Carroll, lewis, 1832-1898, Children's literature, history and criticism, Children, books and reading, Crocheting, Fiction, general, Fantasy fiction, history and criticism, Toy and movable books, Imagination, Textbooks for foreign speakers, Readers for new literates, High interest-low vocabulary books, Science fiction, CUENTO INFANTIL INGLES, History and criticism, Translations into Irish, Irish literature, Swahili language, Ficc ʹa o (ge nero), Shi jie wen xue, Xiao shuo, Fantasi a, Tong hua, Suo xie, Shao er du wu, Pin yin du wu, Children's stories, Chinese, Chinese language, Translations into Polish, Ying yu, Yu yan du wu, Decision making, Juvenile Wit and humor, Conduct of life, Illusion (Philosophy), Innocence (Psychology), Dreams, Courts and courtiers, Theft, Courts, Curiosité, Romans, nouvelles, etc. pour la jeunesse, Prise de décision, Humour pour la jeunesse, Morale pratique, Lieux imaginaires, Illusion (Philosophie), Rêves, Cartes à jouer, Cours et courtisans, Croquet (Jeu), Vol (Droit), Tribunaux, Histoires pour enfants anglaises, Literature, collections, Fiction, short stories (single author), Contes de fées, English fiction, Translations into Ladino, Nonsense literature, Fantasmes, Dinosaurier, Utdöda djur, Urtidsdjur, Forntiden, Geologi, Evolution, Jorden, Fantastiske fortællinger, Translations into Yiddish, Criticism and interpretation, History, Alice's adventures in Wonderland (Carroll, Lewis), Alice in Wonderland;, North, Rural-urban migration, Russian language\",\n",
       "  'description': 'No description available',\n",
       "  'ebook_available': False,\n",
       "  'publishers': 'Unknown Publisher'},\n",
       " {'title': 'The 12th SS',\n",
       "  'author': 'Meyer, Hubert',\n",
       "  'published_year': 2005,\n",
       "  'subjects': 'Waffen-SS, Tank warfare, Campaigns, Waffen-SS. SS-Panzerdivision \"Hitlerjugend,\" 12, World War, 1939-1945, World War, 1939 1945, Regimental histories, Military history',\n",
       "  'description': 'No description available',\n",
       "  'ebook_available': False,\n",
       "  'publishers': 'Unknown Publisher'}]"
      ]
     },
     "execution_count": 6,
     "metadata": {},
     "output_type": "execute_result"
    }
   ],
   "source": [
    "combine_genre(\"historical_fiction\")"
   ]
  },
  {
   "cell_type": "markdown",
   "id": "236dee8b-9149-4d15-857a-f14fdc15137c",
   "metadata": {
    "id": "23U6zbzCiknR"
   },
   "source": [
    "### Horror Books"
   ]
  },
  {
   "cell_type": "code",
   "execution_count": 7,
   "id": "5f286091-dc79-4816-9bad-e5502d583591",
   "metadata": {
    "colab": {
     "base_uri": "https://localhost:8080/"
    },
    "collapsed": true,
    "id": "OelIMn9AieMo",
    "jupyter": {
     "outputs_hidden": true
    },
    "outputId": "36ac6b4d-2bfe-4672-c5f3-5672a740c19d"
   },
   "outputs": [
    {
     "name": "stdout",
     "output_type": "stream",
     "text": [
      "\n",
      "Books under the genre 'horror':\n",
      "\n",
      "1. Pride and Prejudice by Jane Austen\n",
      "2. The Picture of Dorian Gray by Oscar Wilde\n",
      "3. Frankenstein or The Modern Prometheus by Mary Shelley\n",
      "4. Carrie by Stephen King\n",
      "5. A Study in Scarlet by Arthur Conan Doyle\n",
      "6. The Works of Edgar Allan Poe in Five Volumes by Edgar Allan Poe\n"
     ]
    },
    {
     "data": {
      "text/plain": [
       "[{'title': 'Pride and Prejudice',\n",
       "  'author': 'Jane Austen',\n",
       "  'published_year': 1813,\n",
       "  'subjects': 'Fiction, Romance, Historical, Regency, British and irish fiction (fictional works by one author), Brothers and sisters, Courtship, Drama, English fiction, English literature, Families, Family, Family life, Family relations, Fiction Classics, History, Interpersonal relations, Juvenile fiction, Literary Fiction, love stories, manners, Manners and customs, marriage, Sisters, Social classes, Social life and customs, Upper class, wealth, Women in England, young ladies, Young women, entail, Young women, fiction, Sisters, fiction, Fiction, family life, general, England, fiction, Man-woman relationships, fiction, Roman anglais, Classes sociales, Romans, nouvelles, Sœurs, Amours, Jeunes femmes, Familles, Mœurs et coutumes\", Clases sociales, Novela, Jóvenes (Mujeres), Cortejo amoroso, Hermanas, Cuentos de amor, Fiction, coming of age, Fiction, romance, general, Great britain, social life and customs, fiction, Readers, Prejudices, Romance fiction, Historical fiction, Classical literature, Domestic fiction, English language, textbooks for foreign speakers, Women, fiction, Adaptations, Gentry, Mate selection, Fiction, romance, historical, general, English literature (collections), Coloring books, Fiction, family life, Language and languages, study and teaching, Emoticons, Drama (dramatic works by one author), Feelings, Class, Englisch, Roman, Sociala klasser i litteraturen, Prophecies, Great britain, Reading level-grade 7, Reading level-grade 9, Reading level-grade 8, Reading level-grade 11, Reading level-grade 10, Reading level-grade 12, Large type books, Fiction, romance, historical, Austen, jane, 1775-1817, Literature and fiction (general), English literature, history and criticism, England, Художественная литература -- Великобритания -- Английская литература -- 1-ая пол. 19 в. -- Романы, Novel, Fiction',\n",
       "  'description': 'No description available',\n",
       "  'ebook_available': False,\n",
       "  'publishers': 'Unknown Publisher'},\n",
       " {'title': 'The Picture of Dorian Gray',\n",
       "  'author': 'Oscar Wilde',\n",
       "  'published_year': 1890,\n",
       "  'subjects': \"British and irish fiction (fictional works by one author), Conduct of life, fiction, Fantasy fiction, Children's fiction, Appearance (Philosophy), Fiction, Conduct of life, Youthfulness, Portraits, Apparence (Philosophie), Romans, nouvelles, Morale pratique, Juvénilité, General, Horror, Education, English literature, England, fiction, Fiction, general, Comics & graphic novels, fantasy, Future life, Soul, Paranormal fiction, Fiction, psychological, Didactic fiction, Drama (dramatic works by one author), Fiction, historical, Fiction, fantasy, paranormal, Great britain, fiction, LGBTQ novels, Stonewall Book Awards, LGBTQ novels before Stonewall, Fiction, historical, general, Classics, European, English, Irish, Scottish, Welsh, Drama, history and criticism, Hedonism, Classic fiction, Men, Man-woman relationships, Influence (Psychology), Novela didáctica, Novela psicología, Fiction, horror, Painting, fiction, Large type books, Readers, Picture of Dorian Gray (Wilde, Oscar), English literature, history and criticism, 19th century, Immortality, Aging, Gothic fiction, Irish Occult fiction, English fiction, Fiction, thrillers, suspense, Issues of Presses, Le livre., Supernatural, History, Appearance (philosophy)--fiction, Conduct of life--fiction, Portraits--fiction, Pr5819 .a1 1998b, 823/.8, British and irish drama (dramatic works by one author), Fiction, lgbtq+, gay\",\n",
       "  'description': 'No description available',\n",
       "  'ebook_available': False,\n",
       "  'publishers': 'Unknown Publisher'},\n",
       " {'title': 'Frankenstein or The Modern Prometheus',\n",
       "  'author': 'Mary Shelley',\n",
       "  'published_year': 1818,\n",
       "  'subjects': 'Frankenstein (Fictitious character), Frankenstein\\'s monster (Fictitious character), Fiction, Victor Frankenstein (Fictitious character), Scientists, Monsters, Fiction, horror, Frankenstein (fictitious character), fiction, Physicians, fiction, British fiction (fictional works by one author), Scientists, fiction, Geneva (Switzerland), fiction, Children\\'s fiction, Horror stories, Fiction, science fiction, general, Fiction, general, Horror tales, Frankenstein (Shelley, Mary Wollstonecraft), Large type books, English fiction, Study guides, Examinations, Criticism and interpretation, Fiction, gothic, English language, textbooks for foreign speakers, Reading comprehension, Monsters, fiction, English literature, Comics & graphic novels, science fiction, Comics & graphic novels, horror, Comic books, strips, etc., Comics & graphic novels, literary, Shelley, Mary Wollstonecraft, 1797-1851, English fiction (collections), 19th century, Literature and fiction, horror and ghost stories, Readers, Science fiction, history and criticism, Horror tales, history and criticism, Children\\'s stories, Monstrous, Novela, History and criticism, Horror fiction, British and irish fiction (fictional works by one author), Fiction, historical, general, literary criticism, English Science fiction, English Horror tales, Scientists in literature, Monsters in literature, Science, experiments, fiction, Authors, Travel, Reincarnation, Self-actualization (Psychology), Vida espiritual, Arte de vivir, Conducta (Ética), Self-realization, Reading materials, Fiction, science fiction, hard science fiction, Switzerland, fiction, Literature and fiction, women authors, Literature, history and criticism, Science fiction, Cartoons and comics, Monstres, Romans, nouvelles, Comic books, strips, Classic science fiction, Horror and supernatural fiction, Classic fiction, Science in literature, Illustration, Gothic fiction, English language, juvenile literature, Shelley, Mary Wollstonecraft, 1797-1851. Frankenstein, Frankenstein, Victor (Fictitious character) -- Fiction, Frankenstein\\'s monster (Fictitious character) -- Fiction, Scientists -- Fiction, Monsters -- Fiction, Frankenstein’s monster (Fictitious character), Frankenstein’s monster, Monsters--fiction, Frankenstein, victor (fictitious character), Frankenstein, victor (fictitious character)--fiction, Pr5397 .f7 1992, 823.7 f, Frankenstein, victor, Frankenstein\\'s monster, Scientists--fiction, Frankenstein, victor (fictional character), Frankenstein, victor (fictional character)--fiction, Frankenstein (fictional character), Frankenstein (fictional character)--fiction, Pr5397 .f7 2003c, 823/.7, Fic004000, Pr5397 .f7 1969, Pr5397 .f7 2008f, 823.7, Science & technology in literature, Literary styles & movements - fiction, Books at the movies, Occupations - fiction, English fiction & prose literature - general & miscellaneous - literary criticism, Horror literature - literary criticism, English, Scot, Pr5397 .f7 2007, Shelley, mary wollstonecraft , 1797-1851, Pr5397 .f7 2012, Classics, Horror, Gothic, English & college success -> english -> fiction, Mary shelley, Mary wollstonecraft shelley, Women authors, Rhetoric, Ya, Young adult, Juvenile, History, Historical, Classic, Literature, Books, Novels, Hardcovers, Paperback, Ebook, Audio-book, Stories, Tales, Madness, Mad, Science, Life conduct, Ethics, Translations into russian, Ficción, Frankenstein (personaje literario), Monstruos, Epistolary fiction, Conducta (etica), ghost\", Frankenstein films, Juvenile fiction, African american women, Man-woman relationships, Pr5397 .f7 2012d, Pr5397 .f7 2008d, 823, Drama (dramatic works by one author)',\n",
       "  'description': 'No description available',\n",
       "  'ebook_available': False,\n",
       "  'publishers': 'Unknown Publisher'},\n",
       " {'title': 'Carrie',\n",
       "  'author': 'Stephen King',\n",
       "  'published_year': 1974,\n",
       "  'subjects': 'occult & supernatural fiction, horror fiction, psychological thrillers, Fiction, Horror, American Horror tales, thriller, Epistolary novel, telekinesis, Menarche, proms, menstruation, telepathy, banned book, Estudiantes de escuelas secundarias, Psicocinética, Psychokinesis, Teenage girls, Social isolation, High school students, Madres e hijas, Mothers and daughters, Ficción, Aislamiento social, Child abuse, Bullying, Supernatural, Horror stories, Fiction, horror, Belonging, FICTION / Horror, FICTION / Occult & Supernatural, FICTION / Thrillers / Psychological, Elèves du secondaire, Romans, Horreur, Psychokinésie, Violence envers les enfants, Good and evil, Revenge, Bullies, English fiction, Translations into Spanish, Escuelas secundarias, Novela, Estudiantes, Abuso de niños, Novela inglés, Traducciones en español, Cuentos populares de terror, Spanish language materials, Estudiantes de escuela secundaria, Psicokinesis, Novela inglesa, Traducciones al español, American literature, Arabic language, White, carrie (fictitious character), fiction, Chamberlain (me. : imaginary place), fiction, Maine, fiction, Large type books, Science Fiction - General, King, Stephen - Prose & Criticism, Fiction - Horror, Classics, Horror - General, Horror & ghost stories',\n",
       "  'description': 'No description available',\n",
       "  'ebook_available': False,\n",
       "  'publishers': 'Unknown Publisher'},\n",
       " {'title': 'A Study in Scarlet',\n",
       "  'author': 'Arthur Conan Doyle',\n",
       "  'published_year': 1887,\n",
       "  'subjects': \"Action & Adventure Fiction, aortic aneurysm, Battle of Maiwand, Blessing and cursing, British and irish fiction (fictional works by one author), Children's fiction, Classics, crime scenes, Detective and mystery stories, Detective Fiction, Detectives, Detectives privados, Detektive, Détectives, English Detective and mystery stories, English literature, Ficción, Fiction, hemoglobin, Investigadores privados, Krimi, Literature and fiction, mystery and suspense, Murder, Mystery and detective stories, Mystery fiction, Novela, Novela de misterio, pioneers, Private investigators, Scottish Terriers, Second Anglo-Afghan War, The Church of Jesus Christ and Latter-day Saints, Trichinopoly cigars, Sherlock Holmes, IIIT\",\n",
       "  'description': 'No description available',\n",
       "  'ebook_available': False,\n",
       "  'publishers': 'Unknown Publisher'},\n",
       " {'title': 'The Works of Edgar Allan Poe in Five Volumes',\n",
       "  'author': 'Edgar Allan Poe',\n",
       "  'published_year': 1903,\n",
       "  'subjects': \"short stories, aristocracy, satire, American Horror tales, American literature, Children's fiction, Classic Literature, Crime, Crime fiction, Detective and mystery stories, Fiction, first-person narrative, Gothic fiction, Homicide, Horror, Horror fiction, Horror stories, Horror tales, Hyperesthesia, Juvenile fiction, Murder, silence, premature burial, catalepsy, Taphophobia, crypts, phobias, unconsciousness, berths, American fiction, American Short stories, fear, pendulums, Spanish Inquisition, mesmerism, abbeys, daggers, Hematidrosis, Juvenile audience, masquerade balls, nobility, plagues, shrouds, self-destructive behavior, metaphors, coroners, hanging, burial vaults, dragons, hermitages, heroic romances, hysteria, knights, maces, psychogenic death, tarns, suspense, hoaxes, narration, pseudoscience, Hypnagogia, animal magnetism, hypnotism, tuberculosis, embedded narrative, mountaineering, whirlpools, vortex, Ratiocination, Revenge, cats, short story, unreliable narrators, self-hatred, gallows, obsessive-compulsive disorder, monomania, fixation, Mystery and detective stories, monograms, Horror & Supernatural Fiction, fantasy fiction, 19th century American fiction, Literary collections\",\n",
       "  'description': 'No description available',\n",
       "  'ebook_available': False,\n",
       "  'publishers': 'Unknown Publisher'}]"
      ]
     },
     "execution_count": 7,
     "metadata": {},
     "output_type": "execute_result"
    }
   ],
   "source": [
    "combine_genre(\"horror\")"
   ]
  },
  {
   "cell_type": "markdown",
   "id": "eca60ddf-638a-45cd-a349-291d7d7ce9c9",
   "metadata": {
    "id": "RNbSJfnwrvnv"
   },
   "source": [
    "### Humor Books"
   ]
  },
  {
   "cell_type": "code",
   "execution_count": 8,
   "id": "a94969a6-7eeb-42cf-92ba-8863e95dd1ca",
   "metadata": {
    "colab": {
     "base_uri": "https://localhost:8080/"
    },
    "collapsed": true,
    "id": "anU2Zx_Sr9QN",
    "jupyter": {
     "outputs_hidden": true
    },
    "outputId": "16d1b94b-82bf-43ac-d64a-6b6576d8ac02"
   },
   "outputs": [
    {
     "name": "stdout",
     "output_type": "stream",
     "text": [
      "\n",
      "Books under the genre 'humor':\n",
      "\n",
      "1. The Second Jungle Book by Rudyard Kipling\n",
      "2. Candide by Voltaire\n",
      "3. Three Men in a Boat (to say nothing of the dog) by Jerome Klapka Jerome\n",
      "4. Adventures of Huckleberry Finn by Mark Twain\n",
      "5. Alice's Adventures in Wonderland by Lewis Carroll\n",
      "6. The BFG by Roald Dahl\n"
     ]
    },
    {
     "data": {
      "text/plain": [
       "[{'title': 'The Second Jungle Book',\n",
       "  'author': 'Rudyard Kipling',\n",
       "  'published_year': 1887,\n",
       "  'subjects': \"Romans, Enfants sauvages, Jungles, Faune de la jungle, Fiction, Jungle animals, Mowgli (Fictitious character), Animals, Legends and stories of Animals, Juvenile fiction, Folklore, Anecdotes, Legends, Short stories, Childrens stories, Juvenile literature, English Adventure stories, Boys, Feral children, British and irish fiction (fictional works by one author), English literature, English fiction, Jungle, English Short stories, Children's stories, English, Classic Literature, Fiction, action & adventure, Fables, Children: Grades 4-6, Children's fiction, Jungle animals, fiction, Jungles, fiction, Mowgli (fictitious character), fiction, India, fiction, Animals, fiction, Fiction, general, Fiction, short stories (single author), Biography, Animaux, Romans, nouvelles, etc. pour la jeunesse, Romans, nouvelles\",\n",
       "  'description': 'No description available',\n",
       "  'ebook_available': False,\n",
       "  'publishers': 'Unknown Publisher'},\n",
       " {'title': 'Candide',\n",
       "  'author': 'Voltaire',\n",
       "  'published_year': 1746,\n",
       "  'subjects': \"Conduct of life, Readers, Literatura francesa, Satire, Fiction, Civilization, Moral conditions, Enlightenment, Politics and government, Life, French language, Philosophy, French fiction, Ethics, Classic Literature, Imaginary letters, Personal conduct, Open Library Staff Picks, Translations into Chinese, open_syllabus_project, Lifestyles, Modern Philosophy, Translations into English, Candide, French literature, Early works to 1800, French Satire, French language materials, Optimism, Histoire, History, Continental european fiction (fictional works by one author), Fiction, general, Large type books, Adventure stories, Dictionaries, English language, Chinese, German, Korean, Inquisition, Romance literature, Fiction, satire, Nonfiction, Spanish, Philosophy, Modern -- 18th century, Critique et interprétation, Criticism and interpretation, Candide (Voltaire), Fiction, humorous, Bildungsromans, Littérature française, Romans, nouvelles, Roman français, Humor, Voltaire, 1694-1778, French language, readers, Fiction, humorous, general, Great britain, fiction, Fiction, historical, general, Wit and humor, Literature, Teachers, Library, Personal copy, Picaresque literature, French literature, history and criticism, Fiction, historical, German Picaresque literature, Civilisation, Roman picaresque allemand, Siècle des Lumières, History and criticism, Histoire et critique, Vida, Novela, Optimismo, Classics, Literary, Humor, topic, politics, Happiness, Illustraties, Frans, Bright's disease, Edema, Study guides, Examinations, Humor, general, Social life and customs, Pen drawing, Facsimiles, Swiss Drawing, Photoengraving, Specimens, Mœurs et coutumes, Humour, Dessin à la plume, Fac-similés, Dessin suisse, Photogravure, Spécimens, Manners and customs\",\n",
       "  'description': 'No description available',\n",
       "  'ebook_available': False,\n",
       "  'publishers': 'Unknown Publisher'},\n",
       " {'title': 'Three Men in a Boat (to say nothing of the dog)',\n",
       "  'author': 'Jerome Klapka Jerome',\n",
       "  'published_year': 1889,\n",
       "  'subjects': \"Humorous stories, Male friendship, Description and travel, Humor (Fiction), Boats and boating, Fiction, Classic Literature, English Humorous stories, History, General, Fiction, humorous, England, fiction, Germany, fiction, British and irish fiction (fictional works by one author), Friendship, fiction, Children's fiction, Boats and boating, fiction, Dogs, fiction, Travel, Dogs, Young men, Large type books, Humorous, Classics, Friendship, Humorous fiction, Freundeskreis, Wasserwandern, Fiction, humorous, general, Male friendship in fiction, Boats and boating in fiction, Boats and boating x Fiction, Wit and humor, Fiction, historical, general, English language, textbooks for foreign speakers, Comics & graphic novels, general, English literature, Fiction, general, Drama, Adventure stories, American wit and humor, Readers (Adult), English language, Textbooks for foreign speakers, Reading comprehension, Problems, exercises, British, English fiction, Jeunes hommes, Romans, nouvelles\",\n",
       "  'description': 'No description available',\n",
       "  'ebook_available': False,\n",
       "  'publishers': 'Unknown Publisher'},\n",
       " {'title': 'Adventures of Huckleberry Finn',\n",
       "  'author': 'Mark Twain',\n",
       "  'published_year': 1876,\n",
       "  'subjects': \"adventure and adventurers, Adventure stories, American fiction (fictional works by one author), American literature, Boys, Child and youth fiction, Children's fiction, child witnesses, Courtship, English language, friendship, Fugitive slaves, history, humor, Humorous stories, Juvenile fiction, juvenile literature, literature, Loyalty, Male friendship, Manners and customs, orphans, Personnages, Race relations, rafting, Rafting (Sports), Revenge, Runaway children, Runaways, runaway teenagers, satire, Sisters, slavery, Slaves, Social classes, social history-United States-1800s, Social life and customs, Travel, Voyage, voyages and travels, young men, Young women, American literature, history and criticism, 19th century, American literature, outlines, syllabi, etc., American manuscripts, amitie masculine, Anglais (langue), boys in literature, Dictionaries, Dummies (Bookselling), enfants fugueurs, English as a second language, esclaves fugitifs, Examinations, Facsimiles, Foreign speakers, garcons, Garçons, Literary Criticism, Long Now Manual for Civilization, Manuscripts, open_syllabus_project, Readers, Readers for new literates, relations raciales, Romans, Rôle selon le sexe dans la littérature, Specimens, Study and teaching, Study guides, Fiction, Huckleberry Finn (Fictitious character), Romans, nouvelles, etc. pour la jeunesse, Voyages, Amitié, Histoire, Fiction, general, Mississippi river, fiction, Missouri, fiction, Adventure and adventurers, fiction, Slavery, fiction, Finn, huckleberry (fictitious character), fiction, Runaways (Fictitious characters), Romans, nouvelles, Friendship, fiction, Boys, fiction, Voyages and travels -- Fiction, Friendship -- Fiction, Slavery -- Fiction, Mississippi River -- Fiction, Missouri -- History -- 19th century -- Fiction, Children's literature, American fiction, Roman américain, Amitié masculine, Livres en gros caractères, Classes sociales, Jeunes femmes, Amours, Sœurs, Large print books, Fictional Works Publication Type, Adventures of Huckleberry Finn (Twain, Mark), Criticism and interpretation, Race relations in literature, Coming of age, Huckleberry Finn (Fictional character), Humorous, Action & Adventure, Mississippi, fiction, Enslaved persons, fiction, Fiction, coming of age, Fiction, humorous, general, Southern states, fiction, Finn, huckleberry, Finn, huckleberry (fictitious character), Finn, huckleberry (fictitious character)--fiction, Runaway children--fiction, Male friendship--fiction, Fugitive slaves--fiction, Race relations--fiction, Boys--fiction, Ps1305 .a1 2003, 813/.4, Twain, mark , 1835-1910, Boys--travel, Boys--travel--mississippi river--fiction, Sex role in literature, Boys--missouri--fiction, Ps1305.a2 g73 1995, Ps1305 .t93 1999, Boys & men, In literature, Spanish, French, The adventures of huckleberry finn (twain), Relations raciales dans la littérature, Huckleberry finn, Finn, huckleberry (personnage fictif), Fiction, action & adventure, Slaves, fiction, Fiction, humorous, United states, history, Twain, mark, 1835-1910, Sawyer, tom (fictitious character), fiction, Literature and fiction, juvenile, Fiction, historical, Tom sawyer (fictitious character), Aventuras-, Novelas-, Libros infantiles, Abenturak-, Eleberriak-, Haur eta gazteentzako liburuak, Wit and humor, History and criticism, Library, Personal copy\",\n",
       "  'description': 'No description available',\n",
       "  'ebook_available': False,\n",
       "  'publishers': 'Unknown Publisher'},\n",
       " {'title': \"Alice's Adventures in Wonderland\",\n",
       "  'author': 'Lewis Carroll',\n",
       "  'published_year': 1865,\n",
       "  'subjects': \"Alice (fictitious character : carroll), fiction, British and irish fiction (fictional works by one author), Fiction, fantasy, general, JUVENILE FICTION, classics, Fantasy & Magic, Imagination & Play, adventure and adventurers, adventure and adventurers, fiction, adventure stories, adventure travel, animals, anthropomorphism, artists' illustrated books, books and reading, child and youth fiction, children, children's fiction, children's literature, children's literature, english, children's stories, children's stories, english, classic literature, coloring books, croquet, cuentos infantiles ingleses, curiosidad, curiosidad en los niños, curiosity, curiosity in children, english, english adventure stories, english fantastic fiction, english fantasy fiction, english fantasy literature, english language, english literature, english nonsense verses, fairy tales, fantasy, fantasy fiction, fantasy in fiction, fantasy  magic, fantasía, ficción juvenil, fiction, friendship, girls, girls, fiction, hookahs, humor, humorous stories, illustrations, imaginary places, juvenile literature, legends, literary nonsense, logic, lugares imaginarios, mythical animals, niñas, nonsense verses, novela, novela fantástica, novela juvenil, open library staff picks, picture books, playing cards, rabbits, readers, reading materials, short novel, tea, texts, Alice (Fictitious character : Carroll), English language, textbooks for foreign speakers, Fantastique, Enfants, Affirmation de soi, Spanish language materials, Alicia (Personaje literario : Carroll), Spanish language, nyt:chapter-books=2010-02-21, New York Times bestseller, Literatura infanto-juvenil, Literatura inglesa, Carroll, lewis, 1832-1898, Children's literature, history and criticism, Children, books and reading, Crocheting, Fiction, general, Fantasy fiction, history and criticism, Toy and movable books, Imagination, Textbooks for foreign speakers, Readers for new literates, High interest-low vocabulary books, Science fiction, CUENTO INFANTIL INGLES, History and criticism, Translations into Irish, Irish literature, Swahili language, Ficc ʹa o (ge nero), Shi jie wen xue, Xiao shuo, Fantasi a, Tong hua, Suo xie, Shao er du wu, Pin yin du wu, Children's stories, Chinese, Chinese language, Translations into Polish, Ying yu, Yu yan du wu, Decision making, Juvenile Wit and humor, Conduct of life, Illusion (Philosophy), Innocence (Psychology), Dreams, Courts and courtiers, Theft, Courts, Curiosité, Romans, nouvelles, etc. pour la jeunesse, Prise de décision, Humour pour la jeunesse, Morale pratique, Lieux imaginaires, Illusion (Philosophie), Rêves, Cartes à jouer, Cours et courtisans, Croquet (Jeu), Vol (Droit), Tribunaux, Histoires pour enfants anglaises, Literature, collections, Fiction, short stories (single author), Contes de fées, English fiction, Translations into Ladino, Nonsense literature, Fantasmes, Dinosaurier, Utdöda djur, Urtidsdjur, Forntiden, Geologi, Evolution, Jorden, Fantastiske fortællinger, Translations into Yiddish, Criticism and interpretation, History, Alice's adventures in Wonderland (Carroll, Lewis), Alice in Wonderland;, North, Rural-urban migration, Russian language\",\n",
       "  'description': 'No description available',\n",
       "  'ebook_available': False,\n",
       "  'publishers': 'Unknown Publisher'},\n",
       " {'title': 'The BFG',\n",
       "  'author': 'Roald Dahl',\n",
       "  'published_year': 1980,\n",
       "  'subjects': \"Open Library Staff Picks, Roald Dahl, Tweens, Teens, Teenagers, YA, Young adult, Juvenile, Fiction, Fantasy, Make-believe, Literature, Chapters, Chapter Book, Books, Story, Stories, Humor, Funny, Adventure, Friendly, Giants, Orphans, Kidnapping, Dreamcatcher, Children's fiction, Giants, fiction, Orphans, fiction, Humorous stories, Juvenile works, Children's stories, Juvenile fiction, Magie, Humour, Friendship, Rescues, Translations into Chinese, Tong hua, Tales, Literature and fiction, juvenile, Reuzen, Jeugdboeken ; verhalen, Children's stories, English, nyt:childrens-middle-grade-paperback=2016-06-26, New York Times bestseller, Gigante, Novela juvenil, Huéfanos, Bien y mal, Fantasy & Magic, Spanish language materials, Child and youth fiction, Juvenile drama, Children's plays, English\",\n",
       "  'description': 'No description available',\n",
       "  'ebook_available': False,\n",
       "  'publishers': 'Unknown Publisher'}]"
      ]
     },
     "execution_count": 8,
     "metadata": {},
     "output_type": "execute_result"
    }
   ],
   "source": [
    "combine_genre(\"humor\")"
   ]
  },
  {
   "cell_type": "markdown",
   "id": "8518be90-6c7d-4c2d-8eac-f850f4cc3216",
   "metadata": {
    "id": "dbRol0qTr0Gk"
   },
   "source": [
    "### Literature Books"
   ]
  },
  {
   "cell_type": "code",
   "execution_count": 9,
   "id": "50120814-80bd-4830-af13-25a59399f340",
   "metadata": {
    "colab": {
     "base_uri": "https://localhost:8080/"
    },
    "collapsed": true,
    "id": "TOYICVImsNBY",
    "jupyter": {
     "outputs_hidden": true
    },
    "outputId": "670906b1-432d-4409-de32-69fb42681fa4"
   },
   "outputs": [
    {
     "name": "stdout",
     "output_type": "stream",
     "text": [
      "\n",
      "Books under the genre 'literature':\n",
      "\n",
      "1. The Art of War by Sun Tzu\n",
      "2. Bible by Bible\n",
      "3. La Poetica by Aristotle\n",
      "4. The Merchant of Venice by William Shakespeare\n",
      "5. Alice's Adventures in Wonderland by Lewis Carroll\n",
      "6. Pride and Prejudice by Jane Austen\n",
      "7. Don Quixote by Miguel de Cervantes Saavedra\n",
      "8. Adventures of Huckleberry Finn by Mark Twain\n",
      "9. Literacy for the 21st Century by Gail E. Tompkins\n"
     ]
    },
    {
     "data": {
      "text/plain": [
       "[{'title': 'The Art of War',\n",
       "  'author': 'Sun Tzu',\n",
       "  'published_year': 1900,\n",
       "  'subjects': \"Open Library Staff Picks, Early works to 1800, Military art and science, great_books_of_the_western_world, Business, Self-Improvement, Philosophy, open_syllabus_project, Fiction, Nonfiction, Politics, Military, Classic Literature, History, Military art and science, early works to 1800, Strategy, Management, Military art and science, history, Leadership, War, Success in business, Industrial management, Marketing, Ciencia militar, Sales promotion, Obras anteriores a 1800, Éxito en los negocios, Aptitudes de mando, Sales management, Executive ability, Tangut language, Art et science militaire, Parent and teenager, Criticism and interpretation, Competition, Parenting, Administración, Long Now Manual for Civilization, Exito en los negocios, Warfare & Defence, Military Science, Eastern, Eastern - General, BG-HISTORY - BG-WAR/MILITARY TRANSPORT, History / Military / Strategy, Military - General, Business strategy, Business/Economics, Business & Economics, Business / Economics / Finance, Reference - General, Management - General, Defence strategy, planning & research, Negotiating, Military History - Ancient, History - Military / War, Business & Economics / Negotiating, Other prose: classical, early & medieval, POLITICS & GOVERNMENT, Social history, Literature: Classics, China, Literary, Classics, Marketing - General, Sales & Selling - Management, History / Military / General, Persuasion, Sales, Salesmanship, Selling, Business & Economics / Sales & Selling, Sunzi, active 6th century b.c., Strategic planning, Tactics, Chinese language, Readers, War, history, Guerre, Ouvrages avant 1800, Art et science militaires, Guerra, Estrategia, Other, TECHNOLOGY & ENGINEERING, Krigskonst, Verk före 1800, Gestion d'entreprise, Succès dans les affaires, Management Science, Organizational Behavior, Literary collections, Military art and science--early works to 1800, U101 .s95 1994, 355.02, Chinese history, Ancient & medieval military history, Strategy & weapons of war, Asian philosophy, Military and warfare, Philosophy and ethics, Comics & graphic novels, nonfiction, general, Philosophy, asian, Political science, history, World history, Political science, Philosophy, chinese, Military art and science -- Early works to 1800, War -- Early works to 1800, War and society, Comic books, strips, Illustration of books, Stratégie, HISTORY -- Asia -- China, HISTORY -- Military -- Strategy, LITERATURE - LIT CLASSICS TRD PB, General, Theory of warfare & military science, Illustrations, Sunzi bing fa (Sunzi), Art militaire, Reference, Self-help techniques, U101 .s95 1983, Ciência militar, Taoísmo, Pictorial works, Military History, War (Philosophy), New York Times reviewed, Competition (Psychology), BUSINESS & ECONOMICS / Management, PHILOSOPHY / Eastern, POLITICAL SCIENCE / History & Theory, Conflict management, Peace, Religious aspects, Religious aspects of Conflict management, Religious aspects of Peace, Asia - General, Spirituality - General, Religion, Spiritual warfare, Philosophy, taoist\",\n",
       "  'description': 'No description available',\n",
       "  'ebook_available': False,\n",
       "  'publishers': 'Unknown Publisher'},\n",
       " {'title': 'Bible',\n",
       "  'author': 'Bible',\n",
       "  'published_year': 1200,\n",
       "  'subjects': \"Manuscripts, Latin (Medieval and modern), Glossaries, vocabularies, Early works to 1800, Bible, Religion, Bibles, Biblical Studies - General, Religion / Bible / General, Bible - General, Commentaries, Authorized, Criticism, interpretation, Shorthand, Sacred books, Church of Jesus Christ of Latter-day Saints, BÍBLIA (INTERPRETAÇÃO), Juvenile literature, The Bible, Biblia, Christian life, Study and teaching, English Concordances, Bible, study and teaching, Jews, Antiquities, Apocryphal books (Old Testament), Education, Doctrines, Spiritual life, Religious life, New Testament, Peshitta, English Harmonies, Bible, commentaries, Introductions, Biography, Creation, Biblical teaching, History, Bible, criticism, interpretation, etc., Catholic Truth Society (Great Britain), Church year meditations, Lectionaries, Bible, theology, Bibel, Bijbel, Christianity, Spirituality, Bible. -- Old Testament, Bible. -- New Testament, Teenagers' use, English Bible stories, Bible stories, Bible--Study and teaching--Catholic Church, Catholic youth--Religious life, Catholic youth, Devotional calendars, Christian women, Prayers and devotions, Women -- Prayer-books and devotions -- English, Devotional exercises, Couples, Prayer-books and devotions, Devotional use, Older Christians, Bible, meditations, Older people, prayers and devotions, Meditations, Twelve-step programs, Conduct of life, Prayer books and devotions, Teenagers, Amplified, Men's Bible, Twelve-step programs -- Religious aspects -- Christianity -- Meditations, Bible -- Meditations, Women, Mothers, Sources, Specimens, Bibles - Living, Religious aspects, Teenage girls, Devotional literature, Men, Church group work with men, Study skills, Children, Children's use, Blacks in the Bible, Bibles, english standard version, study, Faith, Theology, Chronology, Bible - Reference Editions, Bible, versions, Bibles, other english translations, study, Bibles, new international version, youth & teen, Bibles, new king james version, youth & teen, Bibles, king james version, study, Bibles, christian standard bible, youth & teen, Spiritual life, christianity, Bibles, other english translations, youth & teen, Bible, study, Commentaires, Methodist Church, Holy Bible, study bible, Bibles, new revised standard version, study, BIBLES / New Revised Standard Version / Study, RELIGION / Biblical Criticism & Interpretation / General, Evidences, authority, Creationism, Bible - Evidences, authority, Bible - Study and teaching, Authority, Christian leadership, Women in the Bible, Juvenile, Bible Study Guide, God, knowableness, Bible, criticism, interpretation, etc., n. t. epistles, Jerusalem, O.T., English Paraphrases, Paraphrases, Religion - Bibles - General, Bible - Stories - Old Testament, Paraphrases, English, Students, History of Biblical events, Children, religious life, In literature, Bible, commentaries, o. t. apocrypha, Characters, Characters and characteristics, Parenting, Moral and ethical aspects, Parents, Geography, Evidence, Apologetics, Missions, Boys, Bible -- Study and teaching, Versiones, Indexes, Teenage boys, Girls, Personal narratives, Pentecostalism, Episcopalians, Earthquakes, Youth, Reference, Deuterocanonieke boeken, Oude Testament, Nieuwe Testament, Bible. O.T. Apocrypha, Apocrypha, Critique, interprétation, Comentarios, Reader Development Collection, Bibles, god's word, text, Abridgements, God, Literal Translations, Literal Translation, Literal Bible, New World, Psalters, collectionID:KellerChallenge, Women Biblical scholars, collectionID:EanesChallenge, Étude et enseignement, Almanachs spirituels, Forecasting, Forecasts, Bible, reading, Reference books, Women, religious life, Religion and theology, Children, juvenile literature, Livres en gros caractères, Éditions de référence, Bible, chronology, Bible, use, Quotations, Citations, Übersetzung, Kommentar, Ouvrages pour la jeunesse, Usage par les enfants, Holy books, Bibles, new revised standard version, new testament & portions, Environmental aspects, Green movement, Environmentalism, Adolescents, Vie religieuse, Doctrinal Theology, Families, Holy Spirit, Saint-Esprit, Enseignement biblique, Spiritual formation, Église catholique, Jeunesse catholique, Paraphrases anglaises, Christian men, Recovery, Old and new testament, Vie chrétienne, Bibles, la biblia de las americas, text, collectionID:bannedbooks, Translations into English, Bible in literature, Bibles, other english translations, text, Bible, study and teaching, outlines, syllabi, etc., Bible, concordances, Large type books, Bible, versions, english, Bibles, new international version, text, Bible, juvenile literature, Women, prayers and devotions, Bibles, new international version, devotional, Bibles, nueva version international, text, Bibles, other english translations, reference, Bibles, king james version, children, Bibles, new revised standard version, text, Bibles, new international reader's version, children, Bibles, general, Bibles, multiple translations, text, Bibles, king james version, text, Bibles, new international reader's version, study, Bible, textbooks, Devotional literature (selections: extracts, etc.), Bibles, new international reader's version, youth & teen, Youth, religious life, Bibles, new international version, children, Devotional calendars, juvenile literature, Bibles, new international version, general, Bible, prophecies, Prophecy, christianity, African americans, religion, God, worship and love, Bibles, new international reader's version, general, Introduction, Bibles, english standard version, general, Bibles, christian standard bible, text, Bible, dictionaries, Bibles, christian standard bible, study, Bibles, la biblia de las americas, general, Bibles, new american standard bible, general, Bibles, christian standard bible, reference, Versions, Revised Standard, Reference editions, Episcopal Church. Joint Commission on Marginal Readings in the Bible, Children's songs, Contemporary christian music, Dakota language, Texts, Dakota (Langue), Textes, English Parallel versions, Apocryphal books\",\n",
       "  'description': 'No description available',\n",
       "  'ebook_available': False,\n",
       "  'publishers': 'Unknown Publisher'},\n",
       " {'title': 'La Poetica',\n",
       "  'author': 'Aristotle',\n",
       "  'published_year': 1479,\n",
       "  'subjects': 'Metaphysics, Early works to 1800, Metaphysica (Aristoteles), Rhetoric, ancient, Ethics, greece, Athens (greece), politics and government, Meteorology, early works to 1800, Aristotle, Philosophers, greece, Astronomy, early works to 1800, Animal locomotion, Philosophy, ancient, Rhetoric, Poetry, early works to 1800, Aesthetics, early works to 1800, Ancient Rhetoric, Poetry, Aesthetics, Esztétika, Irodalomelmélet, Költészet, Retorika, Rhétorique ancienne, Filosofia, Poétique, Rhétorique, Zoology, Pre-Linnean works, Philosophy, Collected Works, Classical philology, Philosophie, Ouvrages avant 1800, Filosofie, Poésie, Esthétique, 18.43 ancient Greek literature, 08.21 Ancient philosophy, Ancient Philosophy, Ancient Science, Science, ancient, Ethics, Economics, Poetics, Métaphysique, Criticism and interpretation, Pa3893 .r3 1991, 808.0092, Linguistics & semiotics, Ancient greek philosophy, Metaphysics--early works to 1800, B434.a5 b67 1994, 110, Philosophy--early works to 1800, B407 .a26 1996, 185, B407 .f56 1995, Psychology, Early works to 1850, Greek literature, History and criticism, Theory, Literary form, Ancient Aesthetics, Horses, Folklore, Translations into English, Literary Style, The Sublime',\n",
       "  'description': 'No description available',\n",
       "  'ebook_available': False,\n",
       "  'publishers': 'Unknown Publisher'},\n",
       " {'title': 'The Merchant of Venice',\n",
       "  'author': 'William Shakespeare',\n",
       "  'published_year': 1600,\n",
       "  'subjects': 'Drama, Jews, Moneylenders, Shylock (Fictitious character), Juvenile drama, Plays, English literature, History and criticism, History, Problems, exercises, Criticism and interpretation, Sources, Bibliography, Promptbooks, English Young adult drama, Quartos, Study and teaching, Outlines, syllabi, Fiction, Study guides, Examinations, Jews in literature, English drama, English drama (Comedy), Drama in English Shakespeare, William - Texts, English literature: Shakespeare criticism, English literature: Shakespeare texts, Plays / Drama, Literary Criticism, Shakespeare, For National Curriculum Key Stage 3, Venice (Italy), Juvenile literature, Concordances, Venecia (Italia), Prestamistas, Teatro, Judíos, Nonfiction, British and irish drama (dramatic works by one author), Shakespeare, william, 1564-1616, merchant of venice, Shakespeare, william, 1564-1616, juvenile literature, Shakespeare, william, 1564-1616, adaptations, Merchant of Venice (Shakespeare, William), Education, English literature, study and teaching, Shakespeare, william, 1564-1616, criticism and interpretation, Drama (dramatic works by one author), English literature, outlines, syllabi, etc., Shakespeare, william, 1564-1616, outlines, syllabi, etc., Outlines, syllabi, Problems, exercises, Dramatic production, Stage history, Comedies, Humorous plays, Study and teaching (Secondary), Secondary Education, Shakespeare, William, 1564-1616, Criticism, Jewish merchants, Readers for new literates, Shakespeare, william, 1564-1616, study and teaching, Mathematics, study and teaching, Shakespeare, william, 1564-1616, criticism, textual, English literature, history and criticism, early modern, 1500-1700, Theater, Production and direction, Stage management, Théâtre, Production et mise en scène, Régie (Théâtre), English drama, history and criticism, Merchants, In literature, Comedy, Readers, Portia (Fictitious character : Shakespeare), Shakespeare, william , 1564-1616, Moneylenders--drama, Jews--italy--venice--drama, Shylock (fictitious character)--drama, Pr2825.a2 d75 2010, 822.33, Textbooks',\n",
       "  'description': 'No description available',\n",
       "  'ebook_available': False,\n",
       "  'publishers': 'Unknown Publisher'},\n",
       " {'title': \"Alice's Adventures in Wonderland\",\n",
       "  'author': 'Lewis Carroll',\n",
       "  'published_year': 1865,\n",
       "  'subjects': \"Alice (fictitious character : carroll), fiction, British and irish fiction (fictional works by one author), Fiction, fantasy, general, JUVENILE FICTION, classics, Fantasy & Magic, Imagination & Play, adventure and adventurers, adventure and adventurers, fiction, adventure stories, adventure travel, animals, anthropomorphism, artists' illustrated books, books and reading, child and youth fiction, children, children's fiction, children's literature, children's literature, english, children's stories, children's stories, english, classic literature, coloring books, croquet, cuentos infantiles ingleses, curiosidad, curiosidad en los niños, curiosity, curiosity in children, english, english adventure stories, english fantastic fiction, english fantasy fiction, english fantasy literature, english language, english literature, english nonsense verses, fairy tales, fantasy, fantasy fiction, fantasy in fiction, fantasy  magic, fantasía, ficción juvenil, fiction, friendship, girls, girls, fiction, hookahs, humor, humorous stories, illustrations, imaginary places, juvenile literature, legends, literary nonsense, logic, lugares imaginarios, mythical animals, niñas, nonsense verses, novela, novela fantástica, novela juvenil, open library staff picks, picture books, playing cards, rabbits, readers, reading materials, short novel, tea, texts, Alice (Fictitious character : Carroll), English language, textbooks for foreign speakers, Fantastique, Enfants, Affirmation de soi, Spanish language materials, Alicia (Personaje literario : Carroll), Spanish language, nyt:chapter-books=2010-02-21, New York Times bestseller, Literatura infanto-juvenil, Literatura inglesa, Carroll, lewis, 1832-1898, Children's literature, history and criticism, Children, books and reading, Crocheting, Fiction, general, Fantasy fiction, history and criticism, Toy and movable books, Imagination, Textbooks for foreign speakers, Readers for new literates, High interest-low vocabulary books, Science fiction, CUENTO INFANTIL INGLES, History and criticism, Translations into Irish, Irish literature, Swahili language, Ficc ʹa o (ge nero), Shi jie wen xue, Xiao shuo, Fantasi a, Tong hua, Suo xie, Shao er du wu, Pin yin du wu, Children's stories, Chinese, Chinese language, Translations into Polish, Ying yu, Yu yan du wu, Decision making, Juvenile Wit and humor, Conduct of life, Illusion (Philosophy), Innocence (Psychology), Dreams, Courts and courtiers, Theft, Courts, Curiosité, Romans, nouvelles, etc. pour la jeunesse, Prise de décision, Humour pour la jeunesse, Morale pratique, Lieux imaginaires, Illusion (Philosophie), Rêves, Cartes à jouer, Cours et courtisans, Croquet (Jeu), Vol (Droit), Tribunaux, Histoires pour enfants anglaises, Literature, collections, Fiction, short stories (single author), Contes de fées, English fiction, Translations into Ladino, Nonsense literature, Fantasmes, Dinosaurier, Utdöda djur, Urtidsdjur, Forntiden, Geologi, Evolution, Jorden, Fantastiske fortællinger, Translations into Yiddish, Criticism and interpretation, History, Alice's adventures in Wonderland (Carroll, Lewis), Alice in Wonderland;, North, Rural-urban migration, Russian language\",\n",
       "  'description': 'No description available',\n",
       "  'ebook_available': False,\n",
       "  'publishers': 'Unknown Publisher'},\n",
       " {'title': 'Pride and Prejudice',\n",
       "  'author': 'Jane Austen',\n",
       "  'published_year': 1813,\n",
       "  'subjects': 'Fiction, Romance, Historical, Regency, British and irish fiction (fictional works by one author), Brothers and sisters, Courtship, Drama, English fiction, English literature, Families, Family, Family life, Family relations, Fiction Classics, History, Interpersonal relations, Juvenile fiction, Literary Fiction, love stories, manners, Manners and customs, marriage, Sisters, Social classes, Social life and customs, Upper class, wealth, Women in England, young ladies, Young women, entail, Young women, fiction, Sisters, fiction, Fiction, family life, general, England, fiction, Man-woman relationships, fiction, Roman anglais, Classes sociales, Romans, nouvelles, Sœurs, Amours, Jeunes femmes, Familles, Mœurs et coutumes\", Clases sociales, Novela, Jóvenes (Mujeres), Cortejo amoroso, Hermanas, Cuentos de amor, Fiction, coming of age, Fiction, romance, general, Great britain, social life and customs, fiction, Readers, Prejudices, Romance fiction, Historical fiction, Classical literature, Domestic fiction, English language, textbooks for foreign speakers, Women, fiction, Adaptations, Gentry, Mate selection, Fiction, romance, historical, general, English literature (collections), Coloring books, Fiction, family life, Language and languages, study and teaching, Emoticons, Drama (dramatic works by one author), Feelings, Class, Englisch, Roman, Sociala klasser i litteraturen, Prophecies, Great britain, Reading level-grade 7, Reading level-grade 9, Reading level-grade 8, Reading level-grade 11, Reading level-grade 10, Reading level-grade 12, Large type books, Fiction, romance, historical, Austen, jane, 1775-1817, Literature and fiction (general), English literature, history and criticism, England, Художественная литература -- Великобритания -- Английская литература -- 1-ая пол. 19 в. -- Романы, Novel, Fiction',\n",
       "  'description': 'No description available',\n",
       "  'ebook_available': False,\n",
       "  'publishers': 'Unknown Publisher'},\n",
       " {'title': 'Don Quixote',\n",
       "  'author': 'Miguel de Cervantes Saavedra',\n",
       "  'published_year': 1600,\n",
       "  'subjects': \"Don Quixote (Cervantes Saavedra, Miguel de), Quotations, Knights and knighthood, Social life and customs, Fiction, Classic Literature, Don Quixote (Fictitious character), Early works to 1800, Dictionaries, Literatura picaresca, España, Readers, Caballeros y caballería, great_books_of_the_western_world, Squires, Spanish fiction, Illustrations, Relatos de aventura, Criticism and interpretation, Spanish Adventure fiction, Dulcinea, Real Academia Española,, Characters, Dulcinea (Fictitious character), Rhetoric, Spanish Proverbs, Spanish literature, Quests, History, Study and teaching (Secondary), Chivalry, Vida social y costumbres, Spanish language, Composition and exercises, Ficción, Long Now Manual for Civilization, Sancho Panza (Fictitious character), Manners and customs, Spanish language materials, Spanish: Adult Fiction, Classics, General, Literature - Classics / Criticism, Continental european fiction (fictional works by one author), Spain, fiction, Don quixote (fictitious character), fiction, Fiction, action & adventure, Fiction, historical, Dulcinea (fictitious character), fiction, Romance literature, Cide Hamete Benengeli (Fictitious character), Open Library Staff Picks, Humor, Pictorial works, Literature, Comic books, strips, Comics & graphic novels, general, Modern Literature, Spanish, Knights and knighthood, fiction, Wishbone (fictitious character), fiction, Dogs, fiction, Chivalry, fiction, Fiction, general, NOVELAS ESPAÑOLAS, Novela española, Translations into English, Bibliography, Adventure stories, Literary, Shōsetsu-Shōsetsushū, Biography, Literatura española, Appreciation, NOVELISTAS ESPAÑOLES, BIOGRAFIA, Crítica e Interpretación, Fiction, romance, general, Dalziel Brothers, Spanish Authors, Quixote, Don quixote (fictitious character)--fiction, Knights and knighthood--spain--fiction, Pq6329 .a2 2003b, 863/.3, World literature, Fiction subjects, Peoples & cultures - fiction, Literature, collections, Politics and government, Children: Grades 4-6, Children's fiction, Spain -- Social life and customs -- 16th century -- Fiction, Knights and knighthood -- Spain -- Fiction, Picaresque literature, Romances\",\n",
       "  'description': 'No description available',\n",
       "  'ebook_available': False,\n",
       "  'publishers': 'Unknown Publisher'},\n",
       " {'title': 'Adventures of Huckleberry Finn',\n",
       "  'author': 'Mark Twain',\n",
       "  'published_year': 1876,\n",
       "  'subjects': \"adventure and adventurers, Adventure stories, American fiction (fictional works by one author), American literature, Boys, Child and youth fiction, Children's fiction, child witnesses, Courtship, English language, friendship, Fugitive slaves, history, humor, Humorous stories, Juvenile fiction, juvenile literature, literature, Loyalty, Male friendship, Manners and customs, orphans, Personnages, Race relations, rafting, Rafting (Sports), Revenge, Runaway children, Runaways, runaway teenagers, satire, Sisters, slavery, Slaves, Social classes, social history-United States-1800s, Social life and customs, Travel, Voyage, voyages and travels, young men, Young women, American literature, history and criticism, 19th century, American literature, outlines, syllabi, etc., American manuscripts, amitie masculine, Anglais (langue), boys in literature, Dictionaries, Dummies (Bookselling), enfants fugueurs, English as a second language, esclaves fugitifs, Examinations, Facsimiles, Foreign speakers, garcons, Garçons, Literary Criticism, Long Now Manual for Civilization, Manuscripts, open_syllabus_project, Readers, Readers for new literates, relations raciales, Romans, Rôle selon le sexe dans la littérature, Specimens, Study and teaching, Study guides, Fiction, Huckleberry Finn (Fictitious character), Romans, nouvelles, etc. pour la jeunesse, Voyages, Amitié, Histoire, Fiction, general, Mississippi river, fiction, Missouri, fiction, Adventure and adventurers, fiction, Slavery, fiction, Finn, huckleberry (fictitious character), fiction, Runaways (Fictitious characters), Romans, nouvelles, Friendship, fiction, Boys, fiction, Voyages and travels -- Fiction, Friendship -- Fiction, Slavery -- Fiction, Mississippi River -- Fiction, Missouri -- History -- 19th century -- Fiction, Children's literature, American fiction, Roman américain, Amitié masculine, Livres en gros caractères, Classes sociales, Jeunes femmes, Amours, Sœurs, Large print books, Fictional Works Publication Type, Adventures of Huckleberry Finn (Twain, Mark), Criticism and interpretation, Race relations in literature, Coming of age, Huckleberry Finn (Fictional character), Humorous, Action & Adventure, Mississippi, fiction, Enslaved persons, fiction, Fiction, coming of age, Fiction, humorous, general, Southern states, fiction, Finn, huckleberry, Finn, huckleberry (fictitious character), Finn, huckleberry (fictitious character)--fiction, Runaway children--fiction, Male friendship--fiction, Fugitive slaves--fiction, Race relations--fiction, Boys--fiction, Ps1305 .a1 2003, 813/.4, Twain, mark , 1835-1910, Boys--travel, Boys--travel--mississippi river--fiction, Sex role in literature, Boys--missouri--fiction, Ps1305.a2 g73 1995, Ps1305 .t93 1999, Boys & men, In literature, Spanish, French, The adventures of huckleberry finn (twain), Relations raciales dans la littérature, Huckleberry finn, Finn, huckleberry (personnage fictif), Fiction, action & adventure, Slaves, fiction, Fiction, humorous, United states, history, Twain, mark, 1835-1910, Sawyer, tom (fictitious character), fiction, Literature and fiction, juvenile, Fiction, historical, Tom sawyer (fictitious character), Aventuras-, Novelas-, Libros infantiles, Abenturak-, Eleberriak-, Haur eta gazteentzako liburuak, Wit and humor, History and criticism, Library, Personal copy\",\n",
       "  'description': 'No description available',\n",
       "  'ebook_available': False,\n",
       "  'publishers': 'Unknown Publisher'},\n",
       " {'title': 'Literacy for the 21st Century',\n",
       "  'author': 'Gail E. Tompkins',\n",
       "  'published_year': 1996,\n",
       "  'subjects': 'Literature, Language arts (Preschool), Reading (Elementary), Study and teaching (Elementary), Language arts (Elementary), Literacy, Etude et enseignement (Primaire), Lecture (Enseignement primaire), Litterature, Arts du langage (Primaire), Language arts, Literature, study and teaching, Reading (elementary), Language arts (elementary), Language arts &amp; disciplines, Teaching - reading & language, Teaching & teacher training, Education - general & miscellaneous, Educational levels & settings, Literature--study and teaching (elementary), Lb1576 .t657 2010, 372.6',\n",
       "  'description': 'No description available',\n",
       "  'ebook_available': False,\n",
       "  'publishers': 'Unknown Publisher'}]"
      ]
     },
     "execution_count": 9,
     "metadata": {},
     "output_type": "execute_result"
    }
   ],
   "source": [
    "combine_genre(\"literature\")"
   ]
  },
  {
   "cell_type": "markdown",
   "id": "0f047803-262a-4a57-8708-6a4323c0ce77",
   "metadata": {
    "id": "OMy34Ddgr1z2"
   },
   "source": [
    "### Mystery/Thriller Books"
   ]
  },
  {
   "cell_type": "code",
   "execution_count": 10,
   "id": "bc4ddfad-43df-4461-a91c-57c75ede258e",
   "metadata": {
    "colab": {
     "base_uri": "https://localhost:8080/"
    },
    "collapsed": true,
    "id": "7xG5CM7FsQ9E",
    "jupyter": {
     "outputs_hidden": true
    },
    "outputId": "2f191dae-0640-484b-992f-1c469b7d3f28"
   },
   "outputs": [
    {
     "name": "stdout",
     "output_type": "stream",
     "text": [
      "\n",
      "Books under the genre 'mystery_thriller':\n",
      "\n",
      "1. A Study in Scarlet by Arthur Conan Doyle\n",
      "2. Treasure Island by Robert Louis Stevenson\n",
      "3. Murder on the Orient Express by Agatha Christie\n",
      "4. A Christmas Carol by Charles Dickens\n",
      "5. The Thirty-Nine Steps by John Buchan\n",
      "6. The Moonstone by Wilkie Collins\n",
      "7. Alice's Adventures in Wonderland by Lewis Carroll\n",
      "8. The Da Vinci Code by Dan Brown\n",
      "9. Wuthering Heights by Emily Brontë\n"
     ]
    },
    {
     "data": {
      "text/plain": [
       "[{'title': 'A Study in Scarlet',\n",
       "  'author': 'Arthur Conan Doyle',\n",
       "  'published_year': 1887,\n",
       "  'subjects': \"Action & Adventure Fiction, aortic aneurysm, Battle of Maiwand, Blessing and cursing, British and irish fiction (fictional works by one author), Children's fiction, Classics, crime scenes, Detective and mystery stories, Detective Fiction, Detectives, Detectives privados, Detektive, Détectives, English Detective and mystery stories, English literature, Ficción, Fiction, hemoglobin, Investigadores privados, Krimi, Literature and fiction, mystery and suspense, Murder, Mystery and detective stories, Mystery fiction, Novela, Novela de misterio, pioneers, Private investigators, Scottish Terriers, Second Anglo-Afghan War, The Church of Jesus Christ and Latter-day Saints, Trichinopoly cigars, Sherlock Holmes, IIIT\",\n",
       "  'description': 'No description available',\n",
       "  'ebook_available': False,\n",
       "  'publishers': 'Unknown Publisher'},\n",
       " {'title': 'Treasure Island',\n",
       "  'author': 'Robert Louis Stevenson',\n",
       "  'published_year': 1880,\n",
       "  'subjects': \"Fiction, Treasure Island (Imaginary place), Treasure-trove, Pirates, Treasure troves, Children's fiction, Adventure and adventurers, fiction, Pirates, fiction, Buried treasure, fiction, Voyages and travels, fiction, Treasure island (imaginary place), fiction, Literature, British and irish fiction (fictional works by one author), Asventure and adventures, Adventure and adventures, Buried treasure, Caribbean area, fiction, Literature and fiction, juvenile, Adventure and adventurers, Juvenile fiction, Adventure stories, History, Treasure troves -- Juvenile fiction, Children: Grades 4-6, Classic Literature, Juvenile literature, Boys, Treasure maps, Long John Silver (Fictitious character), Action & Adventure, Sea stories, Piratas, Tesoros ocultos, Ficción, Relatos de aventura, Treasuretrove, Adventure fiction, Children: Grades 3-4, Cartoons and comics, Fiction, action & adventure, Fiction, sea stories, English literature, history and criticism, 19th century, Large type books, England, fiction, Stevenson, robert louis, 1850-1894, Adventures and adventurers, New Words, Medieval and modern Latin language, Remedial teaching, Reading interests, Reading, Reading (Secondary), Comic books, strips, Translations into Scots language, Report writing, Composition and exercises, English language, Readers, Treasue Island (Imaginary place), Textbooks for foreign speakers, Readers for new literates, Alice (Fictitious character : Carroll), Fantasy, AR 8.0., Romans, nouvelles, etc. pour la jeunesse, Child and youth fiction, Collected works (single author, multi-form), Poetry (poetic works by one author), Adaptations, Graphic novels, Teenage boys, Kidnapping, Voyages around the world, Disinheritance, Shipwrecks, Dictionaries, Spanish, French, German, Treasure Island: Robert Louis Stevenson, Henry Charles Pitz, Classic Novel, buccaneers, buried gold, joy, fear, suspense, Classics, New York Times reviewed, Roman écossais, High interest-low vocabulary books, Reading comprehension, Problems, exercises, English fiction, Fiction, historical, general, Novela, Aventuras y aventureros, Novela inglesa, Education, great britain, Ficción juvenil, Spanish language books, Spanish language, Literary Criticism, Nonfiction, Thriller, Spanish language materials, Novela juvenil, Aventuras, Trésors, Romans, nouvelles, Recherche, Isla del Tesoro (Lugares imaginarios), Tesoros enterrado, Buried treasure--Fiction, Pirates--Fiction, Adventure and adventurers--Fiction, Fiction, thrillers, general, Ocean travel, Mutiny, Children's stories, Scottish, Translations into Irish, Male authors, Children's stories, English, Scottish authors, Scottish Adventure stories, Illustrated children's books, Specimens, Language readers, Critique et interprétation, Children's literature, French, Historical fiction, English Literature, English, Languages & Literatures, Children's literature\",\n",
       "  'description': 'No description available',\n",
       "  'ebook_available': False,\n",
       "  'publishers': 'Unknown Publisher'},\n",
       " {'title': 'Murder on the Orient Express',\n",
       "  'author': 'Agatha Christie',\n",
       "  'published_year': 1933,\n",
       "  'subjects': 'Agatha Christie, Private investigator, P.I., Hercule Poirot, Detective, Murder, Mystery, Juvenile, Humour, Fiction, Literature, Stories, Private investigators, Private investigators in fiction, Travel, Railroad, Trains, Express trains, Orient Express, Littérature anglaise, Roman anglais, Orient Express (Express train), Regény, Angol irodalom, Hercule Poirot (Fictitious character), Detective and mystery stories, Railroad stories, Railroad travel, Poirot, Hercule (Personaje literario), Novela policíaca, Ficción, Investigation, Juvenile fiction, Poirot, hercule (fictitious character), fiction, Private investigators, fiction, Fiction, mystery & detective, traditional, French imprints, Translations into French, English Detective and mystery stories, French fiction, English fiction, English literature, Readers, English language, textbooks for foreign speakers, Hercule Poirot (Fictional character), Mystery fiction, Large type books, Dorian. Grey (Fictitious character), Détectives, Romans, nouvelles, Orient-Express (Train rapide), Meurtre, Enquêtes, Spanish language materials, Novela, Detectives privados, Comics & graphic novels, crime & mystery, American literature',\n",
       "  'description': 'No description available',\n",
       "  'ebook_available': False,\n",
       "  'publishers': 'Unknown Publisher'},\n",
       " {'title': 'A Christmas Carol',\n",
       "  'author': 'Charles Dickens',\n",
       "  'published_year': 1843,\n",
       "  'subjects': \"Ghost stories, Readers, Ebenzer Scrooge (Fictitious character), open_syllabus_project, Cartoons and comics, Promptbooks, Christmas stories, French language books, Poor families, Navidad, Esperanto, Sick children, French language, Repentance, Criticism and interpretation, Facsimiles, Christmas, English Manuscripts, English Christmas stories, Fiction,, Poor, Empathy, Animals, Adaptations, Recluses, French language edition, Translations into Portuguese, Comic books, strips, Recitations, Generosity, Literary collections, Cuentos de fantasmas, London(England), Children's stories, Ficción, Manners and customs, Fiction, Misers, History, Ebenezer Scrooge (Fictitious character), Social life and customs, Trials (Breach of promise), England, Vida social y costumbres, Juvenile fiction, Fantasmas, Bible stories, Texts, Cuentos de Navidad, Scrooge, Ebenezer (Personaje literario), Social conditions, Ghosts, Juvenile literature, Scrooge, Ebenezer (Fictitious character), High interest-low vocabulary books, Pictorial works, Short stories, Christmas, fiction, Children's fiction, Scrooge, ebenezer (fictitious character), fiction, England, fiction, Ghosts, fiction, British and irish fiction (fictional works by one author), Drama (dramatic works by one author), London (england), fiction, Coloring books, Child and youth fiction, Fiction, historical, Child and youth non-fiction, Carols, Children's songs, Holidays, fiction, Fiction, ghost, English literature, Parody, General, Zombies, Literature and fiction, juvenile, Literature and fiction, historical fiction, Fantasy fiction, Songs, Christmas, juvenile literature, Conduct of life, Toy and movable books, Specimens, English Ghost stories, Illustrations, Classics, Christmas carol (Dickens, Charles), Fiction, historical, general, Great britain, fiction, Fiction, humorous, general, Fiction, general, Fiction, action & adventure, Fiction, suspense, Weihnachten, Nächstenliebe, Englisch, Gespenstergeschichte, Avarice, Novela juvenil, Fiction, christian, general, Greece, fiction, Literature and fiction, horror and ghost stories, Noël, Contes, Spanish language materials, Familles pauvres, Romans, nouvelles, Avares, Spanish language, Reading materials, Histoires de Noël, Fiction, religious, Christmas, poetry, Color, juvenile literature, English language, Study and teaching, Romans, Littérature, Enseignement des langues, Autoformation, Comic books, strips, etc., Fiction, fantasy, general, Family, Publishers and publishing, Christmas trees, Redemption, Habsucht, Egoismus, Bekehrung, Nineteenth century,, Romans, nouvelles, etc. pour la jeunesse, Mœurs et coutumes, Readers for new literates, Animals, fiction, British and irish drama (dramatic works by one author), Art, Nowele angielskie, Tłumaczenia polskie, Boże Narodzenie, Nowele, Fiction, thrillers, suspense, Fiction, short stories (single author), Literature, collections, Classic Literature, Drama, Fiction, holidays, Fiction, classics, Reading, remedial teaching, Elementary education of adults, Family, fiction, Sick, fiction, Christmas music\",\n",
       "  'description': 'No description available',\n",
       "  'ebook_available': False,\n",
       "  'publishers': 'Unknown Publisher'},\n",
       " {'title': 'The Thirty-Nine Steps',\n",
       "  'author': 'John Buchan',\n",
       "  'published_year': 1915,\n",
       "  'subjects': \"Hannay, richard (fictitious character), fiction, Great britain, fiction, Fiction, espionage, English language, Fiction, Fugitives from justice, Intelligence service, Missing persons, Richard Hannay (Fictitious character), Secret societies, Suspense fiction, Textbooks for foreign speakers, World War, 1914-1918, World War (1914-1918) fast (OCoLC)fst01180746, Spy stories, Fiction, suspense, Large type books, Fiction, thrillers, espionage, Scotland, fiction, World war, 1914-1918, fiction, Fiction, action & adventure, Fiction, thrillers, suspense, English Detective and mystery stories, thriller, spy adventure, Collected works (single author, multi-form), Children's fiction, Fiction, mystery & detective, traditional, English literature, Fiction, mystery & detective, general, World War, 1914-1918 -- Fiction, Hannay, Richard (Fictitious character) -- Fiction, Intelligence service -- Great Britain -- Fiction, Guerre mondiale, 1914-1918, Romans, nouvelles, Service des renseignements, Roman d'espionnage, Assassinat, Romans, nouvelles, etc. pour la jeunesse, Littérature pour la jeunesse, Readers for new literates, Fiction, thrillers, general, Theater programs, Specimens, Hannay, Richard (Fictitious character), Hannay, richard, Hannay, richard (fictitious character)--fiction, Intelligence service--great britain--fiction, Pr6003.u13 t5 2008, 823.912\",\n",
       "  'description': 'No description available',\n",
       "  'ebook_available': False,\n",
       "  'publishers': 'Unknown Publisher'},\n",
       " {'title': 'The Moonstone',\n",
       "  'author': 'Wilkie Collins',\n",
       "  'published_year': 1868,\n",
       "  'subjects': \"Fiction, Jewelry theft, East Indians, Police, Drama, History, Detective and mystery stories, Readers, English fiction, Country homes, Diamonds, Young women, Juvenile literature, Upper class, Classic Literature, Mystery fiction, Children: Grades 4-6, Social life and customs, Manners and customs, British and irish fiction (fictional works by one author), England, fiction, Verinder, rachel (fictitious character), fiction, Fiction, mystery & detective, police procedural, Fiction, mystery & detective, general, Murder, Moonstones, Literature, Dictionaries, English language, French, Spanish, William, Wilkie, Collins, Bantam, Classics, The Moonstone, Romance, Mystery Crime, Swords, Poison, Thievery, Kidnapping, Hypnotism, Fear, Joy, Compassion, Anger, Death, Crime, fiction, English literature, Fiction, crime, Juvenile fiction, Vol de bijoux, Romans, nouvelles, etc. pour la jeunesse, England -- Fiction, Country homes -- Fiction, Police -- England -- Fiction, Jewelry theft -- Fiction, East Indians -- England -- Fiction, Detective and mystery stories, English, English Detective and mystery stories, Translations into Russian, Study and teaching, Chinese speakers, Zhen tan xiao shuo, Suo xie ben, Chang pian xiao shuo, Novela policíaca inglesa, Fiction, mystery & detective, traditional, Mystery and detective stories, Children's fiction, Romans, nouvelles, Histoire, Mœurs et coutumes, General, Malicious accusation\",\n",
       "  'description': 'No description available',\n",
       "  'ebook_available': False,\n",
       "  'publishers': 'Unknown Publisher'},\n",
       " {'title': \"Alice's Adventures in Wonderland\",\n",
       "  'author': 'Lewis Carroll',\n",
       "  'published_year': 1865,\n",
       "  'subjects': \"Alice (fictitious character : carroll), fiction, British and irish fiction (fictional works by one author), Fiction, fantasy, general, JUVENILE FICTION, classics, Fantasy & Magic, Imagination & Play, adventure and adventurers, adventure and adventurers, fiction, adventure stories, adventure travel, animals, anthropomorphism, artists' illustrated books, books and reading, child and youth fiction, children, children's fiction, children's literature, children's literature, english, children's stories, children's stories, english, classic literature, coloring books, croquet, cuentos infantiles ingleses, curiosidad, curiosidad en los niños, curiosity, curiosity in children, english, english adventure stories, english fantastic fiction, english fantasy fiction, english fantasy literature, english language, english literature, english nonsense verses, fairy tales, fantasy, fantasy fiction, fantasy in fiction, fantasy  magic, fantasía, ficción juvenil, fiction, friendship, girls, girls, fiction, hookahs, humor, humorous stories, illustrations, imaginary places, juvenile literature, legends, literary nonsense, logic, lugares imaginarios, mythical animals, niñas, nonsense verses, novela, novela fantástica, novela juvenil, open library staff picks, picture books, playing cards, rabbits, readers, reading materials, short novel, tea, texts, Alice (Fictitious character : Carroll), English language, textbooks for foreign speakers, Fantastique, Enfants, Affirmation de soi, Spanish language materials, Alicia (Personaje literario : Carroll), Spanish language, nyt:chapter-books=2010-02-21, New York Times bestseller, Literatura infanto-juvenil, Literatura inglesa, Carroll, lewis, 1832-1898, Children's literature, history and criticism, Children, books and reading, Crocheting, Fiction, general, Fantasy fiction, history and criticism, Toy and movable books, Imagination, Textbooks for foreign speakers, Readers for new literates, High interest-low vocabulary books, Science fiction, CUENTO INFANTIL INGLES, History and criticism, Translations into Irish, Irish literature, Swahili language, Ficc ʹa o (ge nero), Shi jie wen xue, Xiao shuo, Fantasi a, Tong hua, Suo xie, Shao er du wu, Pin yin du wu, Children's stories, Chinese, Chinese language, Translations into Polish, Ying yu, Yu yan du wu, Decision making, Juvenile Wit and humor, Conduct of life, Illusion (Philosophy), Innocence (Psychology), Dreams, Courts and courtiers, Theft, Courts, Curiosité, Romans, nouvelles, etc. pour la jeunesse, Prise de décision, Humour pour la jeunesse, Morale pratique, Lieux imaginaires, Illusion (Philosophie), Rêves, Cartes à jouer, Cours et courtisans, Croquet (Jeu), Vol (Droit), Tribunaux, Histoires pour enfants anglaises, Literature, collections, Fiction, short stories (single author), Contes de fées, English fiction, Translations into Ladino, Nonsense literature, Fantasmes, Dinosaurier, Utdöda djur, Urtidsdjur, Forntiden, Geologi, Evolution, Jorden, Fantastiske fortællinger, Translations into Yiddish, Criticism and interpretation, History, Alice's adventures in Wonderland (Carroll, Lewis), Alice in Wonderland;, North, Rural-urban migration, Russian language\",\n",
       "  'description': 'No description available',\n",
       "  'ebook_available': False,\n",
       "  'publishers': 'Unknown Publisher'},\n",
       " {'title': 'The Da Vinci Code',\n",
       "  'author': 'Dan Brown',\n",
       "  'published_year': 2003,\n",
       "  'subjects': 'Suspense & Thriller, Spiritual Fiction, hieros gamos, Priory of Sion, Holy Grail, Vitruvian Man, Fibonacci sequence, safe deposit boxes, mystery & suspense, Templars, Manuscripts, Last Supper in art, Symbolism in architecture, suspense fiction, adventure fiction, Catholics, puzzles, International thriller, Code and cipher stories, Mystery fiction, crimes against art museum curators, art appreciation, thrillers, suspense, Historical Mystery & Detective Fiction, Religious fiction, Mystery, Aventures, Religious articles, Crimes against, Romans, Appreciation, Occultisme, Art museum curators, Sociedades secretas, Grial, Ficción, Robert Langdon (Fictitious character), Novela, Powiesc amerykanska, T¿umaczenia polskie, Polish language materials, Secret societies, Cryptographers, Fiction, Grail, Reading Level-Grade 9, Reading Level-Grade 8, Reading Level-Grade 11, Reading Level-Grade 10, Reading Level-Grade 12, Detective and mystery stories, Cryptography, Fictional Works, American fiction, Leonardo, da vinci, 1452-1519, fiction, Paris (france), fiction, Fiction, mystery & detective, general, Langdon, robert (fictitious character), fiction, Fiction, thrillers, Fiction, thrillers, general, Large type books, Fiction, suspense, Museumsdirektor, Bruderschaft, Mord, Manuscritos, Criptografía, Belletristische Darstellung, Maria Magdalena, New York Times reviewed, Religious, General, England, fiction, Fiction, thrillers, suspense, Chang pian xiao shuo, collectionid:dbrl',\n",
       "  'description': 'No description available',\n",
       "  'ebook_available': False,\n",
       "  'publishers': 'Unknown Publisher'},\n",
       " {'title': 'Wuthering Heights',\n",
       "  'author': 'Emily Brontë',\n",
       "  'published_year': 1846,\n",
       "  'subjects': \"British and irish fiction (fictional works by one author), Children's fiction, Classic fiction, Classic Literature, Country homes, Country life, Cousins, Death, Drama, English language, English language readers, English literature, Examinations, Families, family life, Fiction, Foundlings, Historical Fiction, Inheritance and succession, Interpersonal relations, Juvenile fiction, Landscape in literature, love, Manners and customs, orphans, Psychological fiction, Reading Level-Grade 7, Reading Level-Grade 8, Reading Level-Grade 9, Reading Level-Grade 10, Reading Level-Grade 11, Reading Level-Grade 12, Rejection (Psychology), revenge, romance, Romance fiction, romantic fiction, Rural families, slavery, Social life and customs, tragedy, Triangles (Interpersonal relations), Young women, Fiction, general, Revenge -- Fiction, Rejection (Psychology) -- Fiction, Love stories, Domestic fiction, Yorkshire (England) -- Fiction, Foundlings -- Fiction, Rural families -- Fiction, Heathcliff (Fictitious character : Brontë) -- Fiction, Triangles (Interpersonal relations) -- Fiction, Heathcliff (fictitious character), fiction, Fiction, family life, general, Fiction, psychological, Fiction, romance, general, Man-woman relationships, fiction, England, fiction, Triangle (Relations humaines), Romans, nouvelles, Rejet (Psychologie), Familles rurales, Enfants trouvés, Wuthering Heights (Brontë, Emily), Vengeance, English fiction, Triangles (Interpersonal relationships), Yorkshire (England), Roman anglais, Relations entre hommes et femmes, Mœurs et coutumes, Women, Femmes, Heathcliff (Fictitious character), Catherine Earnshawm (Fictitious character), English Gothic fiction, Adaptations, Social conditions, Interpersonal relations, fiction, Roman, Englisch, Wuthering heights (Emily Brontë), Comics & graphic novels, romance, Love, fiction, Comic books, strips, etc., Comics & graphic novels, literary, Literature, collections, American fiction, Foundlings in fiction, Rural families in fiction, England in fiction, Revenge in fiction, Landscape in literature in fiction, Slavery in fiction, Reading books, Country life in fiction, Readers, Orphans in fiction, Study and teaching, Love in fiction, Readers (Adult), Study guides, Zhang pian xiao shuo, Heathcliff (Fictitious character : Brontë), Social conflict, Triangles (interpersonal relations)--fiction, Revenge--fiction, Pr4172 .w7 2009c, 823/.8, Hl 2083, Bronte, emily, 1818-1848\",\n",
       "  'description': 'No description available',\n",
       "  'ebook_available': False,\n",
       "  'publishers': 'Unknown Publisher'}]"
      ]
     },
     "execution_count": 10,
     "metadata": {},
     "output_type": "execute_result"
    }
   ],
   "source": [
    "combine_genre(\"mystery_thriller\")"
   ]
  },
  {
   "cell_type": "markdown",
   "id": "81362da1-7bc4-43e8-9bd4-e0c7e99f0a33",
   "metadata": {
    "id": "V2l384hqr4mK"
   },
   "source": [
    "### Science Fiction Books"
   ]
  },
  {
   "cell_type": "code",
   "execution_count": 11,
   "id": "9a00cc42-b70f-486d-9c0e-822d0003b3f0",
   "metadata": {
    "colab": {
     "base_uri": "https://localhost:8080/"
    },
    "collapsed": true,
    "id": "YwHz35VIsp7r",
    "jupyter": {
     "outputs_hidden": true
    },
    "outputId": "f644d28e-6add-469f-bed0-6824919499b5"
   },
   "outputs": [
    {
     "name": "stdout",
     "output_type": "stream",
     "text": [
      "\n",
      "Books under the genre 'science_fiction':\n",
      "\n",
      "1. Alice's Adventures in Wonderland by Lewis Carroll\n",
      "2. Frankenstein or The Modern Prometheus by Mary Shelley\n",
      "3. Fahrenheit 451 by Ray Bradbury\n",
      "4. The War of the Worlds by H. G. Wells\n",
      "5. The Giver by Lois Lowry\n",
      "6. A Wrinkle in Time by Madeleine L'Engle\n"
     ]
    },
    {
     "data": {
      "text/plain": [
       "[{'title': \"Alice's Adventures in Wonderland\",\n",
       "  'author': 'Lewis Carroll',\n",
       "  'published_year': 1865,\n",
       "  'subjects': \"Alice (fictitious character : carroll), fiction, British and irish fiction (fictional works by one author), Fiction, fantasy, general, JUVENILE FICTION, classics, Fantasy & Magic, Imagination & Play, adventure and adventurers, adventure and adventurers, fiction, adventure stories, adventure travel, animals, anthropomorphism, artists' illustrated books, books and reading, child and youth fiction, children, children's fiction, children's literature, children's literature, english, children's stories, children's stories, english, classic literature, coloring books, croquet, cuentos infantiles ingleses, curiosidad, curiosidad en los niños, curiosity, curiosity in children, english, english adventure stories, english fantastic fiction, english fantasy fiction, english fantasy literature, english language, english literature, english nonsense verses, fairy tales, fantasy, fantasy fiction, fantasy in fiction, fantasy  magic, fantasía, ficción juvenil, fiction, friendship, girls, girls, fiction, hookahs, humor, humorous stories, illustrations, imaginary places, juvenile literature, legends, literary nonsense, logic, lugares imaginarios, mythical animals, niñas, nonsense verses, novela, novela fantástica, novela juvenil, open library staff picks, picture books, playing cards, rabbits, readers, reading materials, short novel, tea, texts, Alice (Fictitious character : Carroll), English language, textbooks for foreign speakers, Fantastique, Enfants, Affirmation de soi, Spanish language materials, Alicia (Personaje literario : Carroll), Spanish language, nyt:chapter-books=2010-02-21, New York Times bestseller, Literatura infanto-juvenil, Literatura inglesa, Carroll, lewis, 1832-1898, Children's literature, history and criticism, Children, books and reading, Crocheting, Fiction, general, Fantasy fiction, history and criticism, Toy and movable books, Imagination, Textbooks for foreign speakers, Readers for new literates, High interest-low vocabulary books, Science fiction, CUENTO INFANTIL INGLES, History and criticism, Translations into Irish, Irish literature, Swahili language, Ficc ʹa o (ge nero), Shi jie wen xue, Xiao shuo, Fantasi a, Tong hua, Suo xie, Shao er du wu, Pin yin du wu, Children's stories, Chinese, Chinese language, Translations into Polish, Ying yu, Yu yan du wu, Decision making, Juvenile Wit and humor, Conduct of life, Illusion (Philosophy), Innocence (Psychology), Dreams, Courts and courtiers, Theft, Courts, Curiosité, Romans, nouvelles, etc. pour la jeunesse, Prise de décision, Humour pour la jeunesse, Morale pratique, Lieux imaginaires, Illusion (Philosophie), Rêves, Cartes à jouer, Cours et courtisans, Croquet (Jeu), Vol (Droit), Tribunaux, Histoires pour enfants anglaises, Literature, collections, Fiction, short stories (single author), Contes de fées, English fiction, Translations into Ladino, Nonsense literature, Fantasmes, Dinosaurier, Utdöda djur, Urtidsdjur, Forntiden, Geologi, Evolution, Jorden, Fantastiske fortællinger, Translations into Yiddish, Criticism and interpretation, History, Alice's adventures in Wonderland (Carroll, Lewis), Alice in Wonderland;, North, Rural-urban migration, Russian language\",\n",
       "  'description': 'No description available',\n",
       "  'ebook_available': False,\n",
       "  'publishers': 'Unknown Publisher'},\n",
       " {'title': 'Frankenstein or The Modern Prometheus',\n",
       "  'author': 'Mary Shelley',\n",
       "  'published_year': 1818,\n",
       "  'subjects': 'Frankenstein (Fictitious character), Frankenstein\\'s monster (Fictitious character), Fiction, Victor Frankenstein (Fictitious character), Scientists, Monsters, Fiction, horror, Frankenstein (fictitious character), fiction, Physicians, fiction, British fiction (fictional works by one author), Scientists, fiction, Geneva (Switzerland), fiction, Children\\'s fiction, Horror stories, Fiction, science fiction, general, Fiction, general, Horror tales, Frankenstein (Shelley, Mary Wollstonecraft), Large type books, English fiction, Study guides, Examinations, Criticism and interpretation, Fiction, gothic, English language, textbooks for foreign speakers, Reading comprehension, Monsters, fiction, English literature, Comics & graphic novels, science fiction, Comics & graphic novels, horror, Comic books, strips, etc., Comics & graphic novels, literary, Shelley, Mary Wollstonecraft, 1797-1851, English fiction (collections), 19th century, Literature and fiction, horror and ghost stories, Readers, Science fiction, history and criticism, Horror tales, history and criticism, Children\\'s stories, Monstrous, Novela, History and criticism, Horror fiction, British and irish fiction (fictional works by one author), Fiction, historical, general, literary criticism, English Science fiction, English Horror tales, Scientists in literature, Monsters in literature, Science, experiments, fiction, Authors, Travel, Reincarnation, Self-actualization (Psychology), Vida espiritual, Arte de vivir, Conducta (Ética), Self-realization, Reading materials, Fiction, science fiction, hard science fiction, Switzerland, fiction, Literature and fiction, women authors, Literature, history and criticism, Science fiction, Cartoons and comics, Monstres, Romans, nouvelles, Comic books, strips, Classic science fiction, Horror and supernatural fiction, Classic fiction, Science in literature, Illustration, Gothic fiction, English language, juvenile literature, Shelley, Mary Wollstonecraft, 1797-1851. Frankenstein, Frankenstein, Victor (Fictitious character) -- Fiction, Frankenstein\\'s monster (Fictitious character) -- Fiction, Scientists -- Fiction, Monsters -- Fiction, Frankenstein’s monster (Fictitious character), Frankenstein’s monster, Monsters--fiction, Frankenstein, victor (fictitious character), Frankenstein, victor (fictitious character)--fiction, Pr5397 .f7 1992, 823.7 f, Frankenstein, victor, Frankenstein\\'s monster, Scientists--fiction, Frankenstein, victor (fictional character), Frankenstein, victor (fictional character)--fiction, Frankenstein (fictional character), Frankenstein (fictional character)--fiction, Pr5397 .f7 2003c, 823/.7, Fic004000, Pr5397 .f7 1969, Pr5397 .f7 2008f, 823.7, Science & technology in literature, Literary styles & movements - fiction, Books at the movies, Occupations - fiction, English fiction & prose literature - general & miscellaneous - literary criticism, Horror literature - literary criticism, English, Scot, Pr5397 .f7 2007, Shelley, mary wollstonecraft , 1797-1851, Pr5397 .f7 2012, Classics, Horror, Gothic, English & college success -> english -> fiction, Mary shelley, Mary wollstonecraft shelley, Women authors, Rhetoric, Ya, Young adult, Juvenile, History, Historical, Classic, Literature, Books, Novels, Hardcovers, Paperback, Ebook, Audio-book, Stories, Tales, Madness, Mad, Science, Life conduct, Ethics, Translations into russian, Ficción, Frankenstein (personaje literario), Monstruos, Epistolary fiction, Conducta (etica), ghost\", Frankenstein films, Juvenile fiction, African american women, Man-woman relationships, Pr5397 .f7 2012d, Pr5397 .f7 2008d, 823, Drama (dramatic works by one author)',\n",
       "  'description': 'No description available',\n",
       "  'ebook_available': False,\n",
       "  'publishers': 'Unknown Publisher'},\n",
       " {'title': 'Fahrenheit 451',\n",
       "  'author': 'Ray Bradbury',\n",
       "  'published_year': 1953,\n",
       "  'subjects': \"Mechanical Hound, girl next door, Long Now Manual for Civilization, Terrorismo estatal, Censura, Novela, Totalitarismo, science fiction, political fiction, satire, Zukunft, State-sponsored terrorism, Totalitarianism, Book burning, Censorship, Fiction, American Science fiction, Fictional Works, Terrorism, Reading Level-Grade 7, Reading Level-Grade 9, Reading Level-Grade 8, Reading Level-Grade 11, Reading Level-Grade 10, Reading Level-Grade 12, Fiction, dystopian, Fiction, science fiction, general, Fiction, political, Drama, Large type books, American literature, award:retro_hugo, Terrorismo, Totalitarianisms, Bücherverbrennung, Terrorisme d'État, Romans, nouvelles, Totalitarisme, Autodafé de livres, Zhang pian xiao shuo, Education, Language arts, Fiction, horror, Science fiction, american, Book burning--fiction, Censorship--fiction, State-sponsored terrorism--fiction, Totalitarianism--fiction, Ps3503.r167 f3 2012, 813/.54\",\n",
       "  'description': 'No description available',\n",
       "  'ebook_available': False,\n",
       "  'publishers': 'Unknown Publisher'},\n",
       " {'title': 'The War of the Worlds',\n",
       "  'author': 'H. G. Wells',\n",
       "  'published_year': 1898,\n",
       "  'subjects': \"Imaginary wars and battles, Juvenile fiction, Space warfare, Science Fiction & Fantasy, Fiction, Diseases, Martians, Invasions, Classic Literature, Open Library Staff Picks, open_syllabus_project, English Science fiction, Imaginary wars and battles in literature, Mars (Planet), Science fiction, Space vehicles, Earth, Romance Ingles, Fiction, science fiction, general, British and irish fiction (fictional works by one author), Fiction, fantasy, general, Children's fiction, Examinations, Vocabulary, SAT (Educational test), English language, Study guides, Fiction, action & adventure, Life on other planets, War stories, Extraterrestrial beings, fiction, Outer space, fiction, Literature, English literature, Seres extraterrestres, Extraterrestrial beings, Ficcion, Guerra espacial, Fiction, science fiction, action & adventure, Human-alien encounters, Comic books, strips, Wells, h. g. (herbert george), 1866-1946, Adaptations, Graphic novels, Aladdin (legendary character), fiction, War, fiction, Adventure and adventurers, fiction, Guerras imaginarias, Novela, Guerra, Life on other planets, fiction, Fiction, war & military, Imaginary wars and battles -- Fiction, Space warfare -- Fiction, Mars (Planet) -- Fiction, Imaginary wars and battles--fiction, Space warfare--fiction, Pr5774 .w3 2005dx, 823.912\",\n",
       "  'description': 'No description available',\n",
       "  'ebook_available': False,\n",
       "  'publishers': 'Unknown Publisher'},\n",
       " {'title': 'The Giver',\n",
       "  'author': 'Lois Lowry',\n",
       "  'published_year': 1993,\n",
       "  'subjects': \"Social control, Control (Psychology), Juvenile fiction, Fiction, Science fiction, Memory, Ethics, Dystopias, Blind, Braille language materials, Books and reading, Children's fiction, New York Times reviewed, Literature, Dystopian, Sci Fi, Novel, Children's literature, study and teaching, Children's literature, examinations, questions, etc., Newbery Medal, Ciencia-ficción, Classic, Individuality, Comic books, strips, Graphic novels, YOUNG ADULT FICTION / Comics & Graphic Novels / Dystopian, YOUNG ADULT FICTION / Comics & Graphic Novels / Fantasy, YOUNG ADULT FICTION / Comics & Graphic Novels / Coming of Age, Adventure and adventurers, fiction, Liberty, Social prediction, award:Newbery_award\",\n",
       "  'description': 'No description available',\n",
       "  'ebook_available': False,\n",
       "  'publishers': 'Unknown Publisher'},\n",
       " {'title': 'A Wrinkle in Time',\n",
       "  'author': \"Madeleine L'Engle\",\n",
       "  'published_year': 1962,\n",
       "  'subjects': \"Love, sci-fi, Newbery Medal, Open Library Staff Picks, Juvenile fiction, Space and time, Fiction, Science fiction, Friendship in adolesce, Time travel, Murry family (Fictitious character), Brothers and sisters, Extraterrestrial beings, Friendship, Science Fiction, Fantasy, & Magic, Classics, Spanish: Young Adult (Gr. 10-12), Juvenile Fiction - Classics, Văn học Mĩ, Tiểu thuyết, Missing persons, Gifted children, Newbery Medal books, Families, Family life, Reading Level-Grade 7, Reading Level-Grade 9, Reading Level-Grade 8, Reading Level-Grade 11, Reading Level-Grade 10, Reading Level-Grade 12, Children's fiction, Fantasy fiction, Murry family (fictitious character), fiction, Fathers and daughters, fiction, Friendship, fiction, Murry family (Fictitious characters), Adventure and adventurers, fiction, American fiction, Moral and ethical aspects, Responsibility, Decision making, Good and evil, A wrinkle in time, Espacio y tiempo, Novela, Viaje en el tiempo, Poopnce, award:Newbery_award, lexile:740, lexile_range:701-800, age:min:10, age:max:14, grade:min:Kindergarten and up, grade:max:undefined, Picture books\",\n",
       "  'description': 'No description available',\n",
       "  'ebook_available': False,\n",
       "  'publishers': 'Unknown Publisher'}]"
      ]
     },
     "execution_count": 11,
     "metadata": {},
     "output_type": "execute_result"
    }
   ],
   "source": [
    "combine_genre(\"science_fiction\")"
   ]
  },
  {
   "cell_type": "markdown",
   "id": "a832aa06-9d47-45a7-88da-f2f1b5d570f9",
   "metadata": {},
   "source": [
    "# Subject URL"
   ]
  },
  {
   "cell_type": "code",
   "execution_count": 51,
   "id": "0507f65f-f204-477a-be78-0671e2b8f9e7",
   "metadata": {
    "colab": {
     "base_uri": "https://localhost:8080/"
    },
    "id": "tI0ll8aG3eJu",
    "outputId": "e86ce23f-37d4-4f17-af2d-47835e069321",
    "tags": []
   },
   "outputs": [
    {
     "name": "stdout",
     "output_type": "stream",
     "text": [
      "Total works links for https://openlibrary.org/subjects/fantasy: ['/search?subject=Fantasy']\n",
      "Total works links for https://openlibrary.org/subjects/historical_fiction: ['/search?subject=Historical%20fiction']\n",
      "Total works links for https://openlibrary.org/subjects/horror: ['/search?subject=Horror']\n",
      "Total works links for https://openlibrary.org/subjects/humor: ['/search?subject=Humor']\n",
      "Total works links for https://openlibrary.org/subjects/literature: ['/search?subject=Literature']\n",
      "Total works links for https://openlibrary.org/subjects/mystery_and_detective_stories: ['/search?subject=Mystery%20and%20detective%20stories']\n",
      "Total works links for https://openlibrary.org/subjects/romance: ['/search?subject=Romance']\n",
      "Total works links for https://openlibrary.org/subjects/science_fiction: ['/search?subject=Science%20fiction']\n"
     ]
    },
    {
     "data": {
      "text/plain": [
       "['https://openlibrary.org/search?subject=Fantasy',\n",
       " 'https://openlibrary.org/search?subject=Historical%20fiction',\n",
       " 'https://openlibrary.org/search?subject=Horror',\n",
       " 'https://openlibrary.org/search?subject=Humor',\n",
       " 'https://openlibrary.org/search?subject=Literature',\n",
       " 'https://openlibrary.org/search?subject=Mystery%20and%20detective%20stories',\n",
       " 'https://openlibrary.org/search?subject=Romance',\n",
       " 'https://openlibrary.org/search?subject=Science%20fiction']"
      ]
     },
     "execution_count": 51,
     "metadata": {},
     "output_type": "execute_result"
    }
   ],
   "source": [
    "subject_total_work_url = total_works_page(subject_links)\n",
    "subject_total_work_url"
   ]
  },
  {
   "cell_type": "markdown",
   "id": "41238d52-2ba9-489d-b3dd-ff4b52dd99f7",
   "metadata": {},
   "source": [
    "# Subject 'Total Work' URL"
   ]
  },
  {
   "cell_type": "code",
   "execution_count": null,
   "id": "c08609c8-c846-46b2-b3b0-5f06ed8940a3",
   "metadata": {},
   "outputs": [],
   "source": [
    "subject_total_work_url = total_works_page(subject_links)\n",
    "subject_total_work_url"
   ]
  },
  {
   "cell_type": "markdown",
   "id": "44850173-50a9-4f68-80ef-33891af9b8f6",
   "metadata": {},
   "source": [
    "# Parsing through the 'Total Work' Page under each Subject"
   ]
  },
  {
   "cell_type": "code",
   "execution_count": 54,
   "id": "bca87834-325f-4129-84a4-69855145e184",
   "metadata": {
    "colab": {
     "base_uri": "https://localhost:8080/"
    },
    "id": "UvfCMliIf9FL",
    "outputId": "2aa14862-58e8-4f10-f1ea-15f472615e61",
    "tags": []
   },
   "outputs": [
    {
     "data": {
      "text/plain": [
       "['https://openlibrary.org/search?subject=Fantasy&page=1',\n",
       " 'https://openlibrary.org/search?subject=Fantasy&page=2',\n",
       " 'https://openlibrary.org/search?subject=Fantasy&page=3']"
      ]
     },
     "execution_count": 54,
     "metadata": {},
     "output_type": "execute_result"
    }
   ],
   "source": [
    "all_pages = every_page(subject_total_work_url)\n",
    "all_pages[:3]"
   ]
  },
  {
   "cell_type": "code",
   "execution_count": null,
   "id": "b45fa8b1-36d0-40c3-afa2-9aeee5bd01b1",
   "metadata": {},
   "outputs": [],
   "source": [
    "# takes the first pages of each subject's total works urls and get all of the book links on each page\n",
    "# then, write to a file named some_book_links.csv\n",
    "some_book_links = book_links(subject_total_work_url)\n",
    "with open('some_book_links.csv', 'w', newline='') as myfile:\n",
    "     wr = csv.writer(myfile, quoting=csv.QUOTE_ALL)\n",
    "    # write each link as a separate row\n",
    "     for link in some_book_links:\n",
    "         wr.writerow([link]) # wraps link into a list to write it in one column"
   ]
  },
  {
   "cell_type": "code",
   "execution_count": null,
   "id": "d8650bb6-6172-497c-9a1a-e3ec598ca861",
   "metadata": {
    "colab": {
     "base_uri": "https://localhost:8080/"
    },
    "id": "1qAMD23fs6AS",
    "outputId": "5aa9d117-3d06-494c-a5d9-c661c1c199d8",
    "tags": []
   },
   "outputs": [],
   "source": [
    "# here is how you read something like some_book_links.csv\n",
    "with open('some_book_links.csv', 'r') as myfile:\n",
    "    rd = csv.reader(myfile)\n",
    "    book_links_list = [row[0] for row in rd]\n",
    "\n",
    "# print(book_links_list)\n",
    "# ^ this looks at the list\n",
    "df = pd.read_csv('some_book_links.csv')\n",
    "df"
   ]
  },
  {
   "cell_type": "code",
   "execution_count": 60,
   "id": "d1ac9634-8f12-45ee-9d14-c339d77d0e07",
   "metadata": {
    "colab": {
     "base_uri": "https://localhost:8080/",
     "height": 543
    },
    "id": "RybFkW65gE8S",
    "outputId": "85970795-94e9-4d16-c82c-0c21dc7a1d61",
    "tags": []
   },
   "outputs": [
    {
     "name": "stderr",
     "output_type": "stream",
     "text": [
      "/var/folders/r6/ykdts5hs4vdf1h5z2bp3jsv80000gn/T/ipykernel_83719/2269006333.py:3: MarkupResemblesLocatorWarning: The input looks more like a filename than markup. You may want to open this file and pass the filehandle into Beautiful Soup.\n",
      "  return BeautifulSoup(data, 'html.parser')\n"
     ]
    },
    {
     "name": "stdout",
     "output_type": "stream",
     "text": [
      "SUBMITTED\n"
     ]
    },
    {
     "data": {
      "application/vnd.jupyter.widget-view+json": {
       "model_id": "e61c8d645b434e7aa2be5d2a0673bd17",
       "version_major": 2,
       "version_minor": 0
      },
      "text/plain": [
       "  0%|          | 0/89662 [00:00<?, ?it/s]"
      ]
     },
     "metadata": {},
     "output_type": "display_data"
    },
    {
     "name": "stdout",
     "output_type": "stream",
     "text": [
      "'https://openlibrary.org/search?subject=Fantasy&page=2519' generated an exception: HTTPSConnectionPool(host='openlibrary.org', port=443): Max retries exceeded with url: /search?subject=Fantasy&page=2519 (Caused by NameResolutionError(\"<urllib3.connection.HTTPSConnection object at 0x2e1a4c410>: Failed to resolve 'openlibrary.org' ([Errno 8] nodename nor servname provided, or not known)\"))\n",
      "'https://openlibrary.org/search?subject=Literature&page=24709' generated an exception: HTTPSConnectionPool(host='openlibrary.org', port=443): Max retries exceeded with url: /search?subject=Literature&page=24709 (Caused by NameResolutionError(\"<urllib3.connection.HTTPSConnection object at 0x3d04f64d0>: Failed to resolve 'openlibrary.org' ([Errno 8] nodename nor servname provided, or not known)\"))\n",
      "'https://openlibrary.org/search?subject=Romance&page=11242' generated an exception: HTTPSConnectionPool(host='openlibrary.org', port=443): Max retries exceeded with url: /search?subject=Romance&page=11242 (Caused by NameResolutionError(\"<urllib3.connection.HTTPSConnection object at 0x169a22b90>: Failed to resolve 'openlibrary.org' ([Errno 8] nodename nor servname provided, or not known)\"))\n"
     ]
    }
   ],
   "source": [
    "# all_book_links uses all pages of each subject's total works and gets all of the book urls\n",
    "# this takes a long time to run!\n",
    "# make sure to save all_booki s_links.csv\n",
    "all_book_links = book_links(all_pages)\n",
    "with open('all_book_links.csv', 'w', newline='') as myfile:\n",
    "     wr = csv.writer(myfile, quoting=csv.QUOTE_ALL)\n",
    "    # writing each link as a separate row\n",
    "     for link in some_book_links:\n",
    "         wr.writerow([link]) # all links in one column for readability"
   ]
  },
  {
   "cell_type": "code",
   "execution_count": 63,
   "id": "e7c1cd38-b224-4642-846f-ca0b10a103c0",
   "metadata": {
    "tags": []
   },
   "outputs": [
    {
     "data": {
      "text/html": [
       "<div>\n",
       "<style scoped>\n",
       "    .dataframe tbody tr th:only-of-type {\n",
       "        vertical-align: middle;\n",
       "    }\n",
       "\n",
       "    .dataframe tbody tr th {\n",
       "        vertical-align: top;\n",
       "    }\n",
       "\n",
       "    .dataframe thead th {\n",
       "        text-align: right;\n",
       "    }\n",
       "</style>\n",
       "<table border=\"1\" class=\"dataframe\">\n",
       "  <thead>\n",
       "    <tr style=\"text-align: right;\">\n",
       "      <th></th>\n",
       "      <th>https://openlibrary.org/works/OL77775W?edition=key%3A/books/OL46930495M</th>\n",
       "    </tr>\n",
       "  </thead>\n",
       "  <tbody>\n",
       "    <tr>\n",
       "      <th>0</th>\n",
       "      <td>https://openlibrary.org/works/OL1003017W?editi...</td>\n",
       "    </tr>\n",
       "    <tr>\n",
       "      <th>1</th>\n",
       "      <td>https://openlibrary.org/works/OL44995W?edition...</td>\n",
       "    </tr>\n",
       "    <tr>\n",
       "      <th>2</th>\n",
       "      <td>https://openlibrary.org/works/OL15450151W?edit...</td>\n",
       "    </tr>\n",
       "    <tr>\n",
       "      <th>3</th>\n",
       "      <td>https://openlibrary.org/works/OL274518W?editio...</td>\n",
       "    </tr>\n",
       "    <tr>\n",
       "      <th>4</th>\n",
       "      <td>https://openlibrary.org/works/OL100239W?editio...</td>\n",
       "    </tr>\n",
       "    <tr>\n",
       "      <th>...</th>\n",
       "      <td>...</td>\n",
       "    </tr>\n",
       "    <tr>\n",
       "      <th>154</th>\n",
       "      <td>https://openlibrary.org/works/OL267174W?editio...</td>\n",
       "    </tr>\n",
       "    <tr>\n",
       "      <th>155</th>\n",
       "      <td>https://openlibrary.org/works/OL7966242W?editi...</td>\n",
       "    </tr>\n",
       "    <tr>\n",
       "      <th>156</th>\n",
       "      <td>https://openlibrary.org/works/OL45503W?edition...</td>\n",
       "    </tr>\n",
       "    <tr>\n",
       "      <th>157</th>\n",
       "      <td>https://openlibrary.org/works/OL45361W?edition...</td>\n",
       "    </tr>\n",
       "    <tr>\n",
       "      <th>158</th>\n",
       "      <td>https://openlibrary.org/works/OL8112804W?editi...</td>\n",
       "    </tr>\n",
       "  </tbody>\n",
       "</table>\n",
       "<p>159 rows × 1 columns</p>\n",
       "</div>"
      ],
      "text/plain": [
       "    https://openlibrary.org/works/OL77775W?edition=key%3A/books/OL46930495M\n",
       "0    https://openlibrary.org/works/OL1003017W?editi...                     \n",
       "1    https://openlibrary.org/works/OL44995W?edition...                     \n",
       "2    https://openlibrary.org/works/OL15450151W?edit...                     \n",
       "3    https://openlibrary.org/works/OL274518W?editio...                     \n",
       "4    https://openlibrary.org/works/OL100239W?editio...                     \n",
       "..                                                 ...                     \n",
       "154  https://openlibrary.org/works/OL267174W?editio...                     \n",
       "155  https://openlibrary.org/works/OL7966242W?editi...                     \n",
       "156  https://openlibrary.org/works/OL45503W?edition...                     \n",
       "157  https://openlibrary.org/works/OL45361W?edition...                     \n",
       "158  https://openlibrary.org/works/OL8112804W?editi...                     \n",
       "\n",
       "[159 rows x 1 columns]"
      ]
     },
     "execution_count": 63,
     "metadata": {},
     "output_type": "execute_result"
    }
   ],
   "source": [
    "# print(book_links_list)\n",
    "# ^ this looks at the list\n",
    "df = pd.read_csv('all_book_links.csv')\n",
    "df"
   ]
  },
  {
   "cell_type": "markdown",
   "id": "8bd70e91-c84a-4b78-8ad5-f452e4c23f35",
   "metadata": {},
   "source": [
    "# Using Concurrency"
   ]
  },
  {
   "cell_type": "code",
   "execution_count": 31,
   "id": "fe030cb2-f222-4299-aee1-257c76033299",
   "metadata": {
    "colab": {
     "base_uri": "https://localhost:8080/",
     "height": 35
    },
    "id": "xQN_EkGHdg9h",
    "outputId": "2ad47128-661a-4789-a7b8-5c1a198d9559"
   },
   "outputs": [
    {
     "data": {
      "application/vnd.google.colaboratory.intrinsic+json": {
       "type": "string"
      },
      "text/plain": [
       "'https://openlibrary.org/search?subject=Fantasy&page=3'"
      ]
     },
     "execution_count": 31,
     "metadata": {},
     "output_type": "execute_result"
    }
   ],
   "source": [
    "all_pages[2]"
   ]
  },
  {
   "cell_type": "code",
   "execution_count": 34,
   "id": "88ae09c0-49df-4792-bb98-300e51e8cc75",
   "metadata": {
    "id": "nmZT--BddwGQ"
   },
   "outputs": [],
   "source": [
    "x = book_links(all_pages[:2])"
   ]
  },
  {
   "cell_type": "code",
   "execution_count": 40,
   "id": "c613cb11-c3a0-4d11-afe9-c3907859e82c",
   "metadata": {
    "id": "xROmgXQsdpap"
   },
   "outputs": [],
   "source": [
    "y = book_links([all_pages[0]]) + book_links([all_pages[1]])"
   ]
  },
  {
   "cell_type": "code",
   "execution_count": 42,
   "id": "31730dde-d86f-435b-8ff5-fdf3bc8612b0",
   "metadata": {
    "colab": {
     "base_uri": "https://localhost:8080/"
    },
    "id": "q6qBzuKveFGP",
    "outputId": "e8e27da8-6039-482a-b0b8-8c0146df5169"
   },
   "outputs": [
    {
     "data": {
      "text/plain": [
       "True"
      ]
     },
     "execution_count": 42,
     "metadata": {},
     "output_type": "execute_result"
    }
   ],
   "source": [
    "x == y"
   ]
  },
  {
   "cell_type": "code",
   "execution_count": 27,
   "id": "f741882f-71bb-44d8-a81d-c0a65ebc6fc5",
   "metadata": {
    "colab": {
     "base_uri": "https://localhost:8080/",
     "height": 1000
    },
    "id": "FMU8FaDk1d3K",
    "outputId": "536b9671-c3e3-46fd-a103-4f8bd5265ede"
   },
   "outputs": [
    {
     "name": "stderr",
     "output_type": "stream",
     "text": [
      "  0%|          | 142/89622 [01:44<18:21:43,  1.35it/s]\n",
      "ERROR:root:Internal Python error in the inspect module.\n",
      "Below is the traceback from this internal error.\n",
      "\n"
     ]
    },
    {
     "name": "stdout",
     "output_type": "stream",
     "text": [
      "Traceback (most recent call last):\n",
      "  File \"/usr/lib/python3.11/concurrent/futures/_base.py\", line 243, in as_completed\n",
      "    waiter.event.wait(wait_timeout)\n",
      "  File \"/usr/lib/python3.11/threading.py\", line 629, in wait\n",
      "    signaled = self._cond.wait(timeout)\n",
      "               ^^^^^^^^^^^^^^^^^^^^^^^^\n",
      "  File \"/usr/lib/python3.11/threading.py\", line 327, in wait\n",
      "    waiter.acquire()\n",
      "KeyboardInterrupt\n",
      "\n",
      "During handling of the above exception, another exception occurred:\n",
      "\n",
      "Traceback (most recent call last):\n",
      "  File \"<ipython-input-26-65afa2eae261>\", line 17, in every_book\n",
      "    for future in concurrent.futures.as_completed(future_to_page):\n",
      "  File \"/usr/lib/python3.11/concurrent/futures/_base.py\", line 259, in as_completed\n",
      "    f._waiters.remove(waiter)\n",
      "KeyboardInterrupt\n",
      "\n",
      "During handling of the above exception, another exception occurred:\n",
      "\n",
      "Traceback (most recent call last):\n",
      "  File \"/usr/local/lib/python3.11/dist-packages/IPython/core/interactiveshell.py\", line 3553, in run_code\n",
      "    exec(code_obj, self.user_global_ns, self.user_ns)\n",
      "  File \"<ipython-input-27-bbc68d1e0fd9>\", line 1, in <cell line: 0>\n",
      "    all_books_url = every_book(all_pages, subject_total_work_url)\n",
      "                    ^^^^^^^^^^^^^^^^^^^^^^^^^^^^^^^^^^^^^^^^^^^^^\n",
      "  File \"<ipython-input-26-65afa2eae261>\", line 15, in every_book\n",
      "    with concurrent.futures.ThreadPoolExecutor(max_workers=10) as executor:\n",
      "  File \"/usr/lib/python3.11/concurrent/futures/_base.py\", line 647, in __exit__\n",
      "    self.shutdown(wait=True)\n",
      "  File \"/usr/lib/python3.11/concurrent/futures/thread.py\", line 235, in shutdown\n",
      "    t.join()\n",
      "  File \"/usr/lib/python3.11/threading.py\", line 1119, in join\n",
      "    self._wait_for_tstate_lock()\n",
      "  File \"/usr/lib/python3.11/threading.py\", line 1139, in _wait_for_tstate_lock\n",
      "    if lock.acquire(block, timeout):\n",
      "       ^^^^^^^^^^^^^^^^^^^^^^^^^^^^\n",
      "KeyboardInterrupt\n",
      "\n",
      "During handling of the above exception, another exception occurred:\n",
      "\n",
      "Traceback (most recent call last):\n",
      "  File \"/usr/local/lib/python3.11/dist-packages/IPython/core/interactiveshell.py\", line 2099, in showtraceback\n",
      "    stb = value._render_traceback_()\n",
      "          ^^^^^^^^^^^^^^^^^^^^^^^^\n",
      "AttributeError: 'KeyboardInterrupt' object has no attribute '_render_traceback_'\n",
      "\n",
      "During handling of the above exception, another exception occurred:\n",
      "\n",
      "Traceback (most recent call last):\n",
      "  File \"/usr/local/lib/python3.11/dist-packages/IPython/core/ultratb.py\", line 1101, in get_records\n",
      "    return _fixed_getinnerframes(etb, number_of_lines_of_context, tb_offset)\n",
      "           ^^^^^^^^^^^^^^^^^^^^^^^^^^^^^^^^^^^^^^^^^^^^^^^^^^^^^^^^^^^^^^^^^\n",
      "  File \"/usr/local/lib/python3.11/dist-packages/IPython/core/ultratb.py\", line 248, in wrapped\n",
      "    return f(*args, **kwargs)\n",
      "           ^^^^^^^^^^^^^^^^^^\n",
      "  File \"/usr/local/lib/python3.11/dist-packages/IPython/core/ultratb.py\", line 281, in _fixed_getinnerframes\n",
      "    records = fix_frame_records_filenames(inspect.getinnerframes(etb, context))\n",
      "                                          ^^^^^^^^^^^^^^^^^^^^^^^^^^^^^^^^^^^^\n",
      "  File \"/usr/lib/python3.11/inspect.py\", line 1739, in getinnerframes\n",
      "    traceback_info = getframeinfo(tb, context)\n",
      "                     ^^^^^^^^^^^^^^^^^^^^^^^^^\n",
      "  File \"/usr/lib/python3.11/inspect.py\", line 1684, in getframeinfo\n",
      "    filename = getsourcefile(frame) or getfile(frame)\n",
      "               ^^^^^^^^^^^^^^^^^^^^\n",
      "  File \"/usr/lib/python3.11/inspect.py\", line 948, in getsourcefile\n",
      "    module = getmodule(object, filename)\n",
      "             ^^^^^^^^^^^^^^^^^^^^^^^^^^^\n",
      "  File \"/usr/lib/python3.11/inspect.py\", line 994, in getmodule\n",
      "    f = getabsfile(module)\n",
      "        ^^^^^^^^^^^^^^^^^^\n",
      "  File \"/usr/lib/python3.11/inspect.py\", line 963, in getabsfile\n",
      "    _filename = getsourcefile(object) or getfile(object)\n",
      "                ^^^^^^^^^^^^^^^^^^^^^\n",
      "  File \"/usr/lib/python3.11/inspect.py\", line 945, in getsourcefile\n",
      "    if os.path.exists(filename):\n",
      "       ^^^^^^^^^^^^^^^^^^^^^^^^\n",
      "  File \"<frozen genericpath>\", line 19, in exists\n",
      "KeyboardInterrupt\n"
     ]
    },
    {
     "ename": "TypeError",
     "evalue": "object of type 'NoneType' has no len()",
     "output_type": "error",
     "traceback": [
      "\u001b[0;31m---------------------------------------------------------------------------\u001b[0m",
      "\u001b[0;31mKeyboardInterrupt\u001b[0m                         Traceback (most recent call last)",
      "\u001b[0;32m/usr/lib/python3.11/concurrent/futures/_base.py\u001b[0m in \u001b[0;36mas_completed\u001b[0;34m(fs, timeout)\u001b[0m\n\u001b[1;32m    242\u001b[0m \u001b[0;34m\u001b[0m\u001b[0m\n\u001b[0;32m--> 243\u001b[0;31m             \u001b[0mwaiter\u001b[0m\u001b[0;34m.\u001b[0m\u001b[0mevent\u001b[0m\u001b[0;34m.\u001b[0m\u001b[0mwait\u001b[0m\u001b[0;34m(\u001b[0m\u001b[0mwait_timeout\u001b[0m\u001b[0;34m)\u001b[0m\u001b[0;34m\u001b[0m\u001b[0;34m\u001b[0m\u001b[0m\n\u001b[0m\u001b[1;32m    244\u001b[0m \u001b[0;34m\u001b[0m\u001b[0m\n",
      "\u001b[0;32m/usr/lib/python3.11/threading.py\u001b[0m in \u001b[0;36mwait\u001b[0;34m(self, timeout)\u001b[0m\n\u001b[1;32m    628\u001b[0m             \u001b[0;32mif\u001b[0m \u001b[0;32mnot\u001b[0m \u001b[0msignaled\u001b[0m\u001b[0;34m:\u001b[0m\u001b[0;34m\u001b[0m\u001b[0;34m\u001b[0m\u001b[0m\n\u001b[0;32m--> 629\u001b[0;31m                 \u001b[0msignaled\u001b[0m \u001b[0;34m=\u001b[0m \u001b[0mself\u001b[0m\u001b[0;34m.\u001b[0m\u001b[0m_cond\u001b[0m\u001b[0;34m.\u001b[0m\u001b[0mwait\u001b[0m\u001b[0;34m(\u001b[0m\u001b[0mtimeout\u001b[0m\u001b[0;34m)\u001b[0m\u001b[0;34m\u001b[0m\u001b[0;34m\u001b[0m\u001b[0m\n\u001b[0m\u001b[1;32m    630\u001b[0m             \u001b[0;32mreturn\u001b[0m \u001b[0msignaled\u001b[0m\u001b[0;34m\u001b[0m\u001b[0;34m\u001b[0m\u001b[0m\n",
      "\u001b[0;32m/usr/lib/python3.11/threading.py\u001b[0m in \u001b[0;36mwait\u001b[0;34m(self, timeout)\u001b[0m\n\u001b[1;32m    326\u001b[0m             \u001b[0;32mif\u001b[0m \u001b[0mtimeout\u001b[0m \u001b[0;32mis\u001b[0m \u001b[0;32mNone\u001b[0m\u001b[0;34m:\u001b[0m\u001b[0;34m\u001b[0m\u001b[0;34m\u001b[0m\u001b[0m\n\u001b[0;32m--> 327\u001b[0;31m                 \u001b[0mwaiter\u001b[0m\u001b[0;34m.\u001b[0m\u001b[0macquire\u001b[0m\u001b[0;34m(\u001b[0m\u001b[0;34m)\u001b[0m\u001b[0;34m\u001b[0m\u001b[0;34m\u001b[0m\u001b[0m\n\u001b[0m\u001b[1;32m    328\u001b[0m                 \u001b[0mgotit\u001b[0m \u001b[0;34m=\u001b[0m \u001b[0;32mTrue\u001b[0m\u001b[0;34m\u001b[0m\u001b[0;34m\u001b[0m\u001b[0m\n",
      "\u001b[0;31mKeyboardInterrupt\u001b[0m: ",
      "\nDuring handling of the above exception, another exception occurred:\n",
      "\u001b[0;31mKeyboardInterrupt\u001b[0m                         Traceback (most recent call last)",
      "\u001b[0;32m<ipython-input-26-65afa2eae261>\u001b[0m in \u001b[0;36mevery_book\u001b[0;34m(all_pages, subject_total_work_url)\u001b[0m\n\u001b[1;32m     16\u001b[0m             \u001b[0mfuture_to_page\u001b[0m \u001b[0;34m=\u001b[0m \u001b[0;34m{\u001b[0m\u001b[0mexecutor\u001b[0m\u001b[0;34m.\u001b[0m\u001b[0msubmit\u001b[0m\u001b[0;34m(\u001b[0m\u001b[0mbook_links\u001b[0m\u001b[0;34m,\u001b[0m \u001b[0;34m[\u001b[0m\u001b[0mpage\u001b[0m\u001b[0;34m]\u001b[0m\u001b[0;34m)\u001b[0m\u001b[0;34m:\u001b[0m \u001b[0mpage\u001b[0m \u001b[0;32mfor\u001b[0m \u001b[0mpage\u001b[0m \u001b[0;32min\u001b[0m \u001b[0mall_pages\u001b[0m\u001b[0;34m}\u001b[0m\u001b[0;34m\u001b[0m\u001b[0;34m\u001b[0m\u001b[0m\n\u001b[0;32m---> 17\u001b[0;31m             \u001b[0;32mfor\u001b[0m \u001b[0mfuture\u001b[0m \u001b[0;32min\u001b[0m \u001b[0mconcurrent\u001b[0m\u001b[0;34m.\u001b[0m\u001b[0mfutures\u001b[0m\u001b[0;34m.\u001b[0m\u001b[0mas_completed\u001b[0m\u001b[0;34m(\u001b[0m\u001b[0mfuture_to_page\u001b[0m\u001b[0;34m)\u001b[0m\u001b[0;34m:\u001b[0m\u001b[0;34m\u001b[0m\u001b[0;34m\u001b[0m\u001b[0m\n\u001b[0m\u001b[1;32m     18\u001b[0m                 \u001b[0mpage\u001b[0m \u001b[0;34m=\u001b[0m \u001b[0mfuture_to_page\u001b[0m\u001b[0;34m[\u001b[0m\u001b[0mfuture\u001b[0m\u001b[0;34m]\u001b[0m\u001b[0;34m\u001b[0m\u001b[0;34m\u001b[0m\u001b[0m\n",
      "\u001b[0;32m/usr/lib/python3.11/concurrent/futures/_base.py\u001b[0m in \u001b[0;36mas_completed\u001b[0;34m(fs, timeout)\u001b[0m\n\u001b[1;32m    258\u001b[0m             \u001b[0;32mwith\u001b[0m \u001b[0mf\u001b[0m\u001b[0;34m.\u001b[0m\u001b[0m_condition\u001b[0m\u001b[0;34m:\u001b[0m\u001b[0;34m\u001b[0m\u001b[0;34m\u001b[0m\u001b[0m\n\u001b[0;32m--> 259\u001b[0;31m                 \u001b[0mf\u001b[0m\u001b[0;34m.\u001b[0m\u001b[0m_waiters\u001b[0m\u001b[0;34m.\u001b[0m\u001b[0mremove\u001b[0m\u001b[0;34m(\u001b[0m\u001b[0mwaiter\u001b[0m\u001b[0;34m)\u001b[0m\u001b[0;34m\u001b[0m\u001b[0;34m\u001b[0m\u001b[0m\n\u001b[0m\u001b[1;32m    260\u001b[0m \u001b[0;34m\u001b[0m\u001b[0m\n",
      "\u001b[0;31mKeyboardInterrupt\u001b[0m: ",
      "\nDuring handling of the above exception, another exception occurred:\n",
      "\u001b[0;31mKeyboardInterrupt\u001b[0m                         Traceback (most recent call last)",
      "    \u001b[0;31m[... skipping hidden 1 frame]\u001b[0m\n",
      "\u001b[0;32m<ipython-input-27-bbc68d1e0fd9>\u001b[0m in \u001b[0;36m<cell line: 0>\u001b[0;34m()\u001b[0m\n\u001b[0;32m----> 1\u001b[0;31m \u001b[0mall_books_url\u001b[0m \u001b[0;34m=\u001b[0m \u001b[0mevery_book\u001b[0m\u001b[0;34m(\u001b[0m\u001b[0mall_pages\u001b[0m\u001b[0;34m,\u001b[0m \u001b[0msubject_total_work_url\u001b[0m\u001b[0;34m)\u001b[0m\u001b[0;34m\u001b[0m\u001b[0;34m\u001b[0m\u001b[0m\n\u001b[0m",
      "\u001b[0;32m<ipython-input-26-65afa2eae261>\u001b[0m in \u001b[0;36mevery_book\u001b[0;34m(all_pages, subject_total_work_url)\u001b[0m\n\u001b[1;32m     14\u001b[0m     \u001b[0;32mwith\u001b[0m \u001b[0mtqdm\u001b[0m\u001b[0;34m(\u001b[0m\u001b[0mtotal\u001b[0m\u001b[0;34m=\u001b[0m\u001b[0mlen\u001b[0m\u001b[0;34m(\u001b[0m\u001b[0mall_pages\u001b[0m\u001b[0;34m)\u001b[0m\u001b[0;34m)\u001b[0m \u001b[0;32mas\u001b[0m \u001b[0mpbar\u001b[0m\u001b[0;34m:\u001b[0m\u001b[0;34m\u001b[0m\u001b[0;34m\u001b[0m\u001b[0m\n\u001b[0;32m---> 15\u001b[0;31m         \u001b[0;32mwith\u001b[0m \u001b[0mconcurrent\u001b[0m\u001b[0;34m.\u001b[0m\u001b[0mfutures\u001b[0m\u001b[0;34m.\u001b[0m\u001b[0mThreadPoolExecutor\u001b[0m\u001b[0;34m(\u001b[0m\u001b[0mmax_workers\u001b[0m\u001b[0;34m=\u001b[0m\u001b[0;36m10\u001b[0m\u001b[0;34m)\u001b[0m \u001b[0;32mas\u001b[0m \u001b[0mexecutor\u001b[0m\u001b[0;34m:\u001b[0m\u001b[0;34m\u001b[0m\u001b[0;34m\u001b[0m\u001b[0m\n\u001b[0m\u001b[1;32m     16\u001b[0m             \u001b[0mfuture_to_page\u001b[0m \u001b[0;34m=\u001b[0m \u001b[0;34m{\u001b[0m\u001b[0mexecutor\u001b[0m\u001b[0;34m.\u001b[0m\u001b[0msubmit\u001b[0m\u001b[0;34m(\u001b[0m\u001b[0mbook_links\u001b[0m\u001b[0;34m,\u001b[0m \u001b[0;34m[\u001b[0m\u001b[0mpage\u001b[0m\u001b[0;34m]\u001b[0m\u001b[0;34m)\u001b[0m\u001b[0;34m:\u001b[0m \u001b[0mpage\u001b[0m \u001b[0;32mfor\u001b[0m \u001b[0mpage\u001b[0m \u001b[0;32min\u001b[0m \u001b[0mall_pages\u001b[0m\u001b[0;34m}\u001b[0m\u001b[0;34m\u001b[0m\u001b[0;34m\u001b[0m\u001b[0m\n",
      "\u001b[0;32m/usr/lib/python3.11/concurrent/futures/_base.py\u001b[0m in \u001b[0;36m__exit__\u001b[0;34m(self, exc_type, exc_val, exc_tb)\u001b[0m\n\u001b[1;32m    646\u001b[0m     \u001b[0;32mdef\u001b[0m \u001b[0m__exit__\u001b[0m\u001b[0;34m(\u001b[0m\u001b[0mself\u001b[0m\u001b[0;34m,\u001b[0m \u001b[0mexc_type\u001b[0m\u001b[0;34m,\u001b[0m \u001b[0mexc_val\u001b[0m\u001b[0;34m,\u001b[0m \u001b[0mexc_tb\u001b[0m\u001b[0;34m)\u001b[0m\u001b[0;34m:\u001b[0m\u001b[0;34m\u001b[0m\u001b[0;34m\u001b[0m\u001b[0m\n\u001b[0;32m--> 647\u001b[0;31m         \u001b[0mself\u001b[0m\u001b[0;34m.\u001b[0m\u001b[0mshutdown\u001b[0m\u001b[0;34m(\u001b[0m\u001b[0mwait\u001b[0m\u001b[0;34m=\u001b[0m\u001b[0;32mTrue\u001b[0m\u001b[0;34m)\u001b[0m\u001b[0;34m\u001b[0m\u001b[0;34m\u001b[0m\u001b[0m\n\u001b[0m\u001b[1;32m    648\u001b[0m         \u001b[0;32mreturn\u001b[0m \u001b[0;32mFalse\u001b[0m\u001b[0;34m\u001b[0m\u001b[0;34m\u001b[0m\u001b[0m\n",
      "\u001b[0;32m/usr/lib/python3.11/concurrent/futures/thread.py\u001b[0m in \u001b[0;36mshutdown\u001b[0;34m(self, wait, cancel_futures)\u001b[0m\n\u001b[1;32m    234\u001b[0m             \u001b[0;32mfor\u001b[0m \u001b[0mt\u001b[0m \u001b[0;32min\u001b[0m \u001b[0mself\u001b[0m\u001b[0;34m.\u001b[0m\u001b[0m_threads\u001b[0m\u001b[0;34m:\u001b[0m\u001b[0;34m\u001b[0m\u001b[0;34m\u001b[0m\u001b[0m\n\u001b[0;32m--> 235\u001b[0;31m                 \u001b[0mt\u001b[0m\u001b[0;34m.\u001b[0m\u001b[0mjoin\u001b[0m\u001b[0;34m(\u001b[0m\u001b[0;34m)\u001b[0m\u001b[0;34m\u001b[0m\u001b[0;34m\u001b[0m\u001b[0m\n\u001b[0m\u001b[1;32m    236\u001b[0m     \u001b[0mshutdown\u001b[0m\u001b[0;34m.\u001b[0m\u001b[0m__doc__\u001b[0m \u001b[0;34m=\u001b[0m \u001b[0m_base\u001b[0m\u001b[0;34m.\u001b[0m\u001b[0mExecutor\u001b[0m\u001b[0;34m.\u001b[0m\u001b[0mshutdown\u001b[0m\u001b[0;34m.\u001b[0m\u001b[0m__doc__\u001b[0m\u001b[0;34m\u001b[0m\u001b[0;34m\u001b[0m\u001b[0m\n",
      "\u001b[0;32m/usr/lib/python3.11/threading.py\u001b[0m in \u001b[0;36mjoin\u001b[0;34m(self, timeout)\u001b[0m\n\u001b[1;32m   1118\u001b[0m         \u001b[0;32mif\u001b[0m \u001b[0mtimeout\u001b[0m \u001b[0;32mis\u001b[0m \u001b[0;32mNone\u001b[0m\u001b[0;34m:\u001b[0m\u001b[0;34m\u001b[0m\u001b[0;34m\u001b[0m\u001b[0m\n\u001b[0;32m-> 1119\u001b[0;31m             \u001b[0mself\u001b[0m\u001b[0;34m.\u001b[0m\u001b[0m_wait_for_tstate_lock\u001b[0m\u001b[0;34m(\u001b[0m\u001b[0;34m)\u001b[0m\u001b[0;34m\u001b[0m\u001b[0;34m\u001b[0m\u001b[0m\n\u001b[0m\u001b[1;32m   1120\u001b[0m         \u001b[0;32melse\u001b[0m\u001b[0;34m:\u001b[0m\u001b[0;34m\u001b[0m\u001b[0;34m\u001b[0m\u001b[0m\n",
      "\u001b[0;32m/usr/lib/python3.11/threading.py\u001b[0m in \u001b[0;36m_wait_for_tstate_lock\u001b[0;34m(self, block, timeout)\u001b[0m\n\u001b[1;32m   1138\u001b[0m         \u001b[0;32mtry\u001b[0m\u001b[0;34m:\u001b[0m\u001b[0;34m\u001b[0m\u001b[0;34m\u001b[0m\u001b[0m\n\u001b[0;32m-> 1139\u001b[0;31m             \u001b[0;32mif\u001b[0m \u001b[0mlock\u001b[0m\u001b[0;34m.\u001b[0m\u001b[0macquire\u001b[0m\u001b[0;34m(\u001b[0m\u001b[0mblock\u001b[0m\u001b[0;34m,\u001b[0m \u001b[0mtimeout\u001b[0m\u001b[0;34m)\u001b[0m\u001b[0;34m:\u001b[0m\u001b[0;34m\u001b[0m\u001b[0;34m\u001b[0m\u001b[0m\n\u001b[0m\u001b[1;32m   1140\u001b[0m                 \u001b[0mlock\u001b[0m\u001b[0;34m.\u001b[0m\u001b[0mrelease\u001b[0m\u001b[0;34m(\u001b[0m\u001b[0;34m)\u001b[0m\u001b[0;34m\u001b[0m\u001b[0;34m\u001b[0m\u001b[0m\n",
      "\u001b[0;31mKeyboardInterrupt\u001b[0m: ",
      "\nDuring handling of the above exception, another exception occurred:\n",
      "\u001b[0;31mAttributeError\u001b[0m                            Traceback (most recent call last)",
      "\u001b[0;32m/usr/local/lib/python3.11/dist-packages/IPython/core/interactiveshell.py\u001b[0m in \u001b[0;36mshowtraceback\u001b[0;34m(self, exc_tuple, filename, tb_offset, exception_only, running_compiled_code)\u001b[0m\n\u001b[1;32m   2098\u001b[0m                         \u001b[0;31m# in the engines. This should return a list of strings.\u001b[0m\u001b[0;34m\u001b[0m\u001b[0;34m\u001b[0m\u001b[0m\n\u001b[0;32m-> 2099\u001b[0;31m                         \u001b[0mstb\u001b[0m \u001b[0;34m=\u001b[0m \u001b[0mvalue\u001b[0m\u001b[0;34m.\u001b[0m\u001b[0m_render_traceback_\u001b[0m\u001b[0;34m(\u001b[0m\u001b[0;34m)\u001b[0m\u001b[0;34m\u001b[0m\u001b[0;34m\u001b[0m\u001b[0m\n\u001b[0m\u001b[1;32m   2100\u001b[0m                     \u001b[0;32mexcept\u001b[0m \u001b[0mException\u001b[0m\u001b[0;34m:\u001b[0m\u001b[0;34m\u001b[0m\u001b[0;34m\u001b[0m\u001b[0m\n",
      "\u001b[0;31mAttributeError\u001b[0m: 'KeyboardInterrupt' object has no attribute '_render_traceback_'",
      "\nDuring handling of the above exception, another exception occurred:\n",
      "\u001b[0;31mTypeError\u001b[0m                                 Traceback (most recent call last)",
      "    \u001b[0;31m[... skipping hidden 1 frame]\u001b[0m\n",
      "\u001b[0;32m/usr/local/lib/python3.11/dist-packages/IPython/core/interactiveshell.py\u001b[0m in \u001b[0;36mshowtraceback\u001b[0;34m(self, exc_tuple, filename, tb_offset, exception_only, running_compiled_code)\u001b[0m\n\u001b[1;32m   2099\u001b[0m                         \u001b[0mstb\u001b[0m \u001b[0;34m=\u001b[0m \u001b[0mvalue\u001b[0m\u001b[0;34m.\u001b[0m\u001b[0m_render_traceback_\u001b[0m\u001b[0;34m(\u001b[0m\u001b[0;34m)\u001b[0m\u001b[0;34m\u001b[0m\u001b[0;34m\u001b[0m\u001b[0m\n\u001b[1;32m   2100\u001b[0m                     \u001b[0;32mexcept\u001b[0m \u001b[0mException\u001b[0m\u001b[0;34m:\u001b[0m\u001b[0;34m\u001b[0m\u001b[0;34m\u001b[0m\u001b[0m\n\u001b[0;32m-> 2101\u001b[0;31m                         stb = self.InteractiveTB.structured_traceback(etype,\n\u001b[0m\u001b[1;32m   2102\u001b[0m                                             value, tb, tb_offset=tb_offset)\n\u001b[1;32m   2103\u001b[0m \u001b[0;34m\u001b[0m\u001b[0m\n",
      "\u001b[0;32m/usr/local/lib/python3.11/dist-packages/IPython/core/ultratb.py\u001b[0m in \u001b[0;36mstructured_traceback\u001b[0;34m(self, etype, value, tb, tb_offset, number_of_lines_of_context)\u001b[0m\n\u001b[1;32m   1365\u001b[0m         \u001b[0;32melse\u001b[0m\u001b[0;34m:\u001b[0m\u001b[0;34m\u001b[0m\u001b[0;34m\u001b[0m\u001b[0m\n\u001b[1;32m   1366\u001b[0m             \u001b[0mself\u001b[0m\u001b[0;34m.\u001b[0m\u001b[0mtb\u001b[0m \u001b[0;34m=\u001b[0m \u001b[0mtb\u001b[0m\u001b[0;34m\u001b[0m\u001b[0;34m\u001b[0m\u001b[0m\n\u001b[0;32m-> 1367\u001b[0;31m         return FormattedTB.structured_traceback(\n\u001b[0m\u001b[1;32m   1368\u001b[0m             self, etype, value, tb, tb_offset, number_of_lines_of_context)\n\u001b[1;32m   1369\u001b[0m \u001b[0;34m\u001b[0m\u001b[0m\n",
      "\u001b[0;32m/usr/local/lib/python3.11/dist-packages/IPython/core/ultratb.py\u001b[0m in \u001b[0;36mstructured_traceback\u001b[0;34m(self, etype, value, tb, tb_offset, number_of_lines_of_context)\u001b[0m\n\u001b[1;32m   1265\u001b[0m         \u001b[0;32mif\u001b[0m \u001b[0mmode\u001b[0m \u001b[0;32min\u001b[0m \u001b[0mself\u001b[0m\u001b[0;34m.\u001b[0m\u001b[0mverbose_modes\u001b[0m\u001b[0;34m:\u001b[0m\u001b[0;34m\u001b[0m\u001b[0;34m\u001b[0m\u001b[0m\n\u001b[1;32m   1266\u001b[0m             \u001b[0;31m# Verbose modes need a full traceback\u001b[0m\u001b[0;34m\u001b[0m\u001b[0;34m\u001b[0m\u001b[0m\n\u001b[0;32m-> 1267\u001b[0;31m             return VerboseTB.structured_traceback(\n\u001b[0m\u001b[1;32m   1268\u001b[0m                 \u001b[0mself\u001b[0m\u001b[0;34m,\u001b[0m \u001b[0metype\u001b[0m\u001b[0;34m,\u001b[0m \u001b[0mvalue\u001b[0m\u001b[0;34m,\u001b[0m \u001b[0mtb\u001b[0m\u001b[0;34m,\u001b[0m \u001b[0mtb_offset\u001b[0m\u001b[0;34m,\u001b[0m \u001b[0mnumber_of_lines_of_context\u001b[0m\u001b[0;34m\u001b[0m\u001b[0;34m\u001b[0m\u001b[0m\n\u001b[1;32m   1269\u001b[0m             )\n",
      "\u001b[0;32m/usr/local/lib/python3.11/dist-packages/IPython/core/ultratb.py\u001b[0m in \u001b[0;36mstructured_traceback\u001b[0;34m(self, etype, evalue, etb, tb_offset, number_of_lines_of_context)\u001b[0m\n\u001b[1;32m   1122\u001b[0m         \u001b[0;34m\"\"\"Return a nice text document describing the traceback.\"\"\"\u001b[0m\u001b[0;34m\u001b[0m\u001b[0;34m\u001b[0m\u001b[0m\n\u001b[1;32m   1123\u001b[0m \u001b[0;34m\u001b[0m\u001b[0m\n\u001b[0;32m-> 1124\u001b[0;31m         formatted_exception = self.format_exception_as_a_whole(etype, evalue, etb, number_of_lines_of_context,\n\u001b[0m\u001b[1;32m   1125\u001b[0m                                                                tb_offset)\n\u001b[1;32m   1126\u001b[0m \u001b[0;34m\u001b[0m\u001b[0m\n",
      "\u001b[0;32m/usr/local/lib/python3.11/dist-packages/IPython/core/ultratb.py\u001b[0m in \u001b[0;36mformat_exception_as_a_whole\u001b[0;34m(self, etype, evalue, etb, number_of_lines_of_context, tb_offset)\u001b[0m\n\u001b[1;32m   1080\u001b[0m \u001b[0;34m\u001b[0m\u001b[0m\n\u001b[1;32m   1081\u001b[0m \u001b[0;34m\u001b[0m\u001b[0m\n\u001b[0;32m-> 1082\u001b[0;31m         \u001b[0mlast_unique\u001b[0m\u001b[0;34m,\u001b[0m \u001b[0mrecursion_repeat\u001b[0m \u001b[0;34m=\u001b[0m \u001b[0mfind_recursion\u001b[0m\u001b[0;34m(\u001b[0m\u001b[0morig_etype\u001b[0m\u001b[0;34m,\u001b[0m \u001b[0mevalue\u001b[0m\u001b[0;34m,\u001b[0m \u001b[0mrecords\u001b[0m\u001b[0;34m)\u001b[0m\u001b[0;34m\u001b[0m\u001b[0;34m\u001b[0m\u001b[0m\n\u001b[0m\u001b[1;32m   1083\u001b[0m \u001b[0;34m\u001b[0m\u001b[0m\n\u001b[1;32m   1084\u001b[0m         \u001b[0mframes\u001b[0m \u001b[0;34m=\u001b[0m \u001b[0mself\u001b[0m\u001b[0;34m.\u001b[0m\u001b[0mformat_records\u001b[0m\u001b[0;34m(\u001b[0m\u001b[0mrecords\u001b[0m\u001b[0;34m,\u001b[0m \u001b[0mlast_unique\u001b[0m\u001b[0;34m,\u001b[0m \u001b[0mrecursion_repeat\u001b[0m\u001b[0;34m)\u001b[0m\u001b[0;34m\u001b[0m\u001b[0;34m\u001b[0m\u001b[0m\n",
      "\u001b[0;32m/usr/local/lib/python3.11/dist-packages/IPython/core/ultratb.py\u001b[0m in \u001b[0;36mfind_recursion\u001b[0;34m(etype, value, records)\u001b[0m\n\u001b[1;32m    380\u001b[0m     \u001b[0;31m# first frame (from in to out) that looks different.\u001b[0m\u001b[0;34m\u001b[0m\u001b[0;34m\u001b[0m\u001b[0m\n\u001b[1;32m    381\u001b[0m     \u001b[0;32mif\u001b[0m \u001b[0;32mnot\u001b[0m \u001b[0mis_recursion_error\u001b[0m\u001b[0;34m(\u001b[0m\u001b[0metype\u001b[0m\u001b[0;34m,\u001b[0m \u001b[0mvalue\u001b[0m\u001b[0;34m,\u001b[0m \u001b[0mrecords\u001b[0m\u001b[0;34m)\u001b[0m\u001b[0;34m:\u001b[0m\u001b[0;34m\u001b[0m\u001b[0;34m\u001b[0m\u001b[0m\n\u001b[0;32m--> 382\u001b[0;31m         \u001b[0;32mreturn\u001b[0m \u001b[0mlen\u001b[0m\u001b[0;34m(\u001b[0m\u001b[0mrecords\u001b[0m\u001b[0;34m)\u001b[0m\u001b[0;34m,\u001b[0m \u001b[0;36m0\u001b[0m\u001b[0;34m\u001b[0m\u001b[0;34m\u001b[0m\u001b[0m\n\u001b[0m\u001b[1;32m    383\u001b[0m \u001b[0;34m\u001b[0m\u001b[0m\n\u001b[1;32m    384\u001b[0m     \u001b[0;31m# Select filename, lineno, func_name to track frames with\u001b[0m\u001b[0;34m\u001b[0m\u001b[0;34m\u001b[0m\u001b[0m\n",
      "\u001b[0;31mTypeError\u001b[0m: object of type 'NoneType' has no len()"
     ]
    }
   ],
   "source": [
    "all_books_url = every_book(all_pages, subject_total_work_url)"
   ]
  },
  {
   "cell_type": "markdown",
   "id": "6b69b1ff-fdb1-46cd-938e-22e7d607f6d3",
   "metadata": {
    "id": "piAA5UC0svc1"
   },
   "source": [
    "## At this point, we realized BeautifulSoup is not an efficient method to parse Open Library"
   ]
  }
 ],
 "metadata": {
  "kernelspec": {
   "display_name": "Python 3 (ipykernel)",
   "language": "python",
   "name": "python3"
  },
  "language_info": {
   "codemirror_mode": {
    "name": "ipython",
    "version": 3
   },
   "file_extension": ".py",
   "mimetype": "text/x-python",
   "name": "python",
   "nbconvert_exporter": "python",
   "pygments_lexer": "ipython3",
   "version": "3.11.8"
  }
 },
 "nbformat": 4,
 "nbformat_minor": 5
}
